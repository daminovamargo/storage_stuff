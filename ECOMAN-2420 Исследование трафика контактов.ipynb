{
 "cells": [
  {
   "cell_type": "code",
   "execution_count": 298,
   "id": "83f1b16e",
   "metadata": {},
   "outputs": [
    {
     "data": {
      "text/html": [
       "        <script type=\"text/javascript\">\n",
       "        window.PlotlyConfig = {MathJaxConfig: 'local'};\n",
       "        if (window.MathJax) {MathJax.Hub.Config({SVG: {font: \"STIX-Web\"}});}\n",
       "        if (typeof require !== 'undefined') {\n",
       "        require.undef(\"plotly\");\n",
       "        requirejs.config({\n",
       "            paths: {\n",
       "                'plotly': ['https://cdn.plot.ly/plotly-2.4.2.min']\n",
       "            }\n",
       "        });\n",
       "        require(['plotly'], function(Plotly) {\n",
       "            window._Plotly = Plotly;\n",
       "        });\n",
       "        }\n",
       "        </script>\n",
       "        "
      ]
     },
     "metadata": {},
     "output_type": "display_data"
    }
   ],
   "source": [
    "import warnings\n",
    "warnings.filterwarnings(\"ignore\")\n",
    "\n",
    "import pandas as pd\n",
    "import numpy as np\n",
    "import seaborn as sns\n",
    "import matplotlib.pyplot as plt\n",
    "from scipy import stats\n",
    "import sklearn\n",
    "import pandas.core.algorithms as algos\n",
    "import math\n",
    "import traceback\n",
    "import re\n",
    "from pandas import Series\n",
    "from plotly.offline import download_plotlyjs, init_notebook_mode, iplot, plot \n",
    "from plotly import tools \n",
    "import plotly.graph_objs as go \n",
    "import operator\n",
    "init_notebook_mode(connected=True)\n",
    "def plotly_df(df, title = ''): \n",
    "    data = [] \n",
    "    for column in df.columns: \n",
    "        trace = go.Scatter( \n",
    "            x = df.index, \n",
    "            y = df[column], \n",
    "            mode = 'lines', \n",
    "            name = column \n",
    "        ) \n",
    "        data.append(trace) \n",
    "        \n",
    "    layout = dict(title = title, showlegend = True) \n",
    "    fig = dict(data = data, layout = layout) \n",
    "    iplot(fig, show_link=False)\n",
    "setattr(pd.DataFrame, 'plotly', plotly_df)\n",
    "\n",
    "def plotly_bar_df(df, title = ''): \n",
    "    data = [] \n",
    "    for column in df.columns: \n",
    "        trace = go.Bar( \n",
    "            x = df.index, \n",
    "            y = df[column],\n",
    "            name = column\n",
    "        ) \n",
    "        data.append(trace) \n",
    "        \n",
    "    layout = dict(title = title, showlegend = True) \n",
    "    fig = dict(data = data, layout = layout) \n",
    "    iplot(fig, show_link=False)\n",
    "setattr(pd.DataFrame, 'plotly_bar', plotly_bar_df)\n",
    "\n",
    "\n",
    "import requests\n",
    "from io import StringIO\n",
    "def click_to_df(sql, http='http://172.27.42.47:8123'):\n",
    "    r = requests.post(http, data=(sql + ' FORMAT CSVWithNames'))\n",
    "    if r:\n",
    "        return pd.read_csv(StringIO(r.text))\n",
    "    return print(r.text)\n",
    "from pyhive import hive\n",
    "con = hive.Connection(host = 'youlahdp-main6.p', port = 10000, username = 'm.daminova')\n",
    "curs = con.cursor()\n",
    "\n",
    "def sql_to_df(sql, conn, buffer = 1000000):\n",
    "    cursor = conn.cursor()\n",
    "    cursor.execute(sql)\n",
    "    clmns = [r[0] for r in cursor.description]\n",
    "    dfs = list()\n",
    "    f = cursor.fetchone()\n",
    "    while f:\n",
    "        res = []\n",
    "        i = 0\n",
    "        while f and i < buffer:\n",
    "            res.append(f)\n",
    "            i += 1\n",
    "            f = cursor.fetchone()\n",
    "        dfs.append(pd.DataFrame(res, columns = clmns))\n",
    "    return pd.concat(dfs)\n",
    "from datetime import timedelta\n",
    "from datetime import datetime as dates\n",
    "def daterange(start_date, end_date,tm=1):\n",
    "    delta = timedelta(days=-tm)\n",
    "    while  end_date >= start_date:\n",
    "        yield end_date\n",
    "        end_date += delta\n",
    "        \n",
    "from IPython.display import Markdown, display\n",
    "def printmd(string):\n",
    "    display(Markdown(string))\n",
    "    \n",
    "from hdfs import InsecureClient\n",
    "client_hdfs = InsecureClient('http://youlahdp-main5.p:50070', user='m.daminova')\n",
    "    \n",
    "pd.set_option('display.max_rows', 500)\n",
    "pd.set_option('display.max_columns', 500)\n",
    "pd.set_option('display.width', 1000)  \n",
    "\n",
    "import plotly.express as px\n",
    "from scipy.stats import mannwhitneyu\n",
    "import scipy.stats as ss\n",
    "import statsmodels.api as sm\n",
    "from statsmodels.formula.api import ols\n",
    "from statsmodels.stats.multicomp import pairwise_tukeyhsd\n",
    "import statsmodels.formula.api as sfa\n",
    "import scikit_posthocs as sp\n",
    "from statsmodels.stats.power import TTestIndPower\n",
    "\n",
    "curs.execute(\"set hive.tez.container.size=16000\")\n",
    "curs.execute(\"set tez.resource.memory.mb=16000\")\n",
    "curs.execute(\"set mapreduce.job.reduces=200\")"
   ]
  },
  {
   "cell_type": "markdown",
   "id": "4e0168b0",
   "metadata": {},
   "source": [
    "## Контакты: предыдущий экран из миниапп"
   ]
  },
  {
   "cell_type": "code",
   "execution_count": 88,
   "id": "0c1e3b25",
   "metadata": {},
   "outputs": [],
   "source": [
    "df_contact_total = sql_to_df(\"\"\"\n",
    "select count(distinct coalesce( sender_id,client_user_id)) users,\n",
    "     count(distinct event_id) events,\n",
    "     count(distinct product_id) prods,\n",
    "    get_json_object(sources,'$.previous.screen') screen,\n",
    "    dt\n",
    "from topics.y_user_user_counter\n",
    "where dt>='2022-02-10' and dt<='2022-03-03'\n",
    "  and event_name in ('usr.presscall','chat.first_message')\n",
    "  and coalesce(client_platform,platform) = 'vk_mini_app'\n",
    "group by  dt,\n",
    "    get_json_object(sources,'$.previous.screen')\n",
    "   \"\"\",con)"
   ]
  },
  {
   "cell_type": "code",
   "execution_count": 89,
   "id": "7300a5c5",
   "metadata": {},
   "outputs": [],
   "source": [
    "df_contact_total['screen_new'] = ['None' if cell is None else cell for cell in df_contact_total['screen']]"
   ]
  },
  {
   "cell_type": "code",
   "execution_count": 90,
   "id": "2f5be8f4",
   "metadata": {},
   "outputs": [],
   "source": [
    "df_contact_total = df_contact_total.sort_values(by=['dt','screen_new'])"
   ]
  },
  {
   "cell_type": "code",
   "execution_count": 91,
   "id": "6538337b",
   "metadata": {},
   "outputs": [],
   "source": [
    "name_screen = {\n",
    "\"None\":\"Неизвестные и прямые переходы\",\n",
    "\"personal_search\": 'Сохраненные поиски',\n",
    "\"vk_recommendations\" : \"Портлеты\",\n",
    "\"carousel_preview\": \"Карусель на главной ВКО превью\",\n",
    "\"product_active\" : \"Профиль продавца\",\n",
    "\"carousel_vk_group_manual\" : \"Портлеты (антибарахолки)\",\n",
    "\"main\":\"Главная раздела\" ,\n",
    "\"similars\":\"Похожие\",\n",
    "\"subscribe_similar\":\"Подписка на похожие\",\n",
    "\"seller_subscribe\":\"Подписка на продавца\",\n",
    "\"search\":\"Поиск в миниаппе\",\n",
    "\"lent_from_widget\":\"Антибарахолки\",\n",
    "\"widget_from_post\":\"Антибарахолки\",\n",
    "\"carousel_feed\":\"Карусель на главной ВКО\",\n",
    "\"search_classifieds\":\"Поиск в ВК\",\n",
    "\"snippet\":\"Сниппет\",\n",
    "\"favourites\":\"Закладки\",\n",
    "\"product\":\"Карточка товара\",\n",
    "\"push\":\"Уведомление\",\n",
    "\"vk_lent_advertisement\":\"Рекламные ссылке в ленте ВК\" }"
   ]
  },
  {
   "cell_type": "code",
   "execution_count": 92,
   "id": "f9dbd140",
   "metadata": {},
   "outputs": [],
   "source": [
    "df_contact_total['screen_new_alias'] = df_contact_total['screen_new'].map(name_screen) "
   ]
  },
  {
   "cell_type": "code",
   "execution_count": 295,
   "id": "409f4ca2",
   "metadata": {},
   "outputs": [
    {
     "data": {
      "text/html": [
       "<div>\n",
       "<style scoped>\n",
       "    .dataframe tbody tr th:only-of-type {\n",
       "        vertical-align: middle;\n",
       "    }\n",
       "\n",
       "    .dataframe tbody tr th {\n",
       "        vertical-align: top;\n",
       "    }\n",
       "\n",
       "    .dataframe thead th {\n",
       "        text-align: right;\n",
       "    }\n",
       "</style>\n",
       "<table border=\"1\" class=\"dataframe\">\n",
       "  <thead>\n",
       "    <tr style=\"text-align: right;\">\n",
       "      <th></th>\n",
       "      <th>users</th>\n",
       "      <th>events</th>\n",
       "      <th>prods</th>\n",
       "      <th>screen</th>\n",
       "      <th>dt</th>\n",
       "      <th>screen_new</th>\n",
       "      <th>screen_new_alias</th>\n",
       "    </tr>\n",
       "  </thead>\n",
       "  <tbody>\n",
       "    <tr>\n",
       "      <th>100</th>\n",
       "      <td>2449</td>\n",
       "      <td>3420</td>\n",
       "      <td>3069</td>\n",
       "      <td>None</td>\n",
       "      <td>2022-02-10</td>\n",
       "      <td>None</td>\n",
       "      <td>Неизвестные и прямые переходы</td>\n",
       "    </tr>\n",
       "    <tr>\n",
       "      <th>230</th>\n",
       "      <td>60</td>\n",
       "      <td>80</td>\n",
       "      <td>72</td>\n",
       "      <td>carousel_feed</td>\n",
       "      <td>2022-02-10</td>\n",
       "      <td>carousel_feed</td>\n",
       "      <td>Карусель на главной ВКО</td>\n",
       "    </tr>\n",
       "    <tr>\n",
       "      <th>333</th>\n",
       "      <td>403</td>\n",
       "      <td>514</td>\n",
       "      <td>477</td>\n",
       "      <td>carousel_preview</td>\n",
       "      <td>2022-02-10</td>\n",
       "      <td>carousel_preview</td>\n",
       "      <td>Карусель на главной ВКО превью</td>\n",
       "    </tr>\n",
       "    <tr>\n",
       "      <th>126</th>\n",
       "      <td>3</td>\n",
       "      <td>3</td>\n",
       "      <td>3</td>\n",
       "      <td>carousel_vk_group_manual</td>\n",
       "      <td>2022-02-10</td>\n",
       "      <td>carousel_vk_group_manual</td>\n",
       "      <td>Портлеты (антибарахолки)</td>\n",
       "    </tr>\n",
       "    <tr>\n",
       "      <th>285</th>\n",
       "      <td>659</td>\n",
       "      <td>964</td>\n",
       "      <td>836</td>\n",
       "      <td>favourites</td>\n",
       "      <td>2022-02-10</td>\n",
       "      <td>favourites</td>\n",
       "      <td>Закладки</td>\n",
       "    </tr>\n",
       "    <tr>\n",
       "      <th>176</th>\n",
       "      <td>85</td>\n",
       "      <td>96</td>\n",
       "      <td>90</td>\n",
       "      <td>lent_from_widget</td>\n",
       "      <td>2022-02-10</td>\n",
       "      <td>lent_from_widget</td>\n",
       "      <td>Антибарахолки</td>\n",
       "    </tr>\n",
       "    <tr>\n",
       "      <th>105</th>\n",
       "      <td>4836</td>\n",
       "      <td>7463</td>\n",
       "      <td>6385</td>\n",
       "      <td>main</td>\n",
       "      <td>2022-02-10</td>\n",
       "      <td>main</td>\n",
       "      <td>Главная раздела</td>\n",
       "    </tr>\n",
       "    <tr>\n",
       "      <th>343</th>\n",
       "      <td>276</td>\n",
       "      <td>412</td>\n",
       "      <td>365</td>\n",
       "      <td>personal_search</td>\n",
       "      <td>2022-02-10</td>\n",
       "      <td>personal_search</td>\n",
       "      <td>Сохраненные поиски</td>\n",
       "    </tr>\n",
       "    <tr>\n",
       "      <th>28</th>\n",
       "      <td>56</td>\n",
       "      <td>62</td>\n",
       "      <td>59</td>\n",
       "      <td>product</td>\n",
       "      <td>2022-02-10</td>\n",
       "      <td>product</td>\n",
       "      <td>Карточка товара</td>\n",
       "    </tr>\n",
       "    <tr>\n",
       "      <th>24</th>\n",
       "      <td>2829</td>\n",
       "      <td>3073</td>\n",
       "      <td>2792</td>\n",
       "      <td>product_active</td>\n",
       "      <td>2022-02-10</td>\n",
       "      <td>product_active</td>\n",
       "      <td>Профиль продавца</td>\n",
       "    </tr>\n",
       "    <tr>\n",
       "      <th>95</th>\n",
       "      <td>864</td>\n",
       "      <td>1133</td>\n",
       "      <td>1047</td>\n",
       "      <td>push</td>\n",
       "      <td>2022-02-10</td>\n",
       "      <td>push</td>\n",
       "      <td>Уведомление</td>\n",
       "    </tr>\n",
       "    <tr>\n",
       "      <th>67</th>\n",
       "      <td>3479</td>\n",
       "      <td>6906</td>\n",
       "      <td>6173</td>\n",
       "      <td>search</td>\n",
       "      <td>2022-02-10</td>\n",
       "      <td>search</td>\n",
       "      <td>Поиск в миниаппе</td>\n",
       "    </tr>\n",
       "    <tr>\n",
       "      <th>71</th>\n",
       "      <td>359</td>\n",
       "      <td>647</td>\n",
       "      <td>605</td>\n",
       "      <td>search_classifieds</td>\n",
       "      <td>2022-02-10</td>\n",
       "      <td>search_classifieds</td>\n",
       "      <td>Поиск в ВК</td>\n",
       "    </tr>\n",
       "    <tr>\n",
       "      <th>129</th>\n",
       "      <td>145</td>\n",
       "      <td>162</td>\n",
       "      <td>152</td>\n",
       "      <td>seller_subscribe</td>\n",
       "      <td>2022-02-10</td>\n",
       "      <td>seller_subscribe</td>\n",
       "      <td>Подписка на продавца</td>\n",
       "    </tr>\n",
       "    <tr>\n",
       "      <th>383</th>\n",
       "      <td>1437</td>\n",
       "      <td>2054</td>\n",
       "      <td>1888</td>\n",
       "      <td>similars</td>\n",
       "      <td>2022-02-10</td>\n",
       "      <td>similars</td>\n",
       "      <td>Похожие</td>\n",
       "    </tr>\n",
       "    <tr>\n",
       "      <th>316</th>\n",
       "      <td>7666</td>\n",
       "      <td>8964</td>\n",
       "      <td>7729</td>\n",
       "      <td>snippet</td>\n",
       "      <td>2022-02-10</td>\n",
       "      <td>snippet</td>\n",
       "      <td>Сниппет</td>\n",
       "    </tr>\n",
       "    <tr>\n",
       "      <th>198</th>\n",
       "      <td>55</td>\n",
       "      <td>64</td>\n",
       "      <td>63</td>\n",
       "      <td>subscribe_similar</td>\n",
       "      <td>2022-02-10</td>\n",
       "      <td>subscribe_similar</td>\n",
       "      <td>Подписка на похожие</td>\n",
       "    </tr>\n",
       "    <tr>\n",
       "      <th>410</th>\n",
       "      <td>1095</td>\n",
       "      <td>1591</td>\n",
       "      <td>1383</td>\n",
       "      <td>vk_lent_advertisement</td>\n",
       "      <td>2022-02-10</td>\n",
       "      <td>vk_lent_advertisement</td>\n",
       "      <td>Рекламные ссылке в ленте ВК</td>\n",
       "    </tr>\n",
       "    <tr>\n",
       "      <th>68</th>\n",
       "      <td>3143</td>\n",
       "      <td>3677</td>\n",
       "      <td>2810</td>\n",
       "      <td>vk_recommendations</td>\n",
       "      <td>2022-02-10</td>\n",
       "      <td>vk_recommendations</td>\n",
       "      <td>Портлеты</td>\n",
       "    </tr>\n",
       "    <tr>\n",
       "      <th>266</th>\n",
       "      <td>51</td>\n",
       "      <td>53</td>\n",
       "      <td>41</td>\n",
       "      <td>widget_from_post</td>\n",
       "      <td>2022-02-10</td>\n",
       "      <td>widget_from_post</td>\n",
       "      <td>Антибарахолки</td>\n",
       "    </tr>\n",
       "    <tr>\n",
       "      <th>236</th>\n",
       "      <td>5821</td>\n",
       "      <td>9435</td>\n",
       "      <td>8039</td>\n",
       "      <td>None</td>\n",
       "      <td>2022-02-11</td>\n",
       "      <td>None</td>\n",
       "      <td>Неизвестные и прямые переходы</td>\n",
       "    </tr>\n",
       "    <tr>\n",
       "      <th>367</th>\n",
       "      <td>29</td>\n",
       "      <td>33</td>\n",
       "      <td>31</td>\n",
       "      <td>carousel_feed</td>\n",
       "      <td>2022-02-11</td>\n",
       "      <td>carousel_feed</td>\n",
       "      <td>Карусель на главной ВКО</td>\n",
       "    </tr>\n",
       "    <tr>\n",
       "      <th>31</th>\n",
       "      <td>362</td>\n",
       "      <td>466</td>\n",
       "      <td>428</td>\n",
       "      <td>carousel_preview</td>\n",
       "      <td>2022-02-11</td>\n",
       "      <td>carousel_preview</td>\n",
       "      <td>Карусель на главной ВКО превью</td>\n",
       "    </tr>\n",
       "    <tr>\n",
       "      <th>260</th>\n",
       "      <td>4</td>\n",
       "      <td>4</td>\n",
       "      <td>4</td>\n",
       "      <td>carousel_vk_group_manual</td>\n",
       "      <td>2022-02-11</td>\n",
       "      <td>carousel_vk_group_manual</td>\n",
       "      <td>Портлеты (антибарахолки)</td>\n",
       "    </tr>\n",
       "    <tr>\n",
       "      <th>421</th>\n",
       "      <td>530</td>\n",
       "      <td>719</td>\n",
       "      <td>636</td>\n",
       "      <td>favourites</td>\n",
       "      <td>2022-02-11</td>\n",
       "      <td>favourites</td>\n",
       "      <td>Закладки</td>\n",
       "    </tr>\n",
       "    <tr>\n",
       "      <th>310</th>\n",
       "      <td>69</td>\n",
       "      <td>80</td>\n",
       "      <td>75</td>\n",
       "      <td>lent_from_widget</td>\n",
       "      <td>2022-02-11</td>\n",
       "      <td>lent_from_widget</td>\n",
       "      <td>Антибарахолки</td>\n",
       "    </tr>\n",
       "    <tr>\n",
       "      <th>240</th>\n",
       "      <td>285</td>\n",
       "      <td>441</td>\n",
       "      <td>406</td>\n",
       "      <td>main</td>\n",
       "      <td>2022-02-11</td>\n",
       "      <td>main</td>\n",
       "      <td>Главная раздела</td>\n",
       "    </tr>\n",
       "    <tr>\n",
       "      <th>41</th>\n",
       "      <td>263</td>\n",
       "      <td>399</td>\n",
       "      <td>359</td>\n",
       "      <td>personal_search</td>\n",
       "      <td>2022-02-11</td>\n",
       "      <td>personal_search</td>\n",
       "      <td>Сохраненные поиски</td>\n",
       "    </tr>\n",
       "    <tr>\n",
       "      <th>163</th>\n",
       "      <td>47</td>\n",
       "      <td>68</td>\n",
       "      <td>47</td>\n",
       "      <td>product</td>\n",
       "      <td>2022-02-11</td>\n",
       "      <td>product</td>\n",
       "      <td>Карточка товара</td>\n",
       "    </tr>\n",
       "    <tr>\n",
       "      <th>159</th>\n",
       "      <td>2772</td>\n",
       "      <td>3073</td>\n",
       "      <td>2796</td>\n",
       "      <td>product_active</td>\n",
       "      <td>2022-02-11</td>\n",
       "      <td>product_active</td>\n",
       "      <td>Профиль продавца</td>\n",
       "    </tr>\n",
       "    <tr>\n",
       "      <th>231</th>\n",
       "      <td>879</td>\n",
       "      <td>1135</td>\n",
       "      <td>1044</td>\n",
       "      <td>push</td>\n",
       "      <td>2022-02-11</td>\n",
       "      <td>push</td>\n",
       "      <td>Уведомление</td>\n",
       "    </tr>\n",
       "    <tr>\n",
       "      <th>203</th>\n",
       "      <td>2987</td>\n",
       "      <td>6327</td>\n",
       "      <td>5648</td>\n",
       "      <td>search</td>\n",
       "      <td>2022-02-11</td>\n",
       "      <td>search</td>\n",
       "      <td>Поиск в миниаппе</td>\n",
       "    </tr>\n",
       "    <tr>\n",
       "      <th>207</th>\n",
       "      <td>321</td>\n",
       "      <td>575</td>\n",
       "      <td>529</td>\n",
       "      <td>search_classifieds</td>\n",
       "      <td>2022-02-11</td>\n",
       "      <td>search_classifieds</td>\n",
       "      <td>Поиск в ВК</td>\n",
       "    </tr>\n",
       "    <tr>\n",
       "      <th>263</th>\n",
       "      <td>144</td>\n",
       "      <td>155</td>\n",
       "      <td>152</td>\n",
       "      <td>seller_subscribe</td>\n",
       "      <td>2022-02-11</td>\n",
       "      <td>seller_subscribe</td>\n",
       "      <td>Подписка на продавца</td>\n",
       "    </tr>\n",
       "    <tr>\n",
       "      <th>82</th>\n",
       "      <td>1205</td>\n",
       "      <td>1769</td>\n",
       "      <td>1626</td>\n",
       "      <td>similars</td>\n",
       "      <td>2022-02-11</td>\n",
       "      <td>similars</td>\n",
       "      <td>Похожие</td>\n",
       "    </tr>\n",
       "    <tr>\n",
       "      <th>15</th>\n",
       "      <td>6783</td>\n",
       "      <td>7972</td>\n",
       "      <td>6883</td>\n",
       "      <td>snippet</td>\n",
       "      <td>2022-02-11</td>\n",
       "      <td>snippet</td>\n",
       "      <td>Сниппет</td>\n",
       "    </tr>\n",
       "    <tr>\n",
       "      <th>334</th>\n",
       "      <td>63</td>\n",
       "      <td>89</td>\n",
       "      <td>78</td>\n",
       "      <td>subscribe_similar</td>\n",
       "      <td>2022-02-11</td>\n",
       "      <td>subscribe_similar</td>\n",
       "      <td>Подписка на похожие</td>\n",
       "    </tr>\n",
       "    <tr>\n",
       "      <th>111</th>\n",
       "      <td>1069</td>\n",
       "      <td>1560</td>\n",
       "      <td>1383</td>\n",
       "      <td>vk_lent_advertisement</td>\n",
       "      <td>2022-02-11</td>\n",
       "      <td>vk_lent_advertisement</td>\n",
       "      <td>Рекламные ссылке в ленте ВК</td>\n",
       "    </tr>\n",
       "    <tr>\n",
       "      <th>204</th>\n",
       "      <td>2158</td>\n",
       "      <td>2539</td>\n",
       "      <td>2135</td>\n",
       "      <td>vk_recommendations</td>\n",
       "      <td>2022-02-11</td>\n",
       "      <td>vk_recommendations</td>\n",
       "      <td>Портлеты</td>\n",
       "    </tr>\n",
       "    <tr>\n",
       "      <th>401</th>\n",
       "      <td>29</td>\n",
       "      <td>29</td>\n",
       "      <td>23</td>\n",
       "      <td>widget_from_post</td>\n",
       "      <td>2022-02-11</td>\n",
       "      <td>widget_from_post</td>\n",
       "      <td>Антибарахолки</td>\n",
       "    </tr>\n",
       "    <tr>\n",
       "      <th>373</th>\n",
       "      <td>5637</td>\n",
       "      <td>9064</td>\n",
       "      <td>7800</td>\n",
       "      <td>None</td>\n",
       "      <td>2022-02-12</td>\n",
       "      <td>None</td>\n",
       "      <td>Неизвестные и прямые переходы</td>\n",
       "    </tr>\n",
       "    <tr>\n",
       "      <th>63</th>\n",
       "      <td>64</td>\n",
       "      <td>79</td>\n",
       "      <td>71</td>\n",
       "      <td>carousel_feed</td>\n",
       "      <td>2022-02-12</td>\n",
       "      <td>carousel_feed</td>\n",
       "      <td>Карусель на главной ВКО</td>\n",
       "    </tr>\n",
       "    <tr>\n",
       "      <th>166</th>\n",
       "      <td>377</td>\n",
       "      <td>522</td>\n",
       "      <td>477</td>\n",
       "      <td>carousel_preview</td>\n",
       "      <td>2022-02-12</td>\n",
       "      <td>carousel_preview</td>\n",
       "      <td>Карусель на главной ВКО превью</td>\n",
       "    </tr>\n",
       "    <tr>\n",
       "      <th>396</th>\n",
       "      <td>4</td>\n",
       "      <td>4</td>\n",
       "      <td>4</td>\n",
       "      <td>carousel_vk_group_manual</td>\n",
       "      <td>2022-02-12</td>\n",
       "      <td>carousel_vk_group_manual</td>\n",
       "      <td>Портлеты (антибарахолки)</td>\n",
       "    </tr>\n",
       "    <tr>\n",
       "      <th>122</th>\n",
       "      <td>492</td>\n",
       "      <td>680</td>\n",
       "      <td>609</td>\n",
       "      <td>favourites</td>\n",
       "      <td>2022-02-12</td>\n",
       "      <td>favourites</td>\n",
       "      <td>Закладки</td>\n",
       "    </tr>\n",
       "    <tr>\n",
       "      <th>9</th>\n",
       "      <td>75</td>\n",
       "      <td>80</td>\n",
       "      <td>80</td>\n",
       "      <td>lent_from_widget</td>\n",
       "      <td>2022-02-12</td>\n",
       "      <td>lent_from_widget</td>\n",
       "      <td>Антибарахолки</td>\n",
       "    </tr>\n",
       "    <tr>\n",
       "      <th>377</th>\n",
       "      <td>294</td>\n",
       "      <td>454</td>\n",
       "      <td>422</td>\n",
       "      <td>main</td>\n",
       "      <td>2022-02-12</td>\n",
       "      <td>main</td>\n",
       "      <td>Главная раздела</td>\n",
       "    </tr>\n",
       "    <tr>\n",
       "      <th>177</th>\n",
       "      <td>251</td>\n",
       "      <td>385</td>\n",
       "      <td>343</td>\n",
       "      <td>personal_search</td>\n",
       "      <td>2022-02-12</td>\n",
       "      <td>personal_search</td>\n",
       "      <td>Сохраненные поиски</td>\n",
       "    </tr>\n",
       "    <tr>\n",
       "      <th>298</th>\n",
       "      <td>43</td>\n",
       "      <td>43</td>\n",
       "      <td>43</td>\n",
       "      <td>product</td>\n",
       "      <td>2022-02-12</td>\n",
       "      <td>product</td>\n",
       "      <td>Карточка товара</td>\n",
       "    </tr>\n",
       "    <tr>\n",
       "      <th>294</th>\n",
       "      <td>2792</td>\n",
       "      <td>3064</td>\n",
       "      <td>2754</td>\n",
       "      <td>product_active</td>\n",
       "      <td>2022-02-12</td>\n",
       "      <td>product_active</td>\n",
       "      <td>Профиль продавца</td>\n",
       "    </tr>\n",
       "    <tr>\n",
       "      <th>368</th>\n",
       "      <td>752</td>\n",
       "      <td>957</td>\n",
       "      <td>887</td>\n",
       "      <td>push</td>\n",
       "      <td>2022-02-12</td>\n",
       "      <td>push</td>\n",
       "      <td>Уведомление</td>\n",
       "    </tr>\n",
       "    <tr>\n",
       "      <th>339</th>\n",
       "      <td>3021</td>\n",
       "      <td>6632</td>\n",
       "      <td>5866</td>\n",
       "      <td>search</td>\n",
       "      <td>2022-02-12</td>\n",
       "      <td>search</td>\n",
       "      <td>Поиск в миниаппе</td>\n",
       "    </tr>\n",
       "    <tr>\n",
       "      <th>344</th>\n",
       "      <td>349</td>\n",
       "      <td>628</td>\n",
       "      <td>583</td>\n",
       "      <td>search_classifieds</td>\n",
       "      <td>2022-02-12</td>\n",
       "      <td>search_classifieds</td>\n",
       "      <td>Поиск в ВК</td>\n",
       "    </tr>\n",
       "    <tr>\n",
       "      <th>398</th>\n",
       "      <td>142</td>\n",
       "      <td>164</td>\n",
       "      <td>152</td>\n",
       "      <td>seller_subscribe</td>\n",
       "      <td>2022-02-12</td>\n",
       "      <td>seller_subscribe</td>\n",
       "      <td>Подписка на продавца</td>\n",
       "    </tr>\n",
       "    <tr>\n",
       "      <th>217</th>\n",
       "      <td>1240</td>\n",
       "      <td>1813</td>\n",
       "      <td>1651</td>\n",
       "      <td>similars</td>\n",
       "      <td>2022-02-12</td>\n",
       "      <td>similars</td>\n",
       "      <td>Похожие</td>\n",
       "    </tr>\n",
       "    <tr>\n",
       "      <th>151</th>\n",
       "      <td>6822</td>\n",
       "      <td>8035</td>\n",
       "      <td>6973</td>\n",
       "      <td>snippet</td>\n",
       "      <td>2022-02-12</td>\n",
       "      <td>snippet</td>\n",
       "      <td>Сниппет</td>\n",
       "    </tr>\n",
       "    <tr>\n",
       "      <th>32</th>\n",
       "      <td>49</td>\n",
       "      <td>74</td>\n",
       "      <td>64</td>\n",
       "      <td>subscribe_similar</td>\n",
       "      <td>2022-02-12</td>\n",
       "      <td>subscribe_similar</td>\n",
       "      <td>Подписка на похожие</td>\n",
       "    </tr>\n",
       "    <tr>\n",
       "      <th>246</th>\n",
       "      <td>1150</td>\n",
       "      <td>1738</td>\n",
       "      <td>1533</td>\n",
       "      <td>vk_lent_advertisement</td>\n",
       "      <td>2022-02-12</td>\n",
       "      <td>vk_lent_advertisement</td>\n",
       "      <td>Рекламные ссылке в ленте ВК</td>\n",
       "    </tr>\n",
       "    <tr>\n",
       "      <th>340</th>\n",
       "      <td>2621</td>\n",
       "      <td>3059</td>\n",
       "      <td>2346</td>\n",
       "      <td>vk_recommendations</td>\n",
       "      <td>2022-02-12</td>\n",
       "      <td>vk_recommendations</td>\n",
       "      <td>Портлеты</td>\n",
       "    </tr>\n",
       "    <tr>\n",
       "      <th>101</th>\n",
       "      <td>30</td>\n",
       "      <td>31</td>\n",
       "      <td>26</td>\n",
       "      <td>widget_from_post</td>\n",
       "      <td>2022-02-12</td>\n",
       "      <td>widget_from_post</td>\n",
       "      <td>Антибарахолки</td>\n",
       "    </tr>\n",
       "    <tr>\n",
       "      <th>72</th>\n",
       "      <td>6150</td>\n",
       "      <td>9851</td>\n",
       "      <td>8565</td>\n",
       "      <td>None</td>\n",
       "      <td>2022-02-13</td>\n",
       "      <td>None</td>\n",
       "      <td>Неизвестные и прямые переходы</td>\n",
       "    </tr>\n",
       "    <tr>\n",
       "      <th>199</th>\n",
       "      <td>52</td>\n",
       "      <td>60</td>\n",
       "      <td>57</td>\n",
       "      <td>carousel_feed</td>\n",
       "      <td>2022-02-13</td>\n",
       "      <td>carousel_feed</td>\n",
       "      <td>Карусель на главной ВКО</td>\n",
       "    </tr>\n",
       "    <tr>\n",
       "      <th>301</th>\n",
       "      <td>374</td>\n",
       "      <td>494</td>\n",
       "      <td>452</td>\n",
       "      <td>carousel_preview</td>\n",
       "      <td>2022-02-13</td>\n",
       "      <td>carousel_preview</td>\n",
       "      <td>Карусель на главной ВКО превью</td>\n",
       "    </tr>\n",
       "    <tr>\n",
       "      <th>96</th>\n",
       "      <td>1</td>\n",
       "      <td>1</td>\n",
       "      <td>1</td>\n",
       "      <td>carousel_vk_group_manual</td>\n",
       "      <td>2022-02-13</td>\n",
       "      <td>carousel_vk_group_manual</td>\n",
       "      <td>Портлеты (антибарахолки)</td>\n",
       "    </tr>\n",
       "    <tr>\n",
       "      <th>257</th>\n",
       "      <td>496</td>\n",
       "      <td>738</td>\n",
       "      <td>643</td>\n",
       "      <td>favourites</td>\n",
       "      <td>2022-02-13</td>\n",
       "      <td>favourites</td>\n",
       "      <td>Закладки</td>\n",
       "    </tr>\n",
       "    <tr>\n",
       "      <th>145</th>\n",
       "      <td>87</td>\n",
       "      <td>111</td>\n",
       "      <td>95</td>\n",
       "      <td>lent_from_widget</td>\n",
       "      <td>2022-02-13</td>\n",
       "      <td>lent_from_widget</td>\n",
       "      <td>Антибарахолки</td>\n",
       "    </tr>\n",
       "    <tr>\n",
       "      <th>76</th>\n",
       "      <td>319</td>\n",
       "      <td>544</td>\n",
       "      <td>490</td>\n",
       "      <td>main</td>\n",
       "      <td>2022-02-13</td>\n",
       "      <td>main</td>\n",
       "      <td>Главная раздела</td>\n",
       "    </tr>\n",
       "    <tr>\n",
       "      <th>311</th>\n",
       "      <td>267</td>\n",
       "      <td>396</td>\n",
       "      <td>361</td>\n",
       "      <td>personal_search</td>\n",
       "      <td>2022-02-13</td>\n",
       "      <td>personal_search</td>\n",
       "      <td>Сохраненные поиски</td>\n",
       "    </tr>\n",
       "    <tr>\n",
       "      <th>431</th>\n",
       "      <td>38</td>\n",
       "      <td>42</td>\n",
       "      <td>41</td>\n",
       "      <td>product</td>\n",
       "      <td>2022-02-13</td>\n",
       "      <td>product</td>\n",
       "      <td>Карточка товара</td>\n",
       "    </tr>\n",
       "    <tr>\n",
       "      <th>428</th>\n",
       "      <td>3077</td>\n",
       "      <td>3331</td>\n",
       "      <td>3029</td>\n",
       "      <td>product_active</td>\n",
       "      <td>2022-02-13</td>\n",
       "      <td>product_active</td>\n",
       "      <td>Профиль продавца</td>\n",
       "    </tr>\n",
       "    <tr>\n",
       "      <th>64</th>\n",
       "      <td>828</td>\n",
       "      <td>1089</td>\n",
       "      <td>1003</td>\n",
       "      <td>push</td>\n",
       "      <td>2022-02-13</td>\n",
       "      <td>push</td>\n",
       "      <td>Уведомление</td>\n",
       "    </tr>\n",
       "    <tr>\n",
       "      <th>37</th>\n",
       "      <td>3142</td>\n",
       "      <td>6699</td>\n",
       "      <td>5950</td>\n",
       "      <td>search</td>\n",
       "      <td>2022-02-13</td>\n",
       "      <td>search</td>\n",
       "      <td>Поиск в миниаппе</td>\n",
       "    </tr>\n",
       "    <tr>\n",
       "      <th>42</th>\n",
       "      <td>337</td>\n",
       "      <td>610</td>\n",
       "      <td>561</td>\n",
       "      <td>search_classifieds</td>\n",
       "      <td>2022-02-13</td>\n",
       "      <td>search_classifieds</td>\n",
       "      <td>Поиск в ВК</td>\n",
       "    </tr>\n",
       "    <tr>\n",
       "      <th>98</th>\n",
       "      <td>170</td>\n",
       "      <td>194</td>\n",
       "      <td>180</td>\n",
       "      <td>seller_subscribe</td>\n",
       "      <td>2022-02-13</td>\n",
       "      <td>seller_subscribe</td>\n",
       "      <td>Подписка на продавца</td>\n",
       "    </tr>\n",
       "    <tr>\n",
       "      <th>354</th>\n",
       "      <td>1304</td>\n",
       "      <td>1922</td>\n",
       "      <td>1768</td>\n",
       "      <td>similars</td>\n",
       "      <td>2022-02-13</td>\n",
       "      <td>similars</td>\n",
       "      <td>Похожие</td>\n",
       "    </tr>\n",
       "    <tr>\n",
       "      <th>286</th>\n",
       "      <td>7408</td>\n",
       "      <td>8706</td>\n",
       "      <td>7558</td>\n",
       "      <td>snippet</td>\n",
       "      <td>2022-02-13</td>\n",
       "      <td>snippet</td>\n",
       "      <td>Сниппет</td>\n",
       "    </tr>\n",
       "    <tr>\n",
       "      <th>167</th>\n",
       "      <td>54</td>\n",
       "      <td>76</td>\n",
       "      <td>68</td>\n",
       "      <td>subscribe_similar</td>\n",
       "      <td>2022-02-13</td>\n",
       "      <td>subscribe_similar</td>\n",
       "      <td>Подписка на похожие</td>\n",
       "    </tr>\n",
       "    <tr>\n",
       "      <th>384</th>\n",
       "      <td>1183</td>\n",
       "      <td>1798</td>\n",
       "      <td>1576</td>\n",
       "      <td>vk_lent_advertisement</td>\n",
       "      <td>2022-02-13</td>\n",
       "      <td>vk_lent_advertisement</td>\n",
       "      <td>Рекламные ссылке в ленте ВК</td>\n",
       "    </tr>\n",
       "    <tr>\n",
       "      <th>38</th>\n",
       "      <td>2813</td>\n",
       "      <td>3279</td>\n",
       "      <td>2528</td>\n",
       "      <td>vk_recommendations</td>\n",
       "      <td>2022-02-13</td>\n",
       "      <td>vk_recommendations</td>\n",
       "      <td>Портлеты</td>\n",
       "    </tr>\n",
       "    <tr>\n",
       "      <th>237</th>\n",
       "      <td>32</td>\n",
       "      <td>32</td>\n",
       "      <td>27</td>\n",
       "      <td>widget_from_post</td>\n",
       "      <td>2022-02-13</td>\n",
       "      <td>widget_from_post</td>\n",
       "      <td>Антибарахолки</td>\n",
       "    </tr>\n",
       "    <tr>\n",
       "      <th>208</th>\n",
       "      <td>5780</td>\n",
       "      <td>9063</td>\n",
       "      <td>7776</td>\n",
       "      <td>None</td>\n",
       "      <td>2022-02-14</td>\n",
       "      <td>None</td>\n",
       "      <td>Неизвестные и прямые переходы</td>\n",
       "    </tr>\n",
       "    <tr>\n",
       "      <th>335</th>\n",
       "      <td>61</td>\n",
       "      <td>81</td>\n",
       "      <td>77</td>\n",
       "      <td>carousel_feed</td>\n",
       "      <td>2022-02-14</td>\n",
       "      <td>carousel_feed</td>\n",
       "      <td>Карусель на главной ВКО</td>\n",
       "    </tr>\n",
       "    <tr>\n",
       "      <th>0</th>\n",
       "      <td>344</td>\n",
       "      <td>493</td>\n",
       "      <td>445</td>\n",
       "      <td>carousel_preview</td>\n",
       "      <td>2022-02-14</td>\n",
       "      <td>carousel_preview</td>\n",
       "      <td>Карусель на главной ВКО превью</td>\n",
       "    </tr>\n",
       "    <tr>\n",
       "      <th>232</th>\n",
       "      <td>3</td>\n",
       "      <td>3</td>\n",
       "      <td>3</td>\n",
       "      <td>carousel_vk_group_manual</td>\n",
       "      <td>2022-02-14</td>\n",
       "      <td>carousel_vk_group_manual</td>\n",
       "      <td>Портлеты (антибарахолки)</td>\n",
       "    </tr>\n",
       "    <tr>\n",
       "      <th>393</th>\n",
       "      <td>477</td>\n",
       "      <td>689</td>\n",
       "      <td>630</td>\n",
       "      <td>favourites</td>\n",
       "      <td>2022-02-14</td>\n",
       "      <td>favourites</td>\n",
       "      <td>Закладки</td>\n",
       "    </tr>\n",
       "    <tr>\n",
       "      <th>279</th>\n",
       "      <td>93</td>\n",
       "      <td>99</td>\n",
       "      <td>92</td>\n",
       "      <td>lent_from_widget</td>\n",
       "      <td>2022-02-14</td>\n",
       "      <td>lent_from_widget</td>\n",
       "      <td>Антибарахолки</td>\n",
       "    </tr>\n",
       "    <tr>\n",
       "      <th>211</th>\n",
       "      <td>261</td>\n",
       "      <td>383</td>\n",
       "      <td>355</td>\n",
       "      <td>main</td>\n",
       "      <td>2022-02-14</td>\n",
       "      <td>main</td>\n",
       "      <td>Главная раздела</td>\n",
       "    </tr>\n",
       "    <tr>\n",
       "      <th>10</th>\n",
       "      <td>229</td>\n",
       "      <td>336</td>\n",
       "      <td>301</td>\n",
       "      <td>personal_search</td>\n",
       "      <td>2022-02-14</td>\n",
       "      <td>personal_search</td>\n",
       "      <td>Сохраненные поиски</td>\n",
       "    </tr>\n",
       "    <tr>\n",
       "      <th>133</th>\n",
       "      <td>49</td>\n",
       "      <td>51</td>\n",
       "      <td>50</td>\n",
       "      <td>product</td>\n",
       "      <td>2022-02-14</td>\n",
       "      <td>product</td>\n",
       "      <td>Карточка товара</td>\n",
       "    </tr>\n",
       "    <tr>\n",
       "      <th>130</th>\n",
       "      <td>2835</td>\n",
       "      <td>3096</td>\n",
       "      <td>2834</td>\n",
       "      <td>product_active</td>\n",
       "      <td>2022-02-14</td>\n",
       "      <td>product_active</td>\n",
       "      <td>Профиль продавца</td>\n",
       "    </tr>\n",
       "    <tr>\n",
       "      <th>200</th>\n",
       "      <td>724</td>\n",
       "      <td>935</td>\n",
       "      <td>848</td>\n",
       "      <td>push</td>\n",
       "      <td>2022-02-14</td>\n",
       "      <td>push</td>\n",
       "      <td>Уведомление</td>\n",
       "    </tr>\n",
       "    <tr>\n",
       "      <th>172</th>\n",
       "      <td>2796</td>\n",
       "      <td>5771</td>\n",
       "      <td>5138</td>\n",
       "      <td>search</td>\n",
       "      <td>2022-02-14</td>\n",
       "      <td>search</td>\n",
       "      <td>Поиск в миниаппе</td>\n",
       "    </tr>\n",
       "    <tr>\n",
       "      <th>178</th>\n",
       "      <td>327</td>\n",
       "      <td>583</td>\n",
       "      <td>537</td>\n",
       "      <td>search_classifieds</td>\n",
       "      <td>2022-02-14</td>\n",
       "      <td>search_classifieds</td>\n",
       "      <td>Поиск в ВК</td>\n",
       "    </tr>\n",
       "    <tr>\n",
       "      <th>234</th>\n",
       "      <td>137</td>\n",
       "      <td>147</td>\n",
       "      <td>141</td>\n",
       "      <td>seller_subscribe</td>\n",
       "      <td>2022-02-14</td>\n",
       "      <td>seller_subscribe</td>\n",
       "      <td>Подписка на продавца</td>\n",
       "    </tr>\n",
       "    <tr>\n",
       "      <th>51</th>\n",
       "      <td>1178</td>\n",
       "      <td>1684</td>\n",
       "      <td>1552</td>\n",
       "      <td>similars</td>\n",
       "      <td>2022-02-14</td>\n",
       "      <td>similars</td>\n",
       "      <td>Похожие</td>\n",
       "    </tr>\n",
       "    <tr>\n",
       "      <th>422</th>\n",
       "      <td>7012</td>\n",
       "      <td>8515</td>\n",
       "      <td>7108</td>\n",
       "      <td>snippet</td>\n",
       "      <td>2022-02-14</td>\n",
       "      <td>snippet</td>\n",
       "      <td>Сниппет</td>\n",
       "    </tr>\n",
       "    <tr>\n",
       "      <th>302</th>\n",
       "      <td>46</td>\n",
       "      <td>60</td>\n",
       "      <td>56</td>\n",
       "      <td>subscribe_similar</td>\n",
       "      <td>2022-02-14</td>\n",
       "      <td>subscribe_similar</td>\n",
       "      <td>Подписка на похожие</td>\n",
       "    </tr>\n",
       "    <tr>\n",
       "      <th>83</th>\n",
       "      <td>1024</td>\n",
       "      <td>1530</td>\n",
       "      <td>1364</td>\n",
       "      <td>vk_lent_advertisement</td>\n",
       "      <td>2022-02-14</td>\n",
       "      <td>vk_lent_advertisement</td>\n",
       "      <td>Рекламные ссылке в ленте ВК</td>\n",
       "    </tr>\n",
       "    <tr>\n",
       "      <th>173</th>\n",
       "      <td>2592</td>\n",
       "      <td>3011</td>\n",
       "      <td>2326</td>\n",
       "      <td>vk_recommendations</td>\n",
       "      <td>2022-02-14</td>\n",
       "      <td>vk_recommendations</td>\n",
       "      <td>Портлеты</td>\n",
       "    </tr>\n",
       "    <tr>\n",
       "      <th>374</th>\n",
       "      <td>20</td>\n",
       "      <td>21</td>\n",
       "      <td>19</td>\n",
       "      <td>widget_from_post</td>\n",
       "      <td>2022-02-14</td>\n",
       "      <td>widget_from_post</td>\n",
       "      <td>Антибарахолки</td>\n",
       "    </tr>\n",
       "    <tr>\n",
       "      <th>345</th>\n",
       "      <td>6332</td>\n",
       "      <td>11138</td>\n",
       "      <td>9437</td>\n",
       "      <td>None</td>\n",
       "      <td>2022-02-15</td>\n",
       "      <td>None</td>\n",
       "      <td>Неизвестные и прямые переходы</td>\n",
       "    </tr>\n",
       "    <tr>\n",
       "      <th>33</th>\n",
       "      <td>59</td>\n",
       "      <td>75</td>\n",
       "      <td>69</td>\n",
       "      <td>carousel_feed</td>\n",
       "      <td>2022-02-15</td>\n",
       "      <td>carousel_feed</td>\n",
       "      <td>Карусель на главной ВКО</td>\n",
       "    </tr>\n",
       "    <tr>\n",
       "      <th>136</th>\n",
       "      <td>370</td>\n",
       "      <td>526</td>\n",
       "      <td>473</td>\n",
       "      <td>carousel_preview</td>\n",
       "      <td>2022-02-15</td>\n",
       "      <td>carousel_preview</td>\n",
       "      <td>Карусель на главной ВКО превью</td>\n",
       "    </tr>\n",
       "    <tr>\n",
       "      <th>369</th>\n",
       "      <td>3</td>\n",
       "      <td>3</td>\n",
       "      <td>3</td>\n",
       "      <td>carousel_vk_group_manual</td>\n",
       "      <td>2022-02-15</td>\n",
       "      <td>carousel_vk_group_manual</td>\n",
       "      <td>Портлеты (антибарахолки)</td>\n",
       "    </tr>\n",
       "    <tr>\n",
       "      <th>92</th>\n",
       "      <td>500</td>\n",
       "      <td>677</td>\n",
       "      <td>617</td>\n",
       "      <td>favourites</td>\n",
       "      <td>2022-02-15</td>\n",
       "      <td>favourites</td>\n",
       "      <td>Закладки</td>\n",
       "    </tr>\n",
       "    <tr>\n",
       "      <th>415</th>\n",
       "      <td>90</td>\n",
       "      <td>100</td>\n",
       "      <td>94</td>\n",
       "      <td>lent_from_widget</td>\n",
       "      <td>2022-02-15</td>\n",
       "      <td>lent_from_widget</td>\n",
       "      <td>Антибарахолки</td>\n",
       "    </tr>\n",
       "    <tr>\n",
       "      <th>348</th>\n",
       "      <td>294</td>\n",
       "      <td>424</td>\n",
       "      <td>393</td>\n",
       "      <td>main</td>\n",
       "      <td>2022-02-15</td>\n",
       "      <td>main</td>\n",
       "      <td>Главная раздела</td>\n",
       "    </tr>\n",
       "    <tr>\n",
       "      <th>146</th>\n",
       "      <td>260</td>\n",
       "      <td>372</td>\n",
       "      <td>344</td>\n",
       "      <td>personal_search</td>\n",
       "      <td>2022-02-15</td>\n",
       "      <td>personal_search</td>\n",
       "      <td>Сохраненные поиски</td>\n",
       "    </tr>\n",
       "    <tr>\n",
       "      <th>267</th>\n",
       "      <td>45</td>\n",
       "      <td>47</td>\n",
       "      <td>46</td>\n",
       "      <td>product</td>\n",
       "      <td>2022-02-15</td>\n",
       "      <td>product</td>\n",
       "      <td>Карточка товара</td>\n",
       "    </tr>\n",
       "    <tr>\n",
       "      <th>264</th>\n",
       "      <td>2966</td>\n",
       "      <td>3220</td>\n",
       "      <td>2919</td>\n",
       "      <td>product_active</td>\n",
       "      <td>2022-02-15</td>\n",
       "      <td>product_active</td>\n",
       "      <td>Профиль продавца</td>\n",
       "    </tr>\n",
       "    <tr>\n",
       "      <th>336</th>\n",
       "      <td>884</td>\n",
       "      <td>1100</td>\n",
       "      <td>1011</td>\n",
       "      <td>push</td>\n",
       "      <td>2022-02-15</td>\n",
       "      <td>push</td>\n",
       "      <td>Уведомление</td>\n",
       "    </tr>\n",
       "    <tr>\n",
       "      <th>306</th>\n",
       "      <td>3025</td>\n",
       "      <td>6135</td>\n",
       "      <td>5396</td>\n",
       "      <td>search</td>\n",
       "      <td>2022-02-15</td>\n",
       "      <td>search</td>\n",
       "      <td>Поиск в миниаппе</td>\n",
       "    </tr>\n",
       "    <tr>\n",
       "      <th>312</th>\n",
       "      <td>343</td>\n",
       "      <td>638</td>\n",
       "      <td>603</td>\n",
       "      <td>search_classifieds</td>\n",
       "      <td>2022-02-15</td>\n",
       "      <td>search_classifieds</td>\n",
       "      <td>Поиск в ВК</td>\n",
       "    </tr>\n",
       "    <tr>\n",
       "      <th>371</th>\n",
       "      <td>132</td>\n",
       "      <td>146</td>\n",
       "      <td>137</td>\n",
       "      <td>seller_subscribe</td>\n",
       "      <td>2022-02-15</td>\n",
       "      <td>seller_subscribe</td>\n",
       "      <td>Подписка на продавца</td>\n",
       "    </tr>\n",
       "    <tr>\n",
       "      <th>187</th>\n",
       "      <td>1310</td>\n",
       "      <td>1873</td>\n",
       "      <td>1742</td>\n",
       "      <td>similars</td>\n",
       "      <td>2022-02-15</td>\n",
       "      <td>similars</td>\n",
       "      <td>Похожие</td>\n",
       "    </tr>\n",
       "    <tr>\n",
       "      <th>123</th>\n",
       "      <td>7566</td>\n",
       "      <td>8819</td>\n",
       "      <td>7569</td>\n",
       "      <td>snippet</td>\n",
       "      <td>2022-02-15</td>\n",
       "      <td>snippet</td>\n",
       "      <td>Сниппет</td>\n",
       "    </tr>\n",
       "    <tr>\n",
       "      <th>1</th>\n",
       "      <td>48</td>\n",
       "      <td>74</td>\n",
       "      <td>63</td>\n",
       "      <td>subscribe_similar</td>\n",
       "      <td>2022-02-15</td>\n",
       "      <td>subscribe_similar</td>\n",
       "      <td>Подписка на похожие</td>\n",
       "    </tr>\n",
       "    <tr>\n",
       "      <th>218</th>\n",
       "      <td>1139</td>\n",
       "      <td>1733</td>\n",
       "      <td>1523</td>\n",
       "      <td>vk_lent_advertisement</td>\n",
       "      <td>2022-02-15</td>\n",
       "      <td>vk_lent_advertisement</td>\n",
       "      <td>Рекламные ссылке в ленте ВК</td>\n",
       "    </tr>\n",
       "    <tr>\n",
       "      <th>307</th>\n",
       "      <td>2714</td>\n",
       "      <td>3178</td>\n",
       "      <td>2482</td>\n",
       "      <td>vk_recommendations</td>\n",
       "      <td>2022-02-15</td>\n",
       "      <td>vk_recommendations</td>\n",
       "      <td>Портлеты</td>\n",
       "    </tr>\n",
       "    <tr>\n",
       "      <th>73</th>\n",
       "      <td>37</td>\n",
       "      <td>38</td>\n",
       "      <td>29</td>\n",
       "      <td>widget_from_post</td>\n",
       "      <td>2022-02-15</td>\n",
       "      <td>widget_from_post</td>\n",
       "      <td>Антибарахолки</td>\n",
       "    </tr>\n",
       "    <tr>\n",
       "      <th>43</th>\n",
       "      <td>6273</td>\n",
       "      <td>10793</td>\n",
       "      <td>9218</td>\n",
       "      <td>None</td>\n",
       "      <td>2022-02-16</td>\n",
       "      <td>None</td>\n",
       "      <td>Неизвестные и прямые переходы</td>\n",
       "    </tr>\n",
       "    <tr>\n",
       "      <th>168</th>\n",
       "      <td>51</td>\n",
       "      <td>60</td>\n",
       "      <td>55</td>\n",
       "      <td>carousel_feed</td>\n",
       "      <td>2022-02-16</td>\n",
       "      <td>carousel_feed</td>\n",
       "      <td>Карусель на главной ВКО</td>\n",
       "    </tr>\n",
       "    <tr>\n",
       "      <th>270</th>\n",
       "      <td>334</td>\n",
       "      <td>451</td>\n",
       "      <td>422</td>\n",
       "      <td>carousel_preview</td>\n",
       "      <td>2022-02-16</td>\n",
       "      <td>carousel_preview</td>\n",
       "      <td>Карусель на главной ВКО превью</td>\n",
       "    </tr>\n",
       "    <tr>\n",
       "      <th>65</th>\n",
       "      <td>11</td>\n",
       "      <td>11</td>\n",
       "      <td>11</td>\n",
       "      <td>carousel_vk_group_manual</td>\n",
       "      <td>2022-02-16</td>\n",
       "      <td>carousel_vk_group_manual</td>\n",
       "      <td>Портлеты (антибарахолки)</td>\n",
       "    </tr>\n",
       "    <tr>\n",
       "      <th>227</th>\n",
       "      <td>496</td>\n",
       "      <td>675</td>\n",
       "      <td>606</td>\n",
       "      <td>favourites</td>\n",
       "      <td>2022-02-16</td>\n",
       "      <td>favourites</td>\n",
       "      <td>Закладки</td>\n",
       "    </tr>\n",
       "    <tr>\n",
       "      <th>116</th>\n",
       "      <td>83</td>\n",
       "      <td>94</td>\n",
       "      <td>93</td>\n",
       "      <td>lent_from_widget</td>\n",
       "      <td>2022-02-16</td>\n",
       "      <td>lent_from_widget</td>\n",
       "      <td>Антибарахолки</td>\n",
       "    </tr>\n",
       "    <tr>\n",
       "      <th>46</th>\n",
       "      <td>292</td>\n",
       "      <td>384</td>\n",
       "      <td>359</td>\n",
       "      <td>main</td>\n",
       "      <td>2022-02-16</td>\n",
       "      <td>main</td>\n",
       "      <td>Главная раздела</td>\n",
       "    </tr>\n",
       "    <tr>\n",
       "      <th>280</th>\n",
       "      <td>211</td>\n",
       "      <td>297</td>\n",
       "      <td>279</td>\n",
       "      <td>personal_search</td>\n",
       "      <td>2022-02-16</td>\n",
       "      <td>personal_search</td>\n",
       "      <td>Сохраненные поиски</td>\n",
       "    </tr>\n",
       "    <tr>\n",
       "      <th>402</th>\n",
       "      <td>38</td>\n",
       "      <td>40</td>\n",
       "      <td>39</td>\n",
       "      <td>product</td>\n",
       "      <td>2022-02-16</td>\n",
       "      <td>product</td>\n",
       "      <td>Карточка товара</td>\n",
       "    </tr>\n",
       "    <tr>\n",
       "      <th>399</th>\n",
       "      <td>2943</td>\n",
       "      <td>3189</td>\n",
       "      <td>2879</td>\n",
       "      <td>product_active</td>\n",
       "      <td>2022-02-16</td>\n",
       "      <td>product_active</td>\n",
       "      <td>Профиль продавца</td>\n",
       "    </tr>\n",
       "    <tr>\n",
       "      <th>34</th>\n",
       "      <td>824</td>\n",
       "      <td>1087</td>\n",
       "      <td>996</td>\n",
       "      <td>push</td>\n",
       "      <td>2022-02-16</td>\n",
       "      <td>push</td>\n",
       "      <td>Уведомление</td>\n",
       "    </tr>\n",
       "    <tr>\n",
       "      <th>5</th>\n",
       "      <td>2908</td>\n",
       "      <td>5887</td>\n",
       "      <td>5261</td>\n",
       "      <td>search</td>\n",
       "      <td>2022-02-16</td>\n",
       "      <td>search</td>\n",
       "      <td>Поиск в миниаппе</td>\n",
       "    </tr>\n",
       "    <tr>\n",
       "      <th>11</th>\n",
       "      <td>328</td>\n",
       "      <td>621</td>\n",
       "      <td>583</td>\n",
       "      <td>search_classifieds</td>\n",
       "      <td>2022-02-16</td>\n",
       "      <td>search_classifieds</td>\n",
       "      <td>Поиск в ВК</td>\n",
       "    </tr>\n",
       "    <tr>\n",
       "      <th>69</th>\n",
       "      <td>153</td>\n",
       "      <td>182</td>\n",
       "      <td>173</td>\n",
       "      <td>seller_subscribe</td>\n",
       "      <td>2022-02-16</td>\n",
       "      <td>seller_subscribe</td>\n",
       "      <td>Подписка на продавца</td>\n",
       "    </tr>\n",
       "    <tr>\n",
       "      <th>322</th>\n",
       "      <td>1246</td>\n",
       "      <td>1818</td>\n",
       "      <td>1661</td>\n",
       "      <td>similars</td>\n",
       "      <td>2022-02-16</td>\n",
       "      <td>similars</td>\n",
       "      <td>Похожие</td>\n",
       "    </tr>\n",
       "    <tr>\n",
       "      <th>258</th>\n",
       "      <td>7180</td>\n",
       "      <td>8538</td>\n",
       "      <td>7385</td>\n",
       "      <td>snippet</td>\n",
       "      <td>2022-02-16</td>\n",
       "      <td>snippet</td>\n",
       "      <td>Сниппет</td>\n",
       "    </tr>\n",
       "    <tr>\n",
       "      <th>137</th>\n",
       "      <td>51</td>\n",
       "      <td>65</td>\n",
       "      <td>62</td>\n",
       "      <td>subscribe_similar</td>\n",
       "      <td>2022-02-16</td>\n",
       "      <td>subscribe_similar</td>\n",
       "      <td>Подписка на похожие</td>\n",
       "    </tr>\n",
       "    <tr>\n",
       "      <th>355</th>\n",
       "      <td>1265</td>\n",
       "      <td>1892</td>\n",
       "      <td>1693</td>\n",
       "      <td>vk_lent_advertisement</td>\n",
       "      <td>2022-02-16</td>\n",
       "      <td>vk_lent_advertisement</td>\n",
       "      <td>Рекламные ссылке в ленте ВК</td>\n",
       "    </tr>\n",
       "    <tr>\n",
       "      <th>6</th>\n",
       "      <td>2607</td>\n",
       "      <td>3047</td>\n",
       "      <td>2360</td>\n",
       "      <td>vk_recommendations</td>\n",
       "      <td>2022-02-16</td>\n",
       "      <td>vk_recommendations</td>\n",
       "      <td>Портлеты</td>\n",
       "    </tr>\n",
       "    <tr>\n",
       "      <th>209</th>\n",
       "      <td>27</td>\n",
       "      <td>29</td>\n",
       "      <td>23</td>\n",
       "      <td>widget_from_post</td>\n",
       "      <td>2022-02-16</td>\n",
       "      <td>widget_from_post</td>\n",
       "      <td>Антибарахолки</td>\n",
       "    </tr>\n",
       "    <tr>\n",
       "      <th>179</th>\n",
       "      <td>6216</td>\n",
       "      <td>10768</td>\n",
       "      <td>9153</td>\n",
       "      <td>None</td>\n",
       "      <td>2022-02-17</td>\n",
       "      <td>None</td>\n",
       "      <td>Неизвестные и прямые переходы</td>\n",
       "    </tr>\n",
       "    <tr>\n",
       "      <th>303</th>\n",
       "      <td>55</td>\n",
       "      <td>71</td>\n",
       "      <td>68</td>\n",
       "      <td>carousel_feed</td>\n",
       "      <td>2022-02-17</td>\n",
       "      <td>carousel_feed</td>\n",
       "      <td>Карусель на главной ВКО</td>\n",
       "    </tr>\n",
       "    <tr>\n",
       "      <th>405</th>\n",
       "      <td>362</td>\n",
       "      <td>494</td>\n",
       "      <td>452</td>\n",
       "      <td>carousel_preview</td>\n",
       "      <td>2022-02-17</td>\n",
       "      <td>carousel_preview</td>\n",
       "      <td>Карусель на главной ВКО превью</td>\n",
       "    </tr>\n",
       "    <tr>\n",
       "      <th>201</th>\n",
       "      <td>11</td>\n",
       "      <td>11</td>\n",
       "      <td>11</td>\n",
       "      <td>carousel_vk_group_manual</td>\n",
       "      <td>2022-02-17</td>\n",
       "      <td>carousel_vk_group_manual</td>\n",
       "      <td>Портлеты (антибарахолки)</td>\n",
       "    </tr>\n",
       "    <tr>\n",
       "      <th>364</th>\n",
       "      <td>485</td>\n",
       "      <td>683</td>\n",
       "      <td>612</td>\n",
       "      <td>favourites</td>\n",
       "      <td>2022-02-17</td>\n",
       "      <td>favourites</td>\n",
       "      <td>Закладки</td>\n",
       "    </tr>\n",
       "    <tr>\n",
       "      <th>251</th>\n",
       "      <td>67</td>\n",
       "      <td>79</td>\n",
       "      <td>75</td>\n",
       "      <td>lent_from_widget</td>\n",
       "      <td>2022-02-17</td>\n",
       "      <td>lent_from_widget</td>\n",
       "      <td>Антибарахолки</td>\n",
       "    </tr>\n",
       "    <tr>\n",
       "      <th>182</th>\n",
       "      <td>302</td>\n",
       "      <td>458</td>\n",
       "      <td>428</td>\n",
       "      <td>main</td>\n",
       "      <td>2022-02-17</td>\n",
       "      <td>main</td>\n",
       "      <td>Главная раздела</td>\n",
       "    </tr>\n",
       "    <tr>\n",
       "      <th>416</th>\n",
       "      <td>240</td>\n",
       "      <td>354</td>\n",
       "      <td>325</td>\n",
       "      <td>personal_search</td>\n",
       "      <td>2022-02-17</td>\n",
       "      <td>personal_search</td>\n",
       "      <td>Сохраненные поиски</td>\n",
       "    </tr>\n",
       "    <tr>\n",
       "      <th>102</th>\n",
       "      <td>33</td>\n",
       "      <td>39</td>\n",
       "      <td>38</td>\n",
       "      <td>product</td>\n",
       "      <td>2022-02-17</td>\n",
       "      <td>product</td>\n",
       "      <td>Карточка товара</td>\n",
       "    </tr>\n",
       "    <tr>\n",
       "      <th>99</th>\n",
       "      <td>2923</td>\n",
       "      <td>3165</td>\n",
       "      <td>2871</td>\n",
       "      <td>product_active</td>\n",
       "      <td>2022-02-17</td>\n",
       "      <td>product_active</td>\n",
       "      <td>Профиль продавца</td>\n",
       "    </tr>\n",
       "    <tr>\n",
       "      <th>169</th>\n",
       "      <td>842</td>\n",
       "      <td>1095</td>\n",
       "      <td>1013</td>\n",
       "      <td>push</td>\n",
       "      <td>2022-02-17</td>\n",
       "      <td>push</td>\n",
       "      <td>Уведомление</td>\n",
       "    </tr>\n",
       "    <tr>\n",
       "      <th>141</th>\n",
       "      <td>2972</td>\n",
       "      <td>6462</td>\n",
       "      <td>5757</td>\n",
       "      <td>search</td>\n",
       "      <td>2022-02-17</td>\n",
       "      <td>search</td>\n",
       "      <td>Поиск в миниаппе</td>\n",
       "    </tr>\n",
       "    <tr>\n",
       "      <th>147</th>\n",
       "      <td>310</td>\n",
       "      <td>558</td>\n",
       "      <td>519</td>\n",
       "      <td>search_classifieds</td>\n",
       "      <td>2022-02-17</td>\n",
       "      <td>search_classifieds</td>\n",
       "      <td>Поиск в ВК</td>\n",
       "    </tr>\n",
       "    <tr>\n",
       "      <th>205</th>\n",
       "      <td>143</td>\n",
       "      <td>156</td>\n",
       "      <td>145</td>\n",
       "      <td>seller_subscribe</td>\n",
       "      <td>2022-02-17</td>\n",
       "      <td>seller_subscribe</td>\n",
       "      <td>Подписка на продавца</td>\n",
       "    </tr>\n",
       "    <tr>\n",
       "      <th>20</th>\n",
       "      <td>1219</td>\n",
       "      <td>1748</td>\n",
       "      <td>1625</td>\n",
       "      <td>similars</td>\n",
       "      <td>2022-02-17</td>\n",
       "      <td>similars</td>\n",
       "      <td>Похожие</td>\n",
       "    </tr>\n",
       "    <tr>\n",
       "      <th>394</th>\n",
       "      <td>7024</td>\n",
       "      <td>8260</td>\n",
       "      <td>7109</td>\n",
       "      <td>snippet</td>\n",
       "      <td>2022-02-17</td>\n",
       "      <td>snippet</td>\n",
       "      <td>Сниппет</td>\n",
       "    </tr>\n",
       "    <tr>\n",
       "      <th>271</th>\n",
       "      <td>44</td>\n",
       "      <td>64</td>\n",
       "      <td>57</td>\n",
       "      <td>subscribe_similar</td>\n",
       "      <td>2022-02-17</td>\n",
       "      <td>subscribe_similar</td>\n",
       "      <td>Подписка на похожие</td>\n",
       "    </tr>\n",
       "    <tr>\n",
       "      <th>52</th>\n",
       "      <td>1204</td>\n",
       "      <td>1815</td>\n",
       "      <td>1597</td>\n",
       "      <td>vk_lent_advertisement</td>\n",
       "      <td>2022-02-17</td>\n",
       "      <td>vk_lent_advertisement</td>\n",
       "      <td>Рекламные ссылке в ленте ВК</td>\n",
       "    </tr>\n",
       "    <tr>\n",
       "      <th>142</th>\n",
       "      <td>2712</td>\n",
       "      <td>3202</td>\n",
       "      <td>2568</td>\n",
       "      <td>vk_recommendations</td>\n",
       "      <td>2022-02-17</td>\n",
       "      <td>vk_recommendations</td>\n",
       "      <td>Портлеты</td>\n",
       "    </tr>\n",
       "    <tr>\n",
       "      <th>346</th>\n",
       "      <td>40</td>\n",
       "      <td>42</td>\n",
       "      <td>35</td>\n",
       "      <td>widget_from_post</td>\n",
       "      <td>2022-02-17</td>\n",
       "      <td>widget_from_post</td>\n",
       "      <td>Антибарахолки</td>\n",
       "    </tr>\n",
       "    <tr>\n",
       "      <th>313</th>\n",
       "      <td>5819</td>\n",
       "      <td>10053</td>\n",
       "      <td>8743</td>\n",
       "      <td>None</td>\n",
       "      <td>2022-02-18</td>\n",
       "      <td>None</td>\n",
       "      <td>Неизвестные и прямые переходы</td>\n",
       "    </tr>\n",
       "    <tr>\n",
       "      <th>2</th>\n",
       "      <td>50</td>\n",
       "      <td>64</td>\n",
       "      <td>59</td>\n",
       "      <td>carousel_feed</td>\n",
       "      <td>2022-02-18</td>\n",
       "      <td>carousel_feed</td>\n",
       "      <td>Карусель на главной ВКО</td>\n",
       "    </tr>\n",
       "    <tr>\n",
       "      <th>106</th>\n",
       "      <td>326</td>\n",
       "      <td>447</td>\n",
       "      <td>412</td>\n",
       "      <td>carousel_preview</td>\n",
       "      <td>2022-02-18</td>\n",
       "      <td>carousel_preview</td>\n",
       "      <td>Карусель на главной ВКО превью</td>\n",
       "    </tr>\n",
       "    <tr>\n",
       "      <th>337</th>\n",
       "      <td>10</td>\n",
       "      <td>11</td>\n",
       "      <td>11</td>\n",
       "      <td>carousel_vk_group_manual</td>\n",
       "      <td>2022-02-18</td>\n",
       "      <td>carousel_vk_group_manual</td>\n",
       "      <td>Портлеты (антибарахолки)</td>\n",
       "    </tr>\n",
       "    <tr>\n",
       "      <th>60</th>\n",
       "      <td>502</td>\n",
       "      <td>717</td>\n",
       "      <td>626</td>\n",
       "      <td>favourites</td>\n",
       "      <td>2022-02-18</td>\n",
       "      <td>favourites</td>\n",
       "      <td>Закладки</td>\n",
       "    </tr>\n",
       "    <tr>\n",
       "      <th>388</th>\n",
       "      <td>66</td>\n",
       "      <td>74</td>\n",
       "      <td>70</td>\n",
       "      <td>lent_from_widget</td>\n",
       "      <td>2022-02-18</td>\n",
       "      <td>lent_from_widget</td>\n",
       "      <td>Антибарахолки</td>\n",
       "    </tr>\n",
       "    <tr>\n",
       "      <th>317</th>\n",
       "      <td>260</td>\n",
       "      <td>383</td>\n",
       "      <td>360</td>\n",
       "      <td>main</td>\n",
       "      <td>2022-02-18</td>\n",
       "      <td>main</td>\n",
       "      <td>Главная раздела</td>\n",
       "    </tr>\n",
       "    <tr>\n",
       "      <th>117</th>\n",
       "      <td>227</td>\n",
       "      <td>346</td>\n",
       "      <td>301</td>\n",
       "      <td>personal_search</td>\n",
       "      <td>2022-02-18</td>\n",
       "      <td>personal_search</td>\n",
       "      <td>Сохраненные поиски</td>\n",
       "    </tr>\n",
       "    <tr>\n",
       "      <th>238</th>\n",
       "      <td>39</td>\n",
       "      <td>45</td>\n",
       "      <td>39</td>\n",
       "      <td>product</td>\n",
       "      <td>2022-02-18</td>\n",
       "      <td>product</td>\n",
       "      <td>Карточка товара</td>\n",
       "    </tr>\n",
       "    <tr>\n",
       "      <th>235</th>\n",
       "      <td>2757</td>\n",
       "      <td>2994</td>\n",
       "      <td>2714</td>\n",
       "      <td>product_active</td>\n",
       "      <td>2022-02-18</td>\n",
       "      <td>product_active</td>\n",
       "      <td>Профиль продавца</td>\n",
       "    </tr>\n",
       "    <tr>\n",
       "      <th>304</th>\n",
       "      <td>837</td>\n",
       "      <td>1107</td>\n",
       "      <td>1014</td>\n",
       "      <td>push</td>\n",
       "      <td>2022-02-18</td>\n",
       "      <td>push</td>\n",
       "      <td>Уведомление</td>\n",
       "    </tr>\n",
       "    <tr>\n",
       "      <th>275</th>\n",
       "      <td>2731</td>\n",
       "      <td>5859</td>\n",
       "      <td>5210</td>\n",
       "      <td>search</td>\n",
       "      <td>2022-02-18</td>\n",
       "      <td>search</td>\n",
       "      <td>Поиск в миниаппе</td>\n",
       "    </tr>\n",
       "    <tr>\n",
       "      <th>281</th>\n",
       "      <td>309</td>\n",
       "      <td>552</td>\n",
       "      <td>510</td>\n",
       "      <td>search_classifieds</td>\n",
       "      <td>2022-02-18</td>\n",
       "      <td>search_classifieds</td>\n",
       "      <td>Поиск в ВК</td>\n",
       "    </tr>\n",
       "    <tr>\n",
       "      <th>341</th>\n",
       "      <td>140</td>\n",
       "      <td>154</td>\n",
       "      <td>144</td>\n",
       "      <td>seller_subscribe</td>\n",
       "      <td>2022-02-18</td>\n",
       "      <td>seller_subscribe</td>\n",
       "      <td>Подписка на продавца</td>\n",
       "    </tr>\n",
       "    <tr>\n",
       "      <th>155</th>\n",
       "      <td>1142</td>\n",
       "      <td>1662</td>\n",
       "      <td>1496</td>\n",
       "      <td>similars</td>\n",
       "      <td>2022-02-18</td>\n",
       "      <td>similars</td>\n",
       "      <td>Похожие</td>\n",
       "    </tr>\n",
       "    <tr>\n",
       "      <th>93</th>\n",
       "      <td>6733</td>\n",
       "      <td>7932</td>\n",
       "      <td>6801</td>\n",
       "      <td>snippet</td>\n",
       "      <td>2022-02-18</td>\n",
       "      <td>snippet</td>\n",
       "      <td>Сниппет</td>\n",
       "    </tr>\n",
       "    <tr>\n",
       "      <th>406</th>\n",
       "      <td>42</td>\n",
       "      <td>51</td>\n",
       "      <td>49</td>\n",
       "      <td>subscribe_similar</td>\n",
       "      <td>2022-02-18</td>\n",
       "      <td>subscribe_similar</td>\n",
       "      <td>Подписка на похожие</td>\n",
       "    </tr>\n",
       "    <tr>\n",
       "      <th>188</th>\n",
       "      <td>1143</td>\n",
       "      <td>1760</td>\n",
       "      <td>1560</td>\n",
       "      <td>vk_lent_advertisement</td>\n",
       "      <td>2022-02-18</td>\n",
       "      <td>vk_lent_advertisement</td>\n",
       "      <td>Рекламные ссылке в ленте ВК</td>\n",
       "    </tr>\n",
       "    <tr>\n",
       "      <th>276</th>\n",
       "      <td>2532</td>\n",
       "      <td>2955</td>\n",
       "      <td>2343</td>\n",
       "      <td>vk_recommendations</td>\n",
       "      <td>2022-02-18</td>\n",
       "      <td>vk_recommendations</td>\n",
       "      <td>Портлеты</td>\n",
       "    </tr>\n",
       "    <tr>\n",
       "      <th>44</th>\n",
       "      <td>37</td>\n",
       "      <td>39</td>\n",
       "      <td>27</td>\n",
       "      <td>widget_from_post</td>\n",
       "      <td>2022-02-18</td>\n",
       "      <td>widget_from_post</td>\n",
       "      <td>Антибарахолки</td>\n",
       "    </tr>\n",
       "    <tr>\n",
       "      <th>12</th>\n",
       "      <td>5330</td>\n",
       "      <td>8693</td>\n",
       "      <td>7318</td>\n",
       "      <td>None</td>\n",
       "      <td>2022-02-19</td>\n",
       "      <td>None</td>\n",
       "      <td>Неизвестные и прямые переходы</td>\n",
       "    </tr>\n",
       "    <tr>\n",
       "      <th>138</th>\n",
       "      <td>52</td>\n",
       "      <td>77</td>\n",
       "      <td>66</td>\n",
       "      <td>carousel_feed</td>\n",
       "      <td>2022-02-19</td>\n",
       "      <td>carousel_feed</td>\n",
       "      <td>Карусель на главной ВКО</td>\n",
       "    </tr>\n",
       "    <tr>\n",
       "      <th>241</th>\n",
       "      <td>345</td>\n",
       "      <td>513</td>\n",
       "      <td>450</td>\n",
       "      <td>carousel_preview</td>\n",
       "      <td>2022-02-19</td>\n",
       "      <td>carousel_preview</td>\n",
       "      <td>Карусель на главной ВКО превью</td>\n",
       "    </tr>\n",
       "    <tr>\n",
       "      <th>35</th>\n",
       "      <td>9</td>\n",
       "      <td>9</td>\n",
       "      <td>9</td>\n",
       "      <td>carousel_vk_group_manual</td>\n",
       "      <td>2022-02-19</td>\n",
       "      <td>carousel_vk_group_manual</td>\n",
       "      <td>Портлеты (антибарахолки)</td>\n",
       "    </tr>\n",
       "    <tr>\n",
       "      <th>195</th>\n",
       "      <td>530</td>\n",
       "      <td>797</td>\n",
       "      <td>646</td>\n",
       "      <td>favourites</td>\n",
       "      <td>2022-02-19</td>\n",
       "      <td>favourites</td>\n",
       "      <td>Закладки</td>\n",
       "    </tr>\n",
       "    <tr>\n",
       "      <th>87</th>\n",
       "      <td>94</td>\n",
       "      <td>105</td>\n",
       "      <td>92</td>\n",
       "      <td>lent_from_widget</td>\n",
       "      <td>2022-02-19</td>\n",
       "      <td>lent_from_widget</td>\n",
       "      <td>Антибарахолки</td>\n",
       "    </tr>\n",
       "    <tr>\n",
       "      <th>16</th>\n",
       "      <td>307</td>\n",
       "      <td>496</td>\n",
       "      <td>443</td>\n",
       "      <td>main</td>\n",
       "      <td>2022-02-19</td>\n",
       "      <td>main</td>\n",
       "      <td>Главная раздела</td>\n",
       "    </tr>\n",
       "    <tr>\n",
       "      <th>252</th>\n",
       "      <td>193</td>\n",
       "      <td>331</td>\n",
       "      <td>272</td>\n",
       "      <td>personal_search</td>\n",
       "      <td>2022-02-19</td>\n",
       "      <td>personal_search</td>\n",
       "      <td>Сохраненные поиски</td>\n",
       "    </tr>\n",
       "    <tr>\n",
       "      <th>375</th>\n",
       "      <td>46</td>\n",
       "      <td>51</td>\n",
       "      <td>49</td>\n",
       "      <td>product</td>\n",
       "      <td>2022-02-19</td>\n",
       "      <td>product</td>\n",
       "      <td>Карточка товара</td>\n",
       "    </tr>\n",
       "    <tr>\n",
       "      <th>372</th>\n",
       "      <td>2731</td>\n",
       "      <td>3051</td>\n",
       "      <td>2714</td>\n",
       "      <td>product_active</td>\n",
       "      <td>2022-02-19</td>\n",
       "      <td>product_active</td>\n",
       "      <td>Профиль продавца</td>\n",
       "    </tr>\n",
       "    <tr>\n",
       "      <th>3</th>\n",
       "      <td>768</td>\n",
       "      <td>1174</td>\n",
       "      <td>1031</td>\n",
       "      <td>push</td>\n",
       "      <td>2022-02-19</td>\n",
       "      <td>push</td>\n",
       "      <td>Уведомление</td>\n",
       "    </tr>\n",
       "    <tr>\n",
       "      <th>411</th>\n",
       "      <td>2913</td>\n",
       "      <td>6625</td>\n",
       "      <td>5488</td>\n",
       "      <td>search</td>\n",
       "      <td>2022-02-19</td>\n",
       "      <td>search</td>\n",
       "      <td>Поиск в миниаппе</td>\n",
       "    </tr>\n",
       "    <tr>\n",
       "      <th>417</th>\n",
       "      <td>283</td>\n",
       "      <td>509</td>\n",
       "      <td>456</td>\n",
       "      <td>search_classifieds</td>\n",
       "      <td>2022-02-19</td>\n",
       "      <td>search_classifieds</td>\n",
       "      <td>Поиск в ВК</td>\n",
       "    </tr>\n",
       "    <tr>\n",
       "      <th>39</th>\n",
       "      <td>153</td>\n",
       "      <td>203</td>\n",
       "      <td>179</td>\n",
       "      <td>seller_subscribe</td>\n",
       "      <td>2022-02-19</td>\n",
       "      <td>seller_subscribe</td>\n",
       "      <td>Подписка на продавца</td>\n",
       "    </tr>\n",
       "    <tr>\n",
       "      <th>290</th>\n",
       "      <td>1182</td>\n",
       "      <td>1803</td>\n",
       "      <td>1586</td>\n",
       "      <td>similars</td>\n",
       "      <td>2022-02-19</td>\n",
       "      <td>similars</td>\n",
       "      <td>Похожие</td>\n",
       "    </tr>\n",
       "    <tr>\n",
       "      <th>228</th>\n",
       "      <td>6510</td>\n",
       "      <td>7951</td>\n",
       "      <td>6702</td>\n",
       "      <td>snippet</td>\n",
       "      <td>2022-02-19</td>\n",
       "      <td>snippet</td>\n",
       "      <td>Сниппет</td>\n",
       "    </tr>\n",
       "    <tr>\n",
       "      <th>107</th>\n",
       "      <td>46</td>\n",
       "      <td>57</td>\n",
       "      <td>53</td>\n",
       "      <td>subscribe_similar</td>\n",
       "      <td>2022-02-19</td>\n",
       "      <td>subscribe_similar</td>\n",
       "      <td>Подписка на похожие</td>\n",
       "    </tr>\n",
       "    <tr>\n",
       "      <th>323</th>\n",
       "      <td>1470</td>\n",
       "      <td>2305</td>\n",
       "      <td>1955</td>\n",
       "      <td>vk_lent_advertisement</td>\n",
       "      <td>2022-02-19</td>\n",
       "      <td>vk_lent_advertisement</td>\n",
       "      <td>Рекламные ссылке в ленте ВК</td>\n",
       "    </tr>\n",
       "    <tr>\n",
       "      <th>412</th>\n",
       "      <td>2256</td>\n",
       "      <td>2753</td>\n",
       "      <td>2129</td>\n",
       "      <td>vk_recommendations</td>\n",
       "      <td>2022-02-19</td>\n",
       "      <td>vk_recommendations</td>\n",
       "      <td>Портлеты</td>\n",
       "    </tr>\n",
       "    <tr>\n",
       "      <th>180</th>\n",
       "      <td>31</td>\n",
       "      <td>31</td>\n",
       "      <td>26</td>\n",
       "      <td>widget_from_post</td>\n",
       "      <td>2022-02-19</td>\n",
       "      <td>widget_from_post</td>\n",
       "      <td>Антибарахолки</td>\n",
       "    </tr>\n",
       "    <tr>\n",
       "      <th>148</th>\n",
       "      <td>5278</td>\n",
       "      <td>8128</td>\n",
       "      <td>6908</td>\n",
       "      <td>None</td>\n",
       "      <td>2022-02-20</td>\n",
       "      <td>None</td>\n",
       "      <td>Неизвестные и прямые переходы</td>\n",
       "    </tr>\n",
       "    <tr>\n",
       "      <th>272</th>\n",
       "      <td>64</td>\n",
       "      <td>84</td>\n",
       "      <td>74</td>\n",
       "      <td>carousel_feed</td>\n",
       "      <td>2022-02-20</td>\n",
       "      <td>carousel_feed</td>\n",
       "      <td>Карусель на главной ВКО</td>\n",
       "    </tr>\n",
       "    <tr>\n",
       "      <th>378</th>\n",
       "      <td>439</td>\n",
       "      <td>637</td>\n",
       "      <td>551</td>\n",
       "      <td>carousel_preview</td>\n",
       "      <td>2022-02-20</td>\n",
       "      <td>carousel_preview</td>\n",
       "      <td>Карусель на главной ВКО превью</td>\n",
       "    </tr>\n",
       "    <tr>\n",
       "      <th>170</th>\n",
       "      <td>3</td>\n",
       "      <td>3</td>\n",
       "      <td>3</td>\n",
       "      <td>carousel_vk_group_manual</td>\n",
       "      <td>2022-02-20</td>\n",
       "      <td>carousel_vk_group_manual</td>\n",
       "      <td>Портлеты (антибарахолки)</td>\n",
       "    </tr>\n",
       "    <tr>\n",
       "      <th>330</th>\n",
       "      <td>569</td>\n",
       "      <td>916</td>\n",
       "      <td>746</td>\n",
       "      <td>favourites</td>\n",
       "      <td>2022-02-20</td>\n",
       "      <td>favourites</td>\n",
       "      <td>Закладки</td>\n",
       "    </tr>\n",
       "    <tr>\n",
       "      <th>222</th>\n",
       "      <td>84</td>\n",
       "      <td>126</td>\n",
       "      <td>119</td>\n",
       "      <td>lent_from_widget</td>\n",
       "      <td>2022-02-20</td>\n",
       "      <td>lent_from_widget</td>\n",
       "      <td>Антибарахолки</td>\n",
       "    </tr>\n",
       "    <tr>\n",
       "      <th>152</th>\n",
       "      <td>316</td>\n",
       "      <td>419</td>\n",
       "      <td>382</td>\n",
       "      <td>main</td>\n",
       "      <td>2022-02-20</td>\n",
       "      <td>main</td>\n",
       "      <td>Главная раздела</td>\n",
       "    </tr>\n",
       "    <tr>\n",
       "      <th>389</th>\n",
       "      <td>285</td>\n",
       "      <td>441</td>\n",
       "      <td>388</td>\n",
       "      <td>personal_search</td>\n",
       "      <td>2022-02-20</td>\n",
       "      <td>personal_search</td>\n",
       "      <td>Сохраненные поиски</td>\n",
       "    </tr>\n",
       "    <tr>\n",
       "      <th>74</th>\n",
       "      <td>43</td>\n",
       "      <td>47</td>\n",
       "      <td>46</td>\n",
       "      <td>product</td>\n",
       "      <td>2022-02-20</td>\n",
       "      <td>product</td>\n",
       "      <td>Карточка товара</td>\n",
       "    </tr>\n",
       "    <tr>\n",
       "      <th>70</th>\n",
       "      <td>2926</td>\n",
       "      <td>3325</td>\n",
       "      <td>2904</td>\n",
       "      <td>product_active</td>\n",
       "      <td>2022-02-20</td>\n",
       "      <td>product_active</td>\n",
       "      <td>Профиль продавца</td>\n",
       "    </tr>\n",
       "    <tr>\n",
       "      <th>139</th>\n",
       "      <td>856</td>\n",
       "      <td>1183</td>\n",
       "      <td>1051</td>\n",
       "      <td>push</td>\n",
       "      <td>2022-02-20</td>\n",
       "      <td>push</td>\n",
       "      <td>Уведомление</td>\n",
       "    </tr>\n",
       "    <tr>\n",
       "      <th>112</th>\n",
       "      <td>2963</td>\n",
       "      <td>6036</td>\n",
       "      <td>4988</td>\n",
       "      <td>search</td>\n",
       "      <td>2022-02-20</td>\n",
       "      <td>search</td>\n",
       "      <td>Поиск в миниаппе</td>\n",
       "    </tr>\n",
       "    <tr>\n",
       "      <th>118</th>\n",
       "      <td>384</td>\n",
       "      <td>753</td>\n",
       "      <td>645</td>\n",
       "      <td>search_classifieds</td>\n",
       "      <td>2022-02-20</td>\n",
       "      <td>search_classifieds</td>\n",
       "      <td>Поиск в ВК</td>\n",
       "    </tr>\n",
       "    <tr>\n",
       "      <th>174</th>\n",
       "      <td>183</td>\n",
       "      <td>220</td>\n",
       "      <td>200</td>\n",
       "      <td>seller_subscribe</td>\n",
       "      <td>2022-02-20</td>\n",
       "      <td>seller_subscribe</td>\n",
       "      <td>Подписка на продавца</td>\n",
       "    </tr>\n",
       "    <tr>\n",
       "      <th>426</th>\n",
       "      <td>1381</td>\n",
       "      <td>2134</td>\n",
       "      <td>1845</td>\n",
       "      <td>similars</td>\n",
       "      <td>2022-02-20</td>\n",
       "      <td>similars</td>\n",
       "      <td>Похожие</td>\n",
       "    </tr>\n",
       "    <tr>\n",
       "      <th>365</th>\n",
       "      <td>7580</td>\n",
       "      <td>9161</td>\n",
       "      <td>7737</td>\n",
       "      <td>snippet</td>\n",
       "      <td>2022-02-20</td>\n",
       "      <td>snippet</td>\n",
       "      <td>Сниппет</td>\n",
       "    </tr>\n",
       "    <tr>\n",
       "      <th>242</th>\n",
       "      <td>59</td>\n",
       "      <td>91</td>\n",
       "      <td>79</td>\n",
       "      <td>subscribe_similar</td>\n",
       "      <td>2022-02-20</td>\n",
       "      <td>subscribe_similar</td>\n",
       "      <td>Подписка на похожие</td>\n",
       "    </tr>\n",
       "    <tr>\n",
       "      <th>21</th>\n",
       "      <td>1690</td>\n",
       "      <td>2621</td>\n",
       "      <td>2222</td>\n",
       "      <td>vk_lent_advertisement</td>\n",
       "      <td>2022-02-20</td>\n",
       "      <td>vk_lent_advertisement</td>\n",
       "      <td>Рекламные ссылке в ленте ВК</td>\n",
       "    </tr>\n",
       "    <tr>\n",
       "      <th>113</th>\n",
       "      <td>2515</td>\n",
       "      <td>3108</td>\n",
       "      <td>2390</td>\n",
       "      <td>vk_recommendations</td>\n",
       "      <td>2022-02-20</td>\n",
       "      <td>vk_recommendations</td>\n",
       "      <td>Портлеты</td>\n",
       "    </tr>\n",
       "    <tr>\n",
       "      <th>314</th>\n",
       "      <td>32</td>\n",
       "      <td>34</td>\n",
       "      <td>28</td>\n",
       "      <td>widget_from_post</td>\n",
       "      <td>2022-02-20</td>\n",
       "      <td>widget_from_post</td>\n",
       "      <td>Антибарахолки</td>\n",
       "    </tr>\n",
       "    <tr>\n",
       "      <th>282</th>\n",
       "      <td>4677</td>\n",
       "      <td>7889</td>\n",
       "      <td>6752</td>\n",
       "      <td>None</td>\n",
       "      <td>2022-02-21</td>\n",
       "      <td>None</td>\n",
       "      <td>Неизвестные и прямые переходы</td>\n",
       "    </tr>\n",
       "    <tr>\n",
       "      <th>407</th>\n",
       "      <td>43</td>\n",
       "      <td>61</td>\n",
       "      <td>53</td>\n",
       "      <td>carousel_feed</td>\n",
       "      <td>2022-02-21</td>\n",
       "      <td>carousel_feed</td>\n",
       "      <td>Карусель на главной ВКО</td>\n",
       "    </tr>\n",
       "    <tr>\n",
       "      <th>77</th>\n",
       "      <td>321</td>\n",
       "      <td>457</td>\n",
       "      <td>385</td>\n",
       "      <td>carousel_preview</td>\n",
       "      <td>2022-02-21</td>\n",
       "      <td>carousel_preview</td>\n",
       "      <td>Карусель на главной ВКО превью</td>\n",
       "    </tr>\n",
       "    <tr>\n",
       "      <th>305</th>\n",
       "      <td>12</td>\n",
       "      <td>16</td>\n",
       "      <td>14</td>\n",
       "      <td>carousel_vk_group_manual</td>\n",
       "      <td>2022-02-21</td>\n",
       "      <td>carousel_vk_group_manual</td>\n",
       "      <td>Портлеты (антибарахолки)</td>\n",
       "    </tr>\n",
       "    <tr>\n",
       "      <th>29</th>\n",
       "      <td>416</td>\n",
       "      <td>673</td>\n",
       "      <td>545</td>\n",
       "      <td>favourites</td>\n",
       "      <td>2022-02-21</td>\n",
       "      <td>favourites</td>\n",
       "      <td>Закладки</td>\n",
       "    </tr>\n",
       "    <tr>\n",
       "      <th>359</th>\n",
       "      <td>81</td>\n",
       "      <td>92</td>\n",
       "      <td>87</td>\n",
       "      <td>lent_from_widget</td>\n",
       "      <td>2022-02-21</td>\n",
       "      <td>lent_from_widget</td>\n",
       "      <td>Антибарахолки</td>\n",
       "    </tr>\n",
       "    <tr>\n",
       "      <th>287</th>\n",
       "      <td>236</td>\n",
       "      <td>419</td>\n",
       "      <td>342</td>\n",
       "      <td>main</td>\n",
       "      <td>2022-02-21</td>\n",
       "      <td>main</td>\n",
       "      <td>Главная раздела</td>\n",
       "    </tr>\n",
       "    <tr>\n",
       "      <th>88</th>\n",
       "      <td>234</td>\n",
       "      <td>331</td>\n",
       "      <td>290</td>\n",
       "      <td>personal_search</td>\n",
       "      <td>2022-02-21</td>\n",
       "      <td>personal_search</td>\n",
       "      <td>Сохраненные поиски</td>\n",
       "    </tr>\n",
       "    <tr>\n",
       "      <th>210</th>\n",
       "      <td>40</td>\n",
       "      <td>46</td>\n",
       "      <td>40</td>\n",
       "      <td>product</td>\n",
       "      <td>2022-02-21</td>\n",
       "      <td>product</td>\n",
       "      <td>Карточка товара</td>\n",
       "    </tr>\n",
       "    <tr>\n",
       "      <th>206</th>\n",
       "      <td>3032</td>\n",
       "      <td>3354</td>\n",
       "      <td>2948</td>\n",
       "      <td>product_active</td>\n",
       "      <td>2022-02-21</td>\n",
       "      <td>product_active</td>\n",
       "      <td>Профиль продавца</td>\n",
       "    </tr>\n",
       "    <tr>\n",
       "      <th>273</th>\n",
       "      <td>892</td>\n",
       "      <td>1233</td>\n",
       "      <td>1071</td>\n",
       "      <td>push</td>\n",
       "      <td>2022-02-21</td>\n",
       "      <td>push</td>\n",
       "      <td>Уведомление</td>\n",
       "    </tr>\n",
       "    <tr>\n",
       "      <th>247</th>\n",
       "      <td>2518</td>\n",
       "      <td>5347</td>\n",
       "      <td>4496</td>\n",
       "      <td>search</td>\n",
       "      <td>2022-02-21</td>\n",
       "      <td>search</td>\n",
       "      <td>Поиск в миниаппе</td>\n",
       "    </tr>\n",
       "    <tr>\n",
       "      <th>253</th>\n",
       "      <td>241</td>\n",
       "      <td>456</td>\n",
       "      <td>396</td>\n",
       "      <td>search_classifieds</td>\n",
       "      <td>2022-02-21</td>\n",
       "      <td>search_classifieds</td>\n",
       "      <td>Поиск в ВК</td>\n",
       "    </tr>\n",
       "    <tr>\n",
       "      <th>308</th>\n",
       "      <td>175</td>\n",
       "      <td>209</td>\n",
       "      <td>198</td>\n",
       "      <td>seller_subscribe</td>\n",
       "      <td>2022-02-21</td>\n",
       "      <td>seller_subscribe</td>\n",
       "      <td>Подписка на продавца</td>\n",
       "    </tr>\n",
       "    <tr>\n",
       "      <th>127</th>\n",
       "      <td>1099</td>\n",
       "      <td>1611</td>\n",
       "      <td>1421</td>\n",
       "      <td>similars</td>\n",
       "      <td>2022-02-21</td>\n",
       "      <td>similars</td>\n",
       "      <td>Похожие</td>\n",
       "    </tr>\n",
       "    <tr>\n",
       "      <th>61</th>\n",
       "      <td>6100</td>\n",
       "      <td>7340</td>\n",
       "      <td>6281</td>\n",
       "      <td>snippet</td>\n",
       "      <td>2022-02-21</td>\n",
       "      <td>snippet</td>\n",
       "      <td>Сниппет</td>\n",
       "    </tr>\n",
       "    <tr>\n",
       "      <th>379</th>\n",
       "      <td>57</td>\n",
       "      <td>84</td>\n",
       "      <td>72</td>\n",
       "      <td>subscribe_similar</td>\n",
       "      <td>2022-02-21</td>\n",
       "      <td>subscribe_similar</td>\n",
       "      <td>Подписка на похожие</td>\n",
       "    </tr>\n",
       "    <tr>\n",
       "      <th>156</th>\n",
       "      <td>1520</td>\n",
       "      <td>2254</td>\n",
       "      <td>1982</td>\n",
       "      <td>vk_lent_advertisement</td>\n",
       "      <td>2022-02-21</td>\n",
       "      <td>vk_lent_advertisement</td>\n",
       "      <td>Рекламные ссылке в ленте ВК</td>\n",
       "    </tr>\n",
       "    <tr>\n",
       "      <th>248</th>\n",
       "      <td>1964</td>\n",
       "      <td>2408</td>\n",
       "      <td>1872</td>\n",
       "      <td>vk_recommendations</td>\n",
       "      <td>2022-02-21</td>\n",
       "      <td>vk_recommendations</td>\n",
       "      <td>Портлеты</td>\n",
       "    </tr>\n",
       "    <tr>\n",
       "      <th>13</th>\n",
       "      <td>22</td>\n",
       "      <td>23</td>\n",
       "      <td>19</td>\n",
       "      <td>widget_from_post</td>\n",
       "      <td>2022-02-21</td>\n",
       "      <td>widget_from_post</td>\n",
       "      <td>Антибарахолки</td>\n",
       "    </tr>\n",
       "    <tr>\n",
       "      <th>418</th>\n",
       "      <td>3428</td>\n",
       "      <td>6098</td>\n",
       "      <td>5288</td>\n",
       "      <td>None</td>\n",
       "      <td>2022-02-22</td>\n",
       "      <td>None</td>\n",
       "      <td>Неизвестные и прямые переходы</td>\n",
       "    </tr>\n",
       "    <tr>\n",
       "      <th>108</th>\n",
       "      <td>34</td>\n",
       "      <td>41</td>\n",
       "      <td>40</td>\n",
       "      <td>carousel_feed</td>\n",
       "      <td>2022-02-22</td>\n",
       "      <td>carousel_feed</td>\n",
       "      <td>Карусель на главной ВКО</td>\n",
       "    </tr>\n",
       "    <tr>\n",
       "      <th>212</th>\n",
       "      <td>241</td>\n",
       "      <td>337</td>\n",
       "      <td>308</td>\n",
       "      <td>carousel_preview</td>\n",
       "      <td>2022-02-22</td>\n",
       "      <td>carousel_preview</td>\n",
       "      <td>Карусель на главной ВКО превью</td>\n",
       "    </tr>\n",
       "    <tr>\n",
       "      <th>4</th>\n",
       "      <td>4</td>\n",
       "      <td>5</td>\n",
       "      <td>5</td>\n",
       "      <td>carousel_vk_group_manual</td>\n",
       "      <td>2022-02-22</td>\n",
       "      <td>carousel_vk_group_manual</td>\n",
       "      <td>Портлеты (антибарахолки)</td>\n",
       "    </tr>\n",
       "    <tr>\n",
       "      <th>164</th>\n",
       "      <td>163</td>\n",
       "      <td>226</td>\n",
       "      <td>217</td>\n",
       "      <td>favourites</td>\n",
       "      <td>2022-02-22</td>\n",
       "      <td>favourites</td>\n",
       "      <td>Закладки</td>\n",
       "    </tr>\n",
       "    <tr>\n",
       "      <th>55</th>\n",
       "      <td>61</td>\n",
       "      <td>67</td>\n",
       "      <td>59</td>\n",
       "      <td>lent_from_widget</td>\n",
       "      <td>2022-02-22</td>\n",
       "      <td>lent_from_widget</td>\n",
       "      <td>Антибарахолки</td>\n",
       "    </tr>\n",
       "    <tr>\n",
       "      <th>423</th>\n",
       "      <td>176</td>\n",
       "      <td>268</td>\n",
       "      <td>238</td>\n",
       "      <td>main</td>\n",
       "      <td>2022-02-22</td>\n",
       "      <td>main</td>\n",
       "      <td>Главная раздела</td>\n",
       "    </tr>\n",
       "    <tr>\n",
       "      <th>223</th>\n",
       "      <td>249</td>\n",
       "      <td>321</td>\n",
       "      <td>297</td>\n",
       "      <td>personal_search</td>\n",
       "      <td>2022-02-22</td>\n",
       "      <td>personal_search</td>\n",
       "      <td>Сохраненные поиски</td>\n",
       "    </tr>\n",
       "    <tr>\n",
       "      <th>347</th>\n",
       "      <td>26</td>\n",
       "      <td>28</td>\n",
       "      <td>27</td>\n",
       "      <td>product</td>\n",
       "      <td>2022-02-22</td>\n",
       "      <td>product</td>\n",
       "      <td>Карточка товара</td>\n",
       "    </tr>\n",
       "    <tr>\n",
       "      <th>342</th>\n",
       "      <td>2943</td>\n",
       "      <td>3187</td>\n",
       "      <td>2917</td>\n",
       "      <td>product_active</td>\n",
       "      <td>2022-02-22</td>\n",
       "      <td>product_active</td>\n",
       "      <td>Профиль продавца</td>\n",
       "    </tr>\n",
       "    <tr>\n",
       "      <th>408</th>\n",
       "      <td>763</td>\n",
       "      <td>989</td>\n",
       "      <td>900</td>\n",
       "      <td>push</td>\n",
       "      <td>2022-02-22</td>\n",
       "      <td>push</td>\n",
       "      <td>Уведомление</td>\n",
       "    </tr>\n",
       "    <tr>\n",
       "      <th>385</th>\n",
       "      <td>1712</td>\n",
       "      <td>3712</td>\n",
       "      <td>3307</td>\n",
       "      <td>search</td>\n",
       "      <td>2022-02-22</td>\n",
       "      <td>search</td>\n",
       "      <td>Поиск в миниаппе</td>\n",
       "    </tr>\n",
       "    <tr>\n",
       "      <th>390</th>\n",
       "      <td>131</td>\n",
       "      <td>223</td>\n",
       "      <td>213</td>\n",
       "      <td>search_classifieds</td>\n",
       "      <td>2022-02-22</td>\n",
       "      <td>search_classifieds</td>\n",
       "      <td>Поиск в ВК</td>\n",
       "    </tr>\n",
       "    <tr>\n",
       "      <th>7</th>\n",
       "      <td>132</td>\n",
       "      <td>149</td>\n",
       "      <td>140</td>\n",
       "      <td>seller_subscribe</td>\n",
       "      <td>2022-02-22</td>\n",
       "      <td>seller_subscribe</td>\n",
       "      <td>Подписка на продавца</td>\n",
       "    </tr>\n",
       "    <tr>\n",
       "      <th>261</th>\n",
       "      <td>702</td>\n",
       "      <td>991</td>\n",
       "      <td>909</td>\n",
       "      <td>similars</td>\n",
       "      <td>2022-02-22</td>\n",
       "      <td>similars</td>\n",
       "      <td>Похожие</td>\n",
       "    </tr>\n",
       "    <tr>\n",
       "      <th>196</th>\n",
       "      <td>4712</td>\n",
       "      <td>5601</td>\n",
       "      <td>4930</td>\n",
       "      <td>snippet</td>\n",
       "      <td>2022-02-22</td>\n",
       "      <td>snippet</td>\n",
       "      <td>Сниппет</td>\n",
       "    </tr>\n",
       "    <tr>\n",
       "      <th>78</th>\n",
       "      <td>38</td>\n",
       "      <td>47</td>\n",
       "      <td>43</td>\n",
       "      <td>subscribe_similar</td>\n",
       "      <td>2022-02-22</td>\n",
       "      <td>subscribe_similar</td>\n",
       "      <td>Подписка на похожие</td>\n",
       "    </tr>\n",
       "    <tr>\n",
       "      <th>291</th>\n",
       "      <td>1179</td>\n",
       "      <td>1796</td>\n",
       "      <td>1602</td>\n",
       "      <td>vk_lent_advertisement</td>\n",
       "      <td>2022-02-22</td>\n",
       "      <td>vk_lent_advertisement</td>\n",
       "      <td>Рекламные ссылке в ленте ВК</td>\n",
       "    </tr>\n",
       "    <tr>\n",
       "      <th>386</th>\n",
       "      <td>1437</td>\n",
       "      <td>1692</td>\n",
       "      <td>1417</td>\n",
       "      <td>vk_recommendations</td>\n",
       "      <td>2022-02-22</td>\n",
       "      <td>vk_recommendations</td>\n",
       "      <td>Портлеты</td>\n",
       "    </tr>\n",
       "    <tr>\n",
       "      <th>149</th>\n",
       "      <td>20</td>\n",
       "      <td>20</td>\n",
       "      <td>17</td>\n",
       "      <td>widget_from_post</td>\n",
       "      <td>2022-02-22</td>\n",
       "      <td>widget_from_post</td>\n",
       "      <td>Антибарахолки</td>\n",
       "    </tr>\n",
       "    <tr>\n",
       "      <th>119</th>\n",
       "      <td>3290</td>\n",
       "      <td>5986</td>\n",
       "      <td>5318</td>\n",
       "      <td>None</td>\n",
       "      <td>2022-02-23</td>\n",
       "      <td>None</td>\n",
       "      <td>Неизвестные и прямые переходы</td>\n",
       "    </tr>\n",
       "    <tr>\n",
       "      <th>243</th>\n",
       "      <td>26</td>\n",
       "      <td>31</td>\n",
       "      <td>29</td>\n",
       "      <td>carousel_feed</td>\n",
       "      <td>2022-02-23</td>\n",
       "      <td>carousel_feed</td>\n",
       "      <td>Карусель на главной ВКО</td>\n",
       "    </tr>\n",
       "    <tr>\n",
       "      <th>349</th>\n",
       "      <td>213</td>\n",
       "      <td>279</td>\n",
       "      <td>255</td>\n",
       "      <td>carousel_preview</td>\n",
       "      <td>2022-02-23</td>\n",
       "      <td>carousel_preview</td>\n",
       "      <td>Карусель на главной ВКО превью</td>\n",
       "    </tr>\n",
       "    <tr>\n",
       "      <th>140</th>\n",
       "      <td>10</td>\n",
       "      <td>13</td>\n",
       "      <td>12</td>\n",
       "      <td>carousel_vk_group_manual</td>\n",
       "      <td>2022-02-23</td>\n",
       "      <td>carousel_vk_group_manual</td>\n",
       "      <td>Портлеты (антибарахолки)</td>\n",
       "    </tr>\n",
       "    <tr>\n",
       "      <th>299</th>\n",
       "      <td>150</td>\n",
       "      <td>197</td>\n",
       "      <td>175</td>\n",
       "      <td>favourites</td>\n",
       "      <td>2022-02-23</td>\n",
       "      <td>favourites</td>\n",
       "      <td>Закладки</td>\n",
       "    </tr>\n",
       "    <tr>\n",
       "      <th>191</th>\n",
       "      <td>59</td>\n",
       "      <td>67</td>\n",
       "      <td>64</td>\n",
       "      <td>lent_from_widget</td>\n",
       "      <td>2022-02-23</td>\n",
       "      <td>lent_from_widget</td>\n",
       "      <td>Антибарахолки</td>\n",
       "    </tr>\n",
       "    <tr>\n",
       "      <th>124</th>\n",
       "      <td>157</td>\n",
       "      <td>226</td>\n",
       "      <td>203</td>\n",
       "      <td>main</td>\n",
       "      <td>2022-02-23</td>\n",
       "      <td>main</td>\n",
       "      <td>Главная раздела</td>\n",
       "    </tr>\n",
       "    <tr>\n",
       "      <th>360</th>\n",
       "      <td>157</td>\n",
       "      <td>220</td>\n",
       "      <td>199</td>\n",
       "      <td>personal_search</td>\n",
       "      <td>2022-02-23</td>\n",
       "      <td>personal_search</td>\n",
       "      <td>Сохраненные поиски</td>\n",
       "    </tr>\n",
       "    <tr>\n",
       "      <th>45</th>\n",
       "      <td>12</td>\n",
       "      <td>12</td>\n",
       "      <td>12</td>\n",
       "      <td>product</td>\n",
       "      <td>2022-02-23</td>\n",
       "      <td>product</td>\n",
       "      <td>Карточка товара</td>\n",
       "    </tr>\n",
       "    <tr>\n",
       "      <th>40</th>\n",
       "      <td>2740</td>\n",
       "      <td>2991</td>\n",
       "      <td>2727</td>\n",
       "      <td>product_active</td>\n",
       "      <td>2022-02-23</td>\n",
       "      <td>product_active</td>\n",
       "      <td>Профиль продавца</td>\n",
       "    </tr>\n",
       "    <tr>\n",
       "      <th>109</th>\n",
       "      <td>605</td>\n",
       "      <td>815</td>\n",
       "      <td>743</td>\n",
       "      <td>push</td>\n",
       "      <td>2022-02-23</td>\n",
       "      <td>push</td>\n",
       "      <td>Уведомление</td>\n",
       "    </tr>\n",
       "    <tr>\n",
       "      <th>84</th>\n",
       "      <td>1638</td>\n",
       "      <td>3484</td>\n",
       "      <td>3118</td>\n",
       "      <td>search</td>\n",
       "      <td>2022-02-23</td>\n",
       "      <td>search</td>\n",
       "      <td>Поиск в миниаппе</td>\n",
       "    </tr>\n",
       "    <tr>\n",
       "      <th>89</th>\n",
       "      <td>164</td>\n",
       "      <td>661</td>\n",
       "      <td>635</td>\n",
       "      <td>search_classifieds</td>\n",
       "      <td>2022-02-23</td>\n",
       "      <td>search_classifieds</td>\n",
       "      <td>Поиск в ВК</td>\n",
       "    </tr>\n",
       "    <tr>\n",
       "      <th>143</th>\n",
       "      <td>128</td>\n",
       "      <td>136</td>\n",
       "      <td>132</td>\n",
       "      <td>seller_subscribe</td>\n",
       "      <td>2022-02-23</td>\n",
       "      <td>seller_subscribe</td>\n",
       "      <td>Подписка на продавца</td>\n",
       "    </tr>\n",
       "    <tr>\n",
       "      <th>397</th>\n",
       "      <td>817</td>\n",
       "      <td>1159</td>\n",
       "      <td>1074</td>\n",
       "      <td>similars</td>\n",
       "      <td>2022-02-23</td>\n",
       "      <td>similars</td>\n",
       "      <td>Похожие</td>\n",
       "    </tr>\n",
       "    <tr>\n",
       "      <th>331</th>\n",
       "      <td>4363</td>\n",
       "      <td>5094</td>\n",
       "      <td>4555</td>\n",
       "      <td>snippet</td>\n",
       "      <td>2022-02-23</td>\n",
       "      <td>snippet</td>\n",
       "      <td>Сниппет</td>\n",
       "    </tr>\n",
       "    <tr>\n",
       "      <th>213</th>\n",
       "      <td>36</td>\n",
       "      <td>56</td>\n",
       "      <td>47</td>\n",
       "      <td>subscribe_similar</td>\n",
       "      <td>2022-02-23</td>\n",
       "      <td>subscribe_similar</td>\n",
       "      <td>Подписка на похожие</td>\n",
       "    </tr>\n",
       "    <tr>\n",
       "      <th>427</th>\n",
       "      <td>1236</td>\n",
       "      <td>1946</td>\n",
       "      <td>1710</td>\n",
       "      <td>vk_lent_advertisement</td>\n",
       "      <td>2022-02-23</td>\n",
       "      <td>vk_lent_advertisement</td>\n",
       "      <td>Рекламные ссылке в ленте ВК</td>\n",
       "    </tr>\n",
       "    <tr>\n",
       "      <th>85</th>\n",
       "      <td>1460</td>\n",
       "      <td>1784</td>\n",
       "      <td>1431</td>\n",
       "      <td>vk_recommendations</td>\n",
       "      <td>2022-02-23</td>\n",
       "      <td>vk_recommendations</td>\n",
       "      <td>Портлеты</td>\n",
       "    </tr>\n",
       "    <tr>\n",
       "      <th>283</th>\n",
       "      <td>11</td>\n",
       "      <td>12</td>\n",
       "      <td>11</td>\n",
       "      <td>widget_from_post</td>\n",
       "      <td>2022-02-23</td>\n",
       "      <td>widget_from_post</td>\n",
       "      <td>Антибарахолки</td>\n",
       "    </tr>\n",
       "    <tr>\n",
       "      <th>254</th>\n",
       "      <td>2800</td>\n",
       "      <td>4592</td>\n",
       "      <td>3984</td>\n",
       "      <td>None</td>\n",
       "      <td>2022-02-24</td>\n",
       "      <td>None</td>\n",
       "      <td>Неизвестные и прямые переходы</td>\n",
       "    </tr>\n",
       "    <tr>\n",
       "      <th>380</th>\n",
       "      <td>22</td>\n",
       "      <td>24</td>\n",
       "      <td>23</td>\n",
       "      <td>carousel_feed</td>\n",
       "      <td>2022-02-24</td>\n",
       "      <td>carousel_feed</td>\n",
       "      <td>Карусель на главной ВКО</td>\n",
       "    </tr>\n",
       "    <tr>\n",
       "      <th>47</th>\n",
       "      <td>197</td>\n",
       "      <td>274</td>\n",
       "      <td>245</td>\n",
       "      <td>carousel_preview</td>\n",
       "      <td>2022-02-24</td>\n",
       "      <td>carousel_preview</td>\n",
       "      <td>Карусель на главной ВКО превью</td>\n",
       "    </tr>\n",
       "    <tr>\n",
       "      <th>274</th>\n",
       "      <td>4</td>\n",
       "      <td>4</td>\n",
       "      <td>4</td>\n",
       "      <td>carousel_vk_group_manual</td>\n",
       "      <td>2022-02-24</td>\n",
       "      <td>carousel_vk_group_manual</td>\n",
       "      <td>Портлеты (антибарахолки)</td>\n",
       "    </tr>\n",
       "    <tr>\n",
       "      <th>432</th>\n",
       "      <td>158</td>\n",
       "      <td>225</td>\n",
       "      <td>213</td>\n",
       "      <td>favourites</td>\n",
       "      <td>2022-02-24</td>\n",
       "      <td>favourites</td>\n",
       "      <td>Закладки</td>\n",
       "    </tr>\n",
       "    <tr>\n",
       "      <th>326</th>\n",
       "      <td>65</td>\n",
       "      <td>70</td>\n",
       "      <td>69</td>\n",
       "      <td>lent_from_widget</td>\n",
       "      <td>2022-02-24</td>\n",
       "      <td>lent_from_widget</td>\n",
       "      <td>Антибарахолки</td>\n",
       "    </tr>\n",
       "    <tr>\n",
       "      <th>259</th>\n",
       "      <td>160</td>\n",
       "      <td>238</td>\n",
       "      <td>221</td>\n",
       "      <td>main</td>\n",
       "      <td>2022-02-24</td>\n",
       "      <td>main</td>\n",
       "      <td>Главная раздела</td>\n",
       "    </tr>\n",
       "    <tr>\n",
       "      <th>56</th>\n",
       "      <td>209</td>\n",
       "      <td>282</td>\n",
       "      <td>256</td>\n",
       "      <td>personal_search</td>\n",
       "      <td>2022-02-24</td>\n",
       "      <td>personal_search</td>\n",
       "      <td>Сохраненные поиски</td>\n",
       "    </tr>\n",
       "    <tr>\n",
       "      <th>181</th>\n",
       "      <td>22</td>\n",
       "      <td>23</td>\n",
       "      <td>23</td>\n",
       "      <td>product</td>\n",
       "      <td>2022-02-24</td>\n",
       "      <td>product</td>\n",
       "      <td>Карточка товара</td>\n",
       "    </tr>\n",
       "    <tr>\n",
       "      <th>175</th>\n",
       "      <td>2644</td>\n",
       "      <td>2890</td>\n",
       "      <td>2617</td>\n",
       "      <td>product_active</td>\n",
       "      <td>2022-02-24</td>\n",
       "      <td>product_active</td>\n",
       "      <td>Профиль продавца</td>\n",
       "    </tr>\n",
       "    <tr>\n",
       "      <th>244</th>\n",
       "      <td>584</td>\n",
       "      <td>803</td>\n",
       "      <td>740</td>\n",
       "      <td>push</td>\n",
       "      <td>2022-02-24</td>\n",
       "      <td>push</td>\n",
       "      <td>Уведомление</td>\n",
       "    </tr>\n",
       "    <tr>\n",
       "      <th>219</th>\n",
       "      <td>1525</td>\n",
       "      <td>3192</td>\n",
       "      <td>2895</td>\n",
       "      <td>search</td>\n",
       "      <td>2022-02-24</td>\n",
       "      <td>search</td>\n",
       "      <td>Поиск в миниаппе</td>\n",
       "    </tr>\n",
       "    <tr>\n",
       "      <th>224</th>\n",
       "      <td>130</td>\n",
       "      <td>228</td>\n",
       "      <td>218</td>\n",
       "      <td>search_classifieds</td>\n",
       "      <td>2022-02-24</td>\n",
       "      <td>search_classifieds</td>\n",
       "      <td>Поиск в ВК</td>\n",
       "    </tr>\n",
       "    <tr>\n",
       "      <th>277</th>\n",
       "      <td>124</td>\n",
       "      <td>141</td>\n",
       "      <td>137</td>\n",
       "      <td>seller_subscribe</td>\n",
       "      <td>2022-02-24</td>\n",
       "      <td>seller_subscribe</td>\n",
       "      <td>Подписка на продавца</td>\n",
       "    </tr>\n",
       "    <tr>\n",
       "      <th>97</th>\n",
       "      <td>656</td>\n",
       "      <td>913</td>\n",
       "      <td>851</td>\n",
       "      <td>similars</td>\n",
       "      <td>2022-02-24</td>\n",
       "      <td>similars</td>\n",
       "      <td>Похожие</td>\n",
       "    </tr>\n",
       "    <tr>\n",
       "      <th>30</th>\n",
       "      <td>4210</td>\n",
       "      <td>5021</td>\n",
       "      <td>4450</td>\n",
       "      <td>snippet</td>\n",
       "      <td>2022-02-24</td>\n",
       "      <td>snippet</td>\n",
       "      <td>Сниппет</td>\n",
       "    </tr>\n",
       "    <tr>\n",
       "      <th>350</th>\n",
       "      <td>32</td>\n",
       "      <td>50</td>\n",
       "      <td>46</td>\n",
       "      <td>subscribe_similar</td>\n",
       "      <td>2022-02-24</td>\n",
       "      <td>subscribe_similar</td>\n",
       "      <td>Подписка на похожие</td>\n",
       "    </tr>\n",
       "    <tr>\n",
       "      <th>128</th>\n",
       "      <td>659</td>\n",
       "      <td>972</td>\n",
       "      <td>892</td>\n",
       "      <td>vk_lent_advertisement</td>\n",
       "      <td>2022-02-24</td>\n",
       "      <td>vk_lent_advertisement</td>\n",
       "      <td>Рекламные ссылке в ленте ВК</td>\n",
       "    </tr>\n",
       "    <tr>\n",
       "      <th>220</th>\n",
       "      <td>1178</td>\n",
       "      <td>1467</td>\n",
       "      <td>1176</td>\n",
       "      <td>vk_recommendations</td>\n",
       "      <td>2022-02-24</td>\n",
       "      <td>vk_recommendations</td>\n",
       "      <td>Портлеты</td>\n",
       "    </tr>\n",
       "    <tr>\n",
       "      <th>419</th>\n",
       "      <td>19</td>\n",
       "      <td>19</td>\n",
       "      <td>19</td>\n",
       "      <td>widget_from_post</td>\n",
       "      <td>2022-02-24</td>\n",
       "      <td>widget_from_post</td>\n",
       "      <td>Антибарахолки</td>\n",
       "    </tr>\n",
       "    <tr>\n",
       "      <th>391</th>\n",
       "      <td>2679</td>\n",
       "      <td>4612</td>\n",
       "      <td>3986</td>\n",
       "      <td>None</td>\n",
       "      <td>2022-02-25</td>\n",
       "      <td>None</td>\n",
       "      <td>Неизвестные и прямые переходы</td>\n",
       "    </tr>\n",
       "    <tr>\n",
       "      <th>79</th>\n",
       "      <td>29</td>\n",
       "      <td>40</td>\n",
       "      <td>38</td>\n",
       "      <td>carousel_feed</td>\n",
       "      <td>2022-02-25</td>\n",
       "      <td>carousel_feed</td>\n",
       "      <td>Карусель на главной ВКО</td>\n",
       "    </tr>\n",
       "    <tr>\n",
       "      <th>183</th>\n",
       "      <td>201</td>\n",
       "      <td>275</td>\n",
       "      <td>247</td>\n",
       "      <td>carousel_preview</td>\n",
       "      <td>2022-02-25</td>\n",
       "      <td>carousel_preview</td>\n",
       "      <td>Карусель на главной ВКО превью</td>\n",
       "    </tr>\n",
       "    <tr>\n",
       "      <th>409</th>\n",
       "      <td>6</td>\n",
       "      <td>6</td>\n",
       "      <td>6</td>\n",
       "      <td>carousel_vk_group_manual</td>\n",
       "      <td>2022-02-25</td>\n",
       "      <td>carousel_vk_group_manual</td>\n",
       "      <td>Портлеты (антибарахолки)</td>\n",
       "    </tr>\n",
       "    <tr>\n",
       "      <th>134</th>\n",
       "      <td>150</td>\n",
       "      <td>259</td>\n",
       "      <td>240</td>\n",
       "      <td>favourites</td>\n",
       "      <td>2022-02-25</td>\n",
       "      <td>favourites</td>\n",
       "      <td>Закладки</td>\n",
       "    </tr>\n",
       "    <tr>\n",
       "      <th>25</th>\n",
       "      <td>76</td>\n",
       "      <td>82</td>\n",
       "      <td>76</td>\n",
       "      <td>lent_from_widget</td>\n",
       "      <td>2022-02-25</td>\n",
       "      <td>lent_from_widget</td>\n",
       "      <td>Антибарахолки</td>\n",
       "    </tr>\n",
       "    <tr>\n",
       "      <th>395</th>\n",
       "      <td>115</td>\n",
       "      <td>197</td>\n",
       "      <td>174</td>\n",
       "      <td>main</td>\n",
       "      <td>2022-02-25</td>\n",
       "      <td>main</td>\n",
       "      <td>Главная раздела</td>\n",
       "    </tr>\n",
       "    <tr>\n",
       "      <th>192</th>\n",
       "      <td>188</td>\n",
       "      <td>265</td>\n",
       "      <td>253</td>\n",
       "      <td>personal_search</td>\n",
       "      <td>2022-02-25</td>\n",
       "      <td>personal_search</td>\n",
       "      <td>Сохраненные поиски</td>\n",
       "    </tr>\n",
       "    <tr>\n",
       "      <th>315</th>\n",
       "      <td>20</td>\n",
       "      <td>21</td>\n",
       "      <td>20</td>\n",
       "      <td>product</td>\n",
       "      <td>2022-02-25</td>\n",
       "      <td>product</td>\n",
       "      <td>Карточка товара</td>\n",
       "    </tr>\n",
       "    <tr>\n",
       "      <th>309</th>\n",
       "      <td>2629</td>\n",
       "      <td>2825</td>\n",
       "      <td>2530</td>\n",
       "      <td>product_active</td>\n",
       "      <td>2022-02-25</td>\n",
       "      <td>product_active</td>\n",
       "      <td>Профиль продавца</td>\n",
       "    </tr>\n",
       "    <tr>\n",
       "      <th>381</th>\n",
       "      <td>555</td>\n",
       "      <td>748</td>\n",
       "      <td>692</td>\n",
       "      <td>push</td>\n",
       "      <td>2022-02-25</td>\n",
       "      <td>push</td>\n",
       "      <td>Уведомление</td>\n",
       "    </tr>\n",
       "    <tr>\n",
       "      <th>356</th>\n",
       "      <td>1601</td>\n",
       "      <td>3405</td>\n",
       "      <td>3023</td>\n",
       "      <td>search</td>\n",
       "      <td>2022-02-25</td>\n",
       "      <td>search</td>\n",
       "      <td>Поиск в миниаппе</td>\n",
       "    </tr>\n",
       "    <tr>\n",
       "      <th>361</th>\n",
       "      <td>131</td>\n",
       "      <td>196</td>\n",
       "      <td>180</td>\n",
       "      <td>search_classifieds</td>\n",
       "      <td>2022-02-25</td>\n",
       "      <td>search_classifieds</td>\n",
       "      <td>Поиск в ВК</td>\n",
       "    </tr>\n",
       "    <tr>\n",
       "      <th>413</th>\n",
       "      <td>119</td>\n",
       "      <td>128</td>\n",
       "      <td>122</td>\n",
       "      <td>seller_subscribe</td>\n",
       "      <td>2022-02-25</td>\n",
       "      <td>seller_subscribe</td>\n",
       "      <td>Подписка на продавца</td>\n",
       "    </tr>\n",
       "    <tr>\n",
       "      <th>233</th>\n",
       "      <td>562</td>\n",
       "      <td>835</td>\n",
       "      <td>789</td>\n",
       "      <td>similars</td>\n",
       "      <td>2022-02-25</td>\n",
       "      <td>similars</td>\n",
       "      <td>Похожие</td>\n",
       "    </tr>\n",
       "    <tr>\n",
       "      <th>165</th>\n",
       "      <td>4171</td>\n",
       "      <td>4883</td>\n",
       "      <td>4340</td>\n",
       "      <td>snippet</td>\n",
       "      <td>2022-02-25</td>\n",
       "      <td>snippet</td>\n",
       "      <td>Сниппет</td>\n",
       "    </tr>\n",
       "    <tr>\n",
       "      <th>48</th>\n",
       "      <td>44</td>\n",
       "      <td>68</td>\n",
       "      <td>63</td>\n",
       "      <td>subscribe_similar</td>\n",
       "      <td>2022-02-25</td>\n",
       "      <td>subscribe_similar</td>\n",
       "      <td>Подписка на похожие</td>\n",
       "    </tr>\n",
       "    <tr>\n",
       "      <th>262</th>\n",
       "      <td>4</td>\n",
       "      <td>5</td>\n",
       "      <td>5</td>\n",
       "      <td>vk_lent_advertisement</td>\n",
       "      <td>2022-02-25</td>\n",
       "      <td>vk_lent_advertisement</td>\n",
       "      <td>Рекламные ссылке в ленте ВК</td>\n",
       "    </tr>\n",
       "    <tr>\n",
       "      <th>357</th>\n",
       "      <td>1228</td>\n",
       "      <td>1505</td>\n",
       "      <td>1235</td>\n",
       "      <td>vk_recommendations</td>\n",
       "      <td>2022-02-25</td>\n",
       "      <td>vk_recommendations</td>\n",
       "      <td>Портлеты</td>\n",
       "    </tr>\n",
       "    <tr>\n",
       "      <th>120</th>\n",
       "      <td>20</td>\n",
       "      <td>20</td>\n",
       "      <td>16</td>\n",
       "      <td>widget_from_post</td>\n",
       "      <td>2022-02-25</td>\n",
       "      <td>widget_from_post</td>\n",
       "      <td>Антибарахолки</td>\n",
       "    </tr>\n",
       "    <tr>\n",
       "      <th>90</th>\n",
       "      <td>3120</td>\n",
       "      <td>5525</td>\n",
       "      <td>4842</td>\n",
       "      <td>None</td>\n",
       "      <td>2022-02-26</td>\n",
       "      <td>None</td>\n",
       "      <td>Неизвестные и прямые переходы</td>\n",
       "    </tr>\n",
       "    <tr>\n",
       "      <th>214</th>\n",
       "      <td>36</td>\n",
       "      <td>46</td>\n",
       "      <td>43</td>\n",
       "      <td>carousel_feed</td>\n",
       "      <td>2022-02-26</td>\n",
       "      <td>carousel_feed</td>\n",
       "      <td>Карусель на главной ВКО</td>\n",
       "    </tr>\n",
       "    <tr>\n",
       "      <th>318</th>\n",
       "      <td>217</td>\n",
       "      <td>294</td>\n",
       "      <td>272</td>\n",
       "      <td>carousel_preview</td>\n",
       "      <td>2022-02-26</td>\n",
       "      <td>carousel_preview</td>\n",
       "      <td>Карусель на главной ВКО превью</td>\n",
       "    </tr>\n",
       "    <tr>\n",
       "      <th>110</th>\n",
       "      <td>10</td>\n",
       "      <td>11</td>\n",
       "      <td>11</td>\n",
       "      <td>carousel_vk_group_manual</td>\n",
       "      <td>2022-02-26</td>\n",
       "      <td>carousel_vk_group_manual</td>\n",
       "      <td>Портлеты (антибарахолки)</td>\n",
       "    </tr>\n",
       "    <tr>\n",
       "      <th>268</th>\n",
       "      <td>149</td>\n",
       "      <td>254</td>\n",
       "      <td>226</td>\n",
       "      <td>favourites</td>\n",
       "      <td>2022-02-26</td>\n",
       "      <td>favourites</td>\n",
       "      <td>Закладки</td>\n",
       "    </tr>\n",
       "    <tr>\n",
       "      <th>160</th>\n",
       "      <td>68</td>\n",
       "      <td>70</td>\n",
       "      <td>68</td>\n",
       "      <td>lent_from_widget</td>\n",
       "      <td>2022-02-26</td>\n",
       "      <td>lent_from_widget</td>\n",
       "      <td>Антибарахолки</td>\n",
       "    </tr>\n",
       "    <tr>\n",
       "      <th>94</th>\n",
       "      <td>154</td>\n",
       "      <td>265</td>\n",
       "      <td>238</td>\n",
       "      <td>main</td>\n",
       "      <td>2022-02-26</td>\n",
       "      <td>main</td>\n",
       "      <td>Главная раздела</td>\n",
       "    </tr>\n",
       "    <tr>\n",
       "      <th>327</th>\n",
       "      <td>197</td>\n",
       "      <td>308</td>\n",
       "      <td>291</td>\n",
       "      <td>personal_search</td>\n",
       "      <td>2022-02-26</td>\n",
       "      <td>personal_search</td>\n",
       "      <td>Сохраненные поиски</td>\n",
       "    </tr>\n",
       "    <tr>\n",
       "      <th>14</th>\n",
       "      <td>14</td>\n",
       "      <td>16</td>\n",
       "      <td>16</td>\n",
       "      <td>product</td>\n",
       "      <td>2022-02-26</td>\n",
       "      <td>product</td>\n",
       "      <td>Карточка товара</td>\n",
       "    </tr>\n",
       "    <tr>\n",
       "      <th>8</th>\n",
       "      <td>2727</td>\n",
       "      <td>2969</td>\n",
       "      <td>2705</td>\n",
       "      <td>product_active</td>\n",
       "      <td>2022-02-26</td>\n",
       "      <td>product_active</td>\n",
       "      <td>Профиль продавца</td>\n",
       "    </tr>\n",
       "    <tr>\n",
       "      <th>80</th>\n",
       "      <td>504</td>\n",
       "      <td>715</td>\n",
       "      <td>652</td>\n",
       "      <td>push</td>\n",
       "      <td>2022-02-26</td>\n",
       "      <td>push</td>\n",
       "      <td>Уведомление</td>\n",
       "    </tr>\n",
       "    <tr>\n",
       "      <th>53</th>\n",
       "      <td>1709</td>\n",
       "      <td>3622</td>\n",
       "      <td>3273</td>\n",
       "      <td>search</td>\n",
       "      <td>2022-02-26</td>\n",
       "      <td>search</td>\n",
       "      <td>Поиск в миниаппе</td>\n",
       "    </tr>\n",
       "    <tr>\n",
       "      <th>57</th>\n",
       "      <td>139</td>\n",
       "      <td>257</td>\n",
       "      <td>248</td>\n",
       "      <td>search_classifieds</td>\n",
       "      <td>2022-02-26</td>\n",
       "      <td>search_classifieds</td>\n",
       "      <td>Поиск в ВК</td>\n",
       "    </tr>\n",
       "    <tr>\n",
       "      <th>114</th>\n",
       "      <td>99</td>\n",
       "      <td>104</td>\n",
       "      <td>101</td>\n",
       "      <td>seller_subscribe</td>\n",
       "      <td>2022-02-26</td>\n",
       "      <td>seller_subscribe</td>\n",
       "      <td>Подписка на продавца</td>\n",
       "    </tr>\n",
       "    <tr>\n",
       "      <th>370</th>\n",
       "      <td>612</td>\n",
       "      <td>951</td>\n",
       "      <td>870</td>\n",
       "      <td>similars</td>\n",
       "      <td>2022-02-26</td>\n",
       "      <td>similars</td>\n",
       "      <td>Похожие</td>\n",
       "    </tr>\n",
       "    <tr>\n",
       "      <th>300</th>\n",
       "      <td>4361</td>\n",
       "      <td>5060</td>\n",
       "      <td>4511</td>\n",
       "      <td>snippet</td>\n",
       "      <td>2022-02-26</td>\n",
       "      <td>snippet</td>\n",
       "      <td>Сниппет</td>\n",
       "    </tr>\n",
       "    <tr>\n",
       "      <th>184</th>\n",
       "      <td>50</td>\n",
       "      <td>64</td>\n",
       "      <td>62</td>\n",
       "      <td>subscribe_similar</td>\n",
       "      <td>2022-02-26</td>\n",
       "      <td>subscribe_similar</td>\n",
       "      <td>Подписка на похожие</td>\n",
       "    </tr>\n",
       "    <tr>\n",
       "      <th>54</th>\n",
       "      <td>1254</td>\n",
       "      <td>1520</td>\n",
       "      <td>1217</td>\n",
       "      <td>vk_recommendations</td>\n",
       "      <td>2022-02-26</td>\n",
       "      <td>vk_recommendations</td>\n",
       "      <td>Портлеты</td>\n",
       "    </tr>\n",
       "    <tr>\n",
       "      <th>255</th>\n",
       "      <td>5</td>\n",
       "      <td>6</td>\n",
       "      <td>5</td>\n",
       "      <td>widget_from_post</td>\n",
       "      <td>2022-02-26</td>\n",
       "      <td>widget_from_post</td>\n",
       "      <td>Антибарахолки</td>\n",
       "    </tr>\n",
       "    <tr>\n",
       "      <th>225</th>\n",
       "      <td>2891</td>\n",
       "      <td>4585</td>\n",
       "      <td>3936</td>\n",
       "      <td>None</td>\n",
       "      <td>2022-02-27</td>\n",
       "      <td>None</td>\n",
       "      <td>Неизвестные и прямые переходы</td>\n",
       "    </tr>\n",
       "    <tr>\n",
       "      <th>351</th>\n",
       "      <td>34</td>\n",
       "      <td>57</td>\n",
       "      <td>44</td>\n",
       "      <td>carousel_feed</td>\n",
       "      <td>2022-02-27</td>\n",
       "      <td>carousel_feed</td>\n",
       "      <td>Карусель на главной ВКО</td>\n",
       "    </tr>\n",
       "    <tr>\n",
       "      <th>17</th>\n",
       "      <td>228</td>\n",
       "      <td>304</td>\n",
       "      <td>275</td>\n",
       "      <td>carousel_preview</td>\n",
       "      <td>2022-02-27</td>\n",
       "      <td>carousel_preview</td>\n",
       "      <td>Карусель на главной ВКО превью</td>\n",
       "    </tr>\n",
       "    <tr>\n",
       "      <th>245</th>\n",
       "      <td>8</td>\n",
       "      <td>8</td>\n",
       "      <td>8</td>\n",
       "      <td>carousel_vk_group_manual</td>\n",
       "      <td>2022-02-27</td>\n",
       "      <td>carousel_vk_group_manual</td>\n",
       "      <td>Портлеты (антибарахолки)</td>\n",
       "    </tr>\n",
       "    <tr>\n",
       "      <th>403</th>\n",
       "      <td>145</td>\n",
       "      <td>211</td>\n",
       "      <td>187</td>\n",
       "      <td>favourites</td>\n",
       "      <td>2022-02-27</td>\n",
       "      <td>favourites</td>\n",
       "      <td>Закладки</td>\n",
       "    </tr>\n",
       "    <tr>\n",
       "      <th>295</th>\n",
       "      <td>73</td>\n",
       "      <td>90</td>\n",
       "      <td>82</td>\n",
       "      <td>lent_from_widget</td>\n",
       "      <td>2022-02-27</td>\n",
       "      <td>lent_from_widget</td>\n",
       "      <td>Антибарахолки</td>\n",
       "    </tr>\n",
       "    <tr>\n",
       "      <th>229</th>\n",
       "      <td>149</td>\n",
       "      <td>198</td>\n",
       "      <td>191</td>\n",
       "      <td>main</td>\n",
       "      <td>2022-02-27</td>\n",
       "      <td>main</td>\n",
       "      <td>Главная раздела</td>\n",
       "    </tr>\n",
       "    <tr>\n",
       "      <th>26</th>\n",
       "      <td>200</td>\n",
       "      <td>316</td>\n",
       "      <td>290</td>\n",
       "      <td>personal_search</td>\n",
       "      <td>2022-02-27</td>\n",
       "      <td>personal_search</td>\n",
       "      <td>Сохраненные поиски</td>\n",
       "    </tr>\n",
       "    <tr>\n",
       "      <th>150</th>\n",
       "      <td>35</td>\n",
       "      <td>36</td>\n",
       "      <td>35</td>\n",
       "      <td>product</td>\n",
       "      <td>2022-02-27</td>\n",
       "      <td>product</td>\n",
       "      <td>Карточка товара</td>\n",
       "    </tr>\n",
       "    <tr>\n",
       "      <th>144</th>\n",
       "      <td>3011</td>\n",
       "      <td>3281</td>\n",
       "      <td>2966</td>\n",
       "      <td>product_active</td>\n",
       "      <td>2022-02-27</td>\n",
       "      <td>product_active</td>\n",
       "      <td>Профиль продавца</td>\n",
       "    </tr>\n",
       "    <tr>\n",
       "      <th>215</th>\n",
       "      <td>478</td>\n",
       "      <td>637</td>\n",
       "      <td>585</td>\n",
       "      <td>push</td>\n",
       "      <td>2022-02-27</td>\n",
       "      <td>push</td>\n",
       "      <td>Уведомление</td>\n",
       "    </tr>\n",
       "    <tr>\n",
       "      <th>189</th>\n",
       "      <td>1739</td>\n",
       "      <td>3791</td>\n",
       "      <td>3390</td>\n",
       "      <td>search</td>\n",
       "      <td>2022-02-27</td>\n",
       "      <td>search</td>\n",
       "      <td>Поиск в миниаппе</td>\n",
       "    </tr>\n",
       "    <tr>\n",
       "      <th>193</th>\n",
       "      <td>135</td>\n",
       "      <td>227</td>\n",
       "      <td>218</td>\n",
       "      <td>search_classifieds</td>\n",
       "      <td>2022-02-27</td>\n",
       "      <td>search_classifieds</td>\n",
       "      <td>Поиск в ВК</td>\n",
       "    </tr>\n",
       "    <tr>\n",
       "      <th>249</th>\n",
       "      <td>139</td>\n",
       "      <td>159</td>\n",
       "      <td>148</td>\n",
       "      <td>seller_subscribe</td>\n",
       "      <td>2022-02-27</td>\n",
       "      <td>seller_subscribe</td>\n",
       "      <td>Подписка на продавца</td>\n",
       "    </tr>\n",
       "    <tr>\n",
       "      <th>66</th>\n",
       "      <td>637</td>\n",
       "      <td>933</td>\n",
       "      <td>865</td>\n",
       "      <td>similars</td>\n",
       "      <td>2022-02-27</td>\n",
       "      <td>similars</td>\n",
       "      <td>Похожие</td>\n",
       "    </tr>\n",
       "    <tr>\n",
       "      <th>433</th>\n",
       "      <td>4809</td>\n",
       "      <td>5619</td>\n",
       "      <td>5011</td>\n",
       "      <td>snippet</td>\n",
       "      <td>2022-02-27</td>\n",
       "      <td>snippet</td>\n",
       "      <td>Сниппет</td>\n",
       "    </tr>\n",
       "    <tr>\n",
       "      <th>319</th>\n",
       "      <td>41</td>\n",
       "      <td>70</td>\n",
       "      <td>65</td>\n",
       "      <td>subscribe_similar</td>\n",
       "      <td>2022-02-27</td>\n",
       "      <td>subscribe_similar</td>\n",
       "      <td>Подписка на похожие</td>\n",
       "    </tr>\n",
       "    <tr>\n",
       "      <th>190</th>\n",
       "      <td>1452</td>\n",
       "      <td>1710</td>\n",
       "      <td>1398</td>\n",
       "      <td>vk_recommendations</td>\n",
       "      <td>2022-02-27</td>\n",
       "      <td>vk_recommendations</td>\n",
       "      <td>Портлеты</td>\n",
       "    </tr>\n",
       "    <tr>\n",
       "      <th>392</th>\n",
       "      <td>15</td>\n",
       "      <td>15</td>\n",
       "      <td>12</td>\n",
       "      <td>widget_from_post</td>\n",
       "      <td>2022-02-27</td>\n",
       "      <td>widget_from_post</td>\n",
       "      <td>Антибарахолки</td>\n",
       "    </tr>\n",
       "    <tr>\n",
       "      <th>362</th>\n",
       "      <td>3282</td>\n",
       "      <td>5603</td>\n",
       "      <td>4915</td>\n",
       "      <td>None</td>\n",
       "      <td>2022-02-28</td>\n",
       "      <td>None</td>\n",
       "      <td>Неизвестные и прямые переходы</td>\n",
       "    </tr>\n",
       "    <tr>\n",
       "      <th>49</th>\n",
       "      <td>30</td>\n",
       "      <td>37</td>\n",
       "      <td>36</td>\n",
       "      <td>carousel_feed</td>\n",
       "      <td>2022-02-28</td>\n",
       "      <td>carousel_feed</td>\n",
       "      <td>Карусель на главной ВКО</td>\n",
       "    </tr>\n",
       "    <tr>\n",
       "      <th>153</th>\n",
       "      <td>206</td>\n",
       "      <td>264</td>\n",
       "      <td>243</td>\n",
       "      <td>carousel_preview</td>\n",
       "      <td>2022-02-28</td>\n",
       "      <td>carousel_preview</td>\n",
       "      <td>Карусель на главной ВКО превью</td>\n",
       "    </tr>\n",
       "    <tr>\n",
       "      <th>382</th>\n",
       "      <td>8</td>\n",
       "      <td>10</td>\n",
       "      <td>9</td>\n",
       "      <td>carousel_vk_group_manual</td>\n",
       "      <td>2022-02-28</td>\n",
       "      <td>carousel_vk_group_manual</td>\n",
       "      <td>Портлеты (антибарахолки)</td>\n",
       "    </tr>\n",
       "    <tr>\n",
       "      <th>103</th>\n",
       "      <td>121</td>\n",
       "      <td>172</td>\n",
       "      <td>154</td>\n",
       "      <td>favourites</td>\n",
       "      <td>2022-02-28</td>\n",
       "      <td>favourites</td>\n",
       "      <td>Закладки</td>\n",
       "    </tr>\n",
       "    <tr>\n",
       "      <th>429</th>\n",
       "      <td>76</td>\n",
       "      <td>86</td>\n",
       "      <td>83</td>\n",
       "      <td>lent_from_widget</td>\n",
       "      <td>2022-02-28</td>\n",
       "      <td>lent_from_widget</td>\n",
       "      <td>Антибарахолки</td>\n",
       "    </tr>\n",
       "    <tr>\n",
       "      <th>366</th>\n",
       "      <td>158</td>\n",
       "      <td>205</td>\n",
       "      <td>196</td>\n",
       "      <td>main</td>\n",
       "      <td>2022-02-28</td>\n",
       "      <td>main</td>\n",
       "      <td>Главная раздела</td>\n",
       "    </tr>\n",
       "    <tr>\n",
       "      <th>161</th>\n",
       "      <td>183</td>\n",
       "      <td>287</td>\n",
       "      <td>255</td>\n",
       "      <td>personal_search</td>\n",
       "      <td>2022-02-28</td>\n",
       "      <td>personal_search</td>\n",
       "      <td>Сохраненные поиски</td>\n",
       "    </tr>\n",
       "    <tr>\n",
       "      <th>284</th>\n",
       "      <td>27</td>\n",
       "      <td>30</td>\n",
       "      <td>27</td>\n",
       "      <td>product</td>\n",
       "      <td>2022-02-28</td>\n",
       "      <td>product</td>\n",
       "      <td>Карточка товара</td>\n",
       "    </tr>\n",
       "    <tr>\n",
       "      <th>278</th>\n",
       "      <td>3028</td>\n",
       "      <td>3277</td>\n",
       "      <td>2985</td>\n",
       "      <td>product_active</td>\n",
       "      <td>2022-02-28</td>\n",
       "      <td>product_active</td>\n",
       "      <td>Профиль продавца</td>\n",
       "    </tr>\n",
       "    <tr>\n",
       "      <th>352</th>\n",
       "      <td>531</td>\n",
       "      <td>763</td>\n",
       "      <td>688</td>\n",
       "      <td>push</td>\n",
       "      <td>2022-02-28</td>\n",
       "      <td>push</td>\n",
       "      <td>Уведомление</td>\n",
       "    </tr>\n",
       "    <tr>\n",
       "      <th>324</th>\n",
       "      <td>1788</td>\n",
       "      <td>3940</td>\n",
       "      <td>3533</td>\n",
       "      <td>search</td>\n",
       "      <td>2022-02-28</td>\n",
       "      <td>search</td>\n",
       "      <td>Поиск в миниаппе</td>\n",
       "    </tr>\n",
       "    <tr>\n",
       "      <th>328</th>\n",
       "      <td>144</td>\n",
       "      <td>265</td>\n",
       "      <td>242</td>\n",
       "      <td>search_classifieds</td>\n",
       "      <td>2022-02-28</td>\n",
       "      <td>search_classifieds</td>\n",
       "      <td>Поиск в ВК</td>\n",
       "    </tr>\n",
       "    <tr>\n",
       "      <th>387</th>\n",
       "      <td>126</td>\n",
       "      <td>129</td>\n",
       "      <td>127</td>\n",
       "      <td>seller_subscribe</td>\n",
       "      <td>2022-02-28</td>\n",
       "      <td>seller_subscribe</td>\n",
       "      <td>Подписка на продавца</td>\n",
       "    </tr>\n",
       "    <tr>\n",
       "      <th>202</th>\n",
       "      <td>596</td>\n",
       "      <td>874</td>\n",
       "      <td>798</td>\n",
       "      <td>similars</td>\n",
       "      <td>2022-02-28</td>\n",
       "      <td>similars</td>\n",
       "      <td>Похожие</td>\n",
       "    </tr>\n",
       "    <tr>\n",
       "      <th>135</th>\n",
       "      <td>4831</td>\n",
       "      <td>5631</td>\n",
       "      <td>5021</td>\n",
       "      <td>snippet</td>\n",
       "      <td>2022-02-28</td>\n",
       "      <td>snippet</td>\n",
       "      <td>Сниппет</td>\n",
       "    </tr>\n",
       "    <tr>\n",
       "      <th>18</th>\n",
       "      <td>38</td>\n",
       "      <td>64</td>\n",
       "      <td>57</td>\n",
       "      <td>subscribe_similar</td>\n",
       "      <td>2022-02-28</td>\n",
       "      <td>subscribe_similar</td>\n",
       "      <td>Подписка на похожие</td>\n",
       "    </tr>\n",
       "    <tr>\n",
       "      <th>325</th>\n",
       "      <td>1380</td>\n",
       "      <td>1661</td>\n",
       "      <td>1324</td>\n",
       "      <td>vk_recommendations</td>\n",
       "      <td>2022-02-28</td>\n",
       "      <td>vk_recommendations</td>\n",
       "      <td>Портлеты</td>\n",
       "    </tr>\n",
       "    <tr>\n",
       "      <th>91</th>\n",
       "      <td>19</td>\n",
       "      <td>20</td>\n",
       "      <td>16</td>\n",
       "      <td>widget_from_post</td>\n",
       "      <td>2022-02-28</td>\n",
       "      <td>widget_from_post</td>\n",
       "      <td>Антибарахолки</td>\n",
       "    </tr>\n",
       "    <tr>\n",
       "      <th>58</th>\n",
       "      <td>3173</td>\n",
       "      <td>5026</td>\n",
       "      <td>4388</td>\n",
       "      <td>None</td>\n",
       "      <td>2022-03-01</td>\n",
       "      <td>None</td>\n",
       "      <td>Неизвестные и прямые переходы</td>\n",
       "    </tr>\n",
       "    <tr>\n",
       "      <th>185</th>\n",
       "      <td>22</td>\n",
       "      <td>25</td>\n",
       "      <td>25</td>\n",
       "      <td>carousel_feed</td>\n",
       "      <td>2022-03-01</td>\n",
       "      <td>carousel_feed</td>\n",
       "      <td>Карусель на главной ВКО</td>\n",
       "    </tr>\n",
       "    <tr>\n",
       "      <th>288</th>\n",
       "      <td>208</td>\n",
       "      <td>275</td>\n",
       "      <td>255</td>\n",
       "      <td>carousel_preview</td>\n",
       "      <td>2022-03-01</td>\n",
       "      <td>carousel_preview</td>\n",
       "      <td>Карусель на главной ВКО превью</td>\n",
       "    </tr>\n",
       "    <tr>\n",
       "      <th>81</th>\n",
       "      <td>7</td>\n",
       "      <td>9</td>\n",
       "      <td>9</td>\n",
       "      <td>carousel_vk_group_manual</td>\n",
       "      <td>2022-03-01</td>\n",
       "      <td>carousel_vk_group_manual</td>\n",
       "      <td>Портлеты (антибарахолки)</td>\n",
       "    </tr>\n",
       "    <tr>\n",
       "      <th>239</th>\n",
       "      <td>134</td>\n",
       "      <td>240</td>\n",
       "      <td>230</td>\n",
       "      <td>favourites</td>\n",
       "      <td>2022-03-01</td>\n",
       "      <td>favourites</td>\n",
       "      <td>Закладки</td>\n",
       "    </tr>\n",
       "    <tr>\n",
       "      <th>131</th>\n",
       "      <td>63</td>\n",
       "      <td>69</td>\n",
       "      <td>68</td>\n",
       "      <td>lent_from_widget</td>\n",
       "      <td>2022-03-01</td>\n",
       "      <td>lent_from_widget</td>\n",
       "      <td>Антибарахолки</td>\n",
       "    </tr>\n",
       "    <tr>\n",
       "      <th>62</th>\n",
       "      <td>260</td>\n",
       "      <td>416</td>\n",
       "      <td>389</td>\n",
       "      <td>main</td>\n",
       "      <td>2022-03-01</td>\n",
       "      <td>main</td>\n",
       "      <td>Главная раздела</td>\n",
       "    </tr>\n",
       "    <tr>\n",
       "      <th>296</th>\n",
       "      <td>204</td>\n",
       "      <td>305</td>\n",
       "      <td>275</td>\n",
       "      <td>personal_search</td>\n",
       "      <td>2022-03-01</td>\n",
       "      <td>personal_search</td>\n",
       "      <td>Сохраненные поиски</td>\n",
       "    </tr>\n",
       "    <tr>\n",
       "      <th>420</th>\n",
       "      <td>30</td>\n",
       "      <td>31</td>\n",
       "      <td>30</td>\n",
       "      <td>product</td>\n",
       "      <td>2022-03-01</td>\n",
       "      <td>product</td>\n",
       "      <td>Карточка товара</td>\n",
       "    </tr>\n",
       "    <tr>\n",
       "      <th>414</th>\n",
       "      <td>3128</td>\n",
       "      <td>3422</td>\n",
       "      <td>3112</td>\n",
       "      <td>product_active</td>\n",
       "      <td>2022-03-01</td>\n",
       "      <td>product_active</td>\n",
       "      <td>Профиль продавца</td>\n",
       "    </tr>\n",
       "    <tr>\n",
       "      <th>50</th>\n",
       "      <td>541</td>\n",
       "      <td>744</td>\n",
       "      <td>681</td>\n",
       "      <td>push</td>\n",
       "      <td>2022-03-01</td>\n",
       "      <td>push</td>\n",
       "      <td>Уведомление</td>\n",
       "    </tr>\n",
       "    <tr>\n",
       "      <th>22</th>\n",
       "      <td>1745</td>\n",
       "      <td>3648</td>\n",
       "      <td>3337</td>\n",
       "      <td>search</td>\n",
       "      <td>2022-03-01</td>\n",
       "      <td>search</td>\n",
       "      <td>Поиск в миниаппе</td>\n",
       "    </tr>\n",
       "    <tr>\n",
       "      <th>27</th>\n",
       "      <td>161</td>\n",
       "      <td>269</td>\n",
       "      <td>254</td>\n",
       "      <td>search_classifieds</td>\n",
       "      <td>2022-03-01</td>\n",
       "      <td>search_classifieds</td>\n",
       "      <td>Поиск в ВК</td>\n",
       "    </tr>\n",
       "    <tr>\n",
       "      <th>86</th>\n",
       "      <td>140</td>\n",
       "      <td>150</td>\n",
       "      <td>143</td>\n",
       "      <td>seller_subscribe</td>\n",
       "      <td>2022-03-01</td>\n",
       "      <td>seller_subscribe</td>\n",
       "      <td>Подписка на продавца</td>\n",
       "    </tr>\n",
       "    <tr>\n",
       "      <th>338</th>\n",
       "      <td>590</td>\n",
       "      <td>805</td>\n",
       "      <td>754</td>\n",
       "      <td>similars</td>\n",
       "      <td>2022-03-01</td>\n",
       "      <td>similars</td>\n",
       "      <td>Похожие</td>\n",
       "    </tr>\n",
       "    <tr>\n",
       "      <th>269</th>\n",
       "      <td>4821</td>\n",
       "      <td>5638</td>\n",
       "      <td>4991</td>\n",
       "      <td>snippet</td>\n",
       "      <td>2022-03-01</td>\n",
       "      <td>snippet</td>\n",
       "      <td>Сниппет</td>\n",
       "    </tr>\n",
       "    <tr>\n",
       "      <th>154</th>\n",
       "      <td>41</td>\n",
       "      <td>69</td>\n",
       "      <td>64</td>\n",
       "      <td>subscribe_similar</td>\n",
       "      <td>2022-03-01</td>\n",
       "      <td>subscribe_similar</td>\n",
       "      <td>Подписка на похожие</td>\n",
       "    </tr>\n",
       "    <tr>\n",
       "      <th>23</th>\n",
       "      <td>1413</td>\n",
       "      <td>1668</td>\n",
       "      <td>1312</td>\n",
       "      <td>vk_recommendations</td>\n",
       "      <td>2022-03-01</td>\n",
       "      <td>vk_recommendations</td>\n",
       "      <td>Портлеты</td>\n",
       "    </tr>\n",
       "    <tr>\n",
       "      <th>226</th>\n",
       "      <td>19</td>\n",
       "      <td>19</td>\n",
       "      <td>15</td>\n",
       "      <td>widget_from_post</td>\n",
       "      <td>2022-03-01</td>\n",
       "      <td>widget_from_post</td>\n",
       "      <td>Антибарахолки</td>\n",
       "    </tr>\n",
       "    <tr>\n",
       "      <th>194</th>\n",
       "      <td>3484</td>\n",
       "      <td>6207</td>\n",
       "      <td>5227</td>\n",
       "      <td>None</td>\n",
       "      <td>2022-03-02</td>\n",
       "      <td>None</td>\n",
       "      <td>Неизвестные и прямые переходы</td>\n",
       "    </tr>\n",
       "    <tr>\n",
       "      <th>320</th>\n",
       "      <td>34</td>\n",
       "      <td>43</td>\n",
       "      <td>43</td>\n",
       "      <td>carousel_feed</td>\n",
       "      <td>2022-03-02</td>\n",
       "      <td>carousel_feed</td>\n",
       "      <td>Карусель на главной ВКО</td>\n",
       "    </tr>\n",
       "    <tr>\n",
       "      <th>424</th>\n",
       "      <td>209</td>\n",
       "      <td>267</td>\n",
       "      <td>244</td>\n",
       "      <td>carousel_preview</td>\n",
       "      <td>2022-03-02</td>\n",
       "      <td>carousel_preview</td>\n",
       "      <td>Карусель на главной ВКО превью</td>\n",
       "    </tr>\n",
       "    <tr>\n",
       "      <th>216</th>\n",
       "      <td>12</td>\n",
       "      <td>13</td>\n",
       "      <td>13</td>\n",
       "      <td>carousel_vk_group_manual</td>\n",
       "      <td>2022-03-02</td>\n",
       "      <td>carousel_vk_group_manual</td>\n",
       "      <td>Портлеты (антибарахолки)</td>\n",
       "    </tr>\n",
       "    <tr>\n",
       "      <th>376</th>\n",
       "      <td>152</td>\n",
       "      <td>197</td>\n",
       "      <td>176</td>\n",
       "      <td>favourites</td>\n",
       "      <td>2022-03-02</td>\n",
       "      <td>favourites</td>\n",
       "      <td>Закладки</td>\n",
       "    </tr>\n",
       "    <tr>\n",
       "      <th>265</th>\n",
       "      <td>83</td>\n",
       "      <td>96</td>\n",
       "      <td>91</td>\n",
       "      <td>lent_from_widget</td>\n",
       "      <td>2022-03-02</td>\n",
       "      <td>lent_from_widget</td>\n",
       "      <td>Антибарахолки</td>\n",
       "    </tr>\n",
       "    <tr>\n",
       "      <th>197</th>\n",
       "      <td>259</td>\n",
       "      <td>397</td>\n",
       "      <td>362</td>\n",
       "      <td>main</td>\n",
       "      <td>2022-03-02</td>\n",
       "      <td>main</td>\n",
       "      <td>Главная раздела</td>\n",
       "    </tr>\n",
       "    <tr>\n",
       "      <th>430</th>\n",
       "      <td>233</td>\n",
       "      <td>325</td>\n",
       "      <td>298</td>\n",
       "      <td>personal_search</td>\n",
       "      <td>2022-03-02</td>\n",
       "      <td>personal_search</td>\n",
       "      <td>Сохраненные поиски</td>\n",
       "    </tr>\n",
       "    <tr>\n",
       "      <th>121</th>\n",
       "      <td>19</td>\n",
       "      <td>27</td>\n",
       "      <td>26</td>\n",
       "      <td>product</td>\n",
       "      <td>2022-03-02</td>\n",
       "      <td>product</td>\n",
       "      <td>Карточка товара</td>\n",
       "    </tr>\n",
       "    <tr>\n",
       "      <th>115</th>\n",
       "      <td>2982</td>\n",
       "      <td>3218</td>\n",
       "      <td>2926</td>\n",
       "      <td>product_active</td>\n",
       "      <td>2022-03-02</td>\n",
       "      <td>product_active</td>\n",
       "      <td>Профиль продавца</td>\n",
       "    </tr>\n",
       "    <tr>\n",
       "      <th>186</th>\n",
       "      <td>539</td>\n",
       "      <td>704</td>\n",
       "      <td>596</td>\n",
       "      <td>push</td>\n",
       "      <td>2022-03-02</td>\n",
       "      <td>push</td>\n",
       "      <td>Уведомление</td>\n",
       "    </tr>\n",
       "    <tr>\n",
       "      <th>157</th>\n",
       "      <td>1821</td>\n",
       "      <td>3953</td>\n",
       "      <td>3612</td>\n",
       "      <td>search</td>\n",
       "      <td>2022-03-02</td>\n",
       "      <td>search</td>\n",
       "      <td>Поиск в миниаппе</td>\n",
       "    </tr>\n",
       "    <tr>\n",
       "      <th>162</th>\n",
       "      <td>161</td>\n",
       "      <td>272</td>\n",
       "      <td>249</td>\n",
       "      <td>search_classifieds</td>\n",
       "      <td>2022-03-02</td>\n",
       "      <td>search_classifieds</td>\n",
       "      <td>Поиск в ВК</td>\n",
       "    </tr>\n",
       "    <tr>\n",
       "      <th>221</th>\n",
       "      <td>132</td>\n",
       "      <td>146</td>\n",
       "      <td>142</td>\n",
       "      <td>seller_subscribe</td>\n",
       "      <td>2022-03-02</td>\n",
       "      <td>seller_subscribe</td>\n",
       "      <td>Подписка на продавца</td>\n",
       "    </tr>\n",
       "    <tr>\n",
       "      <th>36</th>\n",
       "      <td>617</td>\n",
       "      <td>869</td>\n",
       "      <td>806</td>\n",
       "      <td>similars</td>\n",
       "      <td>2022-03-02</td>\n",
       "      <td>similars</td>\n",
       "      <td>Похожие</td>\n",
       "    </tr>\n",
       "    <tr>\n",
       "      <th>404</th>\n",
       "      <td>4774</td>\n",
       "      <td>5682</td>\n",
       "      <td>5012</td>\n",
       "      <td>snippet</td>\n",
       "      <td>2022-03-02</td>\n",
       "      <td>snippet</td>\n",
       "      <td>Сниппет</td>\n",
       "    </tr>\n",
       "    <tr>\n",
       "      <th>289</th>\n",
       "      <td>32</td>\n",
       "      <td>44</td>\n",
       "      <td>39</td>\n",
       "      <td>subscribe_similar</td>\n",
       "      <td>2022-03-02</td>\n",
       "      <td>subscribe_similar</td>\n",
       "      <td>Подписка на похожие</td>\n",
       "    </tr>\n",
       "    <tr>\n",
       "      <th>158</th>\n",
       "      <td>1463</td>\n",
       "      <td>1721</td>\n",
       "      <td>1308</td>\n",
       "      <td>vk_recommendations</td>\n",
       "      <td>2022-03-02</td>\n",
       "      <td>vk_recommendations</td>\n",
       "      <td>Портлеты</td>\n",
       "    </tr>\n",
       "    <tr>\n",
       "      <th>363</th>\n",
       "      <td>21</td>\n",
       "      <td>21</td>\n",
       "      <td>15</td>\n",
       "      <td>widget_from_post</td>\n",
       "      <td>2022-03-02</td>\n",
       "      <td>widget_from_post</td>\n",
       "      <td>Антибарахолки</td>\n",
       "    </tr>\n",
       "    <tr>\n",
       "      <th>329</th>\n",
       "      <td>3585</td>\n",
       "      <td>6377</td>\n",
       "      <td>5613</td>\n",
       "      <td>None</td>\n",
       "      <td>2022-03-03</td>\n",
       "      <td>None</td>\n",
       "      <td>Неизвестные и прямые переходы</td>\n",
       "    </tr>\n",
       "    <tr>\n",
       "      <th>19</th>\n",
       "      <td>31</td>\n",
       "      <td>42</td>\n",
       "      <td>39</td>\n",
       "      <td>carousel_feed</td>\n",
       "      <td>2022-03-03</td>\n",
       "      <td>carousel_feed</td>\n",
       "      <td>Карусель на главной ВКО</td>\n",
       "    </tr>\n",
       "    <tr>\n",
       "      <th>125</th>\n",
       "      <td>210</td>\n",
       "      <td>284</td>\n",
       "      <td>265</td>\n",
       "      <td>carousel_preview</td>\n",
       "      <td>2022-03-03</td>\n",
       "      <td>carousel_preview</td>\n",
       "      <td>Карусель на главной ВКО превью</td>\n",
       "    </tr>\n",
       "    <tr>\n",
       "      <th>353</th>\n",
       "      <td>27</td>\n",
       "      <td>30</td>\n",
       "      <td>28</td>\n",
       "      <td>carousel_vk_group_manual</td>\n",
       "      <td>2022-03-03</td>\n",
       "      <td>carousel_vk_group_manual</td>\n",
       "      <td>Портлеты (антибарахолки)</td>\n",
       "    </tr>\n",
       "    <tr>\n",
       "      <th>75</th>\n",
       "      <td>145</td>\n",
       "      <td>201</td>\n",
       "      <td>177</td>\n",
       "      <td>favourites</td>\n",
       "      <td>2022-03-03</td>\n",
       "      <td>favourites</td>\n",
       "      <td>Закладки</td>\n",
       "    </tr>\n",
       "    <tr>\n",
       "      <th>400</th>\n",
       "      <td>81</td>\n",
       "      <td>86</td>\n",
       "      <td>84</td>\n",
       "      <td>lent_from_widget</td>\n",
       "      <td>2022-03-03</td>\n",
       "      <td>lent_from_widget</td>\n",
       "      <td>Антибарахолки</td>\n",
       "    </tr>\n",
       "    <tr>\n",
       "      <th>332</th>\n",
       "      <td>297</td>\n",
       "      <td>477</td>\n",
       "      <td>437</td>\n",
       "      <td>main</td>\n",
       "      <td>2022-03-03</td>\n",
       "      <td>main</td>\n",
       "      <td>Главная раздела</td>\n",
       "    </tr>\n",
       "    <tr>\n",
       "      <th>132</th>\n",
       "      <td>196</td>\n",
       "      <td>299</td>\n",
       "      <td>269</td>\n",
       "      <td>personal_search</td>\n",
       "      <td>2022-03-03</td>\n",
       "      <td>personal_search</td>\n",
       "      <td>Сохраненные поиски</td>\n",
       "    </tr>\n",
       "    <tr>\n",
       "      <th>256</th>\n",
       "      <td>21</td>\n",
       "      <td>21</td>\n",
       "      <td>21</td>\n",
       "      <td>product</td>\n",
       "      <td>2022-03-03</td>\n",
       "      <td>product</td>\n",
       "      <td>Карточка товара</td>\n",
       "    </tr>\n",
       "    <tr>\n",
       "      <th>250</th>\n",
       "      <td>3069</td>\n",
       "      <td>3306</td>\n",
       "      <td>2990</td>\n",
       "      <td>product_active</td>\n",
       "      <td>2022-03-03</td>\n",
       "      <td>product_active</td>\n",
       "      <td>Профиль продавца</td>\n",
       "    </tr>\n",
       "    <tr>\n",
       "      <th>321</th>\n",
       "      <td>548</td>\n",
       "      <td>763</td>\n",
       "      <td>694</td>\n",
       "      <td>push</td>\n",
       "      <td>2022-03-03</td>\n",
       "      <td>push</td>\n",
       "      <td>Уведомление</td>\n",
       "    </tr>\n",
       "    <tr>\n",
       "      <th>292</th>\n",
       "      <td>1891</td>\n",
       "      <td>3857</td>\n",
       "      <td>3496</td>\n",
       "      <td>search</td>\n",
       "      <td>2022-03-03</td>\n",
       "      <td>search</td>\n",
       "      <td>Поиск в миниаппе</td>\n",
       "    </tr>\n",
       "    <tr>\n",
       "      <th>297</th>\n",
       "      <td>158</td>\n",
       "      <td>315</td>\n",
       "      <td>292</td>\n",
       "      <td>search_classifieds</td>\n",
       "      <td>2022-03-03</td>\n",
       "      <td>search_classifieds</td>\n",
       "      <td>Поиск в ВК</td>\n",
       "    </tr>\n",
       "    <tr>\n",
       "      <th>358</th>\n",
       "      <td>140</td>\n",
       "      <td>156</td>\n",
       "      <td>149</td>\n",
       "      <td>seller_subscribe</td>\n",
       "      <td>2022-03-03</td>\n",
       "      <td>seller_subscribe</td>\n",
       "      <td>Подписка на продавца</td>\n",
       "    </tr>\n",
       "    <tr>\n",
       "      <th>171</th>\n",
       "      <td>659</td>\n",
       "      <td>955</td>\n",
       "      <td>885</td>\n",
       "      <td>similars</td>\n",
       "      <td>2022-03-03</td>\n",
       "      <td>similars</td>\n",
       "      <td>Похожие</td>\n",
       "    </tr>\n",
       "    <tr>\n",
       "      <th>104</th>\n",
       "      <td>4945</td>\n",
       "      <td>5863</td>\n",
       "      <td>5222</td>\n",
       "      <td>snippet</td>\n",
       "      <td>2022-03-03</td>\n",
       "      <td>snippet</td>\n",
       "      <td>Сниппет</td>\n",
       "    </tr>\n",
       "    <tr>\n",
       "      <th>425</th>\n",
       "      <td>38</td>\n",
       "      <td>57</td>\n",
       "      <td>55</td>\n",
       "      <td>subscribe_similar</td>\n",
       "      <td>2022-03-03</td>\n",
       "      <td>subscribe_similar</td>\n",
       "      <td>Подписка на похожие</td>\n",
       "    </tr>\n",
       "    <tr>\n",
       "      <th>293</th>\n",
       "      <td>1518</td>\n",
       "      <td>1811</td>\n",
       "      <td>1404</td>\n",
       "      <td>vk_recommendations</td>\n",
       "      <td>2022-03-03</td>\n",
       "      <td>vk_recommendations</td>\n",
       "      <td>Портлеты</td>\n",
       "    </tr>\n",
       "    <tr>\n",
       "      <th>59</th>\n",
       "      <td>11</td>\n",
       "      <td>11</td>\n",
       "      <td>11</td>\n",
       "      <td>widget_from_post</td>\n",
       "      <td>2022-03-03</td>\n",
       "      <td>widget_from_post</td>\n",
       "      <td>Антибарахолки</td>\n",
       "    </tr>\n",
       "  </tbody>\n",
       "</table>\n",
       "</div>"
      ],
      "text/plain": [
       "     users  events  prods                    screen          dt                screen_new                screen_new_alias\n",
       "100   2449    3420   3069                      None  2022-02-10                      None   Неизвестные и прямые переходы\n",
       "230     60      80     72             carousel_feed  2022-02-10             carousel_feed         Карусель на главной ВКО\n",
       "333    403     514    477          carousel_preview  2022-02-10          carousel_preview  Карусель на главной ВКО превью\n",
       "126      3       3      3  carousel_vk_group_manual  2022-02-10  carousel_vk_group_manual        Портлеты (антибарахолки)\n",
       "285    659     964    836                favourites  2022-02-10                favourites                        Закладки\n",
       "176     85      96     90          lent_from_widget  2022-02-10          lent_from_widget                   Антибарахолки\n",
       "105   4836    7463   6385                      main  2022-02-10                      main                 Главная раздела\n",
       "343    276     412    365           personal_search  2022-02-10           personal_search              Сохраненные поиски\n",
       "28      56      62     59                   product  2022-02-10                   product                 Карточка товара\n",
       "24    2829    3073   2792            product_active  2022-02-10            product_active                Профиль продавца\n",
       "95     864    1133   1047                      push  2022-02-10                      push                     Уведомление\n",
       "67    3479    6906   6173                    search  2022-02-10                    search                Поиск в миниаппе\n",
       "71     359     647    605        search_classifieds  2022-02-10        search_classifieds                      Поиск в ВК\n",
       "129    145     162    152          seller_subscribe  2022-02-10          seller_subscribe            Подписка на продавца\n",
       "383   1437    2054   1888                  similars  2022-02-10                  similars                         Похожие\n",
       "316   7666    8964   7729                   snippet  2022-02-10                   snippet                         Сниппет\n",
       "198     55      64     63         subscribe_similar  2022-02-10         subscribe_similar             Подписка на похожие\n",
       "410   1095    1591   1383     vk_lent_advertisement  2022-02-10     vk_lent_advertisement     Рекламные ссылке в ленте ВК\n",
       "68    3143    3677   2810        vk_recommendations  2022-02-10        vk_recommendations                        Портлеты\n",
       "266     51      53     41          widget_from_post  2022-02-10          widget_from_post                   Антибарахолки\n",
       "236   5821    9435   8039                      None  2022-02-11                      None   Неизвестные и прямые переходы\n",
       "367     29      33     31             carousel_feed  2022-02-11             carousel_feed         Карусель на главной ВКО\n",
       "31     362     466    428          carousel_preview  2022-02-11          carousel_preview  Карусель на главной ВКО превью\n",
       "260      4       4      4  carousel_vk_group_manual  2022-02-11  carousel_vk_group_manual        Портлеты (антибарахолки)\n",
       "421    530     719    636                favourites  2022-02-11                favourites                        Закладки\n",
       "310     69      80     75          lent_from_widget  2022-02-11          lent_from_widget                   Антибарахолки\n",
       "240    285     441    406                      main  2022-02-11                      main                 Главная раздела\n",
       "41     263     399    359           personal_search  2022-02-11           personal_search              Сохраненные поиски\n",
       "163     47      68     47                   product  2022-02-11                   product                 Карточка товара\n",
       "159   2772    3073   2796            product_active  2022-02-11            product_active                Профиль продавца\n",
       "231    879    1135   1044                      push  2022-02-11                      push                     Уведомление\n",
       "203   2987    6327   5648                    search  2022-02-11                    search                Поиск в миниаппе\n",
       "207    321     575    529        search_classifieds  2022-02-11        search_classifieds                      Поиск в ВК\n",
       "263    144     155    152          seller_subscribe  2022-02-11          seller_subscribe            Подписка на продавца\n",
       "82    1205    1769   1626                  similars  2022-02-11                  similars                         Похожие\n",
       "15    6783    7972   6883                   snippet  2022-02-11                   snippet                         Сниппет\n",
       "334     63      89     78         subscribe_similar  2022-02-11         subscribe_similar             Подписка на похожие\n",
       "111   1069    1560   1383     vk_lent_advertisement  2022-02-11     vk_lent_advertisement     Рекламные ссылке в ленте ВК\n",
       "204   2158    2539   2135        vk_recommendations  2022-02-11        vk_recommendations                        Портлеты\n",
       "401     29      29     23          widget_from_post  2022-02-11          widget_from_post                   Антибарахолки\n",
       "373   5637    9064   7800                      None  2022-02-12                      None   Неизвестные и прямые переходы\n",
       "63      64      79     71             carousel_feed  2022-02-12             carousel_feed         Карусель на главной ВКО\n",
       "166    377     522    477          carousel_preview  2022-02-12          carousel_preview  Карусель на главной ВКО превью\n",
       "396      4       4      4  carousel_vk_group_manual  2022-02-12  carousel_vk_group_manual        Портлеты (антибарахолки)\n",
       "122    492     680    609                favourites  2022-02-12                favourites                        Закладки\n",
       "9       75      80     80          lent_from_widget  2022-02-12          lent_from_widget                   Антибарахолки\n",
       "377    294     454    422                      main  2022-02-12                      main                 Главная раздела\n",
       "177    251     385    343           personal_search  2022-02-12           personal_search              Сохраненные поиски\n",
       "298     43      43     43                   product  2022-02-12                   product                 Карточка товара\n",
       "294   2792    3064   2754            product_active  2022-02-12            product_active                Профиль продавца\n",
       "368    752     957    887                      push  2022-02-12                      push                     Уведомление\n",
       "339   3021    6632   5866                    search  2022-02-12                    search                Поиск в миниаппе\n",
       "344    349     628    583        search_classifieds  2022-02-12        search_classifieds                      Поиск в ВК\n",
       "398    142     164    152          seller_subscribe  2022-02-12          seller_subscribe            Подписка на продавца\n",
       "217   1240    1813   1651                  similars  2022-02-12                  similars                         Похожие\n",
       "151   6822    8035   6973                   snippet  2022-02-12                   snippet                         Сниппет\n",
       "32      49      74     64         subscribe_similar  2022-02-12         subscribe_similar             Подписка на похожие\n",
       "246   1150    1738   1533     vk_lent_advertisement  2022-02-12     vk_lent_advertisement     Рекламные ссылке в ленте ВК\n",
       "340   2621    3059   2346        vk_recommendations  2022-02-12        vk_recommendations                        Портлеты\n",
       "101     30      31     26          widget_from_post  2022-02-12          widget_from_post                   Антибарахолки\n",
       "72    6150    9851   8565                      None  2022-02-13                      None   Неизвестные и прямые переходы\n",
       "199     52      60     57             carousel_feed  2022-02-13             carousel_feed         Карусель на главной ВКО\n",
       "301    374     494    452          carousel_preview  2022-02-13          carousel_preview  Карусель на главной ВКО превью\n",
       "96       1       1      1  carousel_vk_group_manual  2022-02-13  carousel_vk_group_manual        Портлеты (антибарахолки)\n",
       "257    496     738    643                favourites  2022-02-13                favourites                        Закладки\n",
       "145     87     111     95          lent_from_widget  2022-02-13          lent_from_widget                   Антибарахолки\n",
       "76     319     544    490                      main  2022-02-13                      main                 Главная раздела\n",
       "311    267     396    361           personal_search  2022-02-13           personal_search              Сохраненные поиски\n",
       "431     38      42     41                   product  2022-02-13                   product                 Карточка товара\n",
       "428   3077    3331   3029            product_active  2022-02-13            product_active                Профиль продавца\n",
       "64     828    1089   1003                      push  2022-02-13                      push                     Уведомление\n",
       "37    3142    6699   5950                    search  2022-02-13                    search                Поиск в миниаппе\n",
       "42     337     610    561        search_classifieds  2022-02-13        search_classifieds                      Поиск в ВК\n",
       "98     170     194    180          seller_subscribe  2022-02-13          seller_subscribe            Подписка на продавца\n",
       "354   1304    1922   1768                  similars  2022-02-13                  similars                         Похожие\n",
       "286   7408    8706   7558                   snippet  2022-02-13                   snippet                         Сниппет\n",
       "167     54      76     68         subscribe_similar  2022-02-13         subscribe_similar             Подписка на похожие\n",
       "384   1183    1798   1576     vk_lent_advertisement  2022-02-13     vk_lent_advertisement     Рекламные ссылке в ленте ВК\n",
       "38    2813    3279   2528        vk_recommendations  2022-02-13        vk_recommendations                        Портлеты\n",
       "237     32      32     27          widget_from_post  2022-02-13          widget_from_post                   Антибарахолки\n",
       "208   5780    9063   7776                      None  2022-02-14                      None   Неизвестные и прямые переходы\n",
       "335     61      81     77             carousel_feed  2022-02-14             carousel_feed         Карусель на главной ВКО\n",
       "0      344     493    445          carousel_preview  2022-02-14          carousel_preview  Карусель на главной ВКО превью\n",
       "232      3       3      3  carousel_vk_group_manual  2022-02-14  carousel_vk_group_manual        Портлеты (антибарахолки)\n",
       "393    477     689    630                favourites  2022-02-14                favourites                        Закладки\n",
       "279     93      99     92          lent_from_widget  2022-02-14          lent_from_widget                   Антибарахолки\n",
       "211    261     383    355                      main  2022-02-14                      main                 Главная раздела\n",
       "10     229     336    301           personal_search  2022-02-14           personal_search              Сохраненные поиски\n",
       "133     49      51     50                   product  2022-02-14                   product                 Карточка товара\n",
       "130   2835    3096   2834            product_active  2022-02-14            product_active                Профиль продавца\n",
       "200    724     935    848                      push  2022-02-14                      push                     Уведомление\n",
       "172   2796    5771   5138                    search  2022-02-14                    search                Поиск в миниаппе\n",
       "178    327     583    537        search_classifieds  2022-02-14        search_classifieds                      Поиск в ВК\n",
       "234    137     147    141          seller_subscribe  2022-02-14          seller_subscribe            Подписка на продавца\n",
       "51    1178    1684   1552                  similars  2022-02-14                  similars                         Похожие\n",
       "422   7012    8515   7108                   snippet  2022-02-14                   snippet                         Сниппет\n",
       "302     46      60     56         subscribe_similar  2022-02-14         subscribe_similar             Подписка на похожие\n",
       "83    1024    1530   1364     vk_lent_advertisement  2022-02-14     vk_lent_advertisement     Рекламные ссылке в ленте ВК\n",
       "173   2592    3011   2326        vk_recommendations  2022-02-14        vk_recommendations                        Портлеты\n",
       "374     20      21     19          widget_from_post  2022-02-14          widget_from_post                   Антибарахолки\n",
       "345   6332   11138   9437                      None  2022-02-15                      None   Неизвестные и прямые переходы\n",
       "33      59      75     69             carousel_feed  2022-02-15             carousel_feed         Карусель на главной ВКО\n",
       "136    370     526    473          carousel_preview  2022-02-15          carousel_preview  Карусель на главной ВКО превью\n",
       "369      3       3      3  carousel_vk_group_manual  2022-02-15  carousel_vk_group_manual        Портлеты (антибарахолки)\n",
       "92     500     677    617                favourites  2022-02-15                favourites                        Закладки\n",
       "415     90     100     94          lent_from_widget  2022-02-15          lent_from_widget                   Антибарахолки\n",
       "348    294     424    393                      main  2022-02-15                      main                 Главная раздела\n",
       "146    260     372    344           personal_search  2022-02-15           personal_search              Сохраненные поиски\n",
       "267     45      47     46                   product  2022-02-15                   product                 Карточка товара\n",
       "264   2966    3220   2919            product_active  2022-02-15            product_active                Профиль продавца\n",
       "336    884    1100   1011                      push  2022-02-15                      push                     Уведомление\n",
       "306   3025    6135   5396                    search  2022-02-15                    search                Поиск в миниаппе\n",
       "312    343     638    603        search_classifieds  2022-02-15        search_classifieds                      Поиск в ВК\n",
       "371    132     146    137          seller_subscribe  2022-02-15          seller_subscribe            Подписка на продавца\n",
       "187   1310    1873   1742                  similars  2022-02-15                  similars                         Похожие\n",
       "123   7566    8819   7569                   snippet  2022-02-15                   snippet                         Сниппет\n",
       "1       48      74     63         subscribe_similar  2022-02-15         subscribe_similar             Подписка на похожие\n",
       "218   1139    1733   1523     vk_lent_advertisement  2022-02-15     vk_lent_advertisement     Рекламные ссылке в ленте ВК\n",
       "307   2714    3178   2482        vk_recommendations  2022-02-15        vk_recommendations                        Портлеты\n",
       "73      37      38     29          widget_from_post  2022-02-15          widget_from_post                   Антибарахолки\n",
       "43    6273   10793   9218                      None  2022-02-16                      None   Неизвестные и прямые переходы\n",
       "168     51      60     55             carousel_feed  2022-02-16             carousel_feed         Карусель на главной ВКО\n",
       "270    334     451    422          carousel_preview  2022-02-16          carousel_preview  Карусель на главной ВКО превью\n",
       "65      11      11     11  carousel_vk_group_manual  2022-02-16  carousel_vk_group_manual        Портлеты (антибарахолки)\n",
       "227    496     675    606                favourites  2022-02-16                favourites                        Закладки\n",
       "116     83      94     93          lent_from_widget  2022-02-16          lent_from_widget                   Антибарахолки\n",
       "46     292     384    359                      main  2022-02-16                      main                 Главная раздела\n",
       "280    211     297    279           personal_search  2022-02-16           personal_search              Сохраненные поиски\n",
       "402     38      40     39                   product  2022-02-16                   product                 Карточка товара\n",
       "399   2943    3189   2879            product_active  2022-02-16            product_active                Профиль продавца\n",
       "34     824    1087    996                      push  2022-02-16                      push                     Уведомление\n",
       "5     2908    5887   5261                    search  2022-02-16                    search                Поиск в миниаппе\n",
       "11     328     621    583        search_classifieds  2022-02-16        search_classifieds                      Поиск в ВК\n",
       "69     153     182    173          seller_subscribe  2022-02-16          seller_subscribe            Подписка на продавца\n",
       "322   1246    1818   1661                  similars  2022-02-16                  similars                         Похожие\n",
       "258   7180    8538   7385                   snippet  2022-02-16                   snippet                         Сниппет\n",
       "137     51      65     62         subscribe_similar  2022-02-16         subscribe_similar             Подписка на похожие\n",
       "355   1265    1892   1693     vk_lent_advertisement  2022-02-16     vk_lent_advertisement     Рекламные ссылке в ленте ВК\n",
       "6     2607    3047   2360        vk_recommendations  2022-02-16        vk_recommendations                        Портлеты\n",
       "209     27      29     23          widget_from_post  2022-02-16          widget_from_post                   Антибарахолки\n",
       "179   6216   10768   9153                      None  2022-02-17                      None   Неизвестные и прямые переходы\n",
       "303     55      71     68             carousel_feed  2022-02-17             carousel_feed         Карусель на главной ВКО\n",
       "405    362     494    452          carousel_preview  2022-02-17          carousel_preview  Карусель на главной ВКО превью\n",
       "201     11      11     11  carousel_vk_group_manual  2022-02-17  carousel_vk_group_manual        Портлеты (антибарахолки)\n",
       "364    485     683    612                favourites  2022-02-17                favourites                        Закладки\n",
       "251     67      79     75          lent_from_widget  2022-02-17          lent_from_widget                   Антибарахолки\n",
       "182    302     458    428                      main  2022-02-17                      main                 Главная раздела\n",
       "416    240     354    325           personal_search  2022-02-17           personal_search              Сохраненные поиски\n",
       "102     33      39     38                   product  2022-02-17                   product                 Карточка товара\n",
       "99    2923    3165   2871            product_active  2022-02-17            product_active                Профиль продавца\n",
       "169    842    1095   1013                      push  2022-02-17                      push                     Уведомление\n",
       "141   2972    6462   5757                    search  2022-02-17                    search                Поиск в миниаппе\n",
       "147    310     558    519        search_classifieds  2022-02-17        search_classifieds                      Поиск в ВК\n",
       "205    143     156    145          seller_subscribe  2022-02-17          seller_subscribe            Подписка на продавца\n",
       "20    1219    1748   1625                  similars  2022-02-17                  similars                         Похожие\n",
       "394   7024    8260   7109                   snippet  2022-02-17                   snippet                         Сниппет\n",
       "271     44      64     57         subscribe_similar  2022-02-17         subscribe_similar             Подписка на похожие\n",
       "52    1204    1815   1597     vk_lent_advertisement  2022-02-17     vk_lent_advertisement     Рекламные ссылке в ленте ВК\n",
       "142   2712    3202   2568        vk_recommendations  2022-02-17        vk_recommendations                        Портлеты\n",
       "346     40      42     35          widget_from_post  2022-02-17          widget_from_post                   Антибарахолки\n",
       "313   5819   10053   8743                      None  2022-02-18                      None   Неизвестные и прямые переходы\n",
       "2       50      64     59             carousel_feed  2022-02-18             carousel_feed         Карусель на главной ВКО\n",
       "106    326     447    412          carousel_preview  2022-02-18          carousel_preview  Карусель на главной ВКО превью\n",
       "337     10      11     11  carousel_vk_group_manual  2022-02-18  carousel_vk_group_manual        Портлеты (антибарахолки)\n",
       "60     502     717    626                favourites  2022-02-18                favourites                        Закладки\n",
       "388     66      74     70          lent_from_widget  2022-02-18          lent_from_widget                   Антибарахолки\n",
       "317    260     383    360                      main  2022-02-18                      main                 Главная раздела\n",
       "117    227     346    301           personal_search  2022-02-18           personal_search              Сохраненные поиски\n",
       "238     39      45     39                   product  2022-02-18                   product                 Карточка товара\n",
       "235   2757    2994   2714            product_active  2022-02-18            product_active                Профиль продавца\n",
       "304    837    1107   1014                      push  2022-02-18                      push                     Уведомление\n",
       "275   2731    5859   5210                    search  2022-02-18                    search                Поиск в миниаппе\n",
       "281    309     552    510        search_classifieds  2022-02-18        search_classifieds                      Поиск в ВК\n",
       "341    140     154    144          seller_subscribe  2022-02-18          seller_subscribe            Подписка на продавца\n",
       "155   1142    1662   1496                  similars  2022-02-18                  similars                         Похожие\n",
       "93    6733    7932   6801                   snippet  2022-02-18                   snippet                         Сниппет\n",
       "406     42      51     49         subscribe_similar  2022-02-18         subscribe_similar             Подписка на похожие\n",
       "188   1143    1760   1560     vk_lent_advertisement  2022-02-18     vk_lent_advertisement     Рекламные ссылке в ленте ВК\n",
       "276   2532    2955   2343        vk_recommendations  2022-02-18        vk_recommendations                        Портлеты\n",
       "44      37      39     27          widget_from_post  2022-02-18          widget_from_post                   Антибарахолки\n",
       "12    5330    8693   7318                      None  2022-02-19                      None   Неизвестные и прямые переходы\n",
       "138     52      77     66             carousel_feed  2022-02-19             carousel_feed         Карусель на главной ВКО\n",
       "241    345     513    450          carousel_preview  2022-02-19          carousel_preview  Карусель на главной ВКО превью\n",
       "35       9       9      9  carousel_vk_group_manual  2022-02-19  carousel_vk_group_manual        Портлеты (антибарахолки)\n",
       "195    530     797    646                favourites  2022-02-19                favourites                        Закладки\n",
       "87      94     105     92          lent_from_widget  2022-02-19          lent_from_widget                   Антибарахолки\n",
       "16     307     496    443                      main  2022-02-19                      main                 Главная раздела\n",
       "252    193     331    272           personal_search  2022-02-19           personal_search              Сохраненные поиски\n",
       "375     46      51     49                   product  2022-02-19                   product                 Карточка товара\n",
       "372   2731    3051   2714            product_active  2022-02-19            product_active                Профиль продавца\n",
       "3      768    1174   1031                      push  2022-02-19                      push                     Уведомление\n",
       "411   2913    6625   5488                    search  2022-02-19                    search                Поиск в миниаппе\n",
       "417    283     509    456        search_classifieds  2022-02-19        search_classifieds                      Поиск в ВК\n",
       "39     153     203    179          seller_subscribe  2022-02-19          seller_subscribe            Подписка на продавца\n",
       "290   1182    1803   1586                  similars  2022-02-19                  similars                         Похожие\n",
       "228   6510    7951   6702                   snippet  2022-02-19                   snippet                         Сниппет\n",
       "107     46      57     53         subscribe_similar  2022-02-19         subscribe_similar             Подписка на похожие\n",
       "323   1470    2305   1955     vk_lent_advertisement  2022-02-19     vk_lent_advertisement     Рекламные ссылке в ленте ВК\n",
       "412   2256    2753   2129        vk_recommendations  2022-02-19        vk_recommendations                        Портлеты\n",
       "180     31      31     26          widget_from_post  2022-02-19          widget_from_post                   Антибарахолки\n",
       "148   5278    8128   6908                      None  2022-02-20                      None   Неизвестные и прямые переходы\n",
       "272     64      84     74             carousel_feed  2022-02-20             carousel_feed         Карусель на главной ВКО\n",
       "378    439     637    551          carousel_preview  2022-02-20          carousel_preview  Карусель на главной ВКО превью\n",
       "170      3       3      3  carousel_vk_group_manual  2022-02-20  carousel_vk_group_manual        Портлеты (антибарахолки)\n",
       "330    569     916    746                favourites  2022-02-20                favourites                        Закладки\n",
       "222     84     126    119          lent_from_widget  2022-02-20          lent_from_widget                   Антибарахолки\n",
       "152    316     419    382                      main  2022-02-20                      main                 Главная раздела\n",
       "389    285     441    388           personal_search  2022-02-20           personal_search              Сохраненные поиски\n",
       "74      43      47     46                   product  2022-02-20                   product                 Карточка товара\n",
       "70    2926    3325   2904            product_active  2022-02-20            product_active                Профиль продавца\n",
       "139    856    1183   1051                      push  2022-02-20                      push                     Уведомление\n",
       "112   2963    6036   4988                    search  2022-02-20                    search                Поиск в миниаппе\n",
       "118    384     753    645        search_classifieds  2022-02-20        search_classifieds                      Поиск в ВК\n",
       "174    183     220    200          seller_subscribe  2022-02-20          seller_subscribe            Подписка на продавца\n",
       "426   1381    2134   1845                  similars  2022-02-20                  similars                         Похожие\n",
       "365   7580    9161   7737                   snippet  2022-02-20                   snippet                         Сниппет\n",
       "242     59      91     79         subscribe_similar  2022-02-20         subscribe_similar             Подписка на похожие\n",
       "21    1690    2621   2222     vk_lent_advertisement  2022-02-20     vk_lent_advertisement     Рекламные ссылке в ленте ВК\n",
       "113   2515    3108   2390        vk_recommendations  2022-02-20        vk_recommendations                        Портлеты\n",
       "314     32      34     28          widget_from_post  2022-02-20          widget_from_post                   Антибарахолки\n",
       "282   4677    7889   6752                      None  2022-02-21                      None   Неизвестные и прямые переходы\n",
       "407     43      61     53             carousel_feed  2022-02-21             carousel_feed         Карусель на главной ВКО\n",
       "77     321     457    385          carousel_preview  2022-02-21          carousel_preview  Карусель на главной ВКО превью\n",
       "305     12      16     14  carousel_vk_group_manual  2022-02-21  carousel_vk_group_manual        Портлеты (антибарахолки)\n",
       "29     416     673    545                favourites  2022-02-21                favourites                        Закладки\n",
       "359     81      92     87          lent_from_widget  2022-02-21          lent_from_widget                   Антибарахолки\n",
       "287    236     419    342                      main  2022-02-21                      main                 Главная раздела\n",
       "88     234     331    290           personal_search  2022-02-21           personal_search              Сохраненные поиски\n",
       "210     40      46     40                   product  2022-02-21                   product                 Карточка товара\n",
       "206   3032    3354   2948            product_active  2022-02-21            product_active                Профиль продавца\n",
       "273    892    1233   1071                      push  2022-02-21                      push                     Уведомление\n",
       "247   2518    5347   4496                    search  2022-02-21                    search                Поиск в миниаппе\n",
       "253    241     456    396        search_classifieds  2022-02-21        search_classifieds                      Поиск в ВК\n",
       "308    175     209    198          seller_subscribe  2022-02-21          seller_subscribe            Подписка на продавца\n",
       "127   1099    1611   1421                  similars  2022-02-21                  similars                         Похожие\n",
       "61    6100    7340   6281                   snippet  2022-02-21                   snippet                         Сниппет\n",
       "379     57      84     72         subscribe_similar  2022-02-21         subscribe_similar             Подписка на похожие\n",
       "156   1520    2254   1982     vk_lent_advertisement  2022-02-21     vk_lent_advertisement     Рекламные ссылке в ленте ВК\n",
       "248   1964    2408   1872        vk_recommendations  2022-02-21        vk_recommendations                        Портлеты\n",
       "13      22      23     19          widget_from_post  2022-02-21          widget_from_post                   Антибарахолки\n",
       "418   3428    6098   5288                      None  2022-02-22                      None   Неизвестные и прямые переходы\n",
       "108     34      41     40             carousel_feed  2022-02-22             carousel_feed         Карусель на главной ВКО\n",
       "212    241     337    308          carousel_preview  2022-02-22          carousel_preview  Карусель на главной ВКО превью\n",
       "4        4       5      5  carousel_vk_group_manual  2022-02-22  carousel_vk_group_manual        Портлеты (антибарахолки)\n",
       "164    163     226    217                favourites  2022-02-22                favourites                        Закладки\n",
       "55      61      67     59          lent_from_widget  2022-02-22          lent_from_widget                   Антибарахолки\n",
       "423    176     268    238                      main  2022-02-22                      main                 Главная раздела\n",
       "223    249     321    297           personal_search  2022-02-22           personal_search              Сохраненные поиски\n",
       "347     26      28     27                   product  2022-02-22                   product                 Карточка товара\n",
       "342   2943    3187   2917            product_active  2022-02-22            product_active                Профиль продавца\n",
       "408    763     989    900                      push  2022-02-22                      push                     Уведомление\n",
       "385   1712    3712   3307                    search  2022-02-22                    search                Поиск в миниаппе\n",
       "390    131     223    213        search_classifieds  2022-02-22        search_classifieds                      Поиск в ВК\n",
       "7      132     149    140          seller_subscribe  2022-02-22          seller_subscribe            Подписка на продавца\n",
       "261    702     991    909                  similars  2022-02-22                  similars                         Похожие\n",
       "196   4712    5601   4930                   snippet  2022-02-22                   snippet                         Сниппет\n",
       "78      38      47     43         subscribe_similar  2022-02-22         subscribe_similar             Подписка на похожие\n",
       "291   1179    1796   1602     vk_lent_advertisement  2022-02-22     vk_lent_advertisement     Рекламные ссылке в ленте ВК\n",
       "386   1437    1692   1417        vk_recommendations  2022-02-22        vk_recommendations                        Портлеты\n",
       "149     20      20     17          widget_from_post  2022-02-22          widget_from_post                   Антибарахолки\n",
       "119   3290    5986   5318                      None  2022-02-23                      None   Неизвестные и прямые переходы\n",
       "243     26      31     29             carousel_feed  2022-02-23             carousel_feed         Карусель на главной ВКО\n",
       "349    213     279    255          carousel_preview  2022-02-23          carousel_preview  Карусель на главной ВКО превью\n",
       "140     10      13     12  carousel_vk_group_manual  2022-02-23  carousel_vk_group_manual        Портлеты (антибарахолки)\n",
       "299    150     197    175                favourites  2022-02-23                favourites                        Закладки\n",
       "191     59      67     64          lent_from_widget  2022-02-23          lent_from_widget                   Антибарахолки\n",
       "124    157     226    203                      main  2022-02-23                      main                 Главная раздела\n",
       "360    157     220    199           personal_search  2022-02-23           personal_search              Сохраненные поиски\n",
       "45      12      12     12                   product  2022-02-23                   product                 Карточка товара\n",
       "40    2740    2991   2727            product_active  2022-02-23            product_active                Профиль продавца\n",
       "109    605     815    743                      push  2022-02-23                      push                     Уведомление\n",
       "84    1638    3484   3118                    search  2022-02-23                    search                Поиск в миниаппе\n",
       "89     164     661    635        search_classifieds  2022-02-23        search_classifieds                      Поиск в ВК\n",
       "143    128     136    132          seller_subscribe  2022-02-23          seller_subscribe            Подписка на продавца\n",
       "397    817    1159   1074                  similars  2022-02-23                  similars                         Похожие\n",
       "331   4363    5094   4555                   snippet  2022-02-23                   snippet                         Сниппет\n",
       "213     36      56     47         subscribe_similar  2022-02-23         subscribe_similar             Подписка на похожие\n",
       "427   1236    1946   1710     vk_lent_advertisement  2022-02-23     vk_lent_advertisement     Рекламные ссылке в ленте ВК\n",
       "85    1460    1784   1431        vk_recommendations  2022-02-23        vk_recommendations                        Портлеты\n",
       "283     11      12     11          widget_from_post  2022-02-23          widget_from_post                   Антибарахолки\n",
       "254   2800    4592   3984                      None  2022-02-24                      None   Неизвестные и прямые переходы\n",
       "380     22      24     23             carousel_feed  2022-02-24             carousel_feed         Карусель на главной ВКО\n",
       "47     197     274    245          carousel_preview  2022-02-24          carousel_preview  Карусель на главной ВКО превью\n",
       "274      4       4      4  carousel_vk_group_manual  2022-02-24  carousel_vk_group_manual        Портлеты (антибарахолки)\n",
       "432    158     225    213                favourites  2022-02-24                favourites                        Закладки\n",
       "326     65      70     69          lent_from_widget  2022-02-24          lent_from_widget                   Антибарахолки\n",
       "259    160     238    221                      main  2022-02-24                      main                 Главная раздела\n",
       "56     209     282    256           personal_search  2022-02-24           personal_search              Сохраненные поиски\n",
       "181     22      23     23                   product  2022-02-24                   product                 Карточка товара\n",
       "175   2644    2890   2617            product_active  2022-02-24            product_active                Профиль продавца\n",
       "244    584     803    740                      push  2022-02-24                      push                     Уведомление\n",
       "219   1525    3192   2895                    search  2022-02-24                    search                Поиск в миниаппе\n",
       "224    130     228    218        search_classifieds  2022-02-24        search_classifieds                      Поиск в ВК\n",
       "277    124     141    137          seller_subscribe  2022-02-24          seller_subscribe            Подписка на продавца\n",
       "97     656     913    851                  similars  2022-02-24                  similars                         Похожие\n",
       "30    4210    5021   4450                   snippet  2022-02-24                   snippet                         Сниппет\n",
       "350     32      50     46         subscribe_similar  2022-02-24         subscribe_similar             Подписка на похожие\n",
       "128    659     972    892     vk_lent_advertisement  2022-02-24     vk_lent_advertisement     Рекламные ссылке в ленте ВК\n",
       "220   1178    1467   1176        vk_recommendations  2022-02-24        vk_recommendations                        Портлеты\n",
       "419     19      19     19          widget_from_post  2022-02-24          widget_from_post                   Антибарахолки\n",
       "391   2679    4612   3986                      None  2022-02-25                      None   Неизвестные и прямые переходы\n",
       "79      29      40     38             carousel_feed  2022-02-25             carousel_feed         Карусель на главной ВКО\n",
       "183    201     275    247          carousel_preview  2022-02-25          carousel_preview  Карусель на главной ВКО превью\n",
       "409      6       6      6  carousel_vk_group_manual  2022-02-25  carousel_vk_group_manual        Портлеты (антибарахолки)\n",
       "134    150     259    240                favourites  2022-02-25                favourites                        Закладки\n",
       "25      76      82     76          lent_from_widget  2022-02-25          lent_from_widget                   Антибарахолки\n",
       "395    115     197    174                      main  2022-02-25                      main                 Главная раздела\n",
       "192    188     265    253           personal_search  2022-02-25           personal_search              Сохраненные поиски\n",
       "315     20      21     20                   product  2022-02-25                   product                 Карточка товара\n",
       "309   2629    2825   2530            product_active  2022-02-25            product_active                Профиль продавца\n",
       "381    555     748    692                      push  2022-02-25                      push                     Уведомление\n",
       "356   1601    3405   3023                    search  2022-02-25                    search                Поиск в миниаппе\n",
       "361    131     196    180        search_classifieds  2022-02-25        search_classifieds                      Поиск в ВК\n",
       "413    119     128    122          seller_subscribe  2022-02-25          seller_subscribe            Подписка на продавца\n",
       "233    562     835    789                  similars  2022-02-25                  similars                         Похожие\n",
       "165   4171    4883   4340                   snippet  2022-02-25                   snippet                         Сниппет\n",
       "48      44      68     63         subscribe_similar  2022-02-25         subscribe_similar             Подписка на похожие\n",
       "262      4       5      5     vk_lent_advertisement  2022-02-25     vk_lent_advertisement     Рекламные ссылке в ленте ВК\n",
       "357   1228    1505   1235        vk_recommendations  2022-02-25        vk_recommendations                        Портлеты\n",
       "120     20      20     16          widget_from_post  2022-02-25          widget_from_post                   Антибарахолки\n",
       "90    3120    5525   4842                      None  2022-02-26                      None   Неизвестные и прямые переходы\n",
       "214     36      46     43             carousel_feed  2022-02-26             carousel_feed         Карусель на главной ВКО\n",
       "318    217     294    272          carousel_preview  2022-02-26          carousel_preview  Карусель на главной ВКО превью\n",
       "110     10      11     11  carousel_vk_group_manual  2022-02-26  carousel_vk_group_manual        Портлеты (антибарахолки)\n",
       "268    149     254    226                favourites  2022-02-26                favourites                        Закладки\n",
       "160     68      70     68          lent_from_widget  2022-02-26          lent_from_widget                   Антибарахолки\n",
       "94     154     265    238                      main  2022-02-26                      main                 Главная раздела\n",
       "327    197     308    291           personal_search  2022-02-26           personal_search              Сохраненные поиски\n",
       "14      14      16     16                   product  2022-02-26                   product                 Карточка товара\n",
       "8     2727    2969   2705            product_active  2022-02-26            product_active                Профиль продавца\n",
       "80     504     715    652                      push  2022-02-26                      push                     Уведомление\n",
       "53    1709    3622   3273                    search  2022-02-26                    search                Поиск в миниаппе\n",
       "57     139     257    248        search_classifieds  2022-02-26        search_classifieds                      Поиск в ВК\n",
       "114     99     104    101          seller_subscribe  2022-02-26          seller_subscribe            Подписка на продавца\n",
       "370    612     951    870                  similars  2022-02-26                  similars                         Похожие\n",
       "300   4361    5060   4511                   snippet  2022-02-26                   snippet                         Сниппет\n",
       "184     50      64     62         subscribe_similar  2022-02-26         subscribe_similar             Подписка на похожие\n",
       "54    1254    1520   1217        vk_recommendations  2022-02-26        vk_recommendations                        Портлеты\n",
       "255      5       6      5          widget_from_post  2022-02-26          widget_from_post                   Антибарахолки\n",
       "225   2891    4585   3936                      None  2022-02-27                      None   Неизвестные и прямые переходы\n",
       "351     34      57     44             carousel_feed  2022-02-27             carousel_feed         Карусель на главной ВКО\n",
       "17     228     304    275          carousel_preview  2022-02-27          carousel_preview  Карусель на главной ВКО превью\n",
       "245      8       8      8  carousel_vk_group_manual  2022-02-27  carousel_vk_group_manual        Портлеты (антибарахолки)\n",
       "403    145     211    187                favourites  2022-02-27                favourites                        Закладки\n",
       "295     73      90     82          lent_from_widget  2022-02-27          lent_from_widget                   Антибарахолки\n",
       "229    149     198    191                      main  2022-02-27                      main                 Главная раздела\n",
       "26     200     316    290           personal_search  2022-02-27           personal_search              Сохраненные поиски\n",
       "150     35      36     35                   product  2022-02-27                   product                 Карточка товара\n",
       "144   3011    3281   2966            product_active  2022-02-27            product_active                Профиль продавца\n",
       "215    478     637    585                      push  2022-02-27                      push                     Уведомление\n",
       "189   1739    3791   3390                    search  2022-02-27                    search                Поиск в миниаппе\n",
       "193    135     227    218        search_classifieds  2022-02-27        search_classifieds                      Поиск в ВК\n",
       "249    139     159    148          seller_subscribe  2022-02-27          seller_subscribe            Подписка на продавца\n",
       "66     637     933    865                  similars  2022-02-27                  similars                         Похожие\n",
       "433   4809    5619   5011                   snippet  2022-02-27                   snippet                         Сниппет\n",
       "319     41      70     65         subscribe_similar  2022-02-27         subscribe_similar             Подписка на похожие\n",
       "190   1452    1710   1398        vk_recommendations  2022-02-27        vk_recommendations                        Портлеты\n",
       "392     15      15     12          widget_from_post  2022-02-27          widget_from_post                   Антибарахолки\n",
       "362   3282    5603   4915                      None  2022-02-28                      None   Неизвестные и прямые переходы\n",
       "49      30      37     36             carousel_feed  2022-02-28             carousel_feed         Карусель на главной ВКО\n",
       "153    206     264    243          carousel_preview  2022-02-28          carousel_preview  Карусель на главной ВКО превью\n",
       "382      8      10      9  carousel_vk_group_manual  2022-02-28  carousel_vk_group_manual        Портлеты (антибарахолки)\n",
       "103    121     172    154                favourites  2022-02-28                favourites                        Закладки\n",
       "429     76      86     83          lent_from_widget  2022-02-28          lent_from_widget                   Антибарахолки\n",
       "366    158     205    196                      main  2022-02-28                      main                 Главная раздела\n",
       "161    183     287    255           personal_search  2022-02-28           personal_search              Сохраненные поиски\n",
       "284     27      30     27                   product  2022-02-28                   product                 Карточка товара\n",
       "278   3028    3277   2985            product_active  2022-02-28            product_active                Профиль продавца\n",
       "352    531     763    688                      push  2022-02-28                      push                     Уведомление\n",
       "324   1788    3940   3533                    search  2022-02-28                    search                Поиск в миниаппе\n",
       "328    144     265    242        search_classifieds  2022-02-28        search_classifieds                      Поиск в ВК\n",
       "387    126     129    127          seller_subscribe  2022-02-28          seller_subscribe            Подписка на продавца\n",
       "202    596     874    798                  similars  2022-02-28                  similars                         Похожие\n",
       "135   4831    5631   5021                   snippet  2022-02-28                   snippet                         Сниппет\n",
       "18      38      64     57         subscribe_similar  2022-02-28         subscribe_similar             Подписка на похожие\n",
       "325   1380    1661   1324        vk_recommendations  2022-02-28        vk_recommendations                        Портлеты\n",
       "91      19      20     16          widget_from_post  2022-02-28          widget_from_post                   Антибарахолки\n",
       "58    3173    5026   4388                      None  2022-03-01                      None   Неизвестные и прямые переходы\n",
       "185     22      25     25             carousel_feed  2022-03-01             carousel_feed         Карусель на главной ВКО\n",
       "288    208     275    255          carousel_preview  2022-03-01          carousel_preview  Карусель на главной ВКО превью\n",
       "81       7       9      9  carousel_vk_group_manual  2022-03-01  carousel_vk_group_manual        Портлеты (антибарахолки)\n",
       "239    134     240    230                favourites  2022-03-01                favourites                        Закладки\n",
       "131     63      69     68          lent_from_widget  2022-03-01          lent_from_widget                   Антибарахолки\n",
       "62     260     416    389                      main  2022-03-01                      main                 Главная раздела\n",
       "296    204     305    275           personal_search  2022-03-01           personal_search              Сохраненные поиски\n",
       "420     30      31     30                   product  2022-03-01                   product                 Карточка товара\n",
       "414   3128    3422   3112            product_active  2022-03-01            product_active                Профиль продавца\n",
       "50     541     744    681                      push  2022-03-01                      push                     Уведомление\n",
       "22    1745    3648   3337                    search  2022-03-01                    search                Поиск в миниаппе\n",
       "27     161     269    254        search_classifieds  2022-03-01        search_classifieds                      Поиск в ВК\n",
       "86     140     150    143          seller_subscribe  2022-03-01          seller_subscribe            Подписка на продавца\n",
       "338    590     805    754                  similars  2022-03-01                  similars                         Похожие\n",
       "269   4821    5638   4991                   snippet  2022-03-01                   snippet                         Сниппет\n",
       "154     41      69     64         subscribe_similar  2022-03-01         subscribe_similar             Подписка на похожие\n",
       "23    1413    1668   1312        vk_recommendations  2022-03-01        vk_recommendations                        Портлеты\n",
       "226     19      19     15          widget_from_post  2022-03-01          widget_from_post                   Антибарахолки\n",
       "194   3484    6207   5227                      None  2022-03-02                      None   Неизвестные и прямые переходы\n",
       "320     34      43     43             carousel_feed  2022-03-02             carousel_feed         Карусель на главной ВКО\n",
       "424    209     267    244          carousel_preview  2022-03-02          carousel_preview  Карусель на главной ВКО превью\n",
       "216     12      13     13  carousel_vk_group_manual  2022-03-02  carousel_vk_group_manual        Портлеты (антибарахолки)\n",
       "376    152     197    176                favourites  2022-03-02                favourites                        Закладки\n",
       "265     83      96     91          lent_from_widget  2022-03-02          lent_from_widget                   Антибарахолки\n",
       "197    259     397    362                      main  2022-03-02                      main                 Главная раздела\n",
       "430    233     325    298           personal_search  2022-03-02           personal_search              Сохраненные поиски\n",
       "121     19      27     26                   product  2022-03-02                   product                 Карточка товара\n",
       "115   2982    3218   2926            product_active  2022-03-02            product_active                Профиль продавца\n",
       "186    539     704    596                      push  2022-03-02                      push                     Уведомление\n",
       "157   1821    3953   3612                    search  2022-03-02                    search                Поиск в миниаппе\n",
       "162    161     272    249        search_classifieds  2022-03-02        search_classifieds                      Поиск в ВК\n",
       "221    132     146    142          seller_subscribe  2022-03-02          seller_subscribe            Подписка на продавца\n",
       "36     617     869    806                  similars  2022-03-02                  similars                         Похожие\n",
       "404   4774    5682   5012                   snippet  2022-03-02                   snippet                         Сниппет\n",
       "289     32      44     39         subscribe_similar  2022-03-02         subscribe_similar             Подписка на похожие\n",
       "158   1463    1721   1308        vk_recommendations  2022-03-02        vk_recommendations                        Портлеты\n",
       "363     21      21     15          widget_from_post  2022-03-02          widget_from_post                   Антибарахолки\n",
       "329   3585    6377   5613                      None  2022-03-03                      None   Неизвестные и прямые переходы\n",
       "19      31      42     39             carousel_feed  2022-03-03             carousel_feed         Карусель на главной ВКО\n",
       "125    210     284    265          carousel_preview  2022-03-03          carousel_preview  Карусель на главной ВКО превью\n",
       "353     27      30     28  carousel_vk_group_manual  2022-03-03  carousel_vk_group_manual        Портлеты (антибарахолки)\n",
       "75     145     201    177                favourites  2022-03-03                favourites                        Закладки\n",
       "400     81      86     84          lent_from_widget  2022-03-03          lent_from_widget                   Антибарахолки\n",
       "332    297     477    437                      main  2022-03-03                      main                 Главная раздела\n",
       "132    196     299    269           personal_search  2022-03-03           personal_search              Сохраненные поиски\n",
       "256     21      21     21                   product  2022-03-03                   product                 Карточка товара\n",
       "250   3069    3306   2990            product_active  2022-03-03            product_active                Профиль продавца\n",
       "321    548     763    694                      push  2022-03-03                      push                     Уведомление\n",
       "292   1891    3857   3496                    search  2022-03-03                    search                Поиск в миниаппе\n",
       "297    158     315    292        search_classifieds  2022-03-03        search_classifieds                      Поиск в ВК\n",
       "358    140     156    149          seller_subscribe  2022-03-03          seller_subscribe            Подписка на продавца\n",
       "171    659     955    885                  similars  2022-03-03                  similars                         Похожие\n",
       "104   4945    5863   5222                   snippet  2022-03-03                   snippet                         Сниппет\n",
       "425     38      57     55         subscribe_similar  2022-03-03         subscribe_similar             Подписка на похожие\n",
       "293   1518    1811   1404        vk_recommendations  2022-03-03        vk_recommendations                        Портлеты\n",
       "59      11      11     11          widget_from_post  2022-03-03          widget_from_post                   Антибарахолки"
      ]
     },
     "execution_count": 295,
     "metadata": {},
     "output_type": "execute_result"
    }
   ],
   "source": [
    "df_contact_total"
   ]
  },
  {
   "cell_type": "code",
   "execution_count": 94,
   "id": "c224046c",
   "metadata": {},
   "outputs": [
    {
     "data": {
      "application/vnd.plotly.v1+json": {
       "config": {
        "plotlyServerURL": "https://plot.ly"
       },
       "data": [
        {
         "hovertemplate": "screen_new_alias=Неизвестные и прямые переходы<br>dt=%{x}<br>events=%{y}<extra></extra>",
         "legendgroup": "Неизвестные и прямые переходы",
         "line": {
          "color": "#636efa",
          "dash": "solid"
         },
         "marker": {
          "symbol": "circle"
         },
         "mode": "lines",
         "name": "Неизвестные и прямые переходы",
         "orientation": "v",
         "showlegend": true,
         "type": "scatter",
         "x": [
          "2022-02-11",
          "2022-02-12",
          "2022-02-13",
          "2022-02-14",
          "2022-02-15",
          "2022-02-16",
          "2022-02-17",
          "2022-02-18",
          "2022-02-19",
          "2022-02-20",
          "2022-02-21",
          "2022-02-22",
          "2022-02-23",
          "2022-02-24",
          "2022-02-25",
          "2022-02-26",
          "2022-02-27",
          "2022-02-28",
          "2022-03-01",
          "2022-03-02",
          "2022-03-03"
         ],
         "xaxis": "x",
         "y": [
          9435,
          9064,
          9851,
          9063,
          11138,
          10793,
          10768,
          10053,
          8693,
          8128,
          7889,
          6098,
          5986,
          4592,
          4612,
          5525,
          4585,
          5603,
          5026,
          6207,
          6377
         ],
         "yaxis": "y"
        },
        {
         "hovertemplate": "screen_new_alias=Карусель на главной ВКО<br>dt=%{x}<br>events=%{y}<extra></extra>",
         "legendgroup": "Карусель на главной ВКО",
         "line": {
          "color": "#EF553B",
          "dash": "solid"
         },
         "marker": {
          "symbol": "circle"
         },
         "mode": "lines",
         "name": "Карусель на главной ВКО",
         "orientation": "v",
         "showlegend": true,
         "type": "scatter",
         "x": [
          "2022-02-11",
          "2022-02-12",
          "2022-02-13",
          "2022-02-14",
          "2022-02-15",
          "2022-02-16",
          "2022-02-17",
          "2022-02-18",
          "2022-02-19",
          "2022-02-20",
          "2022-02-21",
          "2022-02-22",
          "2022-02-23",
          "2022-02-24",
          "2022-02-25",
          "2022-02-26",
          "2022-02-27",
          "2022-02-28",
          "2022-03-01",
          "2022-03-02",
          "2022-03-03"
         ],
         "xaxis": "x",
         "y": [
          33,
          79,
          60,
          81,
          75,
          60,
          71,
          64,
          77,
          84,
          61,
          41,
          31,
          24,
          40,
          46,
          57,
          37,
          25,
          43,
          42
         ],
         "yaxis": "y"
        },
        {
         "hovertemplate": "screen_new_alias=Карусель на главной ВКО превью<br>dt=%{x}<br>events=%{y}<extra></extra>",
         "legendgroup": "Карусель на главной ВКО превью",
         "line": {
          "color": "#00cc96",
          "dash": "solid"
         },
         "marker": {
          "symbol": "circle"
         },
         "mode": "lines",
         "name": "Карусель на главной ВКО превью",
         "orientation": "v",
         "showlegend": true,
         "type": "scatter",
         "x": [
          "2022-02-11",
          "2022-02-12",
          "2022-02-13",
          "2022-02-14",
          "2022-02-15",
          "2022-02-16",
          "2022-02-17",
          "2022-02-18",
          "2022-02-19",
          "2022-02-20",
          "2022-02-21",
          "2022-02-22",
          "2022-02-23",
          "2022-02-24",
          "2022-02-25",
          "2022-02-26",
          "2022-02-27",
          "2022-02-28",
          "2022-03-01",
          "2022-03-02",
          "2022-03-03"
         ],
         "xaxis": "x",
         "y": [
          466,
          522,
          494,
          493,
          526,
          451,
          494,
          447,
          513,
          637,
          457,
          337,
          279,
          274,
          275,
          294,
          304,
          264,
          275,
          267,
          284
         ],
         "yaxis": "y"
        },
        {
         "hovertemplate": "screen_new_alias=Портлеты (антибарахолки)<br>dt=%{x}<br>events=%{y}<extra></extra>",
         "legendgroup": "Портлеты (антибарахолки)",
         "line": {
          "color": "#ab63fa",
          "dash": "solid"
         },
         "marker": {
          "symbol": "circle"
         },
         "mode": "lines",
         "name": "Портлеты (антибарахолки)",
         "orientation": "v",
         "showlegend": true,
         "type": "scatter",
         "x": [
          "2022-02-11",
          "2022-02-12",
          "2022-02-13",
          "2022-02-14",
          "2022-02-15",
          "2022-02-16",
          "2022-02-17",
          "2022-02-18",
          "2022-02-19",
          "2022-02-20",
          "2022-02-21",
          "2022-02-22",
          "2022-02-23",
          "2022-02-24",
          "2022-02-25",
          "2022-02-26",
          "2022-02-27",
          "2022-02-28",
          "2022-03-01",
          "2022-03-02",
          "2022-03-03"
         ],
         "xaxis": "x",
         "y": [
          4,
          4,
          1,
          3,
          3,
          11,
          11,
          11,
          9,
          3,
          16,
          5,
          13,
          4,
          6,
          11,
          8,
          10,
          9,
          13,
          30
         ],
         "yaxis": "y"
        },
        {
         "hovertemplate": "screen_new_alias=Закладки<br>dt=%{x}<br>events=%{y}<extra></extra>",
         "legendgroup": "Закладки",
         "line": {
          "color": "#FFA15A",
          "dash": "solid"
         },
         "marker": {
          "symbol": "circle"
         },
         "mode": "lines",
         "name": "Закладки",
         "orientation": "v",
         "showlegend": true,
         "type": "scatter",
         "x": [
          "2022-02-11",
          "2022-02-12",
          "2022-02-13",
          "2022-02-14",
          "2022-02-15",
          "2022-02-16",
          "2022-02-17",
          "2022-02-18",
          "2022-02-19",
          "2022-02-20",
          "2022-02-21",
          "2022-02-22",
          "2022-02-23",
          "2022-02-24",
          "2022-02-25",
          "2022-02-26",
          "2022-02-27",
          "2022-02-28",
          "2022-03-01",
          "2022-03-02",
          "2022-03-03"
         ],
         "xaxis": "x",
         "y": [
          719,
          680,
          738,
          689,
          677,
          675,
          683,
          717,
          797,
          916,
          673,
          226,
          197,
          225,
          259,
          254,
          211,
          172,
          240,
          197,
          201
         ],
         "yaxis": "y"
        },
        {
         "hovertemplate": "screen_new_alias=Антибарахолки<br>dt=%{x}<br>events=%{y}<extra></extra>",
         "legendgroup": "Антибарахолки",
         "line": {
          "color": "#19d3f3",
          "dash": "solid"
         },
         "marker": {
          "symbol": "circle"
         },
         "mode": "lines",
         "name": "Антибарахолки",
         "orientation": "v",
         "showlegend": true,
         "type": "scatter",
         "x": [
          "2022-02-11",
          "2022-02-11",
          "2022-02-12",
          "2022-02-12",
          "2022-02-13",
          "2022-02-13",
          "2022-02-14",
          "2022-02-14",
          "2022-02-15",
          "2022-02-15",
          "2022-02-16",
          "2022-02-16",
          "2022-02-17",
          "2022-02-17",
          "2022-02-18",
          "2022-02-18",
          "2022-02-19",
          "2022-02-19",
          "2022-02-20",
          "2022-02-20",
          "2022-02-21",
          "2022-02-21",
          "2022-02-22",
          "2022-02-22",
          "2022-02-23",
          "2022-02-23",
          "2022-02-24",
          "2022-02-24",
          "2022-02-25",
          "2022-02-25",
          "2022-02-26",
          "2022-02-26",
          "2022-02-27",
          "2022-02-27",
          "2022-02-28",
          "2022-02-28",
          "2022-03-01",
          "2022-03-01",
          "2022-03-02",
          "2022-03-02",
          "2022-03-03",
          "2022-03-03"
         ],
         "xaxis": "x",
         "y": [
          80,
          29,
          80,
          31,
          111,
          32,
          99,
          21,
          100,
          38,
          94,
          29,
          79,
          42,
          74,
          39,
          105,
          31,
          126,
          34,
          92,
          23,
          67,
          20,
          67,
          12,
          70,
          19,
          82,
          20,
          70,
          6,
          90,
          15,
          86,
          20,
          69,
          19,
          96,
          21,
          86,
          11
         ],
         "yaxis": "y"
        },
        {
         "hovertemplate": "screen_new_alias=Главная раздела<br>dt=%{x}<br>events=%{y}<extra></extra>",
         "legendgroup": "Главная раздела",
         "line": {
          "color": "#FF6692",
          "dash": "solid"
         },
         "marker": {
          "symbol": "circle"
         },
         "mode": "lines",
         "name": "Главная раздела",
         "orientation": "v",
         "showlegend": true,
         "type": "scatter",
         "x": [
          "2022-02-11",
          "2022-02-12",
          "2022-02-13",
          "2022-02-14",
          "2022-02-15",
          "2022-02-16",
          "2022-02-17",
          "2022-02-18",
          "2022-02-19",
          "2022-02-20",
          "2022-02-21",
          "2022-02-22",
          "2022-02-23",
          "2022-02-24",
          "2022-02-25",
          "2022-02-26",
          "2022-02-27",
          "2022-02-28",
          "2022-03-01",
          "2022-03-02",
          "2022-03-03"
         ],
         "xaxis": "x",
         "y": [
          441,
          454,
          544,
          383,
          424,
          384,
          458,
          383,
          496,
          419,
          419,
          268,
          226,
          238,
          197,
          265,
          198,
          205,
          416,
          397,
          477
         ],
         "yaxis": "y"
        },
        {
         "hovertemplate": "screen_new_alias=Сохраненные поиски<br>dt=%{x}<br>events=%{y}<extra></extra>",
         "legendgroup": "Сохраненные поиски",
         "line": {
          "color": "#B6E880",
          "dash": "solid"
         },
         "marker": {
          "symbol": "circle"
         },
         "mode": "lines",
         "name": "Сохраненные поиски",
         "orientation": "v",
         "showlegend": true,
         "type": "scatter",
         "x": [
          "2022-02-11",
          "2022-02-12",
          "2022-02-13",
          "2022-02-14",
          "2022-02-15",
          "2022-02-16",
          "2022-02-17",
          "2022-02-18",
          "2022-02-19",
          "2022-02-20",
          "2022-02-21",
          "2022-02-22",
          "2022-02-23",
          "2022-02-24",
          "2022-02-25",
          "2022-02-26",
          "2022-02-27",
          "2022-02-28",
          "2022-03-01",
          "2022-03-02",
          "2022-03-03"
         ],
         "xaxis": "x",
         "y": [
          399,
          385,
          396,
          336,
          372,
          297,
          354,
          346,
          331,
          441,
          331,
          321,
          220,
          282,
          265,
          308,
          316,
          287,
          305,
          325,
          299
         ],
         "yaxis": "y"
        },
        {
         "hovertemplate": "screen_new_alias=Карточка товара<br>dt=%{x}<br>events=%{y}<extra></extra>",
         "legendgroup": "Карточка товара",
         "line": {
          "color": "#FF97FF",
          "dash": "solid"
         },
         "marker": {
          "symbol": "circle"
         },
         "mode": "lines",
         "name": "Карточка товара",
         "orientation": "v",
         "showlegend": true,
         "type": "scatter",
         "x": [
          "2022-02-11",
          "2022-02-12",
          "2022-02-13",
          "2022-02-14",
          "2022-02-15",
          "2022-02-16",
          "2022-02-17",
          "2022-02-18",
          "2022-02-19",
          "2022-02-20",
          "2022-02-21",
          "2022-02-22",
          "2022-02-23",
          "2022-02-24",
          "2022-02-25",
          "2022-02-26",
          "2022-02-27",
          "2022-02-28",
          "2022-03-01",
          "2022-03-02",
          "2022-03-03"
         ],
         "xaxis": "x",
         "y": [
          68,
          43,
          42,
          51,
          47,
          40,
          39,
          45,
          51,
          47,
          46,
          28,
          12,
          23,
          21,
          16,
          36,
          30,
          31,
          27,
          21
         ],
         "yaxis": "y"
        },
        {
         "hovertemplate": "screen_new_alias=Профиль продавца<br>dt=%{x}<br>events=%{y}<extra></extra>",
         "legendgroup": "Профиль продавца",
         "line": {
          "color": "#FECB52",
          "dash": "solid"
         },
         "marker": {
          "symbol": "circle"
         },
         "mode": "lines",
         "name": "Профиль продавца",
         "orientation": "v",
         "showlegend": true,
         "type": "scatter",
         "x": [
          "2022-02-11",
          "2022-02-12",
          "2022-02-13",
          "2022-02-14",
          "2022-02-15",
          "2022-02-16",
          "2022-02-17",
          "2022-02-18",
          "2022-02-19",
          "2022-02-20",
          "2022-02-21",
          "2022-02-22",
          "2022-02-23",
          "2022-02-24",
          "2022-02-25",
          "2022-02-26",
          "2022-02-27",
          "2022-02-28",
          "2022-03-01",
          "2022-03-02",
          "2022-03-03"
         ],
         "xaxis": "x",
         "y": [
          3073,
          3064,
          3331,
          3096,
          3220,
          3189,
          3165,
          2994,
          3051,
          3325,
          3354,
          3187,
          2991,
          2890,
          2825,
          2969,
          3281,
          3277,
          3422,
          3218,
          3306
         ],
         "yaxis": "y"
        },
        {
         "hovertemplate": "screen_new_alias=Уведомление<br>dt=%{x}<br>events=%{y}<extra></extra>",
         "legendgroup": "Уведомление",
         "line": {
          "color": "#636efa",
          "dash": "solid"
         },
         "marker": {
          "symbol": "circle"
         },
         "mode": "lines",
         "name": "Уведомление",
         "orientation": "v",
         "showlegend": true,
         "type": "scatter",
         "x": [
          "2022-02-11",
          "2022-02-12",
          "2022-02-13",
          "2022-02-14",
          "2022-02-15",
          "2022-02-16",
          "2022-02-17",
          "2022-02-18",
          "2022-02-19",
          "2022-02-20",
          "2022-02-21",
          "2022-02-22",
          "2022-02-23",
          "2022-02-24",
          "2022-02-25",
          "2022-02-26",
          "2022-02-27",
          "2022-02-28",
          "2022-03-01",
          "2022-03-02",
          "2022-03-03"
         ],
         "xaxis": "x",
         "y": [
          1135,
          957,
          1089,
          935,
          1100,
          1087,
          1095,
          1107,
          1174,
          1183,
          1233,
          989,
          815,
          803,
          748,
          715,
          637,
          763,
          744,
          704,
          763
         ],
         "yaxis": "y"
        },
        {
         "hovertemplate": "screen_new_alias=Поиск в миниаппе<br>dt=%{x}<br>events=%{y}<extra></extra>",
         "legendgroup": "Поиск в миниаппе",
         "line": {
          "color": "#EF553B",
          "dash": "solid"
         },
         "marker": {
          "symbol": "circle"
         },
         "mode": "lines",
         "name": "Поиск в миниаппе",
         "orientation": "v",
         "showlegend": true,
         "type": "scatter",
         "x": [
          "2022-02-11",
          "2022-02-12",
          "2022-02-13",
          "2022-02-14",
          "2022-02-15",
          "2022-02-16",
          "2022-02-17",
          "2022-02-18",
          "2022-02-19",
          "2022-02-20",
          "2022-02-21",
          "2022-02-22",
          "2022-02-23",
          "2022-02-24",
          "2022-02-25",
          "2022-02-26",
          "2022-02-27",
          "2022-02-28",
          "2022-03-01",
          "2022-03-02",
          "2022-03-03"
         ],
         "xaxis": "x",
         "y": [
          6327,
          6632,
          6699,
          5771,
          6135,
          5887,
          6462,
          5859,
          6625,
          6036,
          5347,
          3712,
          3484,
          3192,
          3405,
          3622,
          3791,
          3940,
          3648,
          3953,
          3857
         ],
         "yaxis": "y"
        },
        {
         "hovertemplate": "screen_new_alias=Поиск в ВК<br>dt=%{x}<br>events=%{y}<extra></extra>",
         "legendgroup": "Поиск в ВК",
         "line": {
          "color": "#00cc96",
          "dash": "solid"
         },
         "marker": {
          "symbol": "circle"
         },
         "mode": "lines",
         "name": "Поиск в ВК",
         "orientation": "v",
         "showlegend": true,
         "type": "scatter",
         "x": [
          "2022-02-11",
          "2022-02-12",
          "2022-02-13",
          "2022-02-14",
          "2022-02-15",
          "2022-02-16",
          "2022-02-17",
          "2022-02-18",
          "2022-02-19",
          "2022-02-20",
          "2022-02-21",
          "2022-02-22",
          "2022-02-23",
          "2022-02-24",
          "2022-02-25",
          "2022-02-26",
          "2022-02-27",
          "2022-02-28",
          "2022-03-01",
          "2022-03-02",
          "2022-03-03"
         ],
         "xaxis": "x",
         "y": [
          575,
          628,
          610,
          583,
          638,
          621,
          558,
          552,
          509,
          753,
          456,
          223,
          661,
          228,
          196,
          257,
          227,
          265,
          269,
          272,
          315
         ],
         "yaxis": "y"
        },
        {
         "hovertemplate": "screen_new_alias=Подписка на продавца<br>dt=%{x}<br>events=%{y}<extra></extra>",
         "legendgroup": "Подписка на продавца",
         "line": {
          "color": "#ab63fa",
          "dash": "solid"
         },
         "marker": {
          "symbol": "circle"
         },
         "mode": "lines",
         "name": "Подписка на продавца",
         "orientation": "v",
         "showlegend": true,
         "type": "scatter",
         "x": [
          "2022-02-11",
          "2022-02-12",
          "2022-02-13",
          "2022-02-14",
          "2022-02-15",
          "2022-02-16",
          "2022-02-17",
          "2022-02-18",
          "2022-02-19",
          "2022-02-20",
          "2022-02-21",
          "2022-02-22",
          "2022-02-23",
          "2022-02-24",
          "2022-02-25",
          "2022-02-26",
          "2022-02-27",
          "2022-02-28",
          "2022-03-01",
          "2022-03-02",
          "2022-03-03"
         ],
         "xaxis": "x",
         "y": [
          155,
          164,
          194,
          147,
          146,
          182,
          156,
          154,
          203,
          220,
          209,
          149,
          136,
          141,
          128,
          104,
          159,
          129,
          150,
          146,
          156
         ],
         "yaxis": "y"
        },
        {
         "hovertemplate": "screen_new_alias=Похожие<br>dt=%{x}<br>events=%{y}<extra></extra>",
         "legendgroup": "Похожие",
         "line": {
          "color": "#FFA15A",
          "dash": "solid"
         },
         "marker": {
          "symbol": "circle"
         },
         "mode": "lines",
         "name": "Похожие",
         "orientation": "v",
         "showlegend": true,
         "type": "scatter",
         "x": [
          "2022-02-11",
          "2022-02-12",
          "2022-02-13",
          "2022-02-14",
          "2022-02-15",
          "2022-02-16",
          "2022-02-17",
          "2022-02-18",
          "2022-02-19",
          "2022-02-20",
          "2022-02-21",
          "2022-02-22",
          "2022-02-23",
          "2022-02-24",
          "2022-02-25",
          "2022-02-26",
          "2022-02-27",
          "2022-02-28",
          "2022-03-01",
          "2022-03-02",
          "2022-03-03"
         ],
         "xaxis": "x",
         "y": [
          1769,
          1813,
          1922,
          1684,
          1873,
          1818,
          1748,
          1662,
          1803,
          2134,
          1611,
          991,
          1159,
          913,
          835,
          951,
          933,
          874,
          805,
          869,
          955
         ],
         "yaxis": "y"
        },
        {
         "hovertemplate": "screen_new_alias=Сниппет<br>dt=%{x}<br>events=%{y}<extra></extra>",
         "legendgroup": "Сниппет",
         "line": {
          "color": "#19d3f3",
          "dash": "solid"
         },
         "marker": {
          "symbol": "circle"
         },
         "mode": "lines",
         "name": "Сниппет",
         "orientation": "v",
         "showlegend": true,
         "type": "scatter",
         "x": [
          "2022-02-11",
          "2022-02-12",
          "2022-02-13",
          "2022-02-14",
          "2022-02-15",
          "2022-02-16",
          "2022-02-17",
          "2022-02-18",
          "2022-02-19",
          "2022-02-20",
          "2022-02-21",
          "2022-02-22",
          "2022-02-23",
          "2022-02-24",
          "2022-02-25",
          "2022-02-26",
          "2022-02-27",
          "2022-02-28",
          "2022-03-01",
          "2022-03-02",
          "2022-03-03"
         ],
         "xaxis": "x",
         "y": [
          7972,
          8035,
          8706,
          8515,
          8819,
          8538,
          8260,
          7932,
          7951,
          9161,
          7340,
          5601,
          5094,
          5021,
          4883,
          5060,
          5619,
          5631,
          5638,
          5682,
          5863
         ],
         "yaxis": "y"
        },
        {
         "hovertemplate": "screen_new_alias=Подписка на похожие<br>dt=%{x}<br>events=%{y}<extra></extra>",
         "legendgroup": "Подписка на похожие",
         "line": {
          "color": "#FF6692",
          "dash": "solid"
         },
         "marker": {
          "symbol": "circle"
         },
         "mode": "lines",
         "name": "Подписка на похожие",
         "orientation": "v",
         "showlegend": true,
         "type": "scatter",
         "x": [
          "2022-02-11",
          "2022-02-12",
          "2022-02-13",
          "2022-02-14",
          "2022-02-15",
          "2022-02-16",
          "2022-02-17",
          "2022-02-18",
          "2022-02-19",
          "2022-02-20",
          "2022-02-21",
          "2022-02-22",
          "2022-02-23",
          "2022-02-24",
          "2022-02-25",
          "2022-02-26",
          "2022-02-27",
          "2022-02-28",
          "2022-03-01",
          "2022-03-02",
          "2022-03-03"
         ],
         "xaxis": "x",
         "y": [
          89,
          74,
          76,
          60,
          74,
          65,
          64,
          51,
          57,
          91,
          84,
          47,
          56,
          50,
          68,
          64,
          70,
          64,
          69,
          44,
          57
         ],
         "yaxis": "y"
        },
        {
         "hovertemplate": "screen_new_alias=Рекламные ссылке в ленте ВК<br>dt=%{x}<br>events=%{y}<extra></extra>",
         "legendgroup": "Рекламные ссылке в ленте ВК",
         "line": {
          "color": "#B6E880",
          "dash": "solid"
         },
         "marker": {
          "symbol": "circle"
         },
         "mode": "lines",
         "name": "Рекламные ссылке в ленте ВК",
         "orientation": "v",
         "showlegend": true,
         "type": "scatter",
         "x": [
          "2022-02-11",
          "2022-02-12",
          "2022-02-13",
          "2022-02-14",
          "2022-02-15",
          "2022-02-16",
          "2022-02-17",
          "2022-02-18",
          "2022-02-19",
          "2022-02-20",
          "2022-02-21",
          "2022-02-22",
          "2022-02-23",
          "2022-02-24",
          "2022-02-25"
         ],
         "xaxis": "x",
         "y": [
          1560,
          1738,
          1798,
          1530,
          1733,
          1892,
          1815,
          1760,
          2305,
          2621,
          2254,
          1796,
          1946,
          972,
          5
         ],
         "yaxis": "y"
        },
        {
         "hovertemplate": "screen_new_alias=Портлеты<br>dt=%{x}<br>events=%{y}<extra></extra>",
         "legendgroup": "Портлеты",
         "line": {
          "color": "#FF97FF",
          "dash": "solid"
         },
         "marker": {
          "symbol": "circle"
         },
         "mode": "lines",
         "name": "Портлеты",
         "orientation": "v",
         "showlegend": true,
         "type": "scatter",
         "x": [
          "2022-02-11",
          "2022-02-12",
          "2022-02-13",
          "2022-02-14",
          "2022-02-15",
          "2022-02-16",
          "2022-02-17",
          "2022-02-18",
          "2022-02-19",
          "2022-02-20",
          "2022-02-21",
          "2022-02-22",
          "2022-02-23",
          "2022-02-24",
          "2022-02-25",
          "2022-02-26",
          "2022-02-27",
          "2022-02-28",
          "2022-03-01",
          "2022-03-02",
          "2022-03-03"
         ],
         "xaxis": "x",
         "y": [
          2539,
          3059,
          3279,
          3011,
          3178,
          3047,
          3202,
          2955,
          2753,
          3108,
          2408,
          1692,
          1784,
          1467,
          1505,
          1520,
          1710,
          1661,
          1668,
          1721,
          1811
         ],
         "yaxis": "y"
        }
       ],
       "layout": {
        "legend": {
         "title": {
          "text": "screen_new_alias"
         },
         "tracegroupgap": 0
        },
        "template": {
         "data": {
          "bar": [
           {
            "error_x": {
             "color": "#2a3f5f"
            },
            "error_y": {
             "color": "#2a3f5f"
            },
            "marker": {
             "line": {
              "color": "#E5ECF6",
              "width": 0.5
             },
             "pattern": {
              "fillmode": "overlay",
              "size": 10,
              "solidity": 0.2
             }
            },
            "type": "bar"
           }
          ],
          "barpolar": [
           {
            "marker": {
             "line": {
              "color": "#E5ECF6",
              "width": 0.5
             },
             "pattern": {
              "fillmode": "overlay",
              "size": 10,
              "solidity": 0.2
             }
            },
            "type": "barpolar"
           }
          ],
          "carpet": [
           {
            "aaxis": {
             "endlinecolor": "#2a3f5f",
             "gridcolor": "white",
             "linecolor": "white",
             "minorgridcolor": "white",
             "startlinecolor": "#2a3f5f"
            },
            "baxis": {
             "endlinecolor": "#2a3f5f",
             "gridcolor": "white",
             "linecolor": "white",
             "minorgridcolor": "white",
             "startlinecolor": "#2a3f5f"
            },
            "type": "carpet"
           }
          ],
          "choropleth": [
           {
            "colorbar": {
             "outlinewidth": 0,
             "ticks": ""
            },
            "type": "choropleth"
           }
          ],
          "contour": [
           {
            "colorbar": {
             "outlinewidth": 0,
             "ticks": ""
            },
            "colorscale": [
             [
              0,
              "#0d0887"
             ],
             [
              0.1111111111111111,
              "#46039f"
             ],
             [
              0.2222222222222222,
              "#7201a8"
             ],
             [
              0.3333333333333333,
              "#9c179e"
             ],
             [
              0.4444444444444444,
              "#bd3786"
             ],
             [
              0.5555555555555556,
              "#d8576b"
             ],
             [
              0.6666666666666666,
              "#ed7953"
             ],
             [
              0.7777777777777778,
              "#fb9f3a"
             ],
             [
              0.8888888888888888,
              "#fdca26"
             ],
             [
              1,
              "#f0f921"
             ]
            ],
            "type": "contour"
           }
          ],
          "contourcarpet": [
           {
            "colorbar": {
             "outlinewidth": 0,
             "ticks": ""
            },
            "type": "contourcarpet"
           }
          ],
          "heatmap": [
           {
            "colorbar": {
             "outlinewidth": 0,
             "ticks": ""
            },
            "colorscale": [
             [
              0,
              "#0d0887"
             ],
             [
              0.1111111111111111,
              "#46039f"
             ],
             [
              0.2222222222222222,
              "#7201a8"
             ],
             [
              0.3333333333333333,
              "#9c179e"
             ],
             [
              0.4444444444444444,
              "#bd3786"
             ],
             [
              0.5555555555555556,
              "#d8576b"
             ],
             [
              0.6666666666666666,
              "#ed7953"
             ],
             [
              0.7777777777777778,
              "#fb9f3a"
             ],
             [
              0.8888888888888888,
              "#fdca26"
             ],
             [
              1,
              "#f0f921"
             ]
            ],
            "type": "heatmap"
           }
          ],
          "heatmapgl": [
           {
            "colorbar": {
             "outlinewidth": 0,
             "ticks": ""
            },
            "colorscale": [
             [
              0,
              "#0d0887"
             ],
             [
              0.1111111111111111,
              "#46039f"
             ],
             [
              0.2222222222222222,
              "#7201a8"
             ],
             [
              0.3333333333333333,
              "#9c179e"
             ],
             [
              0.4444444444444444,
              "#bd3786"
             ],
             [
              0.5555555555555556,
              "#d8576b"
             ],
             [
              0.6666666666666666,
              "#ed7953"
             ],
             [
              0.7777777777777778,
              "#fb9f3a"
             ],
             [
              0.8888888888888888,
              "#fdca26"
             ],
             [
              1,
              "#f0f921"
             ]
            ],
            "type": "heatmapgl"
           }
          ],
          "histogram": [
           {
            "marker": {
             "pattern": {
              "fillmode": "overlay",
              "size": 10,
              "solidity": 0.2
             }
            },
            "type": "histogram"
           }
          ],
          "histogram2d": [
           {
            "colorbar": {
             "outlinewidth": 0,
             "ticks": ""
            },
            "colorscale": [
             [
              0,
              "#0d0887"
             ],
             [
              0.1111111111111111,
              "#46039f"
             ],
             [
              0.2222222222222222,
              "#7201a8"
             ],
             [
              0.3333333333333333,
              "#9c179e"
             ],
             [
              0.4444444444444444,
              "#bd3786"
             ],
             [
              0.5555555555555556,
              "#d8576b"
             ],
             [
              0.6666666666666666,
              "#ed7953"
             ],
             [
              0.7777777777777778,
              "#fb9f3a"
             ],
             [
              0.8888888888888888,
              "#fdca26"
             ],
             [
              1,
              "#f0f921"
             ]
            ],
            "type": "histogram2d"
           }
          ],
          "histogram2dcontour": [
           {
            "colorbar": {
             "outlinewidth": 0,
             "ticks": ""
            },
            "colorscale": [
             [
              0,
              "#0d0887"
             ],
             [
              0.1111111111111111,
              "#46039f"
             ],
             [
              0.2222222222222222,
              "#7201a8"
             ],
             [
              0.3333333333333333,
              "#9c179e"
             ],
             [
              0.4444444444444444,
              "#bd3786"
             ],
             [
              0.5555555555555556,
              "#d8576b"
             ],
             [
              0.6666666666666666,
              "#ed7953"
             ],
             [
              0.7777777777777778,
              "#fb9f3a"
             ],
             [
              0.8888888888888888,
              "#fdca26"
             ],
             [
              1,
              "#f0f921"
             ]
            ],
            "type": "histogram2dcontour"
           }
          ],
          "mesh3d": [
           {
            "colorbar": {
             "outlinewidth": 0,
             "ticks": ""
            },
            "type": "mesh3d"
           }
          ],
          "parcoords": [
           {
            "line": {
             "colorbar": {
              "outlinewidth": 0,
              "ticks": ""
             }
            },
            "type": "parcoords"
           }
          ],
          "pie": [
           {
            "automargin": true,
            "type": "pie"
           }
          ],
          "scatter": [
           {
            "marker": {
             "colorbar": {
              "outlinewidth": 0,
              "ticks": ""
             }
            },
            "type": "scatter"
           }
          ],
          "scatter3d": [
           {
            "line": {
             "colorbar": {
              "outlinewidth": 0,
              "ticks": ""
             }
            },
            "marker": {
             "colorbar": {
              "outlinewidth": 0,
              "ticks": ""
             }
            },
            "type": "scatter3d"
           }
          ],
          "scattercarpet": [
           {
            "marker": {
             "colorbar": {
              "outlinewidth": 0,
              "ticks": ""
             }
            },
            "type": "scattercarpet"
           }
          ],
          "scattergeo": [
           {
            "marker": {
             "colorbar": {
              "outlinewidth": 0,
              "ticks": ""
             }
            },
            "type": "scattergeo"
           }
          ],
          "scattergl": [
           {
            "marker": {
             "colorbar": {
              "outlinewidth": 0,
              "ticks": ""
             }
            },
            "type": "scattergl"
           }
          ],
          "scattermapbox": [
           {
            "marker": {
             "colorbar": {
              "outlinewidth": 0,
              "ticks": ""
             }
            },
            "type": "scattermapbox"
           }
          ],
          "scatterpolar": [
           {
            "marker": {
             "colorbar": {
              "outlinewidth": 0,
              "ticks": ""
             }
            },
            "type": "scatterpolar"
           }
          ],
          "scatterpolargl": [
           {
            "marker": {
             "colorbar": {
              "outlinewidth": 0,
              "ticks": ""
             }
            },
            "type": "scatterpolargl"
           }
          ],
          "scatterternary": [
           {
            "marker": {
             "colorbar": {
              "outlinewidth": 0,
              "ticks": ""
             }
            },
            "type": "scatterternary"
           }
          ],
          "surface": [
           {
            "colorbar": {
             "outlinewidth": 0,
             "ticks": ""
            },
            "colorscale": [
             [
              0,
              "#0d0887"
             ],
             [
              0.1111111111111111,
              "#46039f"
             ],
             [
              0.2222222222222222,
              "#7201a8"
             ],
             [
              0.3333333333333333,
              "#9c179e"
             ],
             [
              0.4444444444444444,
              "#bd3786"
             ],
             [
              0.5555555555555556,
              "#d8576b"
             ],
             [
              0.6666666666666666,
              "#ed7953"
             ],
             [
              0.7777777777777778,
              "#fb9f3a"
             ],
             [
              0.8888888888888888,
              "#fdca26"
             ],
             [
              1,
              "#f0f921"
             ]
            ],
            "type": "surface"
           }
          ],
          "table": [
           {
            "cells": {
             "fill": {
              "color": "#EBF0F8"
             },
             "line": {
              "color": "white"
             }
            },
            "header": {
             "fill": {
              "color": "#C8D4E3"
             },
             "line": {
              "color": "white"
             }
            },
            "type": "table"
           }
          ]
         },
         "layout": {
          "annotationdefaults": {
           "arrowcolor": "#2a3f5f",
           "arrowhead": 0,
           "arrowwidth": 1
          },
          "autotypenumbers": "strict",
          "coloraxis": {
           "colorbar": {
            "outlinewidth": 0,
            "ticks": ""
           }
          },
          "colorscale": {
           "diverging": [
            [
             0,
             "#8e0152"
            ],
            [
             0.1,
             "#c51b7d"
            ],
            [
             0.2,
             "#de77ae"
            ],
            [
             0.3,
             "#f1b6da"
            ],
            [
             0.4,
             "#fde0ef"
            ],
            [
             0.5,
             "#f7f7f7"
            ],
            [
             0.6,
             "#e6f5d0"
            ],
            [
             0.7,
             "#b8e186"
            ],
            [
             0.8,
             "#7fbc41"
            ],
            [
             0.9,
             "#4d9221"
            ],
            [
             1,
             "#276419"
            ]
           ],
           "sequential": [
            [
             0,
             "#0d0887"
            ],
            [
             0.1111111111111111,
             "#46039f"
            ],
            [
             0.2222222222222222,
             "#7201a8"
            ],
            [
             0.3333333333333333,
             "#9c179e"
            ],
            [
             0.4444444444444444,
             "#bd3786"
            ],
            [
             0.5555555555555556,
             "#d8576b"
            ],
            [
             0.6666666666666666,
             "#ed7953"
            ],
            [
             0.7777777777777778,
             "#fb9f3a"
            ],
            [
             0.8888888888888888,
             "#fdca26"
            ],
            [
             1,
             "#f0f921"
            ]
           ],
           "sequentialminus": [
            [
             0,
             "#0d0887"
            ],
            [
             0.1111111111111111,
             "#46039f"
            ],
            [
             0.2222222222222222,
             "#7201a8"
            ],
            [
             0.3333333333333333,
             "#9c179e"
            ],
            [
             0.4444444444444444,
             "#bd3786"
            ],
            [
             0.5555555555555556,
             "#d8576b"
            ],
            [
             0.6666666666666666,
             "#ed7953"
            ],
            [
             0.7777777777777778,
             "#fb9f3a"
            ],
            [
             0.8888888888888888,
             "#fdca26"
            ],
            [
             1,
             "#f0f921"
            ]
           ]
          },
          "colorway": [
           "#636efa",
           "#EF553B",
           "#00cc96",
           "#ab63fa",
           "#FFA15A",
           "#19d3f3",
           "#FF6692",
           "#B6E880",
           "#FF97FF",
           "#FECB52"
          ],
          "font": {
           "color": "#2a3f5f"
          },
          "geo": {
           "bgcolor": "white",
           "lakecolor": "white",
           "landcolor": "#E5ECF6",
           "showlakes": true,
           "showland": true,
           "subunitcolor": "white"
          },
          "hoverlabel": {
           "align": "left"
          },
          "hovermode": "closest",
          "mapbox": {
           "style": "light"
          },
          "paper_bgcolor": "white",
          "plot_bgcolor": "#E5ECF6",
          "polar": {
           "angularaxis": {
            "gridcolor": "white",
            "linecolor": "white",
            "ticks": ""
           },
           "bgcolor": "#E5ECF6",
           "radialaxis": {
            "gridcolor": "white",
            "linecolor": "white",
            "ticks": ""
           }
          },
          "scene": {
           "xaxis": {
            "backgroundcolor": "#E5ECF6",
            "gridcolor": "white",
            "gridwidth": 2,
            "linecolor": "white",
            "showbackground": true,
            "ticks": "",
            "zerolinecolor": "white"
           },
           "yaxis": {
            "backgroundcolor": "#E5ECF6",
            "gridcolor": "white",
            "gridwidth": 2,
            "linecolor": "white",
            "showbackground": true,
            "ticks": "",
            "zerolinecolor": "white"
           },
           "zaxis": {
            "backgroundcolor": "#E5ECF6",
            "gridcolor": "white",
            "gridwidth": 2,
            "linecolor": "white",
            "showbackground": true,
            "ticks": "",
            "zerolinecolor": "white"
           }
          },
          "shapedefaults": {
           "line": {
            "color": "#2a3f5f"
           }
          },
          "ternary": {
           "aaxis": {
            "gridcolor": "white",
            "linecolor": "white",
            "ticks": ""
           },
           "baxis": {
            "gridcolor": "white",
            "linecolor": "white",
            "ticks": ""
           },
           "bgcolor": "#E5ECF6",
           "caxis": {
            "gridcolor": "white",
            "linecolor": "white",
            "ticks": ""
           }
          },
          "title": {
           "x": 0.05
          },
          "xaxis": {
           "automargin": true,
           "gridcolor": "white",
           "linecolor": "white",
           "ticks": "",
           "title": {
            "standoff": 15
           },
           "zerolinecolor": "white",
           "zerolinewidth": 2
          },
          "yaxis": {
           "automargin": true,
           "gridcolor": "white",
           "linecolor": "white",
           "ticks": "",
           "title": {
            "standoff": 15
           },
           "zerolinecolor": "white",
           "zerolinewidth": 2
          }
         }
        },
        "title": {
         "text": "Распределение контактов, события"
        },
        "xaxis": {
         "anchor": "y",
         "domain": [
          0,
          1
         ],
         "title": {
          "text": "dt"
         }
        },
        "yaxis": {
         "anchor": "x",
         "domain": [
          0,
          1
         ],
         "title": {
          "text": "events"
         }
        }
       }
      },
      "text/html": [
       "<div>                            <div id=\"ea956565-6823-48d0-8ab1-752a877fe15d\" class=\"plotly-graph-div\" style=\"height:525px; width:100%;\"></div>            <script type=\"text/javascript\">                require([\"plotly\"], function(Plotly) {                    window.PLOTLYENV=window.PLOTLYENV || {};                                    if (document.getElementById(\"ea956565-6823-48d0-8ab1-752a877fe15d\")) {                    Plotly.newPlot(                        \"ea956565-6823-48d0-8ab1-752a877fe15d\",                        [{\"hovertemplate\":\"screen_new_alias=\\u041d\\u0435\\u0438\\u0437\\u0432\\u0435\\u0441\\u0442\\u043d\\u044b\\u0435 \\u0438 \\u043f\\u0440\\u044f\\u043c\\u044b\\u0435 \\u043f\\u0435\\u0440\\u0435\\u0445\\u043e\\u0434\\u044b<br>dt=%{x}<br>events=%{y}<extra></extra>\",\"legendgroup\":\"\\u041d\\u0435\\u0438\\u0437\\u0432\\u0435\\u0441\\u0442\\u043d\\u044b\\u0435 \\u0438 \\u043f\\u0440\\u044f\\u043c\\u044b\\u0435 \\u043f\\u0435\\u0440\\u0435\\u0445\\u043e\\u0434\\u044b\",\"line\":{\"color\":\"#636efa\",\"dash\":\"solid\"},\"marker\":{\"symbol\":\"circle\"},\"mode\":\"lines\",\"name\":\"\\u041d\\u0435\\u0438\\u0437\\u0432\\u0435\\u0441\\u0442\\u043d\\u044b\\u0435 \\u0438 \\u043f\\u0440\\u044f\\u043c\\u044b\\u0435 \\u043f\\u0435\\u0440\\u0435\\u0445\\u043e\\u0434\\u044b\",\"orientation\":\"v\",\"showlegend\":true,\"type\":\"scatter\",\"x\":[\"2022-02-11\",\"2022-02-12\",\"2022-02-13\",\"2022-02-14\",\"2022-02-15\",\"2022-02-16\",\"2022-02-17\",\"2022-02-18\",\"2022-02-19\",\"2022-02-20\",\"2022-02-21\",\"2022-02-22\",\"2022-02-23\",\"2022-02-24\",\"2022-02-25\",\"2022-02-26\",\"2022-02-27\",\"2022-02-28\",\"2022-03-01\",\"2022-03-02\",\"2022-03-03\"],\"xaxis\":\"x\",\"y\":[9435,9064,9851,9063,11138,10793,10768,10053,8693,8128,7889,6098,5986,4592,4612,5525,4585,5603,5026,6207,6377],\"yaxis\":\"y\"},{\"hovertemplate\":\"screen_new_alias=\\u041a\\u0430\\u0440\\u0443\\u0441\\u0435\\u043b\\u044c \\u043d\\u0430 \\u0433\\u043b\\u0430\\u0432\\u043d\\u043e\\u0439 \\u0412\\u041a\\u041e<br>dt=%{x}<br>events=%{y}<extra></extra>\",\"legendgroup\":\"\\u041a\\u0430\\u0440\\u0443\\u0441\\u0435\\u043b\\u044c \\u043d\\u0430 \\u0433\\u043b\\u0430\\u0432\\u043d\\u043e\\u0439 \\u0412\\u041a\\u041e\",\"line\":{\"color\":\"#EF553B\",\"dash\":\"solid\"},\"marker\":{\"symbol\":\"circle\"},\"mode\":\"lines\",\"name\":\"\\u041a\\u0430\\u0440\\u0443\\u0441\\u0435\\u043b\\u044c \\u043d\\u0430 \\u0433\\u043b\\u0430\\u0432\\u043d\\u043e\\u0439 \\u0412\\u041a\\u041e\",\"orientation\":\"v\",\"showlegend\":true,\"type\":\"scatter\",\"x\":[\"2022-02-11\",\"2022-02-12\",\"2022-02-13\",\"2022-02-14\",\"2022-02-15\",\"2022-02-16\",\"2022-02-17\",\"2022-02-18\",\"2022-02-19\",\"2022-02-20\",\"2022-02-21\",\"2022-02-22\",\"2022-02-23\",\"2022-02-24\",\"2022-02-25\",\"2022-02-26\",\"2022-02-27\",\"2022-02-28\",\"2022-03-01\",\"2022-03-02\",\"2022-03-03\"],\"xaxis\":\"x\",\"y\":[33,79,60,81,75,60,71,64,77,84,61,41,31,24,40,46,57,37,25,43,42],\"yaxis\":\"y\"},{\"hovertemplate\":\"screen_new_alias=\\u041a\\u0430\\u0440\\u0443\\u0441\\u0435\\u043b\\u044c \\u043d\\u0430 \\u0433\\u043b\\u0430\\u0432\\u043d\\u043e\\u0439 \\u0412\\u041a\\u041e \\u043f\\u0440\\u0435\\u0432\\u044c\\u044e<br>dt=%{x}<br>events=%{y}<extra></extra>\",\"legendgroup\":\"\\u041a\\u0430\\u0440\\u0443\\u0441\\u0435\\u043b\\u044c \\u043d\\u0430 \\u0433\\u043b\\u0430\\u0432\\u043d\\u043e\\u0439 \\u0412\\u041a\\u041e \\u043f\\u0440\\u0435\\u0432\\u044c\\u044e\",\"line\":{\"color\":\"#00cc96\",\"dash\":\"solid\"},\"marker\":{\"symbol\":\"circle\"},\"mode\":\"lines\",\"name\":\"\\u041a\\u0430\\u0440\\u0443\\u0441\\u0435\\u043b\\u044c \\u043d\\u0430 \\u0433\\u043b\\u0430\\u0432\\u043d\\u043e\\u0439 \\u0412\\u041a\\u041e \\u043f\\u0440\\u0435\\u0432\\u044c\\u044e\",\"orientation\":\"v\",\"showlegend\":true,\"type\":\"scatter\",\"x\":[\"2022-02-11\",\"2022-02-12\",\"2022-02-13\",\"2022-02-14\",\"2022-02-15\",\"2022-02-16\",\"2022-02-17\",\"2022-02-18\",\"2022-02-19\",\"2022-02-20\",\"2022-02-21\",\"2022-02-22\",\"2022-02-23\",\"2022-02-24\",\"2022-02-25\",\"2022-02-26\",\"2022-02-27\",\"2022-02-28\",\"2022-03-01\",\"2022-03-02\",\"2022-03-03\"],\"xaxis\":\"x\",\"y\":[466,522,494,493,526,451,494,447,513,637,457,337,279,274,275,294,304,264,275,267,284],\"yaxis\":\"y\"},{\"hovertemplate\":\"screen_new_alias=\\u041f\\u043e\\u0440\\u0442\\u043b\\u0435\\u0442\\u044b (\\u0430\\u043d\\u0442\\u0438\\u0431\\u0430\\u0440\\u0430\\u0445\\u043e\\u043b\\u043a\\u0438)<br>dt=%{x}<br>events=%{y}<extra></extra>\",\"legendgroup\":\"\\u041f\\u043e\\u0440\\u0442\\u043b\\u0435\\u0442\\u044b (\\u0430\\u043d\\u0442\\u0438\\u0431\\u0430\\u0440\\u0430\\u0445\\u043e\\u043b\\u043a\\u0438)\",\"line\":{\"color\":\"#ab63fa\",\"dash\":\"solid\"},\"marker\":{\"symbol\":\"circle\"},\"mode\":\"lines\",\"name\":\"\\u041f\\u043e\\u0440\\u0442\\u043b\\u0435\\u0442\\u044b (\\u0430\\u043d\\u0442\\u0438\\u0431\\u0430\\u0440\\u0430\\u0445\\u043e\\u043b\\u043a\\u0438)\",\"orientation\":\"v\",\"showlegend\":true,\"type\":\"scatter\",\"x\":[\"2022-02-11\",\"2022-02-12\",\"2022-02-13\",\"2022-02-14\",\"2022-02-15\",\"2022-02-16\",\"2022-02-17\",\"2022-02-18\",\"2022-02-19\",\"2022-02-20\",\"2022-02-21\",\"2022-02-22\",\"2022-02-23\",\"2022-02-24\",\"2022-02-25\",\"2022-02-26\",\"2022-02-27\",\"2022-02-28\",\"2022-03-01\",\"2022-03-02\",\"2022-03-03\"],\"xaxis\":\"x\",\"y\":[4,4,1,3,3,11,11,11,9,3,16,5,13,4,6,11,8,10,9,13,30],\"yaxis\":\"y\"},{\"hovertemplate\":\"screen_new_alias=\\u0417\\u0430\\u043a\\u043b\\u0430\\u0434\\u043a\\u0438<br>dt=%{x}<br>events=%{y}<extra></extra>\",\"legendgroup\":\"\\u0417\\u0430\\u043a\\u043b\\u0430\\u0434\\u043a\\u0438\",\"line\":{\"color\":\"#FFA15A\",\"dash\":\"solid\"},\"marker\":{\"symbol\":\"circle\"},\"mode\":\"lines\",\"name\":\"\\u0417\\u0430\\u043a\\u043b\\u0430\\u0434\\u043a\\u0438\",\"orientation\":\"v\",\"showlegend\":true,\"type\":\"scatter\",\"x\":[\"2022-02-11\",\"2022-02-12\",\"2022-02-13\",\"2022-02-14\",\"2022-02-15\",\"2022-02-16\",\"2022-02-17\",\"2022-02-18\",\"2022-02-19\",\"2022-02-20\",\"2022-02-21\",\"2022-02-22\",\"2022-02-23\",\"2022-02-24\",\"2022-02-25\",\"2022-02-26\",\"2022-02-27\",\"2022-02-28\",\"2022-03-01\",\"2022-03-02\",\"2022-03-03\"],\"xaxis\":\"x\",\"y\":[719,680,738,689,677,675,683,717,797,916,673,226,197,225,259,254,211,172,240,197,201],\"yaxis\":\"y\"},{\"hovertemplate\":\"screen_new_alias=\\u0410\\u043d\\u0442\\u0438\\u0431\\u0430\\u0440\\u0430\\u0445\\u043e\\u043b\\u043a\\u0438<br>dt=%{x}<br>events=%{y}<extra></extra>\",\"legendgroup\":\"\\u0410\\u043d\\u0442\\u0438\\u0431\\u0430\\u0440\\u0430\\u0445\\u043e\\u043b\\u043a\\u0438\",\"line\":{\"color\":\"#19d3f3\",\"dash\":\"solid\"},\"marker\":{\"symbol\":\"circle\"},\"mode\":\"lines\",\"name\":\"\\u0410\\u043d\\u0442\\u0438\\u0431\\u0430\\u0440\\u0430\\u0445\\u043e\\u043b\\u043a\\u0438\",\"orientation\":\"v\",\"showlegend\":true,\"type\":\"scatter\",\"x\":[\"2022-02-11\",\"2022-02-11\",\"2022-02-12\",\"2022-02-12\",\"2022-02-13\",\"2022-02-13\",\"2022-02-14\",\"2022-02-14\",\"2022-02-15\",\"2022-02-15\",\"2022-02-16\",\"2022-02-16\",\"2022-02-17\",\"2022-02-17\",\"2022-02-18\",\"2022-02-18\",\"2022-02-19\",\"2022-02-19\",\"2022-02-20\",\"2022-02-20\",\"2022-02-21\",\"2022-02-21\",\"2022-02-22\",\"2022-02-22\",\"2022-02-23\",\"2022-02-23\",\"2022-02-24\",\"2022-02-24\",\"2022-02-25\",\"2022-02-25\",\"2022-02-26\",\"2022-02-26\",\"2022-02-27\",\"2022-02-27\",\"2022-02-28\",\"2022-02-28\",\"2022-03-01\",\"2022-03-01\",\"2022-03-02\",\"2022-03-02\",\"2022-03-03\",\"2022-03-03\"],\"xaxis\":\"x\",\"y\":[80,29,80,31,111,32,99,21,100,38,94,29,79,42,74,39,105,31,126,34,92,23,67,20,67,12,70,19,82,20,70,6,90,15,86,20,69,19,96,21,86,11],\"yaxis\":\"y\"},{\"hovertemplate\":\"screen_new_alias=\\u0413\\u043b\\u0430\\u0432\\u043d\\u0430\\u044f \\u0440\\u0430\\u0437\\u0434\\u0435\\u043b\\u0430<br>dt=%{x}<br>events=%{y}<extra></extra>\",\"legendgroup\":\"\\u0413\\u043b\\u0430\\u0432\\u043d\\u0430\\u044f \\u0440\\u0430\\u0437\\u0434\\u0435\\u043b\\u0430\",\"line\":{\"color\":\"#FF6692\",\"dash\":\"solid\"},\"marker\":{\"symbol\":\"circle\"},\"mode\":\"lines\",\"name\":\"\\u0413\\u043b\\u0430\\u0432\\u043d\\u0430\\u044f \\u0440\\u0430\\u0437\\u0434\\u0435\\u043b\\u0430\",\"orientation\":\"v\",\"showlegend\":true,\"type\":\"scatter\",\"x\":[\"2022-02-11\",\"2022-02-12\",\"2022-02-13\",\"2022-02-14\",\"2022-02-15\",\"2022-02-16\",\"2022-02-17\",\"2022-02-18\",\"2022-02-19\",\"2022-02-20\",\"2022-02-21\",\"2022-02-22\",\"2022-02-23\",\"2022-02-24\",\"2022-02-25\",\"2022-02-26\",\"2022-02-27\",\"2022-02-28\",\"2022-03-01\",\"2022-03-02\",\"2022-03-03\"],\"xaxis\":\"x\",\"y\":[441,454,544,383,424,384,458,383,496,419,419,268,226,238,197,265,198,205,416,397,477],\"yaxis\":\"y\"},{\"hovertemplate\":\"screen_new_alias=\\u0421\\u043e\\u0445\\u0440\\u0430\\u043d\\u0435\\u043d\\u043d\\u044b\\u0435 \\u043f\\u043e\\u0438\\u0441\\u043a\\u0438<br>dt=%{x}<br>events=%{y}<extra></extra>\",\"legendgroup\":\"\\u0421\\u043e\\u0445\\u0440\\u0430\\u043d\\u0435\\u043d\\u043d\\u044b\\u0435 \\u043f\\u043e\\u0438\\u0441\\u043a\\u0438\",\"line\":{\"color\":\"#B6E880\",\"dash\":\"solid\"},\"marker\":{\"symbol\":\"circle\"},\"mode\":\"lines\",\"name\":\"\\u0421\\u043e\\u0445\\u0440\\u0430\\u043d\\u0435\\u043d\\u043d\\u044b\\u0435 \\u043f\\u043e\\u0438\\u0441\\u043a\\u0438\",\"orientation\":\"v\",\"showlegend\":true,\"type\":\"scatter\",\"x\":[\"2022-02-11\",\"2022-02-12\",\"2022-02-13\",\"2022-02-14\",\"2022-02-15\",\"2022-02-16\",\"2022-02-17\",\"2022-02-18\",\"2022-02-19\",\"2022-02-20\",\"2022-02-21\",\"2022-02-22\",\"2022-02-23\",\"2022-02-24\",\"2022-02-25\",\"2022-02-26\",\"2022-02-27\",\"2022-02-28\",\"2022-03-01\",\"2022-03-02\",\"2022-03-03\"],\"xaxis\":\"x\",\"y\":[399,385,396,336,372,297,354,346,331,441,331,321,220,282,265,308,316,287,305,325,299],\"yaxis\":\"y\"},{\"hovertemplate\":\"screen_new_alias=\\u041a\\u0430\\u0440\\u0442\\u043e\\u0447\\u043a\\u0430 \\u0442\\u043e\\u0432\\u0430\\u0440\\u0430<br>dt=%{x}<br>events=%{y}<extra></extra>\",\"legendgroup\":\"\\u041a\\u0430\\u0440\\u0442\\u043e\\u0447\\u043a\\u0430 \\u0442\\u043e\\u0432\\u0430\\u0440\\u0430\",\"line\":{\"color\":\"#FF97FF\",\"dash\":\"solid\"},\"marker\":{\"symbol\":\"circle\"},\"mode\":\"lines\",\"name\":\"\\u041a\\u0430\\u0440\\u0442\\u043e\\u0447\\u043a\\u0430 \\u0442\\u043e\\u0432\\u0430\\u0440\\u0430\",\"orientation\":\"v\",\"showlegend\":true,\"type\":\"scatter\",\"x\":[\"2022-02-11\",\"2022-02-12\",\"2022-02-13\",\"2022-02-14\",\"2022-02-15\",\"2022-02-16\",\"2022-02-17\",\"2022-02-18\",\"2022-02-19\",\"2022-02-20\",\"2022-02-21\",\"2022-02-22\",\"2022-02-23\",\"2022-02-24\",\"2022-02-25\",\"2022-02-26\",\"2022-02-27\",\"2022-02-28\",\"2022-03-01\",\"2022-03-02\",\"2022-03-03\"],\"xaxis\":\"x\",\"y\":[68,43,42,51,47,40,39,45,51,47,46,28,12,23,21,16,36,30,31,27,21],\"yaxis\":\"y\"},{\"hovertemplate\":\"screen_new_alias=\\u041f\\u0440\\u043e\\u0444\\u0438\\u043b\\u044c \\u043f\\u0440\\u043e\\u0434\\u0430\\u0432\\u0446\\u0430<br>dt=%{x}<br>events=%{y}<extra></extra>\",\"legendgroup\":\"\\u041f\\u0440\\u043e\\u0444\\u0438\\u043b\\u044c \\u043f\\u0440\\u043e\\u0434\\u0430\\u0432\\u0446\\u0430\",\"line\":{\"color\":\"#FECB52\",\"dash\":\"solid\"},\"marker\":{\"symbol\":\"circle\"},\"mode\":\"lines\",\"name\":\"\\u041f\\u0440\\u043e\\u0444\\u0438\\u043b\\u044c \\u043f\\u0440\\u043e\\u0434\\u0430\\u0432\\u0446\\u0430\",\"orientation\":\"v\",\"showlegend\":true,\"type\":\"scatter\",\"x\":[\"2022-02-11\",\"2022-02-12\",\"2022-02-13\",\"2022-02-14\",\"2022-02-15\",\"2022-02-16\",\"2022-02-17\",\"2022-02-18\",\"2022-02-19\",\"2022-02-20\",\"2022-02-21\",\"2022-02-22\",\"2022-02-23\",\"2022-02-24\",\"2022-02-25\",\"2022-02-26\",\"2022-02-27\",\"2022-02-28\",\"2022-03-01\",\"2022-03-02\",\"2022-03-03\"],\"xaxis\":\"x\",\"y\":[3073,3064,3331,3096,3220,3189,3165,2994,3051,3325,3354,3187,2991,2890,2825,2969,3281,3277,3422,3218,3306],\"yaxis\":\"y\"},{\"hovertemplate\":\"screen_new_alias=\\u0423\\u0432\\u0435\\u0434\\u043e\\u043c\\u043b\\u0435\\u043d\\u0438\\u0435<br>dt=%{x}<br>events=%{y}<extra></extra>\",\"legendgroup\":\"\\u0423\\u0432\\u0435\\u0434\\u043e\\u043c\\u043b\\u0435\\u043d\\u0438\\u0435\",\"line\":{\"color\":\"#636efa\",\"dash\":\"solid\"},\"marker\":{\"symbol\":\"circle\"},\"mode\":\"lines\",\"name\":\"\\u0423\\u0432\\u0435\\u0434\\u043e\\u043c\\u043b\\u0435\\u043d\\u0438\\u0435\",\"orientation\":\"v\",\"showlegend\":true,\"type\":\"scatter\",\"x\":[\"2022-02-11\",\"2022-02-12\",\"2022-02-13\",\"2022-02-14\",\"2022-02-15\",\"2022-02-16\",\"2022-02-17\",\"2022-02-18\",\"2022-02-19\",\"2022-02-20\",\"2022-02-21\",\"2022-02-22\",\"2022-02-23\",\"2022-02-24\",\"2022-02-25\",\"2022-02-26\",\"2022-02-27\",\"2022-02-28\",\"2022-03-01\",\"2022-03-02\",\"2022-03-03\"],\"xaxis\":\"x\",\"y\":[1135,957,1089,935,1100,1087,1095,1107,1174,1183,1233,989,815,803,748,715,637,763,744,704,763],\"yaxis\":\"y\"},{\"hovertemplate\":\"screen_new_alias=\\u041f\\u043e\\u0438\\u0441\\u043a \\u0432 \\u043c\\u0438\\u043d\\u0438\\u0430\\u043f\\u043f\\u0435<br>dt=%{x}<br>events=%{y}<extra></extra>\",\"legendgroup\":\"\\u041f\\u043e\\u0438\\u0441\\u043a \\u0432 \\u043c\\u0438\\u043d\\u0438\\u0430\\u043f\\u043f\\u0435\",\"line\":{\"color\":\"#EF553B\",\"dash\":\"solid\"},\"marker\":{\"symbol\":\"circle\"},\"mode\":\"lines\",\"name\":\"\\u041f\\u043e\\u0438\\u0441\\u043a \\u0432 \\u043c\\u0438\\u043d\\u0438\\u0430\\u043f\\u043f\\u0435\",\"orientation\":\"v\",\"showlegend\":true,\"type\":\"scatter\",\"x\":[\"2022-02-11\",\"2022-02-12\",\"2022-02-13\",\"2022-02-14\",\"2022-02-15\",\"2022-02-16\",\"2022-02-17\",\"2022-02-18\",\"2022-02-19\",\"2022-02-20\",\"2022-02-21\",\"2022-02-22\",\"2022-02-23\",\"2022-02-24\",\"2022-02-25\",\"2022-02-26\",\"2022-02-27\",\"2022-02-28\",\"2022-03-01\",\"2022-03-02\",\"2022-03-03\"],\"xaxis\":\"x\",\"y\":[6327,6632,6699,5771,6135,5887,6462,5859,6625,6036,5347,3712,3484,3192,3405,3622,3791,3940,3648,3953,3857],\"yaxis\":\"y\"},{\"hovertemplate\":\"screen_new_alias=\\u041f\\u043e\\u0438\\u0441\\u043a \\u0432 \\u0412\\u041a<br>dt=%{x}<br>events=%{y}<extra></extra>\",\"legendgroup\":\"\\u041f\\u043e\\u0438\\u0441\\u043a \\u0432 \\u0412\\u041a\",\"line\":{\"color\":\"#00cc96\",\"dash\":\"solid\"},\"marker\":{\"symbol\":\"circle\"},\"mode\":\"lines\",\"name\":\"\\u041f\\u043e\\u0438\\u0441\\u043a \\u0432 \\u0412\\u041a\",\"orientation\":\"v\",\"showlegend\":true,\"type\":\"scatter\",\"x\":[\"2022-02-11\",\"2022-02-12\",\"2022-02-13\",\"2022-02-14\",\"2022-02-15\",\"2022-02-16\",\"2022-02-17\",\"2022-02-18\",\"2022-02-19\",\"2022-02-20\",\"2022-02-21\",\"2022-02-22\",\"2022-02-23\",\"2022-02-24\",\"2022-02-25\",\"2022-02-26\",\"2022-02-27\",\"2022-02-28\",\"2022-03-01\",\"2022-03-02\",\"2022-03-03\"],\"xaxis\":\"x\",\"y\":[575,628,610,583,638,621,558,552,509,753,456,223,661,228,196,257,227,265,269,272,315],\"yaxis\":\"y\"},{\"hovertemplate\":\"screen_new_alias=\\u041f\\u043e\\u0434\\u043f\\u0438\\u0441\\u043a\\u0430 \\u043d\\u0430 \\u043f\\u0440\\u043e\\u0434\\u0430\\u0432\\u0446\\u0430<br>dt=%{x}<br>events=%{y}<extra></extra>\",\"legendgroup\":\"\\u041f\\u043e\\u0434\\u043f\\u0438\\u0441\\u043a\\u0430 \\u043d\\u0430 \\u043f\\u0440\\u043e\\u0434\\u0430\\u0432\\u0446\\u0430\",\"line\":{\"color\":\"#ab63fa\",\"dash\":\"solid\"},\"marker\":{\"symbol\":\"circle\"},\"mode\":\"lines\",\"name\":\"\\u041f\\u043e\\u0434\\u043f\\u0438\\u0441\\u043a\\u0430 \\u043d\\u0430 \\u043f\\u0440\\u043e\\u0434\\u0430\\u0432\\u0446\\u0430\",\"orientation\":\"v\",\"showlegend\":true,\"type\":\"scatter\",\"x\":[\"2022-02-11\",\"2022-02-12\",\"2022-02-13\",\"2022-02-14\",\"2022-02-15\",\"2022-02-16\",\"2022-02-17\",\"2022-02-18\",\"2022-02-19\",\"2022-02-20\",\"2022-02-21\",\"2022-02-22\",\"2022-02-23\",\"2022-02-24\",\"2022-02-25\",\"2022-02-26\",\"2022-02-27\",\"2022-02-28\",\"2022-03-01\",\"2022-03-02\",\"2022-03-03\"],\"xaxis\":\"x\",\"y\":[155,164,194,147,146,182,156,154,203,220,209,149,136,141,128,104,159,129,150,146,156],\"yaxis\":\"y\"},{\"hovertemplate\":\"screen_new_alias=\\u041f\\u043e\\u0445\\u043e\\u0436\\u0438\\u0435<br>dt=%{x}<br>events=%{y}<extra></extra>\",\"legendgroup\":\"\\u041f\\u043e\\u0445\\u043e\\u0436\\u0438\\u0435\",\"line\":{\"color\":\"#FFA15A\",\"dash\":\"solid\"},\"marker\":{\"symbol\":\"circle\"},\"mode\":\"lines\",\"name\":\"\\u041f\\u043e\\u0445\\u043e\\u0436\\u0438\\u0435\",\"orientation\":\"v\",\"showlegend\":true,\"type\":\"scatter\",\"x\":[\"2022-02-11\",\"2022-02-12\",\"2022-02-13\",\"2022-02-14\",\"2022-02-15\",\"2022-02-16\",\"2022-02-17\",\"2022-02-18\",\"2022-02-19\",\"2022-02-20\",\"2022-02-21\",\"2022-02-22\",\"2022-02-23\",\"2022-02-24\",\"2022-02-25\",\"2022-02-26\",\"2022-02-27\",\"2022-02-28\",\"2022-03-01\",\"2022-03-02\",\"2022-03-03\"],\"xaxis\":\"x\",\"y\":[1769,1813,1922,1684,1873,1818,1748,1662,1803,2134,1611,991,1159,913,835,951,933,874,805,869,955],\"yaxis\":\"y\"},{\"hovertemplate\":\"screen_new_alias=\\u0421\\u043d\\u0438\\u043f\\u043f\\u0435\\u0442<br>dt=%{x}<br>events=%{y}<extra></extra>\",\"legendgroup\":\"\\u0421\\u043d\\u0438\\u043f\\u043f\\u0435\\u0442\",\"line\":{\"color\":\"#19d3f3\",\"dash\":\"solid\"},\"marker\":{\"symbol\":\"circle\"},\"mode\":\"lines\",\"name\":\"\\u0421\\u043d\\u0438\\u043f\\u043f\\u0435\\u0442\",\"orientation\":\"v\",\"showlegend\":true,\"type\":\"scatter\",\"x\":[\"2022-02-11\",\"2022-02-12\",\"2022-02-13\",\"2022-02-14\",\"2022-02-15\",\"2022-02-16\",\"2022-02-17\",\"2022-02-18\",\"2022-02-19\",\"2022-02-20\",\"2022-02-21\",\"2022-02-22\",\"2022-02-23\",\"2022-02-24\",\"2022-02-25\",\"2022-02-26\",\"2022-02-27\",\"2022-02-28\",\"2022-03-01\",\"2022-03-02\",\"2022-03-03\"],\"xaxis\":\"x\",\"y\":[7972,8035,8706,8515,8819,8538,8260,7932,7951,9161,7340,5601,5094,5021,4883,5060,5619,5631,5638,5682,5863],\"yaxis\":\"y\"},{\"hovertemplate\":\"screen_new_alias=\\u041f\\u043e\\u0434\\u043f\\u0438\\u0441\\u043a\\u0430 \\u043d\\u0430 \\u043f\\u043e\\u0445\\u043e\\u0436\\u0438\\u0435<br>dt=%{x}<br>events=%{y}<extra></extra>\",\"legendgroup\":\"\\u041f\\u043e\\u0434\\u043f\\u0438\\u0441\\u043a\\u0430 \\u043d\\u0430 \\u043f\\u043e\\u0445\\u043e\\u0436\\u0438\\u0435\",\"line\":{\"color\":\"#FF6692\",\"dash\":\"solid\"},\"marker\":{\"symbol\":\"circle\"},\"mode\":\"lines\",\"name\":\"\\u041f\\u043e\\u0434\\u043f\\u0438\\u0441\\u043a\\u0430 \\u043d\\u0430 \\u043f\\u043e\\u0445\\u043e\\u0436\\u0438\\u0435\",\"orientation\":\"v\",\"showlegend\":true,\"type\":\"scatter\",\"x\":[\"2022-02-11\",\"2022-02-12\",\"2022-02-13\",\"2022-02-14\",\"2022-02-15\",\"2022-02-16\",\"2022-02-17\",\"2022-02-18\",\"2022-02-19\",\"2022-02-20\",\"2022-02-21\",\"2022-02-22\",\"2022-02-23\",\"2022-02-24\",\"2022-02-25\",\"2022-02-26\",\"2022-02-27\",\"2022-02-28\",\"2022-03-01\",\"2022-03-02\",\"2022-03-03\"],\"xaxis\":\"x\",\"y\":[89,74,76,60,74,65,64,51,57,91,84,47,56,50,68,64,70,64,69,44,57],\"yaxis\":\"y\"},{\"hovertemplate\":\"screen_new_alias=\\u0420\\u0435\\u043a\\u043b\\u0430\\u043c\\u043d\\u044b\\u0435 \\u0441\\u0441\\u044b\\u043b\\u043a\\u0435 \\u0432 \\u043b\\u0435\\u043d\\u0442\\u0435 \\u0412\\u041a<br>dt=%{x}<br>events=%{y}<extra></extra>\",\"legendgroup\":\"\\u0420\\u0435\\u043a\\u043b\\u0430\\u043c\\u043d\\u044b\\u0435 \\u0441\\u0441\\u044b\\u043b\\u043a\\u0435 \\u0432 \\u043b\\u0435\\u043d\\u0442\\u0435 \\u0412\\u041a\",\"line\":{\"color\":\"#B6E880\",\"dash\":\"solid\"},\"marker\":{\"symbol\":\"circle\"},\"mode\":\"lines\",\"name\":\"\\u0420\\u0435\\u043a\\u043b\\u0430\\u043c\\u043d\\u044b\\u0435 \\u0441\\u0441\\u044b\\u043b\\u043a\\u0435 \\u0432 \\u043b\\u0435\\u043d\\u0442\\u0435 \\u0412\\u041a\",\"orientation\":\"v\",\"showlegend\":true,\"type\":\"scatter\",\"x\":[\"2022-02-11\",\"2022-02-12\",\"2022-02-13\",\"2022-02-14\",\"2022-02-15\",\"2022-02-16\",\"2022-02-17\",\"2022-02-18\",\"2022-02-19\",\"2022-02-20\",\"2022-02-21\",\"2022-02-22\",\"2022-02-23\",\"2022-02-24\",\"2022-02-25\"],\"xaxis\":\"x\",\"y\":[1560,1738,1798,1530,1733,1892,1815,1760,2305,2621,2254,1796,1946,972,5],\"yaxis\":\"y\"},{\"hovertemplate\":\"screen_new_alias=\\u041f\\u043e\\u0440\\u0442\\u043b\\u0435\\u0442\\u044b<br>dt=%{x}<br>events=%{y}<extra></extra>\",\"legendgroup\":\"\\u041f\\u043e\\u0440\\u0442\\u043b\\u0435\\u0442\\u044b\",\"line\":{\"color\":\"#FF97FF\",\"dash\":\"solid\"},\"marker\":{\"symbol\":\"circle\"},\"mode\":\"lines\",\"name\":\"\\u041f\\u043e\\u0440\\u0442\\u043b\\u0435\\u0442\\u044b\",\"orientation\":\"v\",\"showlegend\":true,\"type\":\"scatter\",\"x\":[\"2022-02-11\",\"2022-02-12\",\"2022-02-13\",\"2022-02-14\",\"2022-02-15\",\"2022-02-16\",\"2022-02-17\",\"2022-02-18\",\"2022-02-19\",\"2022-02-20\",\"2022-02-21\",\"2022-02-22\",\"2022-02-23\",\"2022-02-24\",\"2022-02-25\",\"2022-02-26\",\"2022-02-27\",\"2022-02-28\",\"2022-03-01\",\"2022-03-02\",\"2022-03-03\"],\"xaxis\":\"x\",\"y\":[2539,3059,3279,3011,3178,3047,3202,2955,2753,3108,2408,1692,1784,1467,1505,1520,1710,1661,1668,1721,1811],\"yaxis\":\"y\"}],                        {\"legend\":{\"title\":{\"text\":\"screen_new_alias\"},\"tracegroupgap\":0},\"template\":{\"data\":{\"bar\":[{\"error_x\":{\"color\":\"#2a3f5f\"},\"error_y\":{\"color\":\"#2a3f5f\"},\"marker\":{\"line\":{\"color\":\"#E5ECF6\",\"width\":0.5},\"pattern\":{\"fillmode\":\"overlay\",\"size\":10,\"solidity\":0.2}},\"type\":\"bar\"}],\"barpolar\":[{\"marker\":{\"line\":{\"color\":\"#E5ECF6\",\"width\":0.5},\"pattern\":{\"fillmode\":\"overlay\",\"size\":10,\"solidity\":0.2}},\"type\":\"barpolar\"}],\"carpet\":[{\"aaxis\":{\"endlinecolor\":\"#2a3f5f\",\"gridcolor\":\"white\",\"linecolor\":\"white\",\"minorgridcolor\":\"white\",\"startlinecolor\":\"#2a3f5f\"},\"baxis\":{\"endlinecolor\":\"#2a3f5f\",\"gridcolor\":\"white\",\"linecolor\":\"white\",\"minorgridcolor\":\"white\",\"startlinecolor\":\"#2a3f5f\"},\"type\":\"carpet\"}],\"choropleth\":[{\"colorbar\":{\"outlinewidth\":0,\"ticks\":\"\"},\"type\":\"choropleth\"}],\"contour\":[{\"colorbar\":{\"outlinewidth\":0,\"ticks\":\"\"},\"colorscale\":[[0.0,\"#0d0887\"],[0.1111111111111111,\"#46039f\"],[0.2222222222222222,\"#7201a8\"],[0.3333333333333333,\"#9c179e\"],[0.4444444444444444,\"#bd3786\"],[0.5555555555555556,\"#d8576b\"],[0.6666666666666666,\"#ed7953\"],[0.7777777777777778,\"#fb9f3a\"],[0.8888888888888888,\"#fdca26\"],[1.0,\"#f0f921\"]],\"type\":\"contour\"}],\"contourcarpet\":[{\"colorbar\":{\"outlinewidth\":0,\"ticks\":\"\"},\"type\":\"contourcarpet\"}],\"heatmap\":[{\"colorbar\":{\"outlinewidth\":0,\"ticks\":\"\"},\"colorscale\":[[0.0,\"#0d0887\"],[0.1111111111111111,\"#46039f\"],[0.2222222222222222,\"#7201a8\"],[0.3333333333333333,\"#9c179e\"],[0.4444444444444444,\"#bd3786\"],[0.5555555555555556,\"#d8576b\"],[0.6666666666666666,\"#ed7953\"],[0.7777777777777778,\"#fb9f3a\"],[0.8888888888888888,\"#fdca26\"],[1.0,\"#f0f921\"]],\"type\":\"heatmap\"}],\"heatmapgl\":[{\"colorbar\":{\"outlinewidth\":0,\"ticks\":\"\"},\"colorscale\":[[0.0,\"#0d0887\"],[0.1111111111111111,\"#46039f\"],[0.2222222222222222,\"#7201a8\"],[0.3333333333333333,\"#9c179e\"],[0.4444444444444444,\"#bd3786\"],[0.5555555555555556,\"#d8576b\"],[0.6666666666666666,\"#ed7953\"],[0.7777777777777778,\"#fb9f3a\"],[0.8888888888888888,\"#fdca26\"],[1.0,\"#f0f921\"]],\"type\":\"heatmapgl\"}],\"histogram\":[{\"marker\":{\"pattern\":{\"fillmode\":\"overlay\",\"size\":10,\"solidity\":0.2}},\"type\":\"histogram\"}],\"histogram2d\":[{\"colorbar\":{\"outlinewidth\":0,\"ticks\":\"\"},\"colorscale\":[[0.0,\"#0d0887\"],[0.1111111111111111,\"#46039f\"],[0.2222222222222222,\"#7201a8\"],[0.3333333333333333,\"#9c179e\"],[0.4444444444444444,\"#bd3786\"],[0.5555555555555556,\"#d8576b\"],[0.6666666666666666,\"#ed7953\"],[0.7777777777777778,\"#fb9f3a\"],[0.8888888888888888,\"#fdca26\"],[1.0,\"#f0f921\"]],\"type\":\"histogram2d\"}],\"histogram2dcontour\":[{\"colorbar\":{\"outlinewidth\":0,\"ticks\":\"\"},\"colorscale\":[[0.0,\"#0d0887\"],[0.1111111111111111,\"#46039f\"],[0.2222222222222222,\"#7201a8\"],[0.3333333333333333,\"#9c179e\"],[0.4444444444444444,\"#bd3786\"],[0.5555555555555556,\"#d8576b\"],[0.6666666666666666,\"#ed7953\"],[0.7777777777777778,\"#fb9f3a\"],[0.8888888888888888,\"#fdca26\"],[1.0,\"#f0f921\"]],\"type\":\"histogram2dcontour\"}],\"mesh3d\":[{\"colorbar\":{\"outlinewidth\":0,\"ticks\":\"\"},\"type\":\"mesh3d\"}],\"parcoords\":[{\"line\":{\"colorbar\":{\"outlinewidth\":0,\"ticks\":\"\"}},\"type\":\"parcoords\"}],\"pie\":[{\"automargin\":true,\"type\":\"pie\"}],\"scatter\":[{\"marker\":{\"colorbar\":{\"outlinewidth\":0,\"ticks\":\"\"}},\"type\":\"scatter\"}],\"scatter3d\":[{\"line\":{\"colorbar\":{\"outlinewidth\":0,\"ticks\":\"\"}},\"marker\":{\"colorbar\":{\"outlinewidth\":0,\"ticks\":\"\"}},\"type\":\"scatter3d\"}],\"scattercarpet\":[{\"marker\":{\"colorbar\":{\"outlinewidth\":0,\"ticks\":\"\"}},\"type\":\"scattercarpet\"}],\"scattergeo\":[{\"marker\":{\"colorbar\":{\"outlinewidth\":0,\"ticks\":\"\"}},\"type\":\"scattergeo\"}],\"scattergl\":[{\"marker\":{\"colorbar\":{\"outlinewidth\":0,\"ticks\":\"\"}},\"type\":\"scattergl\"}],\"scattermapbox\":[{\"marker\":{\"colorbar\":{\"outlinewidth\":0,\"ticks\":\"\"}},\"type\":\"scattermapbox\"}],\"scatterpolar\":[{\"marker\":{\"colorbar\":{\"outlinewidth\":0,\"ticks\":\"\"}},\"type\":\"scatterpolar\"}],\"scatterpolargl\":[{\"marker\":{\"colorbar\":{\"outlinewidth\":0,\"ticks\":\"\"}},\"type\":\"scatterpolargl\"}],\"scatterternary\":[{\"marker\":{\"colorbar\":{\"outlinewidth\":0,\"ticks\":\"\"}},\"type\":\"scatterternary\"}],\"surface\":[{\"colorbar\":{\"outlinewidth\":0,\"ticks\":\"\"},\"colorscale\":[[0.0,\"#0d0887\"],[0.1111111111111111,\"#46039f\"],[0.2222222222222222,\"#7201a8\"],[0.3333333333333333,\"#9c179e\"],[0.4444444444444444,\"#bd3786\"],[0.5555555555555556,\"#d8576b\"],[0.6666666666666666,\"#ed7953\"],[0.7777777777777778,\"#fb9f3a\"],[0.8888888888888888,\"#fdca26\"],[1.0,\"#f0f921\"]],\"type\":\"surface\"}],\"table\":[{\"cells\":{\"fill\":{\"color\":\"#EBF0F8\"},\"line\":{\"color\":\"white\"}},\"header\":{\"fill\":{\"color\":\"#C8D4E3\"},\"line\":{\"color\":\"white\"}},\"type\":\"table\"}]},\"layout\":{\"annotationdefaults\":{\"arrowcolor\":\"#2a3f5f\",\"arrowhead\":0,\"arrowwidth\":1},\"autotypenumbers\":\"strict\",\"coloraxis\":{\"colorbar\":{\"outlinewidth\":0,\"ticks\":\"\"}},\"colorscale\":{\"diverging\":[[0,\"#8e0152\"],[0.1,\"#c51b7d\"],[0.2,\"#de77ae\"],[0.3,\"#f1b6da\"],[0.4,\"#fde0ef\"],[0.5,\"#f7f7f7\"],[0.6,\"#e6f5d0\"],[0.7,\"#b8e186\"],[0.8,\"#7fbc41\"],[0.9,\"#4d9221\"],[1,\"#276419\"]],\"sequential\":[[0.0,\"#0d0887\"],[0.1111111111111111,\"#46039f\"],[0.2222222222222222,\"#7201a8\"],[0.3333333333333333,\"#9c179e\"],[0.4444444444444444,\"#bd3786\"],[0.5555555555555556,\"#d8576b\"],[0.6666666666666666,\"#ed7953\"],[0.7777777777777778,\"#fb9f3a\"],[0.8888888888888888,\"#fdca26\"],[1.0,\"#f0f921\"]],\"sequentialminus\":[[0.0,\"#0d0887\"],[0.1111111111111111,\"#46039f\"],[0.2222222222222222,\"#7201a8\"],[0.3333333333333333,\"#9c179e\"],[0.4444444444444444,\"#bd3786\"],[0.5555555555555556,\"#d8576b\"],[0.6666666666666666,\"#ed7953\"],[0.7777777777777778,\"#fb9f3a\"],[0.8888888888888888,\"#fdca26\"],[1.0,\"#f0f921\"]]},\"colorway\":[\"#636efa\",\"#EF553B\",\"#00cc96\",\"#ab63fa\",\"#FFA15A\",\"#19d3f3\",\"#FF6692\",\"#B6E880\",\"#FF97FF\",\"#FECB52\"],\"font\":{\"color\":\"#2a3f5f\"},\"geo\":{\"bgcolor\":\"white\",\"lakecolor\":\"white\",\"landcolor\":\"#E5ECF6\",\"showlakes\":true,\"showland\":true,\"subunitcolor\":\"white\"},\"hoverlabel\":{\"align\":\"left\"},\"hovermode\":\"closest\",\"mapbox\":{\"style\":\"light\"},\"paper_bgcolor\":\"white\",\"plot_bgcolor\":\"#E5ECF6\",\"polar\":{\"angularaxis\":{\"gridcolor\":\"white\",\"linecolor\":\"white\",\"ticks\":\"\"},\"bgcolor\":\"#E5ECF6\",\"radialaxis\":{\"gridcolor\":\"white\",\"linecolor\":\"white\",\"ticks\":\"\"}},\"scene\":{\"xaxis\":{\"backgroundcolor\":\"#E5ECF6\",\"gridcolor\":\"white\",\"gridwidth\":2,\"linecolor\":\"white\",\"showbackground\":true,\"ticks\":\"\",\"zerolinecolor\":\"white\"},\"yaxis\":{\"backgroundcolor\":\"#E5ECF6\",\"gridcolor\":\"white\",\"gridwidth\":2,\"linecolor\":\"white\",\"showbackground\":true,\"ticks\":\"\",\"zerolinecolor\":\"white\"},\"zaxis\":{\"backgroundcolor\":\"#E5ECF6\",\"gridcolor\":\"white\",\"gridwidth\":2,\"linecolor\":\"white\",\"showbackground\":true,\"ticks\":\"\",\"zerolinecolor\":\"white\"}},\"shapedefaults\":{\"line\":{\"color\":\"#2a3f5f\"}},\"ternary\":{\"aaxis\":{\"gridcolor\":\"white\",\"linecolor\":\"white\",\"ticks\":\"\"},\"baxis\":{\"gridcolor\":\"white\",\"linecolor\":\"white\",\"ticks\":\"\"},\"bgcolor\":\"#E5ECF6\",\"caxis\":{\"gridcolor\":\"white\",\"linecolor\":\"white\",\"ticks\":\"\"}},\"title\":{\"x\":0.05},\"xaxis\":{\"automargin\":true,\"gridcolor\":\"white\",\"linecolor\":\"white\",\"ticks\":\"\",\"title\":{\"standoff\":15},\"zerolinecolor\":\"white\",\"zerolinewidth\":2},\"yaxis\":{\"automargin\":true,\"gridcolor\":\"white\",\"linecolor\":\"white\",\"ticks\":\"\",\"title\":{\"standoff\":15},\"zerolinecolor\":\"white\",\"zerolinewidth\":2}}},\"title\":{\"text\":\"\\u0420\\u0430\\u0441\\u043f\\u0440\\u0435\\u0434\\u0435\\u043b\\u0435\\u043d\\u0438\\u0435 \\u043a\\u043e\\u043d\\u0442\\u0430\\u043a\\u0442\\u043e\\u0432, \\u0441\\u043e\\u0431\\u044b\\u0442\\u0438\\u044f\"},\"xaxis\":{\"anchor\":\"y\",\"domain\":[0.0,1.0],\"title\":{\"text\":\"dt\"}},\"yaxis\":{\"anchor\":\"x\",\"domain\":[0.0,1.0],\"title\":{\"text\":\"events\"}}},                        {\"responsive\": true}                    ).then(function(){\n",
       "                            \n",
       "var gd = document.getElementById('ea956565-6823-48d0-8ab1-752a877fe15d');\n",
       "var x = new MutationObserver(function (mutations, observer) {{\n",
       "        var display = window.getComputedStyle(gd).display;\n",
       "        if (!display || display === 'none') {{\n",
       "            console.log([gd, 'removed!']);\n",
       "            Plotly.purge(gd);\n",
       "            observer.disconnect();\n",
       "        }}\n",
       "}});\n",
       "\n",
       "// Listen for the removal of the full notebook cells\n",
       "var notebookContainer = gd.closest('#notebook-container');\n",
       "if (notebookContainer) {{\n",
       "    x.observe(notebookContainer, {childList: true});\n",
       "}}\n",
       "\n",
       "// Listen for the clearing of the current output cell\n",
       "var outputEl = gd.closest('.output');\n",
       "if (outputEl) {{\n",
       "    x.observe(outputEl, {childList: true});\n",
       "}}\n",
       "\n",
       "                        })                };                });            </script>        </div>"
      ]
     },
     "metadata": {},
     "output_type": "display_data"
    }
   ],
   "source": [
    "fig = px.line(df_contact_total[df_contact_total['dt']>='2022-02-11'], x=\"dt\", y=\"events\",color='screen_new_alias',title='Распределение контактов, события')\n",
    "fig.show()"
   ]
  },
  {
   "cell_type": "code",
   "execution_count": 125,
   "id": "ea72028d",
   "metadata": {},
   "outputs": [],
   "source": [
    "df_contact_gr = df_contact_total[df_contact_total.dt>='2022-02-11'].groupby(['dt', 'screen_new_alias']).agg({'events': 'sum'})\n",
    "totals = df_contact_total[df_contact_total.dt>='2022-02-11'].groupby(['dt']).agg({'events': 'sum'})\n",
    "total_contact_perc = df_contact_gr.div(totals, level='dt') * 100\n",
    "total_contact_perc = total_contact_perc.reset_index()"
   ]
  },
  {
   "cell_type": "code",
   "execution_count": 127,
   "id": "2651a011",
   "metadata": {},
   "outputs": [
    {
     "data": {
      "application/vnd.plotly.v1+json": {
       "config": {
        "plotlyServerURL": "https://plot.ly"
       },
       "data": [
        {
         "hovertemplate": "screen_new_alias=Антибарахолки<br>dt=%{x}<br>events=%{y}<extra></extra>",
         "legendgroup": "Антибарахолки",
         "line": {
          "color": "#636efa",
          "dash": "solid"
         },
         "marker": {
          "symbol": "circle"
         },
         "mode": "lines",
         "name": "Антибарахолки",
         "orientation": "v",
         "showlegend": true,
         "type": "scatter",
         "x": [
          "2022-02-11",
          "2022-02-12",
          "2022-02-13",
          "2022-02-14",
          "2022-02-15",
          "2022-02-16",
          "2022-02-17",
          "2022-02-18",
          "2022-02-19",
          "2022-02-20",
          "2022-02-21",
          "2022-02-22",
          "2022-02-23",
          "2022-02-24",
          "2022-02-25",
          "2022-02-26",
          "2022-02-27",
          "2022-02-28",
          "2022-03-01",
          "2022-03-02",
          "2022-03-03"
         ],
         "xaxis": "x",
         "y": [
          0.29564934360420964,
          0.2959526475763878,
          0.35774147549595975,
          0.3283083910152937,
          0.3422958626847902,
          0.31409601634320733,
          0.3061431029248052,
          0.3037226179276979,
          0.3623381467469494,
          0.4054019814021841,
          0.33524764597848583,
          0.33723544460810917,
          0.3138781834796774,
          0.415344409184245,
          0.5006134969325153,
          0.34456181711021444,
          0.4719737492695645,
          0.4545844412042199,
          0.38549150166462237,
          0.483431121394926,
          0.3893862149251335
         ],
         "yaxis": "y"
        },
        {
         "hovertemplate": "screen_new_alias=Главная раздела<br>dt=%{x}<br>events=%{y}<extra></extra>",
         "legendgroup": "Главная раздела",
         "line": {
          "color": "#EF553B",
          "dash": "solid"
         },
         "marker": {
          "symbol": "circle"
         },
         "mode": "lines",
         "name": "Главная раздела",
         "orientation": "v",
         "showlegend": true,
         "type": "scatter",
         "x": [
          "2022-02-11",
          "2022-02-12",
          "2022-02-13",
          "2022-02-14",
          "2022-02-15",
          "2022-02-16",
          "2022-02-17",
          "2022-02-18",
          "2022-02-19",
          "2022-02-20",
          "2022-02-21",
          "2022-02-22",
          "2022-02-23",
          "2022-02-24",
          "2022-02-25",
          "2022-02-26",
          "2022-02-27",
          "2022-02-28",
          "2022-03-01",
          "2022-03-02",
          "2022-03-03"
         ],
         "xaxis": "x",
         "y": [
          1.1961592709124442,
          1.2104729909881085,
          1.3609186200685461,
          1.047850947990479,
          1.0516916360750075,
          0.9805924412665985,
          1.1587895961947172,
          1.0294315280204274,
          1.3214685351947566,
          1.0616464387969695,
          1.2214675101303094,
          1.0388402201721063,
          0.8979299932456595,
          1.110696285234273,
          0.9668711656441717,
          1.2014326517658793,
          0.89000764147975,
          0.8791491551591045,
          1.8223234624145785,
          1.6403603008015866,
          1.9148167476215328
         ],
         "yaxis": "y"
        },
        {
         "hovertemplate": "screen_new_alias=Закладки<br>dt=%{x}<br>events=%{y}<extra></extra>",
         "legendgroup": "Закладки",
         "line": {
          "color": "#00cc96",
          "dash": "solid"
         },
         "marker": {
          "symbol": "circle"
         },
         "mode": "lines",
         "name": "Закладки",
         "orientation": "v",
         "showlegend": true,
         "type": "scatter",
         "x": [
          "2022-02-11",
          "2022-02-12",
          "2022-02-13",
          "2022-02-14",
          "2022-02-15",
          "2022-02-16",
          "2022-02-17",
          "2022-02-18",
          "2022-02-19",
          "2022-02-20",
          "2022-02-21",
          "2022-02-22",
          "2022-02-23",
          "2022-02-24",
          "2022-02-25",
          "2022-02-26",
          "2022-02-27",
          "2022-02-28",
          "2022-03-01",
          "2022-03-02",
          "2022-03-03"
         ],
         "xaxis": "x",
         "y": [
          1.950200716068135,
          1.8130432464139072,
          1.8462462161959323,
          1.885037345079478,
          1.6792340509971229,
          1.723697650663943,
          1.7280639611375368,
          1.9271603279129148,
          2.1234081099802844,
          2.320926343527504,
          1.9619275282045303,
          0.876036902085433,
          0.7827088879176766,
          1.0500280007466867,
          1.2711656441717791,
          1.1515618624472956,
          0.9484424866274105,
          0.7376275838408097,
          1.0513404590853337,
          0.8139823155111147,
          0.8068724659788848
         ],
         "yaxis": "y"
        },
        {
         "hovertemplate": "screen_new_alias=Карточка товара<br>dt=%{x}<br>events=%{y}<extra></extra>",
         "legendgroup": "Карточка товара",
         "line": {
          "color": "#ab63fa",
          "dash": "solid"
         },
         "marker": {
          "symbol": "circle"
         },
         "mode": "lines",
         "name": "Карточка товара",
         "orientation": "v",
         "showlegend": true,
         "type": "scatter",
         "x": [
          "2022-02-11",
          "2022-02-12",
          "2022-02-13",
          "2022-02-14",
          "2022-02-15",
          "2022-02-16",
          "2022-02-17",
          "2022-02-18",
          "2022-02-19",
          "2022-02-20",
          "2022-02-21",
          "2022-02-22",
          "2022-02-23",
          "2022-02-24",
          "2022-02-25",
          "2022-02-26",
          "2022-02-27",
          "2022-02-28",
          "2022-03-01",
          "2022-03-02",
          "2022-03-03"
         ],
         "xaxis": "x",
         "y": [
          0.18444179234024086,
          0.11464832293499706,
          0.10507092287293923,
          0.13953106618149982,
          0.11657902569699374,
          0.10214504596527069,
          0.09867422325675539,
          0.1209514850154549,
          0.13587680503010605,
          0.11908683203689158,
          0.13409905839139435,
          0.1085355453911156,
          0.04767769875640669,
          0.10733619563188353,
          0.1030674846625767,
          0.07253932991793989,
          0.16181957117813636,
          0.12865597392572262,
          0.1357981426318556,
          0.1115610280142137,
          0.08430010838585364
         ],
         "yaxis": "y"
        },
        {
         "hovertemplate": "screen_new_alias=Карусель на главной ВКО<br>dt=%{x}<br>events=%{y}<extra></extra>",
         "legendgroup": "Карусель на главной ВКО",
         "line": {
          "color": "#FFA15A",
          "dash": "solid"
         },
         "marker": {
          "symbol": "circle"
         },
         "mode": "lines",
         "name": "Карусель на главной ВКО",
         "orientation": "v",
         "showlegend": true,
         "type": "scatter",
         "x": [
          "2022-02-11",
          "2022-02-12",
          "2022-02-13",
          "2022-02-14",
          "2022-02-15",
          "2022-02-16",
          "2022-02-17",
          "2022-02-18",
          "2022-02-19",
          "2022-02-20",
          "2022-02-21",
          "2022-02-22",
          "2022-02-23",
          "2022-02-24",
          "2022-02-25",
          "2022-02-26",
          "2022-02-27",
          "2022-02-28",
          "2022-03-01",
          "2022-03-02",
          "2022-03-03"
         ],
         "xaxis": "x",
         "y": [
          0.08950851687099924,
          0.2106329653922039,
          0.1501013183899132,
          0.22160816393532326,
          0.18603036015477725,
          0.15321756894790603,
          0.17963768849306752,
          0.1720198897997581,
          0.20514733308466987,
          0.21283604023614663,
          0.1778270122146751,
          0.15892704860841925,
          0.12316738845405062,
          0.11200298674631323,
          0.19631901840490798,
          0.20855057351407716,
          0.2562143210320493,
          0.1586757011750579,
          0.10951463115472226,
          0.17767126683745146,
          0.16860021677170728
         ],
         "yaxis": "y"
        },
        {
         "hovertemplate": "screen_new_alias=Карусель на главной ВКО превью<br>dt=%{x}<br>events=%{y}<extra></extra>",
         "legendgroup": "Карусель на главной ВКО превью",
         "line": {
          "color": "#19d3f3",
          "dash": "solid"
         },
         "marker": {
          "symbol": "circle"
         },
         "mode": "lines",
         "name": "Карусель на главной ВКО превью",
         "orientation": "v",
         "showlegend": true,
         "type": "scatter",
         "x": [
          "2022-02-11",
          "2022-02-12",
          "2022-02-13",
          "2022-02-14",
          "2022-02-15",
          "2022-02-16",
          "2022-02-17",
          "2022-02-18",
          "2022-02-19",
          "2022-02-20",
          "2022-02-21",
          "2022-02-22",
          "2022-02-23",
          "2022-02-24",
          "2022-02-25",
          "2022-02-26",
          "2022-02-27",
          "2022-02-28",
          "2022-03-01",
          "2022-03-02",
          "2022-03-03"
         ],
         "xaxis": "x",
         "y": [
          1.2639687533904742,
          1.3917773156294992,
          1.235834188076952,
          1.348800306421165,
          1.3046929258855045,
          1.151685393258427,
          1.2498734945855683,
          1.2014514178201854,
          1.3667608035381256,
          1.6140066384574454,
          1.3322449931492872,
          1.3063028141716413,
          1.1085064960864555,
          1.2787007653537428,
          1.3496932515337423,
          1.3329101872421454,
          1.3664763788375962,
          1.132172570546359,
          1.204660942701945,
          1.1032146103627798,
          1.1400586086467825
         ],
         "yaxis": "y"
        },
        {
         "hovertemplate": "screen_new_alias=Неизвестные и прямые переходы<br>dt=%{x}<br>events=%{y}<extra></extra>",
         "legendgroup": "Неизвестные и прямые переходы",
         "line": {
          "color": "#FF6692",
          "dash": "solid"
         },
         "marker": {
          "symbol": "circle"
         },
         "mode": "lines",
         "name": "Неизвестные и прямые переходы",
         "orientation": "v",
         "showlegend": true,
         "type": "scatter",
         "x": [
          "2022-02-11",
          "2022-02-12",
          "2022-02-13",
          "2022-02-14",
          "2022-02-15",
          "2022-02-16",
          "2022-02-17",
          "2022-02-18",
          "2022-02-19",
          "2022-02-20",
          "2022-02-21",
          "2022-02-22",
          "2022-02-23",
          "2022-02-24",
          "2022-02-25",
          "2022-02-26",
          "2022-02-27",
          "2022-02-28",
          "2022-03-01",
          "2022-03-02",
          "2022-03-03"
         ],
         "xaxis": "x",
         "y": [
          25.59129868720842,
          24.166799978670078,
          24.644134790983916,
          24.795491231430056,
          27.626748685385454,
          27.561287027579162,
          27.244206052019027,
          27.020561752452625,
          23.160334629935527,
          20.59442065523095,
          22.997988514124128,
          23.637491278393675,
          23.78322539632087,
          21.429904797461266,
          22.63558282208589,
          25.048737362288616,
          20.60952038477098,
          24.028647396860794,
          22.016821447345368,
          25.646640773489793,
          25.59913291317089
         ],
         "yaxis": "y"
        },
        {
         "hovertemplate": "screen_new_alias=Подписка на похожие<br>dt=%{x}<br>events=%{y}<extra></extra>",
         "legendgroup": "Подписка на похожие",
         "line": {
          "color": "#B6E880",
          "dash": "solid"
         },
         "marker": {
          "symbol": "circle"
         },
         "mode": "lines",
         "name": "Подписка на похожие",
         "orientation": "v",
         "showlegend": true,
         "type": "scatter",
         "x": [
          "2022-02-11",
          "2022-02-12",
          "2022-02-13",
          "2022-02-14",
          "2022-02-15",
          "2022-02-16",
          "2022-02-17",
          "2022-02-18",
          "2022-02-19",
          "2022-02-20",
          "2022-02-21",
          "2022-02-22",
          "2022-02-23",
          "2022-02-24",
          "2022-02-25",
          "2022-02-26",
          "2022-02-27",
          "2022-02-28",
          "2022-03-01",
          "2022-03-02",
          "2022-03-03"
         ],
         "xaxis": "x",
         "y": [
          0.2414017576217858,
          0.1973017650509252,
          0.1901283366272234,
          0.16415419550764684,
          0.18354995535271357,
          0.16598569969356486,
          0.16192693047262424,
          0.13707834968418225,
          0.15186231150423618,
          0.2305723769224922,
          0.24487654141037227,
          0.18218466547794404,
          0.22249592752989789,
          0.2333395557214859,
          0.3337423312883436,
          0.29015731967175956,
          0.3146491661797096,
          0.27446607770820824,
          0.3022603819870335,
          0.18180315676390382,
          0.22881457990445989
         ],
         "yaxis": "y"
        },
        {
         "hovertemplate": "screen_new_alias=Подписка на продавца<br>dt=%{x}<br>events=%{y}<extra></extra>",
         "legendgroup": "Подписка на продавца",
         "line": {
          "color": "#FF97FF",
          "dash": "solid"
         },
         "marker": {
          "symbol": "circle"
         },
         "mode": "lines",
         "name": "Подписка на продавца",
         "orientation": "v",
         "showlegend": true,
         "type": "scatter",
         "x": [
          "2022-02-11",
          "2022-02-12",
          "2022-02-13",
          "2022-02-14",
          "2022-02-15",
          "2022-02-16",
          "2022-02-17",
          "2022-02-18",
          "2022-02-19",
          "2022-02-20",
          "2022-02-21",
          "2022-02-22",
          "2022-02-23",
          "2022-02-24",
          "2022-02-25",
          "2022-02-26",
          "2022-02-27",
          "2022-02-28",
          "2022-03-01",
          "2022-03-02",
          "2022-03-03"
         ],
         "xaxis": "x",
         "y": [
          0.4204187913637843,
          0.4372633711939423,
          0.48532759612738596,
          0.4021777789937348,
          0.3621391011012997,
          0.46475995914198165,
          0.39469689302702154,
          0.41392285983066796,
          0.5408429690414025,
          0.5574277244280031,
          0.6092761566043786,
          0.5775641522598651,
          0.5403472525726092,
          0.6580175471345903,
          0.6282208588957056,
          0.47150564446660925,
          0.714703106036769,
          0.5532206878806073,
          0.6570877869283337,
          0.6032559292620444,
          0.626229376580627
         ],
         "yaxis": "y"
        },
        {
         "hovertemplate": "screen_new_alias=Поиск в ВК<br>dt=%{x}<br>events=%{y}<extra></extra>",
         "legendgroup": "Поиск в ВК",
         "line": {
          "color": "#FECB52",
          "dash": "solid"
         },
         "marker": {
          "symbol": "circle"
         },
         "mode": "lines",
         "name": "Поиск в ВК",
         "orientation": "v",
         "showlegend": true,
         "type": "scatter",
         "x": [
          "2022-02-11",
          "2022-02-12",
          "2022-02-13",
          "2022-02-14",
          "2022-02-15",
          "2022-02-16",
          "2022-02-17",
          "2022-02-18",
          "2022-02-19",
          "2022-02-20",
          "2022-02-21",
          "2022-02-22",
          "2022-02-23",
          "2022-02-24",
          "2022-02-25",
          "2022-02-26",
          "2022-02-27",
          "2022-02-28",
          "2022-03-01",
          "2022-03-02",
          "2022-03-03"
         ],
         "xaxis": "x",
         "y": [
          1.5596180969946838,
          1.6743987628646084,
          1.5260300702974507,
          1.5950315996826354,
          1.5824982637166387,
          1.5858018386108275,
          1.4118004250581926,
          1.4836715495229136,
          1.3561037992220388,
          1.907923074974029,
          1.3293297962277353,
          0.8644080936506706,
          2.626246573165402,
          1.0640283740899756,
          0.9619631901840491,
          1.1651629868069093,
          1.0203622960399155,
          1.1364611030105498,
          1.1783774312248116,
          1.1238740599950419,
          1.2645016257878046
         ],
         "yaxis": "y"
        },
        {
         "hovertemplate": "screen_new_alias=Поиск в миниаппе<br>dt=%{x}<br>events=%{y}<extra></extra>",
         "legendgroup": "Поиск в миниаппе",
         "line": {
          "color": "#636efa",
          "dash": "solid"
         },
         "marker": {
          "symbol": "circle"
         },
         "mode": "lines",
         "name": "Поиск в миниаппе",
         "orientation": "v",
         "showlegend": true,
         "type": "scatter",
         "x": [
          "2022-02-11",
          "2022-02-12",
          "2022-02-13",
          "2022-02-14",
          "2022-02-15",
          "2022-02-16",
          "2022-02-17",
          "2022-02-18",
          "2022-02-19",
          "2022-02-20",
          "2022-02-21",
          "2022-02-22",
          "2022-02-23",
          "2022-02-24",
          "2022-02-25",
          "2022-02-26",
          "2022-02-27",
          "2022-02-28",
          "2022-03-01",
          "2022-03-02",
          "2022-03-03"
         ],
         "xaxis": "x",
         "y": [
          17.161223825539764,
          17.682504132672104,
          16.75881219823381,
          15.788897704577165,
          15.21728346066078,
          15.033197139938714,
          16.349559761157778,
          15.747883349012229,
          17.650663398518677,
          15.293789748397396,
          15.587557939538815,
          14.388712303279325,
          13.842425205610077,
          14.89639723725966,
          16.711656441717793,
          16.42109081017364,
          17.040499842675416,
          16.896817908911572,
          15.980374978097073,
          16.333360879266177,
          15.48311990686845
         ],
         "yaxis": "y"
        },
        {
         "hovertemplate": "screen_new_alias=Портлеты<br>dt=%{x}<br>events=%{y}<extra></extra>",
         "legendgroup": "Портлеты",
         "line": {
          "color": "#EF553B",
          "dash": "solid"
         },
         "marker": {
          "symbol": "circle"
         },
         "mode": "lines",
         "name": "Портлеты",
         "orientation": "v",
         "showlegend": true,
         "type": "scatter",
         "x": [
          "2022-02-11",
          "2022-02-12",
          "2022-02-13",
          "2022-02-14",
          "2022-02-15",
          "2022-02-16",
          "2022-02-17",
          "2022-02-18",
          "2022-02-19",
          "2022-02-20",
          "2022-02-21",
          "2022-02-22",
          "2022-02-23",
          "2022-02-24",
          "2022-02-25",
          "2022-02-26",
          "2022-02-27",
          "2022-02-28",
          "2022-03-01",
          "2022-03-02",
          "2022-03-03"
         ],
         "xaxis": "x",
         "y": [
          6.8867310404687,
          8.156028368794328,
          8.203037050008756,
          8.23780471122541,
          7.882726460958428,
          7.780898876404494,
          8.10140674020848,
          7.942480849348206,
          7.3346832205467045,
          7.874933488737426,
          7.0197941870973395,
          6.558647957205984,
          7.0880845484524615,
          6.846182564868397,
          7.386503067484663,
          6.891236342204289,
          7.686429630961477,
          7.123252423020842,
          7.30681619064307,
          7.1109825634245105,
          7.269880775560996
         ],
         "yaxis": "y"
        },
        {
         "hovertemplate": "screen_new_alias=Портлеты (антибарахолки)<br>dt=%{x}<br>events=%{y}<extra></extra>",
         "legendgroup": "Портлеты (антибарахолки)",
         "line": {
          "color": "#00cc96",
          "dash": "solid"
         },
         "marker": {
          "symbol": "circle"
         },
         "mode": "lines",
         "name": "Портлеты (антибарахолки)",
         "orientation": "v",
         "showlegend": true,
         "type": "scatter",
         "x": [
          "2022-02-11",
          "2022-02-12",
          "2022-02-13",
          "2022-02-14",
          "2022-02-15",
          "2022-02-16",
          "2022-02-17",
          "2022-02-18",
          "2022-02-19",
          "2022-02-20",
          "2022-02-21",
          "2022-02-22",
          "2022-02-23",
          "2022-02-24",
          "2022-02-25",
          "2022-02-26",
          "2022-02-27",
          "2022-02-28",
          "2022-03-01",
          "2022-03-02",
          "2022-03-03"
         ],
         "xaxis": "x",
         "y": [
          0.010849517196484757,
          0.010664960273022984,
          0.0025016886398318864,
          0.008207709775382342,
          0.00744121440619109,
          0.02808988764044944,
          0.027831191174982287,
          0.029565918559333423,
          0.023978259711195184,
          0.007601287151290952,
          0.046643150744832815,
          0.01938134739127064,
          0.05165084031944059,
          0.018667164457718873,
          0.029447852760736196,
          0.04987078931858367,
          0.03595990470625253,
          0.042885324641907537,
          0.03942526721570002,
          0.053714569043880674,
          0.1204287262655052
         ],
         "yaxis": "y"
        },
        {
         "hovertemplate": "screen_new_alias=Похожие<br>dt=%{x}<br>events=%{y}<extra></extra>",
         "legendgroup": "Похожие",
         "line": {
          "color": "#ab63fa",
          "dash": "solid"
         },
         "marker": {
          "symbol": "circle"
         },
         "mode": "lines",
         "name": "Похожие",
         "orientation": "v",
         "showlegend": true,
         "type": "scatter",
         "x": [
          "2022-02-11",
          "2022-02-12",
          "2022-02-13",
          "2022-02-14",
          "2022-02-15",
          "2022-02-16",
          "2022-02-17",
          "2022-02-18",
          "2022-02-19",
          "2022-02-20",
          "2022-02-21",
          "2022-02-22",
          "2022-02-23",
          "2022-02-24",
          "2022-02-25",
          "2022-02-26",
          "2022-02-27",
          "2022-02-28",
          "2022-03-01",
          "2022-03-02",
          "2022-03-03"
         ],
         "xaxis": "x",
         "y": [
          4.798198980145384,
          4.833893243747667,
          4.808245565756886,
          4.607261087247955,
          4.645798194265304,
          4.642492339121553,
          4.42262928853355,
          4.467141513237468,
          4.803644695476102,
          5.407048926951631,
          4.696382240620354,
          3.8413830529498414,
          4.604871071556279,
          4.260780287474333,
          4.098159509202453,
          4.311556421997552,
          4.193823886366701,
          3.748177373702719,
          3.526371123182057,
          3.5906123460871,
          3.8336477861185827
         ],
         "yaxis": "y"
        },
        {
         "hovertemplate": "screen_new_alias=Профиль продавца<br>dt=%{x}<br>events=%{y}<extra></extra>",
         "legendgroup": "Профиль продавца",
         "line": {
          "color": "#FFA15A",
          "dash": "solid"
         },
         "marker": {
          "symbol": "circle"
         },
         "mode": "lines",
         "name": "Профиль продавца",
         "orientation": "v",
         "showlegend": true,
         "type": "scatter",
         "x": [
          "2022-02-11",
          "2022-02-12",
          "2022-02-13",
          "2022-02-14",
          "2022-02-15",
          "2022-02-16",
          "2022-02-17",
          "2022-02-18",
          "2022-02-19",
          "2022-02-20",
          "2022-02-21",
          "2022-02-22",
          "2022-02-23",
          "2022-02-24",
          "2022-02-25",
          "2022-02-26",
          "2022-02-27",
          "2022-02-28",
          "2022-03-01",
          "2022-03-02",
          "2022-03-03"
         ],
         "xaxis": "x",
         "y": [
          8.335141586199414,
          8.169359569135604,
          8.333124859280014,
          8.470356488194577,
          7.986903462645103,
          8.143513789581206,
          8.007792733528996,
          8.047305469694933,
          8.128630042095168,
          8.424759926014138,
          9.777570474885579,
          12.353670827195906,
          11.883666415034368,
          13.487026320701887,
          13.865030674846626,
          13.460579407897718,
          14.748055917651817,
          14.0535208851531,
          14.990362712458385,
          13.296421783323693,
          13.271245634458673
         ],
         "yaxis": "y"
        },
        {
         "hovertemplate": "screen_new_alias=Рекламные ссылке в ленте ВК<br>dt=%{x}<br>events=%{y}<extra></extra>",
         "legendgroup": "Рекламные ссылке в ленте ВК",
         "line": {
          "color": "#19d3f3",
          "dash": "solid"
         },
         "marker": {
          "symbol": "circle"
         },
         "mode": "lines",
         "name": "Рекламные ссылке в ленте ВК",
         "orientation": "v",
         "showlegend": true,
         "type": "scatter",
         "x": [
          "2022-02-11",
          "2022-02-12",
          "2022-02-13",
          "2022-02-14",
          "2022-02-15",
          "2022-02-16",
          "2022-02-17",
          "2022-02-18",
          "2022-02-19",
          "2022-02-20",
          "2022-02-21",
          "2022-02-22",
          "2022-02-23",
          "2022-02-24",
          "2022-02-25"
         ],
         "xaxis": "x",
         "y": [
          4.231311706629055,
          4.633925238628486,
          4.498036174417732,
          4.185931985444995,
          4.298541521976387,
          4.831460674157303,
          4.592146543872078,
          4.730546969493347,
          6.141098737144988,
          6.640991207844528,
          6.570853861178323,
          6.961779982944415,
          7.7317334816639525,
          4.536120963225685,
          0.024539877300613498
         ],
         "yaxis": "y"
        },
        {
         "hovertemplate": "screen_new_alias=Сниппет<br>dt=%{x}<br>events=%{y}<extra></extra>",
         "legendgroup": "Сниппет",
         "line": {
          "color": "#FF6692",
          "dash": "solid"
         },
         "marker": {
          "symbol": "circle"
         },
         "mode": "lines",
         "name": "Сниппет",
         "orientation": "v",
         "showlegend": true,
         "type": "scatter",
         "x": [
          "2022-02-11",
          "2022-02-12",
          "2022-02-13",
          "2022-02-14",
          "2022-02-15",
          "2022-02-16",
          "2022-02-17",
          "2022-02-18",
          "2022-02-19",
          "2022-02-20",
          "2022-02-21",
          "2022-02-22",
          "2022-02-23",
          "2022-02-24",
          "2022-02-25",
          "2022-02-26",
          "2022-02-27",
          "2022-02-28",
          "2022-03-01",
          "2022-03-02",
          "2022-03-03"
         ],
         "xaxis": "x",
         "y": [
          21.62308777259412,
          21.423238948434918,
          21.779701298376406,
          23.29621624579355,
          21.87468994939974,
          21.802860061287028,
          20.898694464123064,
          21.31971509205752,
          21.183460329301436,
          23.211797197658804,
          21.39754540419205,
          21.710985347701374,
          20.23918312209464,
          23.431958185551615,
          23.96564417177914,
          22.940563086548487,
          25.257338068054118,
          24.148726305858133,
          24.697739618012967,
          23.477398562102305,
          23.535787403155233
         ],
         "yaxis": "y"
        },
        {
         "hovertemplate": "screen_new_alias=Сохраненные поиски<br>dt=%{x}<br>events=%{y}<extra></extra>",
         "legendgroup": "Сохраненные поиски",
         "line": {
          "color": "#B6E880",
          "dash": "solid"
         },
         "marker": {
          "symbol": "circle"
         },
         "mode": "lines",
         "name": "Сохраненные поиски",
         "orientation": "v",
         "showlegend": true,
         "type": "scatter",
         "x": [
          "2022-02-11",
          "2022-02-12",
          "2022-02-13",
          "2022-02-14",
          "2022-02-15",
          "2022-02-16",
          "2022-02-17",
          "2022-02-18",
          "2022-02-19",
          "2022-02-20",
          "2022-02-21",
          "2022-02-22",
          "2022-02-23",
          "2022-02-24",
          "2022-02-25",
          "2022-02-26",
          "2022-02-27",
          "2022-02-28",
          "2022-03-01",
          "2022-03-02",
          "2022-03-03"
         ],
         "xaxis": "x",
         "y": [
          1.0822393403493544,
          1.026502426278462,
          0.9906687013734271,
          0.9192634948428223,
          0.9227105863676952,
          0.7584269662921348,
          0.8956583341767028,
          0.9299825292299422,
          0.8818671071561784,
          1.11738921123977,
          0.9649301810337287,
          1.2442825025195752,
          0.8740911438674561,
          1.3160350942691805,
          1.3006134969325154,
          1.3963821009203428,
          1.420416235896975,
          1.2308088172227463,
          1.3360785000876116,
          1.342864226097017,
          1.200272971779535
         ],
         "yaxis": "y"
        },
        {
         "hovertemplate": "screen_new_alias=Уведомление<br>dt=%{x}<br>events=%{y}<extra></extra>",
         "legendgroup": "Уведомление",
         "line": {
          "color": "#FF97FF",
          "dash": "solid"
         },
         "marker": {
          "symbol": "circle"
         },
         "mode": "lines",
         "name": "Уведомление",
         "orientation": "v",
         "showlegend": true,
         "type": "scatter",
         "x": [
          "2022-02-11",
          "2022-02-12",
          "2022-02-13",
          "2022-02-14",
          "2022-02-15",
          "2022-02-16",
          "2022-02-17",
          "2022-02-18",
          "2022-02-19",
          "2022-02-20",
          "2022-02-21",
          "2022-02-22",
          "2022-02-23",
          "2022-02-24",
          "2022-02-25",
          "2022-02-26",
          "2022-02-27",
          "2022-02-28",
          "2022-03-01",
          "2022-03-02",
          "2022-03-03"
         ],
         "xaxis": "x",
         "y": [
          3.0785505045025494,
          2.551591745320749,
          2.7243389287769246,
          2.55806954666083,
          2.7284452822700667,
          2.775791624106231,
          2.7704685760550554,
          2.975406531380191,
          3.1278307667714604,
          2.997440899992399,
          3.5944378042736784,
          3.833630513993333,
          3.2381103738726216,
          3.747433264887064,
          3.671165644171779,
          3.2416013057079383,
          2.8633074122353577,
          3.272150270177545,
          3.259155423164535,
          2.908850508222461,
          3.062903938019349
         ],
         "yaxis": "y"
        }
       ],
       "layout": {
        "legend": {
         "title": {
          "text": "screen_new_alias"
         },
         "tracegroupgap": 0
        },
        "template": {
         "data": {
          "bar": [
           {
            "error_x": {
             "color": "#2a3f5f"
            },
            "error_y": {
             "color": "#2a3f5f"
            },
            "marker": {
             "line": {
              "color": "#E5ECF6",
              "width": 0.5
             },
             "pattern": {
              "fillmode": "overlay",
              "size": 10,
              "solidity": 0.2
             }
            },
            "type": "bar"
           }
          ],
          "barpolar": [
           {
            "marker": {
             "line": {
              "color": "#E5ECF6",
              "width": 0.5
             },
             "pattern": {
              "fillmode": "overlay",
              "size": 10,
              "solidity": 0.2
             }
            },
            "type": "barpolar"
           }
          ],
          "carpet": [
           {
            "aaxis": {
             "endlinecolor": "#2a3f5f",
             "gridcolor": "white",
             "linecolor": "white",
             "minorgridcolor": "white",
             "startlinecolor": "#2a3f5f"
            },
            "baxis": {
             "endlinecolor": "#2a3f5f",
             "gridcolor": "white",
             "linecolor": "white",
             "minorgridcolor": "white",
             "startlinecolor": "#2a3f5f"
            },
            "type": "carpet"
           }
          ],
          "choropleth": [
           {
            "colorbar": {
             "outlinewidth": 0,
             "ticks": ""
            },
            "type": "choropleth"
           }
          ],
          "contour": [
           {
            "colorbar": {
             "outlinewidth": 0,
             "ticks": ""
            },
            "colorscale": [
             [
              0,
              "#0d0887"
             ],
             [
              0.1111111111111111,
              "#46039f"
             ],
             [
              0.2222222222222222,
              "#7201a8"
             ],
             [
              0.3333333333333333,
              "#9c179e"
             ],
             [
              0.4444444444444444,
              "#bd3786"
             ],
             [
              0.5555555555555556,
              "#d8576b"
             ],
             [
              0.6666666666666666,
              "#ed7953"
             ],
             [
              0.7777777777777778,
              "#fb9f3a"
             ],
             [
              0.8888888888888888,
              "#fdca26"
             ],
             [
              1,
              "#f0f921"
             ]
            ],
            "type": "contour"
           }
          ],
          "contourcarpet": [
           {
            "colorbar": {
             "outlinewidth": 0,
             "ticks": ""
            },
            "type": "contourcarpet"
           }
          ],
          "heatmap": [
           {
            "colorbar": {
             "outlinewidth": 0,
             "ticks": ""
            },
            "colorscale": [
             [
              0,
              "#0d0887"
             ],
             [
              0.1111111111111111,
              "#46039f"
             ],
             [
              0.2222222222222222,
              "#7201a8"
             ],
             [
              0.3333333333333333,
              "#9c179e"
             ],
             [
              0.4444444444444444,
              "#bd3786"
             ],
             [
              0.5555555555555556,
              "#d8576b"
             ],
             [
              0.6666666666666666,
              "#ed7953"
             ],
             [
              0.7777777777777778,
              "#fb9f3a"
             ],
             [
              0.8888888888888888,
              "#fdca26"
             ],
             [
              1,
              "#f0f921"
             ]
            ],
            "type": "heatmap"
           }
          ],
          "heatmapgl": [
           {
            "colorbar": {
             "outlinewidth": 0,
             "ticks": ""
            },
            "colorscale": [
             [
              0,
              "#0d0887"
             ],
             [
              0.1111111111111111,
              "#46039f"
             ],
             [
              0.2222222222222222,
              "#7201a8"
             ],
             [
              0.3333333333333333,
              "#9c179e"
             ],
             [
              0.4444444444444444,
              "#bd3786"
             ],
             [
              0.5555555555555556,
              "#d8576b"
             ],
             [
              0.6666666666666666,
              "#ed7953"
             ],
             [
              0.7777777777777778,
              "#fb9f3a"
             ],
             [
              0.8888888888888888,
              "#fdca26"
             ],
             [
              1,
              "#f0f921"
             ]
            ],
            "type": "heatmapgl"
           }
          ],
          "histogram": [
           {
            "marker": {
             "pattern": {
              "fillmode": "overlay",
              "size": 10,
              "solidity": 0.2
             }
            },
            "type": "histogram"
           }
          ],
          "histogram2d": [
           {
            "colorbar": {
             "outlinewidth": 0,
             "ticks": ""
            },
            "colorscale": [
             [
              0,
              "#0d0887"
             ],
             [
              0.1111111111111111,
              "#46039f"
             ],
             [
              0.2222222222222222,
              "#7201a8"
             ],
             [
              0.3333333333333333,
              "#9c179e"
             ],
             [
              0.4444444444444444,
              "#bd3786"
             ],
             [
              0.5555555555555556,
              "#d8576b"
             ],
             [
              0.6666666666666666,
              "#ed7953"
             ],
             [
              0.7777777777777778,
              "#fb9f3a"
             ],
             [
              0.8888888888888888,
              "#fdca26"
             ],
             [
              1,
              "#f0f921"
             ]
            ],
            "type": "histogram2d"
           }
          ],
          "histogram2dcontour": [
           {
            "colorbar": {
             "outlinewidth": 0,
             "ticks": ""
            },
            "colorscale": [
             [
              0,
              "#0d0887"
             ],
             [
              0.1111111111111111,
              "#46039f"
             ],
             [
              0.2222222222222222,
              "#7201a8"
             ],
             [
              0.3333333333333333,
              "#9c179e"
             ],
             [
              0.4444444444444444,
              "#bd3786"
             ],
             [
              0.5555555555555556,
              "#d8576b"
             ],
             [
              0.6666666666666666,
              "#ed7953"
             ],
             [
              0.7777777777777778,
              "#fb9f3a"
             ],
             [
              0.8888888888888888,
              "#fdca26"
             ],
             [
              1,
              "#f0f921"
             ]
            ],
            "type": "histogram2dcontour"
           }
          ],
          "mesh3d": [
           {
            "colorbar": {
             "outlinewidth": 0,
             "ticks": ""
            },
            "type": "mesh3d"
           }
          ],
          "parcoords": [
           {
            "line": {
             "colorbar": {
              "outlinewidth": 0,
              "ticks": ""
             }
            },
            "type": "parcoords"
           }
          ],
          "pie": [
           {
            "automargin": true,
            "type": "pie"
           }
          ],
          "scatter": [
           {
            "marker": {
             "colorbar": {
              "outlinewidth": 0,
              "ticks": ""
             }
            },
            "type": "scatter"
           }
          ],
          "scatter3d": [
           {
            "line": {
             "colorbar": {
              "outlinewidth": 0,
              "ticks": ""
             }
            },
            "marker": {
             "colorbar": {
              "outlinewidth": 0,
              "ticks": ""
             }
            },
            "type": "scatter3d"
           }
          ],
          "scattercarpet": [
           {
            "marker": {
             "colorbar": {
              "outlinewidth": 0,
              "ticks": ""
             }
            },
            "type": "scattercarpet"
           }
          ],
          "scattergeo": [
           {
            "marker": {
             "colorbar": {
              "outlinewidth": 0,
              "ticks": ""
             }
            },
            "type": "scattergeo"
           }
          ],
          "scattergl": [
           {
            "marker": {
             "colorbar": {
              "outlinewidth": 0,
              "ticks": ""
             }
            },
            "type": "scattergl"
           }
          ],
          "scattermapbox": [
           {
            "marker": {
             "colorbar": {
              "outlinewidth": 0,
              "ticks": ""
             }
            },
            "type": "scattermapbox"
           }
          ],
          "scatterpolar": [
           {
            "marker": {
             "colorbar": {
              "outlinewidth": 0,
              "ticks": ""
             }
            },
            "type": "scatterpolar"
           }
          ],
          "scatterpolargl": [
           {
            "marker": {
             "colorbar": {
              "outlinewidth": 0,
              "ticks": ""
             }
            },
            "type": "scatterpolargl"
           }
          ],
          "scatterternary": [
           {
            "marker": {
             "colorbar": {
              "outlinewidth": 0,
              "ticks": ""
             }
            },
            "type": "scatterternary"
           }
          ],
          "surface": [
           {
            "colorbar": {
             "outlinewidth": 0,
             "ticks": ""
            },
            "colorscale": [
             [
              0,
              "#0d0887"
             ],
             [
              0.1111111111111111,
              "#46039f"
             ],
             [
              0.2222222222222222,
              "#7201a8"
             ],
             [
              0.3333333333333333,
              "#9c179e"
             ],
             [
              0.4444444444444444,
              "#bd3786"
             ],
             [
              0.5555555555555556,
              "#d8576b"
             ],
             [
              0.6666666666666666,
              "#ed7953"
             ],
             [
              0.7777777777777778,
              "#fb9f3a"
             ],
             [
              0.8888888888888888,
              "#fdca26"
             ],
             [
              1,
              "#f0f921"
             ]
            ],
            "type": "surface"
           }
          ],
          "table": [
           {
            "cells": {
             "fill": {
              "color": "#EBF0F8"
             },
             "line": {
              "color": "white"
             }
            },
            "header": {
             "fill": {
              "color": "#C8D4E3"
             },
             "line": {
              "color": "white"
             }
            },
            "type": "table"
           }
          ]
         },
         "layout": {
          "annotationdefaults": {
           "arrowcolor": "#2a3f5f",
           "arrowhead": 0,
           "arrowwidth": 1
          },
          "autotypenumbers": "strict",
          "coloraxis": {
           "colorbar": {
            "outlinewidth": 0,
            "ticks": ""
           }
          },
          "colorscale": {
           "diverging": [
            [
             0,
             "#8e0152"
            ],
            [
             0.1,
             "#c51b7d"
            ],
            [
             0.2,
             "#de77ae"
            ],
            [
             0.3,
             "#f1b6da"
            ],
            [
             0.4,
             "#fde0ef"
            ],
            [
             0.5,
             "#f7f7f7"
            ],
            [
             0.6,
             "#e6f5d0"
            ],
            [
             0.7,
             "#b8e186"
            ],
            [
             0.8,
             "#7fbc41"
            ],
            [
             0.9,
             "#4d9221"
            ],
            [
             1,
             "#276419"
            ]
           ],
           "sequential": [
            [
             0,
             "#0d0887"
            ],
            [
             0.1111111111111111,
             "#46039f"
            ],
            [
             0.2222222222222222,
             "#7201a8"
            ],
            [
             0.3333333333333333,
             "#9c179e"
            ],
            [
             0.4444444444444444,
             "#bd3786"
            ],
            [
             0.5555555555555556,
             "#d8576b"
            ],
            [
             0.6666666666666666,
             "#ed7953"
            ],
            [
             0.7777777777777778,
             "#fb9f3a"
            ],
            [
             0.8888888888888888,
             "#fdca26"
            ],
            [
             1,
             "#f0f921"
            ]
           ],
           "sequentialminus": [
            [
             0,
             "#0d0887"
            ],
            [
             0.1111111111111111,
             "#46039f"
            ],
            [
             0.2222222222222222,
             "#7201a8"
            ],
            [
             0.3333333333333333,
             "#9c179e"
            ],
            [
             0.4444444444444444,
             "#bd3786"
            ],
            [
             0.5555555555555556,
             "#d8576b"
            ],
            [
             0.6666666666666666,
             "#ed7953"
            ],
            [
             0.7777777777777778,
             "#fb9f3a"
            ],
            [
             0.8888888888888888,
             "#fdca26"
            ],
            [
             1,
             "#f0f921"
            ]
           ]
          },
          "colorway": [
           "#636efa",
           "#EF553B",
           "#00cc96",
           "#ab63fa",
           "#FFA15A",
           "#19d3f3",
           "#FF6692",
           "#B6E880",
           "#FF97FF",
           "#FECB52"
          ],
          "font": {
           "color": "#2a3f5f"
          },
          "geo": {
           "bgcolor": "white",
           "lakecolor": "white",
           "landcolor": "#E5ECF6",
           "showlakes": true,
           "showland": true,
           "subunitcolor": "white"
          },
          "hoverlabel": {
           "align": "left"
          },
          "hovermode": "closest",
          "mapbox": {
           "style": "light"
          },
          "paper_bgcolor": "white",
          "plot_bgcolor": "#E5ECF6",
          "polar": {
           "angularaxis": {
            "gridcolor": "white",
            "linecolor": "white",
            "ticks": ""
           },
           "bgcolor": "#E5ECF6",
           "radialaxis": {
            "gridcolor": "white",
            "linecolor": "white",
            "ticks": ""
           }
          },
          "scene": {
           "xaxis": {
            "backgroundcolor": "#E5ECF6",
            "gridcolor": "white",
            "gridwidth": 2,
            "linecolor": "white",
            "showbackground": true,
            "ticks": "",
            "zerolinecolor": "white"
           },
           "yaxis": {
            "backgroundcolor": "#E5ECF6",
            "gridcolor": "white",
            "gridwidth": 2,
            "linecolor": "white",
            "showbackground": true,
            "ticks": "",
            "zerolinecolor": "white"
           },
           "zaxis": {
            "backgroundcolor": "#E5ECF6",
            "gridcolor": "white",
            "gridwidth": 2,
            "linecolor": "white",
            "showbackground": true,
            "ticks": "",
            "zerolinecolor": "white"
           }
          },
          "shapedefaults": {
           "line": {
            "color": "#2a3f5f"
           }
          },
          "ternary": {
           "aaxis": {
            "gridcolor": "white",
            "linecolor": "white",
            "ticks": ""
           },
           "baxis": {
            "gridcolor": "white",
            "linecolor": "white",
            "ticks": ""
           },
           "bgcolor": "#E5ECF6",
           "caxis": {
            "gridcolor": "white",
            "linecolor": "white",
            "ticks": ""
           }
          },
          "title": {
           "x": 0.05
          },
          "xaxis": {
           "automargin": true,
           "gridcolor": "white",
           "linecolor": "white",
           "ticks": "",
           "title": {
            "standoff": 15
           },
           "zerolinecolor": "white",
           "zerolinewidth": 2
          },
          "yaxis": {
           "automargin": true,
           "gridcolor": "white",
           "linecolor": "white",
           "ticks": "",
           "title": {
            "standoff": 15
           },
           "zerolinecolor": "white",
           "zerolinewidth": 2
          }
         }
        },
        "title": {
         "text": "Распределение контактов,%"
        },
        "xaxis": {
         "anchor": "y",
         "domain": [
          0,
          1
         ],
         "title": {
          "text": "dt"
         }
        },
        "yaxis": {
         "anchor": "x",
         "domain": [
          0,
          1
         ],
         "title": {
          "text": "events"
         }
        }
       }
      },
      "text/html": [
       "<div>                            <div id=\"71c88da6-dbd6-4669-b89e-6f980a01508d\" class=\"plotly-graph-div\" style=\"height:525px; width:100%;\"></div>            <script type=\"text/javascript\">                require([\"plotly\"], function(Plotly) {                    window.PLOTLYENV=window.PLOTLYENV || {};                                    if (document.getElementById(\"71c88da6-dbd6-4669-b89e-6f980a01508d\")) {                    Plotly.newPlot(                        \"71c88da6-dbd6-4669-b89e-6f980a01508d\",                        [{\"hovertemplate\":\"screen_new_alias=\\u0410\\u043d\\u0442\\u0438\\u0431\\u0430\\u0440\\u0430\\u0445\\u043e\\u043b\\u043a\\u0438<br>dt=%{x}<br>events=%{y}<extra></extra>\",\"legendgroup\":\"\\u0410\\u043d\\u0442\\u0438\\u0431\\u0430\\u0440\\u0430\\u0445\\u043e\\u043b\\u043a\\u0438\",\"line\":{\"color\":\"#636efa\",\"dash\":\"solid\"},\"marker\":{\"symbol\":\"circle\"},\"mode\":\"lines\",\"name\":\"\\u0410\\u043d\\u0442\\u0438\\u0431\\u0430\\u0440\\u0430\\u0445\\u043e\\u043b\\u043a\\u0438\",\"orientation\":\"v\",\"showlegend\":true,\"type\":\"scatter\",\"x\":[\"2022-02-11\",\"2022-02-12\",\"2022-02-13\",\"2022-02-14\",\"2022-02-15\",\"2022-02-16\",\"2022-02-17\",\"2022-02-18\",\"2022-02-19\",\"2022-02-20\",\"2022-02-21\",\"2022-02-22\",\"2022-02-23\",\"2022-02-24\",\"2022-02-25\",\"2022-02-26\",\"2022-02-27\",\"2022-02-28\",\"2022-03-01\",\"2022-03-02\",\"2022-03-03\"],\"xaxis\":\"x\",\"y\":[0.29564934360420964,0.2959526475763878,0.35774147549595975,0.3283083910152937,0.3422958626847902,0.31409601634320733,0.3061431029248052,0.3037226179276979,0.3623381467469494,0.4054019814021841,0.33524764597848583,0.33723544460810917,0.3138781834796774,0.415344409184245,0.5006134969325153,0.34456181711021444,0.4719737492695645,0.4545844412042199,0.38549150166462237,0.483431121394926,0.3893862149251335],\"yaxis\":\"y\"},{\"hovertemplate\":\"screen_new_alias=\\u0413\\u043b\\u0430\\u0432\\u043d\\u0430\\u044f \\u0440\\u0430\\u0437\\u0434\\u0435\\u043b\\u0430<br>dt=%{x}<br>events=%{y}<extra></extra>\",\"legendgroup\":\"\\u0413\\u043b\\u0430\\u0432\\u043d\\u0430\\u044f \\u0440\\u0430\\u0437\\u0434\\u0435\\u043b\\u0430\",\"line\":{\"color\":\"#EF553B\",\"dash\":\"solid\"},\"marker\":{\"symbol\":\"circle\"},\"mode\":\"lines\",\"name\":\"\\u0413\\u043b\\u0430\\u0432\\u043d\\u0430\\u044f \\u0440\\u0430\\u0437\\u0434\\u0435\\u043b\\u0430\",\"orientation\":\"v\",\"showlegend\":true,\"type\":\"scatter\",\"x\":[\"2022-02-11\",\"2022-02-12\",\"2022-02-13\",\"2022-02-14\",\"2022-02-15\",\"2022-02-16\",\"2022-02-17\",\"2022-02-18\",\"2022-02-19\",\"2022-02-20\",\"2022-02-21\",\"2022-02-22\",\"2022-02-23\",\"2022-02-24\",\"2022-02-25\",\"2022-02-26\",\"2022-02-27\",\"2022-02-28\",\"2022-03-01\",\"2022-03-02\",\"2022-03-03\"],\"xaxis\":\"x\",\"y\":[1.1961592709124442,1.2104729909881085,1.3609186200685461,1.047850947990479,1.0516916360750075,0.9805924412665985,1.1587895961947172,1.0294315280204274,1.3214685351947566,1.0616464387969695,1.2214675101303094,1.0388402201721063,0.8979299932456595,1.110696285234273,0.9668711656441717,1.2014326517658793,0.89000764147975,0.8791491551591045,1.8223234624145785,1.6403603008015866,1.9148167476215328],\"yaxis\":\"y\"},{\"hovertemplate\":\"screen_new_alias=\\u0417\\u0430\\u043a\\u043b\\u0430\\u0434\\u043a\\u0438<br>dt=%{x}<br>events=%{y}<extra></extra>\",\"legendgroup\":\"\\u0417\\u0430\\u043a\\u043b\\u0430\\u0434\\u043a\\u0438\",\"line\":{\"color\":\"#00cc96\",\"dash\":\"solid\"},\"marker\":{\"symbol\":\"circle\"},\"mode\":\"lines\",\"name\":\"\\u0417\\u0430\\u043a\\u043b\\u0430\\u0434\\u043a\\u0438\",\"orientation\":\"v\",\"showlegend\":true,\"type\":\"scatter\",\"x\":[\"2022-02-11\",\"2022-02-12\",\"2022-02-13\",\"2022-02-14\",\"2022-02-15\",\"2022-02-16\",\"2022-02-17\",\"2022-02-18\",\"2022-02-19\",\"2022-02-20\",\"2022-02-21\",\"2022-02-22\",\"2022-02-23\",\"2022-02-24\",\"2022-02-25\",\"2022-02-26\",\"2022-02-27\",\"2022-02-28\",\"2022-03-01\",\"2022-03-02\",\"2022-03-03\"],\"xaxis\":\"x\",\"y\":[1.950200716068135,1.8130432464139072,1.8462462161959323,1.885037345079478,1.6792340509971229,1.723697650663943,1.7280639611375368,1.9271603279129148,2.1234081099802844,2.320926343527504,1.9619275282045303,0.876036902085433,0.7827088879176766,1.0500280007466867,1.2711656441717791,1.1515618624472956,0.9484424866274105,0.7376275838408097,1.0513404590853337,0.8139823155111147,0.8068724659788848],\"yaxis\":\"y\"},{\"hovertemplate\":\"screen_new_alias=\\u041a\\u0430\\u0440\\u0442\\u043e\\u0447\\u043a\\u0430 \\u0442\\u043e\\u0432\\u0430\\u0440\\u0430<br>dt=%{x}<br>events=%{y}<extra></extra>\",\"legendgroup\":\"\\u041a\\u0430\\u0440\\u0442\\u043e\\u0447\\u043a\\u0430 \\u0442\\u043e\\u0432\\u0430\\u0440\\u0430\",\"line\":{\"color\":\"#ab63fa\",\"dash\":\"solid\"},\"marker\":{\"symbol\":\"circle\"},\"mode\":\"lines\",\"name\":\"\\u041a\\u0430\\u0440\\u0442\\u043e\\u0447\\u043a\\u0430 \\u0442\\u043e\\u0432\\u0430\\u0440\\u0430\",\"orientation\":\"v\",\"showlegend\":true,\"type\":\"scatter\",\"x\":[\"2022-02-11\",\"2022-02-12\",\"2022-02-13\",\"2022-02-14\",\"2022-02-15\",\"2022-02-16\",\"2022-02-17\",\"2022-02-18\",\"2022-02-19\",\"2022-02-20\",\"2022-02-21\",\"2022-02-22\",\"2022-02-23\",\"2022-02-24\",\"2022-02-25\",\"2022-02-26\",\"2022-02-27\",\"2022-02-28\",\"2022-03-01\",\"2022-03-02\",\"2022-03-03\"],\"xaxis\":\"x\",\"y\":[0.18444179234024086,0.11464832293499706,0.10507092287293923,0.13953106618149982,0.11657902569699374,0.10214504596527069,0.09867422325675539,0.1209514850154549,0.13587680503010605,0.11908683203689158,0.13409905839139435,0.1085355453911156,0.04767769875640669,0.10733619563188353,0.1030674846625767,0.07253932991793989,0.16181957117813636,0.12865597392572262,0.1357981426318556,0.1115610280142137,0.08430010838585364],\"yaxis\":\"y\"},{\"hovertemplate\":\"screen_new_alias=\\u041a\\u0430\\u0440\\u0443\\u0441\\u0435\\u043b\\u044c \\u043d\\u0430 \\u0433\\u043b\\u0430\\u0432\\u043d\\u043e\\u0439 \\u0412\\u041a\\u041e<br>dt=%{x}<br>events=%{y}<extra></extra>\",\"legendgroup\":\"\\u041a\\u0430\\u0440\\u0443\\u0441\\u0435\\u043b\\u044c \\u043d\\u0430 \\u0433\\u043b\\u0430\\u0432\\u043d\\u043e\\u0439 \\u0412\\u041a\\u041e\",\"line\":{\"color\":\"#FFA15A\",\"dash\":\"solid\"},\"marker\":{\"symbol\":\"circle\"},\"mode\":\"lines\",\"name\":\"\\u041a\\u0430\\u0440\\u0443\\u0441\\u0435\\u043b\\u044c \\u043d\\u0430 \\u0433\\u043b\\u0430\\u0432\\u043d\\u043e\\u0439 \\u0412\\u041a\\u041e\",\"orientation\":\"v\",\"showlegend\":true,\"type\":\"scatter\",\"x\":[\"2022-02-11\",\"2022-02-12\",\"2022-02-13\",\"2022-02-14\",\"2022-02-15\",\"2022-02-16\",\"2022-02-17\",\"2022-02-18\",\"2022-02-19\",\"2022-02-20\",\"2022-02-21\",\"2022-02-22\",\"2022-02-23\",\"2022-02-24\",\"2022-02-25\",\"2022-02-26\",\"2022-02-27\",\"2022-02-28\",\"2022-03-01\",\"2022-03-02\",\"2022-03-03\"],\"xaxis\":\"x\",\"y\":[0.08950851687099924,0.2106329653922039,0.1501013183899132,0.22160816393532326,0.18603036015477725,0.15321756894790603,0.17963768849306752,0.1720198897997581,0.20514733308466987,0.21283604023614663,0.1778270122146751,0.15892704860841925,0.12316738845405062,0.11200298674631323,0.19631901840490798,0.20855057351407716,0.2562143210320493,0.1586757011750579,0.10951463115472226,0.17767126683745146,0.16860021677170728],\"yaxis\":\"y\"},{\"hovertemplate\":\"screen_new_alias=\\u041a\\u0430\\u0440\\u0443\\u0441\\u0435\\u043b\\u044c \\u043d\\u0430 \\u0433\\u043b\\u0430\\u0432\\u043d\\u043e\\u0439 \\u0412\\u041a\\u041e \\u043f\\u0440\\u0435\\u0432\\u044c\\u044e<br>dt=%{x}<br>events=%{y}<extra></extra>\",\"legendgroup\":\"\\u041a\\u0430\\u0440\\u0443\\u0441\\u0435\\u043b\\u044c \\u043d\\u0430 \\u0433\\u043b\\u0430\\u0432\\u043d\\u043e\\u0439 \\u0412\\u041a\\u041e \\u043f\\u0440\\u0435\\u0432\\u044c\\u044e\",\"line\":{\"color\":\"#19d3f3\",\"dash\":\"solid\"},\"marker\":{\"symbol\":\"circle\"},\"mode\":\"lines\",\"name\":\"\\u041a\\u0430\\u0440\\u0443\\u0441\\u0435\\u043b\\u044c \\u043d\\u0430 \\u0433\\u043b\\u0430\\u0432\\u043d\\u043e\\u0439 \\u0412\\u041a\\u041e \\u043f\\u0440\\u0435\\u0432\\u044c\\u044e\",\"orientation\":\"v\",\"showlegend\":true,\"type\":\"scatter\",\"x\":[\"2022-02-11\",\"2022-02-12\",\"2022-02-13\",\"2022-02-14\",\"2022-02-15\",\"2022-02-16\",\"2022-02-17\",\"2022-02-18\",\"2022-02-19\",\"2022-02-20\",\"2022-02-21\",\"2022-02-22\",\"2022-02-23\",\"2022-02-24\",\"2022-02-25\",\"2022-02-26\",\"2022-02-27\",\"2022-02-28\",\"2022-03-01\",\"2022-03-02\",\"2022-03-03\"],\"xaxis\":\"x\",\"y\":[1.2639687533904742,1.3917773156294992,1.235834188076952,1.348800306421165,1.3046929258855045,1.151685393258427,1.2498734945855683,1.2014514178201854,1.3667608035381256,1.6140066384574454,1.3322449931492872,1.3063028141716413,1.1085064960864555,1.2787007653537428,1.3496932515337423,1.3329101872421454,1.3664763788375962,1.132172570546359,1.204660942701945,1.1032146103627798,1.1400586086467825],\"yaxis\":\"y\"},{\"hovertemplate\":\"screen_new_alias=\\u041d\\u0435\\u0438\\u0437\\u0432\\u0435\\u0441\\u0442\\u043d\\u044b\\u0435 \\u0438 \\u043f\\u0440\\u044f\\u043c\\u044b\\u0435 \\u043f\\u0435\\u0440\\u0435\\u0445\\u043e\\u0434\\u044b<br>dt=%{x}<br>events=%{y}<extra></extra>\",\"legendgroup\":\"\\u041d\\u0435\\u0438\\u0437\\u0432\\u0435\\u0441\\u0442\\u043d\\u044b\\u0435 \\u0438 \\u043f\\u0440\\u044f\\u043c\\u044b\\u0435 \\u043f\\u0435\\u0440\\u0435\\u0445\\u043e\\u0434\\u044b\",\"line\":{\"color\":\"#FF6692\",\"dash\":\"solid\"},\"marker\":{\"symbol\":\"circle\"},\"mode\":\"lines\",\"name\":\"\\u041d\\u0435\\u0438\\u0437\\u0432\\u0435\\u0441\\u0442\\u043d\\u044b\\u0435 \\u0438 \\u043f\\u0440\\u044f\\u043c\\u044b\\u0435 \\u043f\\u0435\\u0440\\u0435\\u0445\\u043e\\u0434\\u044b\",\"orientation\":\"v\",\"showlegend\":true,\"type\":\"scatter\",\"x\":[\"2022-02-11\",\"2022-02-12\",\"2022-02-13\",\"2022-02-14\",\"2022-02-15\",\"2022-02-16\",\"2022-02-17\",\"2022-02-18\",\"2022-02-19\",\"2022-02-20\",\"2022-02-21\",\"2022-02-22\",\"2022-02-23\",\"2022-02-24\",\"2022-02-25\",\"2022-02-26\",\"2022-02-27\",\"2022-02-28\",\"2022-03-01\",\"2022-03-02\",\"2022-03-03\"],\"xaxis\":\"x\",\"y\":[25.59129868720842,24.166799978670078,24.644134790983916,24.795491231430056,27.626748685385454,27.561287027579162,27.244206052019027,27.020561752452625,23.160334629935527,20.59442065523095,22.997988514124128,23.637491278393675,23.78322539632087,21.429904797461266,22.63558282208589,25.048737362288616,20.60952038477098,24.028647396860794,22.016821447345368,25.646640773489793,25.59913291317089],\"yaxis\":\"y\"},{\"hovertemplate\":\"screen_new_alias=\\u041f\\u043e\\u0434\\u043f\\u0438\\u0441\\u043a\\u0430 \\u043d\\u0430 \\u043f\\u043e\\u0445\\u043e\\u0436\\u0438\\u0435<br>dt=%{x}<br>events=%{y}<extra></extra>\",\"legendgroup\":\"\\u041f\\u043e\\u0434\\u043f\\u0438\\u0441\\u043a\\u0430 \\u043d\\u0430 \\u043f\\u043e\\u0445\\u043e\\u0436\\u0438\\u0435\",\"line\":{\"color\":\"#B6E880\",\"dash\":\"solid\"},\"marker\":{\"symbol\":\"circle\"},\"mode\":\"lines\",\"name\":\"\\u041f\\u043e\\u0434\\u043f\\u0438\\u0441\\u043a\\u0430 \\u043d\\u0430 \\u043f\\u043e\\u0445\\u043e\\u0436\\u0438\\u0435\",\"orientation\":\"v\",\"showlegend\":true,\"type\":\"scatter\",\"x\":[\"2022-02-11\",\"2022-02-12\",\"2022-02-13\",\"2022-02-14\",\"2022-02-15\",\"2022-02-16\",\"2022-02-17\",\"2022-02-18\",\"2022-02-19\",\"2022-02-20\",\"2022-02-21\",\"2022-02-22\",\"2022-02-23\",\"2022-02-24\",\"2022-02-25\",\"2022-02-26\",\"2022-02-27\",\"2022-02-28\",\"2022-03-01\",\"2022-03-02\",\"2022-03-03\"],\"xaxis\":\"x\",\"y\":[0.2414017576217858,0.1973017650509252,0.1901283366272234,0.16415419550764684,0.18354995535271357,0.16598569969356486,0.16192693047262424,0.13707834968418225,0.15186231150423618,0.2305723769224922,0.24487654141037227,0.18218466547794404,0.22249592752989789,0.2333395557214859,0.3337423312883436,0.29015731967175956,0.3146491661797096,0.27446607770820824,0.3022603819870335,0.18180315676390382,0.22881457990445989],\"yaxis\":\"y\"},{\"hovertemplate\":\"screen_new_alias=\\u041f\\u043e\\u0434\\u043f\\u0438\\u0441\\u043a\\u0430 \\u043d\\u0430 \\u043f\\u0440\\u043e\\u0434\\u0430\\u0432\\u0446\\u0430<br>dt=%{x}<br>events=%{y}<extra></extra>\",\"legendgroup\":\"\\u041f\\u043e\\u0434\\u043f\\u0438\\u0441\\u043a\\u0430 \\u043d\\u0430 \\u043f\\u0440\\u043e\\u0434\\u0430\\u0432\\u0446\\u0430\",\"line\":{\"color\":\"#FF97FF\",\"dash\":\"solid\"},\"marker\":{\"symbol\":\"circle\"},\"mode\":\"lines\",\"name\":\"\\u041f\\u043e\\u0434\\u043f\\u0438\\u0441\\u043a\\u0430 \\u043d\\u0430 \\u043f\\u0440\\u043e\\u0434\\u0430\\u0432\\u0446\\u0430\",\"orientation\":\"v\",\"showlegend\":true,\"type\":\"scatter\",\"x\":[\"2022-02-11\",\"2022-02-12\",\"2022-02-13\",\"2022-02-14\",\"2022-02-15\",\"2022-02-16\",\"2022-02-17\",\"2022-02-18\",\"2022-02-19\",\"2022-02-20\",\"2022-02-21\",\"2022-02-22\",\"2022-02-23\",\"2022-02-24\",\"2022-02-25\",\"2022-02-26\",\"2022-02-27\",\"2022-02-28\",\"2022-03-01\",\"2022-03-02\",\"2022-03-03\"],\"xaxis\":\"x\",\"y\":[0.4204187913637843,0.4372633711939423,0.48532759612738596,0.4021777789937348,0.3621391011012997,0.46475995914198165,0.39469689302702154,0.41392285983066796,0.5408429690414025,0.5574277244280031,0.6092761566043786,0.5775641522598651,0.5403472525726092,0.6580175471345903,0.6282208588957056,0.47150564446660925,0.714703106036769,0.5532206878806073,0.6570877869283337,0.6032559292620444,0.626229376580627],\"yaxis\":\"y\"},{\"hovertemplate\":\"screen_new_alias=\\u041f\\u043e\\u0438\\u0441\\u043a \\u0432 \\u0412\\u041a<br>dt=%{x}<br>events=%{y}<extra></extra>\",\"legendgroup\":\"\\u041f\\u043e\\u0438\\u0441\\u043a \\u0432 \\u0412\\u041a\",\"line\":{\"color\":\"#FECB52\",\"dash\":\"solid\"},\"marker\":{\"symbol\":\"circle\"},\"mode\":\"lines\",\"name\":\"\\u041f\\u043e\\u0438\\u0441\\u043a \\u0432 \\u0412\\u041a\",\"orientation\":\"v\",\"showlegend\":true,\"type\":\"scatter\",\"x\":[\"2022-02-11\",\"2022-02-12\",\"2022-02-13\",\"2022-02-14\",\"2022-02-15\",\"2022-02-16\",\"2022-02-17\",\"2022-02-18\",\"2022-02-19\",\"2022-02-20\",\"2022-02-21\",\"2022-02-22\",\"2022-02-23\",\"2022-02-24\",\"2022-02-25\",\"2022-02-26\",\"2022-02-27\",\"2022-02-28\",\"2022-03-01\",\"2022-03-02\",\"2022-03-03\"],\"xaxis\":\"x\",\"y\":[1.5596180969946838,1.6743987628646084,1.5260300702974507,1.5950315996826354,1.5824982637166387,1.5858018386108275,1.4118004250581926,1.4836715495229136,1.3561037992220388,1.907923074974029,1.3293297962277353,0.8644080936506706,2.626246573165402,1.0640283740899756,0.9619631901840491,1.1651629868069093,1.0203622960399155,1.1364611030105498,1.1783774312248116,1.1238740599950419,1.2645016257878046],\"yaxis\":\"y\"},{\"hovertemplate\":\"screen_new_alias=\\u041f\\u043e\\u0438\\u0441\\u043a \\u0432 \\u043c\\u0438\\u043d\\u0438\\u0430\\u043f\\u043f\\u0435<br>dt=%{x}<br>events=%{y}<extra></extra>\",\"legendgroup\":\"\\u041f\\u043e\\u0438\\u0441\\u043a \\u0432 \\u043c\\u0438\\u043d\\u0438\\u0430\\u043f\\u043f\\u0435\",\"line\":{\"color\":\"#636efa\",\"dash\":\"solid\"},\"marker\":{\"symbol\":\"circle\"},\"mode\":\"lines\",\"name\":\"\\u041f\\u043e\\u0438\\u0441\\u043a \\u0432 \\u043c\\u0438\\u043d\\u0438\\u0430\\u043f\\u043f\\u0435\",\"orientation\":\"v\",\"showlegend\":true,\"type\":\"scatter\",\"x\":[\"2022-02-11\",\"2022-02-12\",\"2022-02-13\",\"2022-02-14\",\"2022-02-15\",\"2022-02-16\",\"2022-02-17\",\"2022-02-18\",\"2022-02-19\",\"2022-02-20\",\"2022-02-21\",\"2022-02-22\",\"2022-02-23\",\"2022-02-24\",\"2022-02-25\",\"2022-02-26\",\"2022-02-27\",\"2022-02-28\",\"2022-03-01\",\"2022-03-02\",\"2022-03-03\"],\"xaxis\":\"x\",\"y\":[17.161223825539764,17.682504132672104,16.75881219823381,15.788897704577165,15.21728346066078,15.033197139938714,16.349559761157778,15.747883349012229,17.650663398518677,15.293789748397396,15.587557939538815,14.388712303279325,13.842425205610077,14.89639723725966,16.711656441717793,16.42109081017364,17.040499842675416,16.896817908911572,15.980374978097073,16.333360879266177,15.48311990686845],\"yaxis\":\"y\"},{\"hovertemplate\":\"screen_new_alias=\\u041f\\u043e\\u0440\\u0442\\u043b\\u0435\\u0442\\u044b<br>dt=%{x}<br>events=%{y}<extra></extra>\",\"legendgroup\":\"\\u041f\\u043e\\u0440\\u0442\\u043b\\u0435\\u0442\\u044b\",\"line\":{\"color\":\"#EF553B\",\"dash\":\"solid\"},\"marker\":{\"symbol\":\"circle\"},\"mode\":\"lines\",\"name\":\"\\u041f\\u043e\\u0440\\u0442\\u043b\\u0435\\u0442\\u044b\",\"orientation\":\"v\",\"showlegend\":true,\"type\":\"scatter\",\"x\":[\"2022-02-11\",\"2022-02-12\",\"2022-02-13\",\"2022-02-14\",\"2022-02-15\",\"2022-02-16\",\"2022-02-17\",\"2022-02-18\",\"2022-02-19\",\"2022-02-20\",\"2022-02-21\",\"2022-02-22\",\"2022-02-23\",\"2022-02-24\",\"2022-02-25\",\"2022-02-26\",\"2022-02-27\",\"2022-02-28\",\"2022-03-01\",\"2022-03-02\",\"2022-03-03\"],\"xaxis\":\"x\",\"y\":[6.8867310404687,8.156028368794328,8.203037050008756,8.23780471122541,7.882726460958428,7.780898876404494,8.10140674020848,7.942480849348206,7.3346832205467045,7.874933488737426,7.0197941870973395,6.558647957205984,7.0880845484524615,6.846182564868397,7.386503067484663,6.891236342204289,7.686429630961477,7.123252423020842,7.30681619064307,7.1109825634245105,7.269880775560996],\"yaxis\":\"y\"},{\"hovertemplate\":\"screen_new_alias=\\u041f\\u043e\\u0440\\u0442\\u043b\\u0435\\u0442\\u044b (\\u0430\\u043d\\u0442\\u0438\\u0431\\u0430\\u0440\\u0430\\u0445\\u043e\\u043b\\u043a\\u0438)<br>dt=%{x}<br>events=%{y}<extra></extra>\",\"legendgroup\":\"\\u041f\\u043e\\u0440\\u0442\\u043b\\u0435\\u0442\\u044b (\\u0430\\u043d\\u0442\\u0438\\u0431\\u0430\\u0440\\u0430\\u0445\\u043e\\u043b\\u043a\\u0438)\",\"line\":{\"color\":\"#00cc96\",\"dash\":\"solid\"},\"marker\":{\"symbol\":\"circle\"},\"mode\":\"lines\",\"name\":\"\\u041f\\u043e\\u0440\\u0442\\u043b\\u0435\\u0442\\u044b (\\u0430\\u043d\\u0442\\u0438\\u0431\\u0430\\u0440\\u0430\\u0445\\u043e\\u043b\\u043a\\u0438)\",\"orientation\":\"v\",\"showlegend\":true,\"type\":\"scatter\",\"x\":[\"2022-02-11\",\"2022-02-12\",\"2022-02-13\",\"2022-02-14\",\"2022-02-15\",\"2022-02-16\",\"2022-02-17\",\"2022-02-18\",\"2022-02-19\",\"2022-02-20\",\"2022-02-21\",\"2022-02-22\",\"2022-02-23\",\"2022-02-24\",\"2022-02-25\",\"2022-02-26\",\"2022-02-27\",\"2022-02-28\",\"2022-03-01\",\"2022-03-02\",\"2022-03-03\"],\"xaxis\":\"x\",\"y\":[0.010849517196484757,0.010664960273022984,0.0025016886398318864,0.008207709775382342,0.00744121440619109,0.02808988764044944,0.027831191174982287,0.029565918559333423,0.023978259711195184,0.007601287151290952,0.046643150744832815,0.01938134739127064,0.05165084031944059,0.018667164457718873,0.029447852760736196,0.04987078931858367,0.03595990470625253,0.042885324641907537,0.03942526721570002,0.053714569043880674,0.1204287262655052],\"yaxis\":\"y\"},{\"hovertemplate\":\"screen_new_alias=\\u041f\\u043e\\u0445\\u043e\\u0436\\u0438\\u0435<br>dt=%{x}<br>events=%{y}<extra></extra>\",\"legendgroup\":\"\\u041f\\u043e\\u0445\\u043e\\u0436\\u0438\\u0435\",\"line\":{\"color\":\"#ab63fa\",\"dash\":\"solid\"},\"marker\":{\"symbol\":\"circle\"},\"mode\":\"lines\",\"name\":\"\\u041f\\u043e\\u0445\\u043e\\u0436\\u0438\\u0435\",\"orientation\":\"v\",\"showlegend\":true,\"type\":\"scatter\",\"x\":[\"2022-02-11\",\"2022-02-12\",\"2022-02-13\",\"2022-02-14\",\"2022-02-15\",\"2022-02-16\",\"2022-02-17\",\"2022-02-18\",\"2022-02-19\",\"2022-02-20\",\"2022-02-21\",\"2022-02-22\",\"2022-02-23\",\"2022-02-24\",\"2022-02-25\",\"2022-02-26\",\"2022-02-27\",\"2022-02-28\",\"2022-03-01\",\"2022-03-02\",\"2022-03-03\"],\"xaxis\":\"x\",\"y\":[4.798198980145384,4.833893243747667,4.808245565756886,4.607261087247955,4.645798194265304,4.642492339121553,4.42262928853355,4.467141513237468,4.803644695476102,5.407048926951631,4.696382240620354,3.8413830529498414,4.604871071556279,4.260780287474333,4.098159509202453,4.311556421997552,4.193823886366701,3.748177373702719,3.526371123182057,3.5906123460871,3.8336477861185827],\"yaxis\":\"y\"},{\"hovertemplate\":\"screen_new_alias=\\u041f\\u0440\\u043e\\u0444\\u0438\\u043b\\u044c \\u043f\\u0440\\u043e\\u0434\\u0430\\u0432\\u0446\\u0430<br>dt=%{x}<br>events=%{y}<extra></extra>\",\"legendgroup\":\"\\u041f\\u0440\\u043e\\u0444\\u0438\\u043b\\u044c \\u043f\\u0440\\u043e\\u0434\\u0430\\u0432\\u0446\\u0430\",\"line\":{\"color\":\"#FFA15A\",\"dash\":\"solid\"},\"marker\":{\"symbol\":\"circle\"},\"mode\":\"lines\",\"name\":\"\\u041f\\u0440\\u043e\\u0444\\u0438\\u043b\\u044c \\u043f\\u0440\\u043e\\u0434\\u0430\\u0432\\u0446\\u0430\",\"orientation\":\"v\",\"showlegend\":true,\"type\":\"scatter\",\"x\":[\"2022-02-11\",\"2022-02-12\",\"2022-02-13\",\"2022-02-14\",\"2022-02-15\",\"2022-02-16\",\"2022-02-17\",\"2022-02-18\",\"2022-02-19\",\"2022-02-20\",\"2022-02-21\",\"2022-02-22\",\"2022-02-23\",\"2022-02-24\",\"2022-02-25\",\"2022-02-26\",\"2022-02-27\",\"2022-02-28\",\"2022-03-01\",\"2022-03-02\",\"2022-03-03\"],\"xaxis\":\"x\",\"y\":[8.335141586199414,8.169359569135604,8.333124859280014,8.470356488194577,7.986903462645103,8.143513789581206,8.007792733528996,8.047305469694933,8.128630042095168,8.424759926014138,9.777570474885579,12.353670827195906,11.883666415034368,13.487026320701887,13.865030674846626,13.460579407897718,14.748055917651817,14.0535208851531,14.990362712458385,13.296421783323693,13.271245634458673],\"yaxis\":\"y\"},{\"hovertemplate\":\"screen_new_alias=\\u0420\\u0435\\u043a\\u043b\\u0430\\u043c\\u043d\\u044b\\u0435 \\u0441\\u0441\\u044b\\u043b\\u043a\\u0435 \\u0432 \\u043b\\u0435\\u043d\\u0442\\u0435 \\u0412\\u041a<br>dt=%{x}<br>events=%{y}<extra></extra>\",\"legendgroup\":\"\\u0420\\u0435\\u043a\\u043b\\u0430\\u043c\\u043d\\u044b\\u0435 \\u0441\\u0441\\u044b\\u043b\\u043a\\u0435 \\u0432 \\u043b\\u0435\\u043d\\u0442\\u0435 \\u0412\\u041a\",\"line\":{\"color\":\"#19d3f3\",\"dash\":\"solid\"},\"marker\":{\"symbol\":\"circle\"},\"mode\":\"lines\",\"name\":\"\\u0420\\u0435\\u043a\\u043b\\u0430\\u043c\\u043d\\u044b\\u0435 \\u0441\\u0441\\u044b\\u043b\\u043a\\u0435 \\u0432 \\u043b\\u0435\\u043d\\u0442\\u0435 \\u0412\\u041a\",\"orientation\":\"v\",\"showlegend\":true,\"type\":\"scatter\",\"x\":[\"2022-02-11\",\"2022-02-12\",\"2022-02-13\",\"2022-02-14\",\"2022-02-15\",\"2022-02-16\",\"2022-02-17\",\"2022-02-18\",\"2022-02-19\",\"2022-02-20\",\"2022-02-21\",\"2022-02-22\",\"2022-02-23\",\"2022-02-24\",\"2022-02-25\"],\"xaxis\":\"x\",\"y\":[4.231311706629055,4.633925238628486,4.498036174417732,4.185931985444995,4.298541521976387,4.831460674157303,4.592146543872078,4.730546969493347,6.141098737144988,6.640991207844528,6.570853861178323,6.961779982944415,7.7317334816639525,4.536120963225685,0.024539877300613498],\"yaxis\":\"y\"},{\"hovertemplate\":\"screen_new_alias=\\u0421\\u043d\\u0438\\u043f\\u043f\\u0435\\u0442<br>dt=%{x}<br>events=%{y}<extra></extra>\",\"legendgroup\":\"\\u0421\\u043d\\u0438\\u043f\\u043f\\u0435\\u0442\",\"line\":{\"color\":\"#FF6692\",\"dash\":\"solid\"},\"marker\":{\"symbol\":\"circle\"},\"mode\":\"lines\",\"name\":\"\\u0421\\u043d\\u0438\\u043f\\u043f\\u0435\\u0442\",\"orientation\":\"v\",\"showlegend\":true,\"type\":\"scatter\",\"x\":[\"2022-02-11\",\"2022-02-12\",\"2022-02-13\",\"2022-02-14\",\"2022-02-15\",\"2022-02-16\",\"2022-02-17\",\"2022-02-18\",\"2022-02-19\",\"2022-02-20\",\"2022-02-21\",\"2022-02-22\",\"2022-02-23\",\"2022-02-24\",\"2022-02-25\",\"2022-02-26\",\"2022-02-27\",\"2022-02-28\",\"2022-03-01\",\"2022-03-02\",\"2022-03-03\"],\"xaxis\":\"x\",\"y\":[21.62308777259412,21.423238948434918,21.779701298376406,23.29621624579355,21.87468994939974,21.802860061287028,20.898694464123064,21.31971509205752,21.183460329301436,23.211797197658804,21.39754540419205,21.710985347701374,20.23918312209464,23.431958185551615,23.96564417177914,22.940563086548487,25.257338068054118,24.148726305858133,24.697739618012967,23.477398562102305,23.535787403155233],\"yaxis\":\"y\"},{\"hovertemplate\":\"screen_new_alias=\\u0421\\u043e\\u0445\\u0440\\u0430\\u043d\\u0435\\u043d\\u043d\\u044b\\u0435 \\u043f\\u043e\\u0438\\u0441\\u043a\\u0438<br>dt=%{x}<br>events=%{y}<extra></extra>\",\"legendgroup\":\"\\u0421\\u043e\\u0445\\u0440\\u0430\\u043d\\u0435\\u043d\\u043d\\u044b\\u0435 \\u043f\\u043e\\u0438\\u0441\\u043a\\u0438\",\"line\":{\"color\":\"#B6E880\",\"dash\":\"solid\"},\"marker\":{\"symbol\":\"circle\"},\"mode\":\"lines\",\"name\":\"\\u0421\\u043e\\u0445\\u0440\\u0430\\u043d\\u0435\\u043d\\u043d\\u044b\\u0435 \\u043f\\u043e\\u0438\\u0441\\u043a\\u0438\",\"orientation\":\"v\",\"showlegend\":true,\"type\":\"scatter\",\"x\":[\"2022-02-11\",\"2022-02-12\",\"2022-02-13\",\"2022-02-14\",\"2022-02-15\",\"2022-02-16\",\"2022-02-17\",\"2022-02-18\",\"2022-02-19\",\"2022-02-20\",\"2022-02-21\",\"2022-02-22\",\"2022-02-23\",\"2022-02-24\",\"2022-02-25\",\"2022-02-26\",\"2022-02-27\",\"2022-02-28\",\"2022-03-01\",\"2022-03-02\",\"2022-03-03\"],\"xaxis\":\"x\",\"y\":[1.0822393403493544,1.026502426278462,0.9906687013734271,0.9192634948428223,0.9227105863676952,0.7584269662921348,0.8956583341767028,0.9299825292299422,0.8818671071561784,1.11738921123977,0.9649301810337287,1.2442825025195752,0.8740911438674561,1.3160350942691805,1.3006134969325154,1.3963821009203428,1.420416235896975,1.2308088172227463,1.3360785000876116,1.342864226097017,1.200272971779535],\"yaxis\":\"y\"},{\"hovertemplate\":\"screen_new_alias=\\u0423\\u0432\\u0435\\u0434\\u043e\\u043c\\u043b\\u0435\\u043d\\u0438\\u0435<br>dt=%{x}<br>events=%{y}<extra></extra>\",\"legendgroup\":\"\\u0423\\u0432\\u0435\\u0434\\u043e\\u043c\\u043b\\u0435\\u043d\\u0438\\u0435\",\"line\":{\"color\":\"#FF97FF\",\"dash\":\"solid\"},\"marker\":{\"symbol\":\"circle\"},\"mode\":\"lines\",\"name\":\"\\u0423\\u0432\\u0435\\u0434\\u043e\\u043c\\u043b\\u0435\\u043d\\u0438\\u0435\",\"orientation\":\"v\",\"showlegend\":true,\"type\":\"scatter\",\"x\":[\"2022-02-11\",\"2022-02-12\",\"2022-02-13\",\"2022-02-14\",\"2022-02-15\",\"2022-02-16\",\"2022-02-17\",\"2022-02-18\",\"2022-02-19\",\"2022-02-20\",\"2022-02-21\",\"2022-02-22\",\"2022-02-23\",\"2022-02-24\",\"2022-02-25\",\"2022-02-26\",\"2022-02-27\",\"2022-02-28\",\"2022-03-01\",\"2022-03-02\",\"2022-03-03\"],\"xaxis\":\"x\",\"y\":[3.0785505045025494,2.551591745320749,2.7243389287769246,2.55806954666083,2.7284452822700667,2.775791624106231,2.7704685760550554,2.975406531380191,3.1278307667714604,2.997440899992399,3.5944378042736784,3.833630513993333,3.2381103738726216,3.747433264887064,3.671165644171779,3.2416013057079383,2.8633074122353577,3.272150270177545,3.259155423164535,2.908850508222461,3.062903938019349],\"yaxis\":\"y\"}],                        {\"legend\":{\"title\":{\"text\":\"screen_new_alias\"},\"tracegroupgap\":0},\"template\":{\"data\":{\"bar\":[{\"error_x\":{\"color\":\"#2a3f5f\"},\"error_y\":{\"color\":\"#2a3f5f\"},\"marker\":{\"line\":{\"color\":\"#E5ECF6\",\"width\":0.5},\"pattern\":{\"fillmode\":\"overlay\",\"size\":10,\"solidity\":0.2}},\"type\":\"bar\"}],\"barpolar\":[{\"marker\":{\"line\":{\"color\":\"#E5ECF6\",\"width\":0.5},\"pattern\":{\"fillmode\":\"overlay\",\"size\":10,\"solidity\":0.2}},\"type\":\"barpolar\"}],\"carpet\":[{\"aaxis\":{\"endlinecolor\":\"#2a3f5f\",\"gridcolor\":\"white\",\"linecolor\":\"white\",\"minorgridcolor\":\"white\",\"startlinecolor\":\"#2a3f5f\"},\"baxis\":{\"endlinecolor\":\"#2a3f5f\",\"gridcolor\":\"white\",\"linecolor\":\"white\",\"minorgridcolor\":\"white\",\"startlinecolor\":\"#2a3f5f\"},\"type\":\"carpet\"}],\"choropleth\":[{\"colorbar\":{\"outlinewidth\":0,\"ticks\":\"\"},\"type\":\"choropleth\"}],\"contour\":[{\"colorbar\":{\"outlinewidth\":0,\"ticks\":\"\"},\"colorscale\":[[0.0,\"#0d0887\"],[0.1111111111111111,\"#46039f\"],[0.2222222222222222,\"#7201a8\"],[0.3333333333333333,\"#9c179e\"],[0.4444444444444444,\"#bd3786\"],[0.5555555555555556,\"#d8576b\"],[0.6666666666666666,\"#ed7953\"],[0.7777777777777778,\"#fb9f3a\"],[0.8888888888888888,\"#fdca26\"],[1.0,\"#f0f921\"]],\"type\":\"contour\"}],\"contourcarpet\":[{\"colorbar\":{\"outlinewidth\":0,\"ticks\":\"\"},\"type\":\"contourcarpet\"}],\"heatmap\":[{\"colorbar\":{\"outlinewidth\":0,\"ticks\":\"\"},\"colorscale\":[[0.0,\"#0d0887\"],[0.1111111111111111,\"#46039f\"],[0.2222222222222222,\"#7201a8\"],[0.3333333333333333,\"#9c179e\"],[0.4444444444444444,\"#bd3786\"],[0.5555555555555556,\"#d8576b\"],[0.6666666666666666,\"#ed7953\"],[0.7777777777777778,\"#fb9f3a\"],[0.8888888888888888,\"#fdca26\"],[1.0,\"#f0f921\"]],\"type\":\"heatmap\"}],\"heatmapgl\":[{\"colorbar\":{\"outlinewidth\":0,\"ticks\":\"\"},\"colorscale\":[[0.0,\"#0d0887\"],[0.1111111111111111,\"#46039f\"],[0.2222222222222222,\"#7201a8\"],[0.3333333333333333,\"#9c179e\"],[0.4444444444444444,\"#bd3786\"],[0.5555555555555556,\"#d8576b\"],[0.6666666666666666,\"#ed7953\"],[0.7777777777777778,\"#fb9f3a\"],[0.8888888888888888,\"#fdca26\"],[1.0,\"#f0f921\"]],\"type\":\"heatmapgl\"}],\"histogram\":[{\"marker\":{\"pattern\":{\"fillmode\":\"overlay\",\"size\":10,\"solidity\":0.2}},\"type\":\"histogram\"}],\"histogram2d\":[{\"colorbar\":{\"outlinewidth\":0,\"ticks\":\"\"},\"colorscale\":[[0.0,\"#0d0887\"],[0.1111111111111111,\"#46039f\"],[0.2222222222222222,\"#7201a8\"],[0.3333333333333333,\"#9c179e\"],[0.4444444444444444,\"#bd3786\"],[0.5555555555555556,\"#d8576b\"],[0.6666666666666666,\"#ed7953\"],[0.7777777777777778,\"#fb9f3a\"],[0.8888888888888888,\"#fdca26\"],[1.0,\"#f0f921\"]],\"type\":\"histogram2d\"}],\"histogram2dcontour\":[{\"colorbar\":{\"outlinewidth\":0,\"ticks\":\"\"},\"colorscale\":[[0.0,\"#0d0887\"],[0.1111111111111111,\"#46039f\"],[0.2222222222222222,\"#7201a8\"],[0.3333333333333333,\"#9c179e\"],[0.4444444444444444,\"#bd3786\"],[0.5555555555555556,\"#d8576b\"],[0.6666666666666666,\"#ed7953\"],[0.7777777777777778,\"#fb9f3a\"],[0.8888888888888888,\"#fdca26\"],[1.0,\"#f0f921\"]],\"type\":\"histogram2dcontour\"}],\"mesh3d\":[{\"colorbar\":{\"outlinewidth\":0,\"ticks\":\"\"},\"type\":\"mesh3d\"}],\"parcoords\":[{\"line\":{\"colorbar\":{\"outlinewidth\":0,\"ticks\":\"\"}},\"type\":\"parcoords\"}],\"pie\":[{\"automargin\":true,\"type\":\"pie\"}],\"scatter\":[{\"marker\":{\"colorbar\":{\"outlinewidth\":0,\"ticks\":\"\"}},\"type\":\"scatter\"}],\"scatter3d\":[{\"line\":{\"colorbar\":{\"outlinewidth\":0,\"ticks\":\"\"}},\"marker\":{\"colorbar\":{\"outlinewidth\":0,\"ticks\":\"\"}},\"type\":\"scatter3d\"}],\"scattercarpet\":[{\"marker\":{\"colorbar\":{\"outlinewidth\":0,\"ticks\":\"\"}},\"type\":\"scattercarpet\"}],\"scattergeo\":[{\"marker\":{\"colorbar\":{\"outlinewidth\":0,\"ticks\":\"\"}},\"type\":\"scattergeo\"}],\"scattergl\":[{\"marker\":{\"colorbar\":{\"outlinewidth\":0,\"ticks\":\"\"}},\"type\":\"scattergl\"}],\"scattermapbox\":[{\"marker\":{\"colorbar\":{\"outlinewidth\":0,\"ticks\":\"\"}},\"type\":\"scattermapbox\"}],\"scatterpolar\":[{\"marker\":{\"colorbar\":{\"outlinewidth\":0,\"ticks\":\"\"}},\"type\":\"scatterpolar\"}],\"scatterpolargl\":[{\"marker\":{\"colorbar\":{\"outlinewidth\":0,\"ticks\":\"\"}},\"type\":\"scatterpolargl\"}],\"scatterternary\":[{\"marker\":{\"colorbar\":{\"outlinewidth\":0,\"ticks\":\"\"}},\"type\":\"scatterternary\"}],\"surface\":[{\"colorbar\":{\"outlinewidth\":0,\"ticks\":\"\"},\"colorscale\":[[0.0,\"#0d0887\"],[0.1111111111111111,\"#46039f\"],[0.2222222222222222,\"#7201a8\"],[0.3333333333333333,\"#9c179e\"],[0.4444444444444444,\"#bd3786\"],[0.5555555555555556,\"#d8576b\"],[0.6666666666666666,\"#ed7953\"],[0.7777777777777778,\"#fb9f3a\"],[0.8888888888888888,\"#fdca26\"],[1.0,\"#f0f921\"]],\"type\":\"surface\"}],\"table\":[{\"cells\":{\"fill\":{\"color\":\"#EBF0F8\"},\"line\":{\"color\":\"white\"}},\"header\":{\"fill\":{\"color\":\"#C8D4E3\"},\"line\":{\"color\":\"white\"}},\"type\":\"table\"}]},\"layout\":{\"annotationdefaults\":{\"arrowcolor\":\"#2a3f5f\",\"arrowhead\":0,\"arrowwidth\":1},\"autotypenumbers\":\"strict\",\"coloraxis\":{\"colorbar\":{\"outlinewidth\":0,\"ticks\":\"\"}},\"colorscale\":{\"diverging\":[[0,\"#8e0152\"],[0.1,\"#c51b7d\"],[0.2,\"#de77ae\"],[0.3,\"#f1b6da\"],[0.4,\"#fde0ef\"],[0.5,\"#f7f7f7\"],[0.6,\"#e6f5d0\"],[0.7,\"#b8e186\"],[0.8,\"#7fbc41\"],[0.9,\"#4d9221\"],[1,\"#276419\"]],\"sequential\":[[0.0,\"#0d0887\"],[0.1111111111111111,\"#46039f\"],[0.2222222222222222,\"#7201a8\"],[0.3333333333333333,\"#9c179e\"],[0.4444444444444444,\"#bd3786\"],[0.5555555555555556,\"#d8576b\"],[0.6666666666666666,\"#ed7953\"],[0.7777777777777778,\"#fb9f3a\"],[0.8888888888888888,\"#fdca26\"],[1.0,\"#f0f921\"]],\"sequentialminus\":[[0.0,\"#0d0887\"],[0.1111111111111111,\"#46039f\"],[0.2222222222222222,\"#7201a8\"],[0.3333333333333333,\"#9c179e\"],[0.4444444444444444,\"#bd3786\"],[0.5555555555555556,\"#d8576b\"],[0.6666666666666666,\"#ed7953\"],[0.7777777777777778,\"#fb9f3a\"],[0.8888888888888888,\"#fdca26\"],[1.0,\"#f0f921\"]]},\"colorway\":[\"#636efa\",\"#EF553B\",\"#00cc96\",\"#ab63fa\",\"#FFA15A\",\"#19d3f3\",\"#FF6692\",\"#B6E880\",\"#FF97FF\",\"#FECB52\"],\"font\":{\"color\":\"#2a3f5f\"},\"geo\":{\"bgcolor\":\"white\",\"lakecolor\":\"white\",\"landcolor\":\"#E5ECF6\",\"showlakes\":true,\"showland\":true,\"subunitcolor\":\"white\"},\"hoverlabel\":{\"align\":\"left\"},\"hovermode\":\"closest\",\"mapbox\":{\"style\":\"light\"},\"paper_bgcolor\":\"white\",\"plot_bgcolor\":\"#E5ECF6\",\"polar\":{\"angularaxis\":{\"gridcolor\":\"white\",\"linecolor\":\"white\",\"ticks\":\"\"},\"bgcolor\":\"#E5ECF6\",\"radialaxis\":{\"gridcolor\":\"white\",\"linecolor\":\"white\",\"ticks\":\"\"}},\"scene\":{\"xaxis\":{\"backgroundcolor\":\"#E5ECF6\",\"gridcolor\":\"white\",\"gridwidth\":2,\"linecolor\":\"white\",\"showbackground\":true,\"ticks\":\"\",\"zerolinecolor\":\"white\"},\"yaxis\":{\"backgroundcolor\":\"#E5ECF6\",\"gridcolor\":\"white\",\"gridwidth\":2,\"linecolor\":\"white\",\"showbackground\":true,\"ticks\":\"\",\"zerolinecolor\":\"white\"},\"zaxis\":{\"backgroundcolor\":\"#E5ECF6\",\"gridcolor\":\"white\",\"gridwidth\":2,\"linecolor\":\"white\",\"showbackground\":true,\"ticks\":\"\",\"zerolinecolor\":\"white\"}},\"shapedefaults\":{\"line\":{\"color\":\"#2a3f5f\"}},\"ternary\":{\"aaxis\":{\"gridcolor\":\"white\",\"linecolor\":\"white\",\"ticks\":\"\"},\"baxis\":{\"gridcolor\":\"white\",\"linecolor\":\"white\",\"ticks\":\"\"},\"bgcolor\":\"#E5ECF6\",\"caxis\":{\"gridcolor\":\"white\",\"linecolor\":\"white\",\"ticks\":\"\"}},\"title\":{\"x\":0.05},\"xaxis\":{\"automargin\":true,\"gridcolor\":\"white\",\"linecolor\":\"white\",\"ticks\":\"\",\"title\":{\"standoff\":15},\"zerolinecolor\":\"white\",\"zerolinewidth\":2},\"yaxis\":{\"automargin\":true,\"gridcolor\":\"white\",\"linecolor\":\"white\",\"ticks\":\"\",\"title\":{\"standoff\":15},\"zerolinecolor\":\"white\",\"zerolinewidth\":2}}},\"title\":{\"text\":\"\\u0420\\u0430\\u0441\\u043f\\u0440\\u0435\\u0434\\u0435\\u043b\\u0435\\u043d\\u0438\\u0435 \\u043a\\u043e\\u043d\\u0442\\u0430\\u043a\\u0442\\u043e\\u0432,%\"},\"xaxis\":{\"anchor\":\"y\",\"domain\":[0.0,1.0],\"title\":{\"text\":\"dt\"}},\"yaxis\":{\"anchor\":\"x\",\"domain\":[0.0,1.0],\"title\":{\"text\":\"events\"}}},                        {\"responsive\": true}                    ).then(function(){\n",
       "                            \n",
       "var gd = document.getElementById('71c88da6-dbd6-4669-b89e-6f980a01508d');\n",
       "var x = new MutationObserver(function (mutations, observer) {{\n",
       "        var display = window.getComputedStyle(gd).display;\n",
       "        if (!display || display === 'none') {{\n",
       "            console.log([gd, 'removed!']);\n",
       "            Plotly.purge(gd);\n",
       "            observer.disconnect();\n",
       "        }}\n",
       "}});\n",
       "\n",
       "// Listen for the removal of the full notebook cells\n",
       "var notebookContainer = gd.closest('#notebook-container');\n",
       "if (notebookContainer) {{\n",
       "    x.observe(notebookContainer, {childList: true});\n",
       "}}\n",
       "\n",
       "// Listen for the clearing of the current output cell\n",
       "var outputEl = gd.closest('.output');\n",
       "if (outputEl) {{\n",
       "    x.observe(outputEl, {childList: true});\n",
       "}}\n",
       "\n",
       "                        })                };                });            </script>        </div>"
      ]
     },
     "metadata": {},
     "output_type": "display_data"
    }
   ],
   "source": [
    "fig = px.line(total_contact_perc, x=\"dt\", y=\"events\",color='screen_new_alias',title='Распределение контактов,%')\n",
    "fig.show()"
   ]
  },
  {
   "cell_type": "code",
   "execution_count": 130,
   "id": "2161a9e5",
   "metadata": {},
   "outputs": [
    {
     "data": {
      "text/html": [
       "<div>\n",
       "<style scoped>\n",
       "    .dataframe tbody tr th:only-of-type {\n",
       "        vertical-align: middle;\n",
       "    }\n",
       "\n",
       "    .dataframe tbody tr th {\n",
       "        vertical-align: top;\n",
       "    }\n",
       "\n",
       "    .dataframe thead th {\n",
       "        text-align: right;\n",
       "    }\n",
       "</style>\n",
       "<table border=\"1\" class=\"dataframe\">\n",
       "  <thead>\n",
       "    <tr style=\"text-align: right;\">\n",
       "      <th></th>\n",
       "      <th>events</th>\n",
       "    </tr>\n",
       "    <tr>\n",
       "      <th>screen_new_alias</th>\n",
       "      <th></th>\n",
       "    </tr>\n",
       "  </thead>\n",
       "  <tbody>\n",
       "    <tr>\n",
       "      <th>Неизвестные и прямые переходы</th>\n",
       "      <td>24.28</td>\n",
       "    </tr>\n",
       "    <tr>\n",
       "      <th>Сниппет</th>\n",
       "      <td>22.53</td>\n",
       "    </tr>\n",
       "    <tr>\n",
       "      <th>Поиск в миниаппе</th>\n",
       "      <td>16.01</td>\n",
       "    </tr>\n",
       "    <tr>\n",
       "      <th>Профиль продавца</th>\n",
       "      <td>10.82</td>\n",
       "    </tr>\n",
       "    <tr>\n",
       "      <th>Портлеты</th>\n",
       "      <td>7.46</td>\n",
       "    </tr>\n",
       "    <tr>\n",
       "      <th>Рекламные ссылке в ленте ВК</th>\n",
       "      <td>4.97</td>\n",
       "    </tr>\n",
       "    <tr>\n",
       "      <th>Похожие</th>\n",
       "      <td>4.39</td>\n",
       "    </tr>\n",
       "    <tr>\n",
       "      <th>Уведомление</th>\n",
       "      <td>3.09</td>\n",
       "    </tr>\n",
       "    <tr>\n",
       "      <th>Закладки</th>\n",
       "      <td>1.45</td>\n",
       "    </tr>\n",
       "    <tr>\n",
       "      <th>Поиск в ВК</th>\n",
       "      <td>1.40</td>\n",
       "    </tr>\n",
       "    <tr>\n",
       "      <th>Карусель на главной ВКО превью</th>\n",
       "      <td>1.28</td>\n",
       "    </tr>\n",
       "    <tr>\n",
       "      <th>Главная раздела</th>\n",
       "      <td>1.19</td>\n",
       "    </tr>\n",
       "    <tr>\n",
       "      <th>Сохраненные поиски</th>\n",
       "      <td>1.10</td>\n",
       "    </tr>\n",
       "    <tr>\n",
       "      <th>Подписка на продавца</th>\n",
       "      <td>0.53</td>\n",
       "    </tr>\n",
       "    <tr>\n",
       "      <th>Антибарахолки</th>\n",
       "      <td>0.37</td>\n",
       "    </tr>\n",
       "    <tr>\n",
       "      <th>Подписка на похожие</th>\n",
       "      <td>0.22</td>\n",
       "    </tr>\n",
       "    <tr>\n",
       "      <th>Карусель на главной ВКО</th>\n",
       "      <td>0.17</td>\n",
       "    </tr>\n",
       "    <tr>\n",
       "      <th>Карточка товара</th>\n",
       "      <td>0.12</td>\n",
       "    </tr>\n",
       "    <tr>\n",
       "      <th>Портлеты (антибарахолки)</th>\n",
       "      <td>0.03</td>\n",
       "    </tr>\n",
       "  </tbody>\n",
       "</table>\n",
       "</div>"
      ],
      "text/plain": [
       "                                events\n",
       "screen_new_alias                      \n",
       "Неизвестные и прямые переходы    24.28\n",
       "Сниппет                          22.53\n",
       "Поиск в миниаппе                 16.01\n",
       "Профиль продавца                 10.82\n",
       "Портлеты                          7.46\n",
       "Рекламные ссылке в ленте ВК       4.97\n",
       "Похожие                           4.39\n",
       "Уведомление                       3.09\n",
       "Закладки                          1.45\n",
       "Поиск в ВК                        1.40\n",
       "Карусель на главной ВКО превью    1.28\n",
       "Главная раздела                   1.19\n",
       "Сохраненные поиски                1.10\n",
       "Подписка на продавца              0.53\n",
       "Антибарахолки                     0.37\n",
       "Подписка на похожие               0.22\n",
       "Карусель на главной ВКО           0.17\n",
       "Карточка товара                   0.12\n",
       "Портлеты (антибарахолки)          0.03"
      ]
     },
     "execution_count": 130,
     "metadata": {},
     "output_type": "execute_result"
    }
   ],
   "source": [
    "round(total_contact_perc.groupby('screen_new_alias').agg({'events': 'mean'}).sort_values(by='events',ascending=False),2)"
   ]
  },
  {
   "cell_type": "markdown",
   "id": "82ebe98f",
   "metadata": {},
   "source": [
    "## Просмотры и конверсия в контакт: миниапп"
   ]
  },
  {
   "cell_type": "code",
   "execution_count": null,
   "id": "e7f2678b",
   "metadata": {},
   "outputs": [],
   "source": [
    "\n",
    "create table mdaminova.tmp_contacts as\n",
    "select dt,\n",
    "coalesce(client_user_id,sender_id) AS  user_id,\n",
    "product_id,\n",
    "count(distinct event_id) contact\n",
    "from topics.y_user_user_counter\n",
    "where dt>='2022-02-10' and dt<='2022-03-03'\n",
    "and event_name in ('usr.presscall','chat.first_message')\n",
    "and coalesce(client_platform,platform) = 'vk_mini_app'\n",
    "group by   dt,\n",
    "coalesce(client_user_id,sender_id),\n",
    "product_id"
   ]
  },
  {
   "cell_type": "code",
   "execution_count": 299,
   "id": "63663c40",
   "metadata": {},
   "outputs": [],
   "source": [
    "# --concat(coalesce(search_type,'пустой_поиск'),'_',coalesce(source_view,'пустой_источник'),'_',coalesce(source,'пустой_vk')) \n",
    "\n",
    "df_view_total = sql_to_df(\"\"\"\n",
    "select v.dt,\n",
    "    CASE WHEN search_type='vk_recommendations' then 'Портлеты'\n",
    "        WHEN source= 'wall%' and search_type in ('feed','group') then 'Сниппеты'\n",
    "        WHEN source= 'widget%' and search_type in ('feed','group','profile') then 'Антибарахолки'\n",
    "        WHEN search_type in ('lent_from_widget','widget_from_post','widget') then 'Антибарахолки'\n",
    "        WHEN search_type = 'carousel_vk_group_manual' then 'Антибарахолки портлеты'\n",
    "        WHEN search_type = 'vk_lent_advertisement' then 'Рекламные ссылки'\n",
    "        WHEN search_type = 'search_classifieds' then 'Поиск ВК'\n",
    "        WHEN search_type = 'push' and source = 'notification' then 'Пуш'\n",
    "        WHEN search_type = 'lent' and source = 'notification' then 'Пуш'\n",
    "        WHEN search_type = 'favourites' then 'Закладки'\n",
    "        WHEN source_view in ('personal_search','subscribe_similar','seller_subscribe') then 'Подписки'\n",
    "        WHEN source_view in ('similar') then 'Похожие товары'\n",
    "        WHEN source_view in ('seller_profile') then 'Профиль продавца'\n",
    "        WHEN source_view in ('all_carousel_products_page','carousel_products_block') then 'Карусели'\n",
    "        WHEN search_type in ('lent') and source_view is Null then 'Лента ВКО'\n",
    "        WHEN search_type is Null  and source_view is Null and source is null then 'Неизвестно'\n",
    "        WHEN search_type ='group' and source_view is Null and source is null then 'Группы'\n",
    "        WHEN search_type ='feed' and source_view is Null and source is null then 'Лента ВК'\n",
    "        ELSE 'Остальные'\n",
    "    END source,\n",
    "    count(distinct v.user_id) v_users,\n",
    "    count(distinct c.user_id) c_users,\n",
    "    sum(views) views,\n",
    "    sum(contact) contact,\n",
    "    count(distinct v.product_id) v_products,\n",
    "    count(distinct c.product_id) c_products\n",
    "from \n",
    "    (select dt, \n",
    "        user_id,\n",
    "        product_id, \n",
    "        count(distinct event_id) views,\n",
    "        max(search_type) search_type,\n",
    "        max(source_view) source_view,\n",
    "        max(source) source\n",
    "    from (select dt,\n",
    "            coalesce(client_user_id,sender_id) AS user_id,\n",
    "            product_id,\n",
    "            event_id,\n",
    "            FIRST_VALUE(search_type) over(partition by dt, coalesce(client_user_id,sender_id),product_id order by event_timestamp) search_type,\n",
    "            FIRST_VALUE(source_view) over(partition by dt, coalesce(client_user_id,sender_id),product_id order by event_timestamp) source_view,\n",
    "            FIRST_VALUE(case when vk_source like 'wall%' then 'wall%' \n",
    "                    when vk_source like 'widget%' then 'widget%' \n",
    "                    else vk_source \n",
    "                end) over(partition by dt, coalesce(client_user_id,sender_id),product_id order by event_timestamp) source\n",
    "        from topics.y_user_product_counter_new\n",
    "        where dt>='2022-02-10' and dt<='2022-03-03'\n",
    "          and event_name = 'prod.view'\n",
    "          and coalesce(client_platform,platform) = 'vk_mini_app') v \n",
    "    where user_id<>'None' and user_id is not null and length(user_id)=24\n",
    "    group by dt, \n",
    "          user_id,\n",
    "          product_id) v\n",
    "left join  mdaminova.tmp_contacts c\n",
    "    on v.dt=c.dt and v.user_id=c.user_id and v.product_id=c.product_id\n",
    "group by v.dt,\n",
    "    CASE WHEN search_type='vk_recommendations' then 'Портлеты'\n",
    "        WHEN source= 'wall%' and search_type in ('feed','group') then 'Сниппеты'\n",
    "        WHEN source= 'widget%' and search_type in ('feed','group','profile') then 'Антибарахолки'\n",
    "        WHEN search_type in ('lent_from_widget','widget_from_post','widget') then 'Антибарахолки'\n",
    "        WHEN search_type = 'carousel_vk_group_manual' then 'Антибарахолки портлеты'\n",
    "        WHEN search_type = 'vk_lent_advertisement' then 'Рекламные ссылки'\n",
    "        WHEN search_type = 'search_classifieds' then 'Поиск ВК'\n",
    "        WHEN search_type = 'push' and source = 'notification' then 'Пуш'\n",
    "        WHEN search_type = 'lent' and source = 'notification' then 'Пуш'\n",
    "        WHEN search_type = 'favourites' then 'Закладки'\n",
    "        WHEN source_view in ('personal_search','subscribe_similar','seller_subscribe') then 'Подписки'\n",
    "        WHEN source_view in ('similar') then 'Похожие товары'\n",
    "        WHEN source_view in ('seller_profile') then 'Профиль продавца'\n",
    "        WHEN source_view in ('all_carousel_products_page','carousel_products_block') then 'Карусели'\n",
    "        WHEN search_type in ('lent') and source_view is Null then 'Лента ВКО'\n",
    "        WHEN search_type is Null  and source_view is Null and source is null then 'Неизвестно'\n",
    "        WHEN search_type ='group' and source_view is Null and source is null then 'Группы'\n",
    "        WHEN search_type ='feed' and source_view is Null and source is null then 'Лента ВК'\n",
    "        ELSE 'Остальные'\n",
    "    END\n",
    "        \n",
    "        \n",
    "        \n",
    "        \n",
    "        \"\"\",con)"
   ]
  },
  {
   "cell_type": "code",
   "execution_count": 300,
   "id": "f5f74ebb",
   "metadata": {},
   "outputs": [
    {
     "data": {
      "text/plain": [
       "array(['Подписки', 'Антибарахолки', 'Антибарахолки портлеты', 'Поиск ВК',\n",
       "       'Остальные', 'Лента ВКО', 'Карусели', 'Профиль продавца',\n",
       "       'Портлеты', 'Неизвестно', 'Похожие товары', 'Группы',\n",
       "       'Рекламные ссылки', 'Лента ВК', 'Пуш', 'Закладки', 'Сниппеты'],\n",
       "      dtype=object)"
      ]
     },
     "execution_count": 300,
     "metadata": {},
     "output_type": "execute_result"
    }
   ],
   "source": [
    "df_view_total.source.unique()"
   ]
  },
  {
   "cell_type": "code",
   "execution_count": 301,
   "id": "0530ac42",
   "metadata": {},
   "outputs": [],
   "source": [
    "df_view_total['cr_users']= round(df_view_total['c_users']/df_view_total['v_users']*100,2)\n",
    "df_view_total['cr_events']= round(df_view_total['c_users']/df_view_total['v_users']*100,2)"
   ]
  },
  {
   "cell_type": "code",
   "execution_count": 302,
   "id": "400c98a9",
   "metadata": {},
   "outputs": [],
   "source": [
    "df_view_total=df_view_total.sort_values('v.dt')"
   ]
  },
  {
   "cell_type": "code",
   "execution_count": 305,
   "id": "afdadffd",
   "metadata": {},
   "outputs": [
    {
     "data": {
      "application/vnd.plotly.v1+json": {
       "config": {
        "plotlyServerURL": "https://plot.ly"
       },
       "data": [
        {
         "hovertemplate": "source=Лента ВК<br>v.dt=%{x}<br>contact=%{y}<extra></extra>",
         "legendgroup": "Лента ВК",
         "line": {
          "color": "#636efa",
          "dash": "solid"
         },
         "marker": {
          "symbol": "circle"
         },
         "mode": "lines",
         "name": "Лента ВК",
         "orientation": "v",
         "showlegend": true,
         "type": "scatter",
         "x": [
          "2022-02-11",
          "2022-02-12",
          "2022-02-13",
          "2022-02-14",
          "2022-02-15",
          "2022-02-16",
          "2022-02-17",
          "2022-02-18",
          "2022-02-19",
          "2022-02-20",
          "2022-02-21",
          "2022-02-22",
          "2022-02-23",
          "2022-02-24",
          "2022-02-25",
          "2022-02-26",
          "2022-02-27",
          "2022-02-28",
          "2022-03-01",
          "2022-03-02",
          "2022-03-03"
         ],
         "xaxis": "x",
         "y": [
          554,
          560,
          619,
          583,
          660,
          591,
          614,
          568,
          484,
          746,
          556,
          566,
          489,
          478,
          477,
          487,
          525,
          578,
          550,
          567,
          636
         ],
         "yaxis": "y"
        },
        {
         "hovertemplate": "source=Рекламные ссылки<br>v.dt=%{x}<br>contact=%{y}<extra></extra>",
         "legendgroup": "Рекламные ссылки",
         "line": {
          "color": "#EF553B",
          "dash": "solid"
         },
         "marker": {
          "symbol": "circle"
         },
         "mode": "lines",
         "name": "Рекламные ссылки",
         "orientation": "v",
         "showlegend": true,
         "type": "scatter",
         "x": [
          "2022-02-11",
          "2022-02-12",
          "2022-02-13",
          "2022-02-14",
          "2022-02-15",
          "2022-02-16",
          "2022-02-17",
          "2022-02-18",
          "2022-02-19",
          "2022-02-20",
          "2022-02-21",
          "2022-02-22",
          "2022-02-23",
          "2022-02-24",
          "2022-02-25",
          "2022-02-26",
          "2022-02-27",
          "2022-02-28",
          "2022-03-01",
          "2022-03-02",
          "2022-03-03"
         ],
         "xaxis": "x",
         "y": [
          1636,
          1833,
          1892,
          1636,
          1852,
          2020,
          1950,
          1870,
          2458,
          2785,
          2378,
          1869,
          2008,
          1046,
          5,
          null,
          null,
          null,
          null,
          null,
          null
         ],
         "yaxis": "y"
        },
        {
         "hovertemplate": "source=Неизвестно<br>v.dt=%{x}<br>contact=%{y}<extra></extra>",
         "legendgroup": "Неизвестно",
         "line": {
          "color": "#00cc96",
          "dash": "solid"
         },
         "marker": {
          "symbol": "circle"
         },
         "mode": "lines",
         "name": "Неизвестно",
         "orientation": "v",
         "showlegend": true,
         "type": "scatter",
         "x": [
          "2022-02-11",
          "2022-02-12",
          "2022-02-13",
          "2022-02-14",
          "2022-02-15",
          "2022-02-16",
          "2022-02-17",
          "2022-02-18",
          "2022-02-19",
          "2022-02-20",
          "2022-02-21",
          "2022-02-22",
          "2022-02-23",
          "2022-02-24",
          "2022-02-25",
          "2022-02-26",
          "2022-02-27",
          "2022-02-28",
          "2022-03-01",
          "2022-03-02",
          "2022-03-03"
         ],
         "xaxis": "x",
         "y": [
          5412,
          5220,
          5737,
          4971,
          6767,
          6589,
          6616,
          6198,
          5049,
          4341,
          4868,
          4135,
          4168,
          3012,
          2984,
          3829,
          2795,
          3710,
          3080,
          4032,
          4340
         ],
         "yaxis": "y"
        },
        {
         "hovertemplate": "source=Подписки<br>v.dt=%{x}<br>contact=%{y}<extra></extra>",
         "legendgroup": "Подписки",
         "line": {
          "color": "#ab63fa",
          "dash": "solid"
         },
         "marker": {
          "symbol": "circle"
         },
         "mode": "lines",
         "name": "Подписки",
         "orientation": "v",
         "showlegend": true,
         "type": "scatter",
         "x": [
          "2022-02-11",
          "2022-02-12",
          "2022-02-13",
          "2022-02-14",
          "2022-02-15",
          "2022-02-16",
          "2022-02-17",
          "2022-02-18",
          "2022-02-19",
          "2022-02-20",
          "2022-02-21",
          "2022-02-22",
          "2022-02-23",
          "2022-02-24",
          "2022-02-25",
          "2022-02-26",
          "2022-02-27",
          "2022-02-28",
          "2022-03-01",
          "2022-03-02",
          "2022-03-03"
         ],
         "xaxis": "x",
         "y": [
          153,
          150,
          164,
          126,
          166,
          145,
          153,
          116,
          158,
          213,
          150,
          137,
          114,
          122,
          136,
          116,
          143,
          149,
          136,
          137,
          155
         ],
         "yaxis": "y"
        },
        {
         "hovertemplate": "source=Остальные<br>v.dt=%{x}<br>contact=%{y}<extra></extra>",
         "legendgroup": "Остальные",
         "line": {
          "color": "#FFA15A",
          "dash": "solid"
         },
         "marker": {
          "symbol": "circle"
         },
         "mode": "lines",
         "name": "Остальные",
         "orientation": "v",
         "showlegend": true,
         "type": "scatter",
         "x": [
          "2022-02-11",
          "2022-02-12",
          "2022-02-13",
          "2022-02-14",
          "2022-02-15",
          "2022-02-16",
          "2022-02-17",
          "2022-02-18",
          "2022-02-19",
          "2022-02-20",
          "2022-02-21",
          "2022-02-22",
          "2022-02-23",
          "2022-02-24",
          "2022-02-25",
          "2022-02-26",
          "2022-02-27",
          "2022-02-28",
          "2022-03-01",
          "2022-03-02",
          "2022-03-03"
         ],
         "xaxis": "x",
         "y": [
          3044,
          2867,
          3041,
          3118,
          3324,
          3138,
          3137,
          2916,
          2830,
          2999,
          2395,
          1378,
          1218,
          1120,
          1175,
          1183,
          1273,
          1346,
          1296,
          1547,
          1389
         ],
         "yaxis": "y"
        },
        {
         "hovertemplate": "source=Группы<br>v.dt=%{x}<br>contact=%{y}<extra></extra>",
         "legendgroup": "Группы",
         "line": {
          "color": "#19d3f3",
          "dash": "solid"
         },
         "marker": {
          "symbol": "circle"
         },
         "mode": "lines",
         "name": "Группы",
         "orientation": "v",
         "showlegend": true,
         "type": "scatter",
         "x": [
          "2022-02-11",
          "2022-02-12",
          "2022-02-13",
          "2022-02-14",
          "2022-02-15",
          "2022-02-16",
          "2022-02-17",
          "2022-02-18",
          "2022-02-19",
          "2022-02-20",
          "2022-02-21",
          "2022-02-22",
          "2022-02-23",
          "2022-02-24",
          "2022-02-25",
          "2022-02-26",
          "2022-02-27",
          "2022-02-28",
          "2022-03-01",
          "2022-03-02",
          "2022-03-03"
         ],
         "xaxis": "x",
         "y": [
          629,
          638,
          669,
          621,
          736,
          654,
          669,
          603,
          623,
          779,
          690,
          673,
          633,
          564,
          595,
          579,
          625,
          591,
          640,
          651,
          681
         ],
         "yaxis": "y"
        },
        {
         "hovertemplate": "source=Портлеты<br>v.dt=%{x}<br>contact=%{y}<extra></extra>",
         "legendgroup": "Портлеты",
         "line": {
          "color": "#FF6692",
          "dash": "solid"
         },
         "marker": {
          "symbol": "circle"
         },
         "mode": "lines",
         "name": "Портлеты",
         "orientation": "v",
         "showlegend": true,
         "type": "scatter",
         "x": [
          "2022-02-11",
          "2022-02-12",
          "2022-02-13",
          "2022-02-14",
          "2022-02-15",
          "2022-02-16",
          "2022-02-17",
          "2022-02-18",
          "2022-02-19",
          "2022-02-20",
          "2022-02-21",
          "2022-02-22",
          "2022-02-23",
          "2022-02-24",
          "2022-02-25",
          "2022-02-26",
          "2022-02-27",
          "2022-02-28",
          "2022-03-01",
          "2022-03-02",
          "2022-03-03"
         ],
         "xaxis": "x",
         "y": [
          2803,
          3343,
          3597,
          3271,
          3455,
          3377,
          3474,
          3199,
          2993,
          3433,
          2660,
          1891,
          1963,
          1622,
          1669,
          1687,
          1892,
          1857,
          1857,
          1908,
          2011
         ],
         "yaxis": "y"
        },
        {
         "hovertemplate": "source=Лента ВКО<br>v.dt=%{x}<br>contact=%{y}<extra></extra>",
         "legendgroup": "Лента ВКО",
         "line": {
          "color": "#B6E880",
          "dash": "solid"
         },
         "marker": {
          "symbol": "circle"
         },
         "mode": "lines",
         "name": "Лента ВКО",
         "orientation": "v",
         "showlegend": true,
         "type": "scatter",
         "x": [
          "2022-02-11",
          "2022-02-12",
          "2022-02-13",
          "2022-02-14",
          "2022-02-15",
          "2022-02-16",
          "2022-02-17",
          "2022-02-18",
          "2022-02-19",
          "2022-02-20",
          "2022-02-21",
          "2022-02-22",
          "2022-02-23",
          "2022-02-24",
          "2022-02-25",
          "2022-02-26",
          "2022-02-27",
          "2022-02-28",
          "2022-03-01",
          "2022-03-02",
          "2022-03-03"
         ],
         "xaxis": "x",
         "y": [
          7605,
          7902,
          8095,
          6953,
          7411,
          7090,
          7817,
          7036,
          8007,
          7364,
          6468,
          4432,
          4274,
          3860,
          4007,
          4393,
          4524,
          4655,
          4641,
          4971,
          4969
         ],
         "yaxis": "y"
        },
        {
         "hovertemplate": "source=Поиск ВК<br>v.dt=%{x}<br>contact=%{y}<extra></extra>",
         "legendgroup": "Поиск ВК",
         "line": {
          "color": "#FF97FF",
          "dash": "solid"
         },
         "marker": {
          "symbol": "circle"
         },
         "mode": "lines",
         "name": "Поиск ВК",
         "orientation": "v",
         "showlegend": true,
         "type": "scatter",
         "x": [
          "2022-02-11",
          "2022-02-12",
          "2022-02-13",
          "2022-02-14",
          "2022-02-15",
          "2022-02-16",
          "2022-02-17",
          "2022-02-18",
          "2022-02-19",
          "2022-02-20",
          "2022-02-21",
          "2022-02-22",
          "2022-02-23",
          "2022-02-24",
          "2022-02-25",
          "2022-02-26",
          "2022-02-27",
          "2022-02-28",
          "2022-03-01",
          "2022-03-02",
          "2022-03-03"
         ],
         "xaxis": "x",
         "y": [
          603,
          660,
          630,
          620,
          680,
          634,
          573,
          586,
          554,
          786,
          490,
          238,
          672,
          241,
          207,
          273,
          236,
          275,
          285,
          299,
          342
         ],
         "yaxis": "y"
        },
        {
         "hovertemplate": "source=Похожие товары<br>v.dt=%{x}<br>contact=%{y}<extra></extra>",
         "legendgroup": "Похожие товары",
         "line": {
          "color": "#FECB52",
          "dash": "solid"
         },
         "marker": {
          "symbol": "circle"
         },
         "mode": "lines",
         "name": "Похожие товары",
         "orientation": "v",
         "showlegend": true,
         "type": "scatter",
         "x": [
          "2022-02-11",
          "2022-02-12",
          "2022-02-13",
          "2022-02-14",
          "2022-02-15",
          "2022-02-16",
          "2022-02-17",
          "2022-02-18",
          "2022-02-19",
          "2022-02-20",
          "2022-02-21",
          "2022-02-22",
          "2022-02-23",
          "2022-02-24",
          "2022-02-25",
          "2022-02-26",
          "2022-02-27",
          "2022-02-28",
          "2022-03-01",
          "2022-03-02",
          "2022-03-03"
         ],
         "xaxis": "x",
         "y": [
          2502,
          2595,
          2781,
          2410,
          2683,
          2586,
          2476,
          2367,
          2594,
          2963,
          2247,
          1476,
          1537,
          1380,
          1216,
          1291,
          1437,
          1329,
          1265,
          1389,
          1483
         ],
         "yaxis": "y"
        },
        {
         "hovertemplate": "source=Карусели<br>v.dt=%{x}<br>contact=%{y}<extra></extra>",
         "legendgroup": "Карусели",
         "line": {
          "color": "#636efa",
          "dash": "solid"
         },
         "marker": {
          "symbol": "circle"
         },
         "mode": "lines",
         "name": "Карусели",
         "orientation": "v",
         "showlegend": true,
         "type": "scatter",
         "x": [
          "2022-02-11",
          "2022-02-12",
          "2022-02-13",
          "2022-02-14",
          "2022-02-15",
          "2022-02-16",
          "2022-02-17",
          "2022-02-18",
          "2022-02-19",
          "2022-02-20",
          "2022-02-21",
          "2022-02-22",
          "2022-02-23",
          "2022-02-24",
          "2022-02-25",
          "2022-02-26",
          "2022-02-27",
          "2022-02-28",
          "2022-03-01",
          "2022-03-02",
          "2022-03-03"
         ],
         "xaxis": "x",
         "y": [
          499,
          511,
          511,
          536,
          548,
          445,
          515,
          467,
          519,
          631,
          477,
          338,
          275,
          254,
          279,
          300,
          328,
          288,
          290,
          287,
          295
         ],
         "yaxis": "y"
        },
        {
         "hovertemplate": "source=Закладки<br>v.dt=%{x}<br>contact=%{y}<extra></extra>",
         "legendgroup": "Закладки",
         "line": {
          "color": "#EF553B",
          "dash": "solid"
         },
         "marker": {
          "symbol": "circle"
         },
         "mode": "lines",
         "name": "Закладки",
         "orientation": "v",
         "showlegend": true,
         "type": "scatter",
         "x": [
          "2022-02-11",
          "2022-02-12",
          "2022-02-13",
          "2022-02-14",
          "2022-02-15",
          "2022-02-16",
          "2022-02-17",
          "2022-02-18",
          "2022-02-19",
          "2022-02-20",
          "2022-02-21",
          "2022-02-22",
          "2022-02-23",
          "2022-02-24",
          "2022-02-25",
          "2022-02-26",
          "2022-02-27",
          "2022-02-28",
          "2022-03-01",
          "2022-03-02",
          "2022-03-03"
         ],
         "xaxis": "x",
         "y": [
          552,
          497,
          567,
          512,
          477,
          526,
          508,
          532,
          518,
          606,
          468,
          179,
          136,
          161,
          208,
          179,
          147,
          117,
          200,
          124,
          146
         ],
         "yaxis": "y"
        },
        {
         "hovertemplate": "source=Пуш<br>v.dt=%{x}<br>contact=%{y}<extra></extra>",
         "legendgroup": "Пуш",
         "line": {
          "color": "#00cc96",
          "dash": "solid"
         },
         "marker": {
          "symbol": "circle"
         },
         "mode": "lines",
         "name": "Пуш",
         "orientation": "v",
         "showlegend": true,
         "type": "scatter",
         "x": [
          "2022-02-11",
          "2022-02-12",
          "2022-02-13",
          "2022-02-14",
          "2022-02-15",
          "2022-02-16",
          "2022-02-17",
          "2022-02-18",
          "2022-02-19",
          "2022-02-20",
          "2022-02-21",
          "2022-02-22",
          "2022-02-23",
          "2022-02-24",
          "2022-02-25",
          "2022-02-26",
          "2022-02-27",
          "2022-02-28",
          "2022-03-01",
          "2022-03-02",
          "2022-03-03"
         ],
         "xaxis": "x",
         "y": [
          2044,
          1825,
          1977,
          1701,
          1926,
          1905,
          1886,
          1932,
          1986,
          2195,
          2050,
          1678,
          1433,
          1432,
          1374,
          1435,
          1359,
          1419,
          1406,
          1353,
          1394
         ],
         "yaxis": "y"
        },
        {
         "hovertemplate": "source=Профиль продавца<br>v.dt=%{x}<br>contact=%{y}<extra></extra>",
         "legendgroup": "Профиль продавца",
         "line": {
          "color": "#ab63fa",
          "dash": "solid"
         },
         "marker": {
          "symbol": "circle"
         },
         "mode": "lines",
         "name": "Профиль продавца",
         "orientation": "v",
         "showlegend": true,
         "type": "scatter",
         "x": [
          "2022-02-11",
          "2022-02-12",
          "2022-02-13",
          "2022-02-14",
          "2022-02-15",
          "2022-02-16",
          "2022-02-17",
          "2022-02-18",
          "2022-02-19",
          "2022-02-20",
          "2022-02-21",
          "2022-02-22",
          "2022-02-23",
          "2022-02-24",
          "2022-02-25",
          "2022-02-26",
          "2022-02-27",
          "2022-02-28",
          "2022-03-01",
          "2022-03-02",
          "2022-03-03"
         ],
         "xaxis": "x",
         "y": [
          3529,
          3490,
          3775,
          3546,
          3737,
          3722,
          3576,
          3447,
          3395,
          3787,
          3908,
          3967,
          3693,
          3635,
          3630,
          3820,
          4158,
          4201,
          4312,
          4162,
          4182
         ],
         "yaxis": "y"
        },
        {
         "hovertemplate": "source=Антибарахолки<br>v.dt=%{x}<br>contact=%{y}<extra></extra>",
         "legendgroup": "Антибарахолки",
         "line": {
          "color": "#FFA15A",
          "dash": "solid"
         },
         "marker": {
          "symbol": "circle"
         },
         "mode": "lines",
         "name": "Антибарахолки",
         "orientation": "v",
         "showlegend": true,
         "type": "scatter",
         "x": [
          "2022-02-11",
          "2022-02-12",
          "2022-02-13",
          "2022-02-14",
          "2022-02-15",
          "2022-02-16",
          "2022-02-17",
          "2022-02-18",
          "2022-02-19",
          "2022-02-20",
          "2022-02-21",
          "2022-02-22",
          "2022-02-23",
          "2022-02-24",
          "2022-02-25",
          "2022-02-26",
          "2022-02-27",
          "2022-02-28",
          "2022-03-01",
          "2022-03-02",
          "2022-03-03"
         ],
         "xaxis": "x",
         "y": [
          113,
          119,
          156,
          132,
          146,
          129,
          131,
          120,
          148,
          174,
          120,
          94,
          84,
          100,
          109,
          85,
          118,
          111,
          102,
          121,
          102
         ],
         "yaxis": "y"
        },
        {
         "hovertemplate": "source=Антибарахолки портлеты<br>v.dt=%{x}<br>contact=%{y}<extra></extra>",
         "legendgroup": "Антибарахолки портлеты",
         "line": {
          "color": "#19d3f3",
          "dash": "solid"
         },
         "marker": {
          "symbol": "circle"
         },
         "mode": "lines",
         "name": "Антибарахолки портлеты",
         "orientation": "v",
         "showlegend": true,
         "type": "scatter",
         "x": [
          "2022-02-11",
          "2022-02-12",
          "2022-02-13",
          "2022-02-14",
          "2022-02-15",
          "2022-02-16",
          "2022-02-17",
          "2022-02-18",
          "2022-02-19",
          "2022-02-20",
          "2022-02-21",
          "2022-02-22",
          "2022-02-23",
          "2022-02-24",
          "2022-02-25",
          "2022-02-26",
          "2022-02-27",
          "2022-02-28",
          "2022-03-01",
          "2022-03-02",
          "2022-03-03"
         ],
         "xaxis": "x",
         "y": [
          5,
          5,
          1,
          4,
          4,
          11,
          12,
          14,
          9,
          3,
          19,
          5,
          14,
          7,
          7,
          11,
          8,
          11,
          9,
          14,
          34
         ],
         "yaxis": "y"
        },
        {
         "hovertemplate": "source=Сниппеты<br>v.dt=%{x}<br>contact=%{y}<extra></extra>",
         "legendgroup": "Сниппеты",
         "line": {
          "color": "#FF6692",
          "dash": "solid"
         },
         "marker": {
          "symbol": "circle"
         },
         "mode": "lines",
         "name": "Сниппеты",
         "orientation": "v",
         "showlegend": true,
         "type": "scatter",
         "x": [
          "2022-02-11",
          "2022-02-12",
          "2022-02-13",
          "2022-02-14",
          "2022-02-15",
          "2022-02-16",
          "2022-02-17",
          "2022-02-18",
          "2022-02-19",
          "2022-02-20",
          "2022-02-21",
          "2022-02-22",
          "2022-02-23",
          "2022-02-24",
          "2022-02-25",
          "2022-02-26",
          "2022-02-27",
          "2022-02-28",
          "2022-03-01",
          "2022-03-02",
          "2022-03-03"
         ],
         "xaxis": "x",
         "y": [
          5164,
          5255,
          5732,
          5778,
          5710,
          5575,
          5378,
          5205,
          5184,
          5631,
          4330,
          2728,
          2438,
          2374,
          2287,
          2366,
          2665,
          2664,
          2732,
          2611,
          2701
         ],
         "yaxis": "y"
        }
       ],
       "layout": {
        "legend": {
         "title": {
          "text": "source"
         },
         "tracegroupgap": 0
        },
        "template": {
         "data": {
          "bar": [
           {
            "error_x": {
             "color": "#2a3f5f"
            },
            "error_y": {
             "color": "#2a3f5f"
            },
            "marker": {
             "line": {
              "color": "#E5ECF6",
              "width": 0.5
             },
             "pattern": {
              "fillmode": "overlay",
              "size": 10,
              "solidity": 0.2
             }
            },
            "type": "bar"
           }
          ],
          "barpolar": [
           {
            "marker": {
             "line": {
              "color": "#E5ECF6",
              "width": 0.5
             },
             "pattern": {
              "fillmode": "overlay",
              "size": 10,
              "solidity": 0.2
             }
            },
            "type": "barpolar"
           }
          ],
          "carpet": [
           {
            "aaxis": {
             "endlinecolor": "#2a3f5f",
             "gridcolor": "white",
             "linecolor": "white",
             "minorgridcolor": "white",
             "startlinecolor": "#2a3f5f"
            },
            "baxis": {
             "endlinecolor": "#2a3f5f",
             "gridcolor": "white",
             "linecolor": "white",
             "minorgridcolor": "white",
             "startlinecolor": "#2a3f5f"
            },
            "type": "carpet"
           }
          ],
          "choropleth": [
           {
            "colorbar": {
             "outlinewidth": 0,
             "ticks": ""
            },
            "type": "choropleth"
           }
          ],
          "contour": [
           {
            "colorbar": {
             "outlinewidth": 0,
             "ticks": ""
            },
            "colorscale": [
             [
              0,
              "#0d0887"
             ],
             [
              0.1111111111111111,
              "#46039f"
             ],
             [
              0.2222222222222222,
              "#7201a8"
             ],
             [
              0.3333333333333333,
              "#9c179e"
             ],
             [
              0.4444444444444444,
              "#bd3786"
             ],
             [
              0.5555555555555556,
              "#d8576b"
             ],
             [
              0.6666666666666666,
              "#ed7953"
             ],
             [
              0.7777777777777778,
              "#fb9f3a"
             ],
             [
              0.8888888888888888,
              "#fdca26"
             ],
             [
              1,
              "#f0f921"
             ]
            ],
            "type": "contour"
           }
          ],
          "contourcarpet": [
           {
            "colorbar": {
             "outlinewidth": 0,
             "ticks": ""
            },
            "type": "contourcarpet"
           }
          ],
          "heatmap": [
           {
            "colorbar": {
             "outlinewidth": 0,
             "ticks": ""
            },
            "colorscale": [
             [
              0,
              "#0d0887"
             ],
             [
              0.1111111111111111,
              "#46039f"
             ],
             [
              0.2222222222222222,
              "#7201a8"
             ],
             [
              0.3333333333333333,
              "#9c179e"
             ],
             [
              0.4444444444444444,
              "#bd3786"
             ],
             [
              0.5555555555555556,
              "#d8576b"
             ],
             [
              0.6666666666666666,
              "#ed7953"
             ],
             [
              0.7777777777777778,
              "#fb9f3a"
             ],
             [
              0.8888888888888888,
              "#fdca26"
             ],
             [
              1,
              "#f0f921"
             ]
            ],
            "type": "heatmap"
           }
          ],
          "heatmapgl": [
           {
            "colorbar": {
             "outlinewidth": 0,
             "ticks": ""
            },
            "colorscale": [
             [
              0,
              "#0d0887"
             ],
             [
              0.1111111111111111,
              "#46039f"
             ],
             [
              0.2222222222222222,
              "#7201a8"
             ],
             [
              0.3333333333333333,
              "#9c179e"
             ],
             [
              0.4444444444444444,
              "#bd3786"
             ],
             [
              0.5555555555555556,
              "#d8576b"
             ],
             [
              0.6666666666666666,
              "#ed7953"
             ],
             [
              0.7777777777777778,
              "#fb9f3a"
             ],
             [
              0.8888888888888888,
              "#fdca26"
             ],
             [
              1,
              "#f0f921"
             ]
            ],
            "type": "heatmapgl"
           }
          ],
          "histogram": [
           {
            "marker": {
             "pattern": {
              "fillmode": "overlay",
              "size": 10,
              "solidity": 0.2
             }
            },
            "type": "histogram"
           }
          ],
          "histogram2d": [
           {
            "colorbar": {
             "outlinewidth": 0,
             "ticks": ""
            },
            "colorscale": [
             [
              0,
              "#0d0887"
             ],
             [
              0.1111111111111111,
              "#46039f"
             ],
             [
              0.2222222222222222,
              "#7201a8"
             ],
             [
              0.3333333333333333,
              "#9c179e"
             ],
             [
              0.4444444444444444,
              "#bd3786"
             ],
             [
              0.5555555555555556,
              "#d8576b"
             ],
             [
              0.6666666666666666,
              "#ed7953"
             ],
             [
              0.7777777777777778,
              "#fb9f3a"
             ],
             [
              0.8888888888888888,
              "#fdca26"
             ],
             [
              1,
              "#f0f921"
             ]
            ],
            "type": "histogram2d"
           }
          ],
          "histogram2dcontour": [
           {
            "colorbar": {
             "outlinewidth": 0,
             "ticks": ""
            },
            "colorscale": [
             [
              0,
              "#0d0887"
             ],
             [
              0.1111111111111111,
              "#46039f"
             ],
             [
              0.2222222222222222,
              "#7201a8"
             ],
             [
              0.3333333333333333,
              "#9c179e"
             ],
             [
              0.4444444444444444,
              "#bd3786"
             ],
             [
              0.5555555555555556,
              "#d8576b"
             ],
             [
              0.6666666666666666,
              "#ed7953"
             ],
             [
              0.7777777777777778,
              "#fb9f3a"
             ],
             [
              0.8888888888888888,
              "#fdca26"
             ],
             [
              1,
              "#f0f921"
             ]
            ],
            "type": "histogram2dcontour"
           }
          ],
          "mesh3d": [
           {
            "colorbar": {
             "outlinewidth": 0,
             "ticks": ""
            },
            "type": "mesh3d"
           }
          ],
          "parcoords": [
           {
            "line": {
             "colorbar": {
              "outlinewidth": 0,
              "ticks": ""
             }
            },
            "type": "parcoords"
           }
          ],
          "pie": [
           {
            "automargin": true,
            "type": "pie"
           }
          ],
          "scatter": [
           {
            "marker": {
             "colorbar": {
              "outlinewidth": 0,
              "ticks": ""
             }
            },
            "type": "scatter"
           }
          ],
          "scatter3d": [
           {
            "line": {
             "colorbar": {
              "outlinewidth": 0,
              "ticks": ""
             }
            },
            "marker": {
             "colorbar": {
              "outlinewidth": 0,
              "ticks": ""
             }
            },
            "type": "scatter3d"
           }
          ],
          "scattercarpet": [
           {
            "marker": {
             "colorbar": {
              "outlinewidth": 0,
              "ticks": ""
             }
            },
            "type": "scattercarpet"
           }
          ],
          "scattergeo": [
           {
            "marker": {
             "colorbar": {
              "outlinewidth": 0,
              "ticks": ""
             }
            },
            "type": "scattergeo"
           }
          ],
          "scattergl": [
           {
            "marker": {
             "colorbar": {
              "outlinewidth": 0,
              "ticks": ""
             }
            },
            "type": "scattergl"
           }
          ],
          "scattermapbox": [
           {
            "marker": {
             "colorbar": {
              "outlinewidth": 0,
              "ticks": ""
             }
            },
            "type": "scattermapbox"
           }
          ],
          "scatterpolar": [
           {
            "marker": {
             "colorbar": {
              "outlinewidth": 0,
              "ticks": ""
             }
            },
            "type": "scatterpolar"
           }
          ],
          "scatterpolargl": [
           {
            "marker": {
             "colorbar": {
              "outlinewidth": 0,
              "ticks": ""
             }
            },
            "type": "scatterpolargl"
           }
          ],
          "scatterternary": [
           {
            "marker": {
             "colorbar": {
              "outlinewidth": 0,
              "ticks": ""
             }
            },
            "type": "scatterternary"
           }
          ],
          "surface": [
           {
            "colorbar": {
             "outlinewidth": 0,
             "ticks": ""
            },
            "colorscale": [
             [
              0,
              "#0d0887"
             ],
             [
              0.1111111111111111,
              "#46039f"
             ],
             [
              0.2222222222222222,
              "#7201a8"
             ],
             [
              0.3333333333333333,
              "#9c179e"
             ],
             [
              0.4444444444444444,
              "#bd3786"
             ],
             [
              0.5555555555555556,
              "#d8576b"
             ],
             [
              0.6666666666666666,
              "#ed7953"
             ],
             [
              0.7777777777777778,
              "#fb9f3a"
             ],
             [
              0.8888888888888888,
              "#fdca26"
             ],
             [
              1,
              "#f0f921"
             ]
            ],
            "type": "surface"
           }
          ],
          "table": [
           {
            "cells": {
             "fill": {
              "color": "#EBF0F8"
             },
             "line": {
              "color": "white"
             }
            },
            "header": {
             "fill": {
              "color": "#C8D4E3"
             },
             "line": {
              "color": "white"
             }
            },
            "type": "table"
           }
          ]
         },
         "layout": {
          "annotationdefaults": {
           "arrowcolor": "#2a3f5f",
           "arrowhead": 0,
           "arrowwidth": 1
          },
          "autotypenumbers": "strict",
          "coloraxis": {
           "colorbar": {
            "outlinewidth": 0,
            "ticks": ""
           }
          },
          "colorscale": {
           "diverging": [
            [
             0,
             "#8e0152"
            ],
            [
             0.1,
             "#c51b7d"
            ],
            [
             0.2,
             "#de77ae"
            ],
            [
             0.3,
             "#f1b6da"
            ],
            [
             0.4,
             "#fde0ef"
            ],
            [
             0.5,
             "#f7f7f7"
            ],
            [
             0.6,
             "#e6f5d0"
            ],
            [
             0.7,
             "#b8e186"
            ],
            [
             0.8,
             "#7fbc41"
            ],
            [
             0.9,
             "#4d9221"
            ],
            [
             1,
             "#276419"
            ]
           ],
           "sequential": [
            [
             0,
             "#0d0887"
            ],
            [
             0.1111111111111111,
             "#46039f"
            ],
            [
             0.2222222222222222,
             "#7201a8"
            ],
            [
             0.3333333333333333,
             "#9c179e"
            ],
            [
             0.4444444444444444,
             "#bd3786"
            ],
            [
             0.5555555555555556,
             "#d8576b"
            ],
            [
             0.6666666666666666,
             "#ed7953"
            ],
            [
             0.7777777777777778,
             "#fb9f3a"
            ],
            [
             0.8888888888888888,
             "#fdca26"
            ],
            [
             1,
             "#f0f921"
            ]
           ],
           "sequentialminus": [
            [
             0,
             "#0d0887"
            ],
            [
             0.1111111111111111,
             "#46039f"
            ],
            [
             0.2222222222222222,
             "#7201a8"
            ],
            [
             0.3333333333333333,
             "#9c179e"
            ],
            [
             0.4444444444444444,
             "#bd3786"
            ],
            [
             0.5555555555555556,
             "#d8576b"
            ],
            [
             0.6666666666666666,
             "#ed7953"
            ],
            [
             0.7777777777777778,
             "#fb9f3a"
            ],
            [
             0.8888888888888888,
             "#fdca26"
            ],
            [
             1,
             "#f0f921"
            ]
           ]
          },
          "colorway": [
           "#636efa",
           "#EF553B",
           "#00cc96",
           "#ab63fa",
           "#FFA15A",
           "#19d3f3",
           "#FF6692",
           "#B6E880",
           "#FF97FF",
           "#FECB52"
          ],
          "font": {
           "color": "#2a3f5f"
          },
          "geo": {
           "bgcolor": "white",
           "lakecolor": "white",
           "landcolor": "#E5ECF6",
           "showlakes": true,
           "showland": true,
           "subunitcolor": "white"
          },
          "hoverlabel": {
           "align": "left"
          },
          "hovermode": "closest",
          "mapbox": {
           "style": "light"
          },
          "paper_bgcolor": "white",
          "plot_bgcolor": "#E5ECF6",
          "polar": {
           "angularaxis": {
            "gridcolor": "white",
            "linecolor": "white",
            "ticks": ""
           },
           "bgcolor": "#E5ECF6",
           "radialaxis": {
            "gridcolor": "white",
            "linecolor": "white",
            "ticks": ""
           }
          },
          "scene": {
           "xaxis": {
            "backgroundcolor": "#E5ECF6",
            "gridcolor": "white",
            "gridwidth": 2,
            "linecolor": "white",
            "showbackground": true,
            "ticks": "",
            "zerolinecolor": "white"
           },
           "yaxis": {
            "backgroundcolor": "#E5ECF6",
            "gridcolor": "white",
            "gridwidth": 2,
            "linecolor": "white",
            "showbackground": true,
            "ticks": "",
            "zerolinecolor": "white"
           },
           "zaxis": {
            "backgroundcolor": "#E5ECF6",
            "gridcolor": "white",
            "gridwidth": 2,
            "linecolor": "white",
            "showbackground": true,
            "ticks": "",
            "zerolinecolor": "white"
           }
          },
          "shapedefaults": {
           "line": {
            "color": "#2a3f5f"
           }
          },
          "ternary": {
           "aaxis": {
            "gridcolor": "white",
            "linecolor": "white",
            "ticks": ""
           },
           "baxis": {
            "gridcolor": "white",
            "linecolor": "white",
            "ticks": ""
           },
           "bgcolor": "#E5ECF6",
           "caxis": {
            "gridcolor": "white",
            "linecolor": "white",
            "ticks": ""
           }
          },
          "title": {
           "x": 0.05
          },
          "xaxis": {
           "automargin": true,
           "gridcolor": "white",
           "linecolor": "white",
           "ticks": "",
           "title": {
            "standoff": 15
           },
           "zerolinecolor": "white",
           "zerolinewidth": 2
          },
          "yaxis": {
           "automargin": true,
           "gridcolor": "white",
           "linecolor": "white",
           "ticks": "",
           "title": {
            "standoff": 15
           },
           "zerolinecolor": "white",
           "zerolinewidth": 2
          }
         }
        },
        "title": {
         "text": "Конверсия из просмотра в контакт"
        },
        "xaxis": {
         "anchor": "y",
         "domain": [
          0,
          1
         ],
         "title": {
          "text": "v.dt"
         }
        },
        "yaxis": {
         "anchor": "x",
         "domain": [
          0,
          1
         ],
         "title": {
          "text": "contact"
         }
        }
       }
      },
      "text/html": [
       "<div>                            <div id=\"ebdfa087-7c08-4aea-b91e-b637f46dc2f9\" class=\"plotly-graph-div\" style=\"height:525px; width:100%;\"></div>            <script type=\"text/javascript\">                require([\"plotly\"], function(Plotly) {                    window.PLOTLYENV=window.PLOTLYENV || {};                                    if (document.getElementById(\"ebdfa087-7c08-4aea-b91e-b637f46dc2f9\")) {                    Plotly.newPlot(                        \"ebdfa087-7c08-4aea-b91e-b637f46dc2f9\",                        [{\"hovertemplate\":\"source=\\u041b\\u0435\\u043d\\u0442\\u0430 \\u0412\\u041a<br>v.dt=%{x}<br>contact=%{y}<extra></extra>\",\"legendgroup\":\"\\u041b\\u0435\\u043d\\u0442\\u0430 \\u0412\\u041a\",\"line\":{\"color\":\"#636efa\",\"dash\":\"solid\"},\"marker\":{\"symbol\":\"circle\"},\"mode\":\"lines\",\"name\":\"\\u041b\\u0435\\u043d\\u0442\\u0430 \\u0412\\u041a\",\"orientation\":\"v\",\"showlegend\":true,\"type\":\"scatter\",\"x\":[\"2022-02-11\",\"2022-02-12\",\"2022-02-13\",\"2022-02-14\",\"2022-02-15\",\"2022-02-16\",\"2022-02-17\",\"2022-02-18\",\"2022-02-19\",\"2022-02-20\",\"2022-02-21\",\"2022-02-22\",\"2022-02-23\",\"2022-02-24\",\"2022-02-25\",\"2022-02-26\",\"2022-02-27\",\"2022-02-28\",\"2022-03-01\",\"2022-03-02\",\"2022-03-03\"],\"xaxis\":\"x\",\"y\":[554.0,560.0,619.0,583.0,660.0,591.0,614.0,568.0,484.0,746.0,556.0,566.0,489.0,478.0,477.0,487.0,525.0,578.0,550.0,567.0,636.0],\"yaxis\":\"y\"},{\"hovertemplate\":\"source=\\u0420\\u0435\\u043a\\u043b\\u0430\\u043c\\u043d\\u044b\\u0435 \\u0441\\u0441\\u044b\\u043b\\u043a\\u0438<br>v.dt=%{x}<br>contact=%{y}<extra></extra>\",\"legendgroup\":\"\\u0420\\u0435\\u043a\\u043b\\u0430\\u043c\\u043d\\u044b\\u0435 \\u0441\\u0441\\u044b\\u043b\\u043a\\u0438\",\"line\":{\"color\":\"#EF553B\",\"dash\":\"solid\"},\"marker\":{\"symbol\":\"circle\"},\"mode\":\"lines\",\"name\":\"\\u0420\\u0435\\u043a\\u043b\\u0430\\u043c\\u043d\\u044b\\u0435 \\u0441\\u0441\\u044b\\u043b\\u043a\\u0438\",\"orientation\":\"v\",\"showlegend\":true,\"type\":\"scatter\",\"x\":[\"2022-02-11\",\"2022-02-12\",\"2022-02-13\",\"2022-02-14\",\"2022-02-15\",\"2022-02-16\",\"2022-02-17\",\"2022-02-18\",\"2022-02-19\",\"2022-02-20\",\"2022-02-21\",\"2022-02-22\",\"2022-02-23\",\"2022-02-24\",\"2022-02-25\",\"2022-02-26\",\"2022-02-27\",\"2022-02-28\",\"2022-03-01\",\"2022-03-02\",\"2022-03-03\"],\"xaxis\":\"x\",\"y\":[1636.0,1833.0,1892.0,1636.0,1852.0,2020.0,1950.0,1870.0,2458.0,2785.0,2378.0,1869.0,2008.0,1046.0,5.0,null,null,null,null,null,null],\"yaxis\":\"y\"},{\"hovertemplate\":\"source=\\u041d\\u0435\\u0438\\u0437\\u0432\\u0435\\u0441\\u0442\\u043d\\u043e<br>v.dt=%{x}<br>contact=%{y}<extra></extra>\",\"legendgroup\":\"\\u041d\\u0435\\u0438\\u0437\\u0432\\u0435\\u0441\\u0442\\u043d\\u043e\",\"line\":{\"color\":\"#00cc96\",\"dash\":\"solid\"},\"marker\":{\"symbol\":\"circle\"},\"mode\":\"lines\",\"name\":\"\\u041d\\u0435\\u0438\\u0437\\u0432\\u0435\\u0441\\u0442\\u043d\\u043e\",\"orientation\":\"v\",\"showlegend\":true,\"type\":\"scatter\",\"x\":[\"2022-02-11\",\"2022-02-12\",\"2022-02-13\",\"2022-02-14\",\"2022-02-15\",\"2022-02-16\",\"2022-02-17\",\"2022-02-18\",\"2022-02-19\",\"2022-02-20\",\"2022-02-21\",\"2022-02-22\",\"2022-02-23\",\"2022-02-24\",\"2022-02-25\",\"2022-02-26\",\"2022-02-27\",\"2022-02-28\",\"2022-03-01\",\"2022-03-02\",\"2022-03-03\"],\"xaxis\":\"x\",\"y\":[5412.0,5220.0,5737.0,4971.0,6767.0,6589.0,6616.0,6198.0,5049.0,4341.0,4868.0,4135.0,4168.0,3012.0,2984.0,3829.0,2795.0,3710.0,3080.0,4032.0,4340.0],\"yaxis\":\"y\"},{\"hovertemplate\":\"source=\\u041f\\u043e\\u0434\\u043f\\u0438\\u0441\\u043a\\u0438<br>v.dt=%{x}<br>contact=%{y}<extra></extra>\",\"legendgroup\":\"\\u041f\\u043e\\u0434\\u043f\\u0438\\u0441\\u043a\\u0438\",\"line\":{\"color\":\"#ab63fa\",\"dash\":\"solid\"},\"marker\":{\"symbol\":\"circle\"},\"mode\":\"lines\",\"name\":\"\\u041f\\u043e\\u0434\\u043f\\u0438\\u0441\\u043a\\u0438\",\"orientation\":\"v\",\"showlegend\":true,\"type\":\"scatter\",\"x\":[\"2022-02-11\",\"2022-02-12\",\"2022-02-13\",\"2022-02-14\",\"2022-02-15\",\"2022-02-16\",\"2022-02-17\",\"2022-02-18\",\"2022-02-19\",\"2022-02-20\",\"2022-02-21\",\"2022-02-22\",\"2022-02-23\",\"2022-02-24\",\"2022-02-25\",\"2022-02-26\",\"2022-02-27\",\"2022-02-28\",\"2022-03-01\",\"2022-03-02\",\"2022-03-03\"],\"xaxis\":\"x\",\"y\":[153.0,150.0,164.0,126.0,166.0,145.0,153.0,116.0,158.0,213.0,150.0,137.0,114.0,122.0,136.0,116.0,143.0,149.0,136.0,137.0,155.0],\"yaxis\":\"y\"},{\"hovertemplate\":\"source=\\u041e\\u0441\\u0442\\u0430\\u043b\\u044c\\u043d\\u044b\\u0435<br>v.dt=%{x}<br>contact=%{y}<extra></extra>\",\"legendgroup\":\"\\u041e\\u0441\\u0442\\u0430\\u043b\\u044c\\u043d\\u044b\\u0435\",\"line\":{\"color\":\"#FFA15A\",\"dash\":\"solid\"},\"marker\":{\"symbol\":\"circle\"},\"mode\":\"lines\",\"name\":\"\\u041e\\u0441\\u0442\\u0430\\u043b\\u044c\\u043d\\u044b\\u0435\",\"orientation\":\"v\",\"showlegend\":true,\"type\":\"scatter\",\"x\":[\"2022-02-11\",\"2022-02-12\",\"2022-02-13\",\"2022-02-14\",\"2022-02-15\",\"2022-02-16\",\"2022-02-17\",\"2022-02-18\",\"2022-02-19\",\"2022-02-20\",\"2022-02-21\",\"2022-02-22\",\"2022-02-23\",\"2022-02-24\",\"2022-02-25\",\"2022-02-26\",\"2022-02-27\",\"2022-02-28\",\"2022-03-01\",\"2022-03-02\",\"2022-03-03\"],\"xaxis\":\"x\",\"y\":[3044.0,2867.0,3041.0,3118.0,3324.0,3138.0,3137.0,2916.0,2830.0,2999.0,2395.0,1378.0,1218.0,1120.0,1175.0,1183.0,1273.0,1346.0,1296.0,1547.0,1389.0],\"yaxis\":\"y\"},{\"hovertemplate\":\"source=\\u0413\\u0440\\u0443\\u043f\\u043f\\u044b<br>v.dt=%{x}<br>contact=%{y}<extra></extra>\",\"legendgroup\":\"\\u0413\\u0440\\u0443\\u043f\\u043f\\u044b\",\"line\":{\"color\":\"#19d3f3\",\"dash\":\"solid\"},\"marker\":{\"symbol\":\"circle\"},\"mode\":\"lines\",\"name\":\"\\u0413\\u0440\\u0443\\u043f\\u043f\\u044b\",\"orientation\":\"v\",\"showlegend\":true,\"type\":\"scatter\",\"x\":[\"2022-02-11\",\"2022-02-12\",\"2022-02-13\",\"2022-02-14\",\"2022-02-15\",\"2022-02-16\",\"2022-02-17\",\"2022-02-18\",\"2022-02-19\",\"2022-02-20\",\"2022-02-21\",\"2022-02-22\",\"2022-02-23\",\"2022-02-24\",\"2022-02-25\",\"2022-02-26\",\"2022-02-27\",\"2022-02-28\",\"2022-03-01\",\"2022-03-02\",\"2022-03-03\"],\"xaxis\":\"x\",\"y\":[629.0,638.0,669.0,621.0,736.0,654.0,669.0,603.0,623.0,779.0,690.0,673.0,633.0,564.0,595.0,579.0,625.0,591.0,640.0,651.0,681.0],\"yaxis\":\"y\"},{\"hovertemplate\":\"source=\\u041f\\u043e\\u0440\\u0442\\u043b\\u0435\\u0442\\u044b<br>v.dt=%{x}<br>contact=%{y}<extra></extra>\",\"legendgroup\":\"\\u041f\\u043e\\u0440\\u0442\\u043b\\u0435\\u0442\\u044b\",\"line\":{\"color\":\"#FF6692\",\"dash\":\"solid\"},\"marker\":{\"symbol\":\"circle\"},\"mode\":\"lines\",\"name\":\"\\u041f\\u043e\\u0440\\u0442\\u043b\\u0435\\u0442\\u044b\",\"orientation\":\"v\",\"showlegend\":true,\"type\":\"scatter\",\"x\":[\"2022-02-11\",\"2022-02-12\",\"2022-02-13\",\"2022-02-14\",\"2022-02-15\",\"2022-02-16\",\"2022-02-17\",\"2022-02-18\",\"2022-02-19\",\"2022-02-20\",\"2022-02-21\",\"2022-02-22\",\"2022-02-23\",\"2022-02-24\",\"2022-02-25\",\"2022-02-26\",\"2022-02-27\",\"2022-02-28\",\"2022-03-01\",\"2022-03-02\",\"2022-03-03\"],\"xaxis\":\"x\",\"y\":[2803.0,3343.0,3597.0,3271.0,3455.0,3377.0,3474.0,3199.0,2993.0,3433.0,2660.0,1891.0,1963.0,1622.0,1669.0,1687.0,1892.0,1857.0,1857.0,1908.0,2011.0],\"yaxis\":\"y\"},{\"hovertemplate\":\"source=\\u041b\\u0435\\u043d\\u0442\\u0430 \\u0412\\u041a\\u041e<br>v.dt=%{x}<br>contact=%{y}<extra></extra>\",\"legendgroup\":\"\\u041b\\u0435\\u043d\\u0442\\u0430 \\u0412\\u041a\\u041e\",\"line\":{\"color\":\"#B6E880\",\"dash\":\"solid\"},\"marker\":{\"symbol\":\"circle\"},\"mode\":\"lines\",\"name\":\"\\u041b\\u0435\\u043d\\u0442\\u0430 \\u0412\\u041a\\u041e\",\"orientation\":\"v\",\"showlegend\":true,\"type\":\"scatter\",\"x\":[\"2022-02-11\",\"2022-02-12\",\"2022-02-13\",\"2022-02-14\",\"2022-02-15\",\"2022-02-16\",\"2022-02-17\",\"2022-02-18\",\"2022-02-19\",\"2022-02-20\",\"2022-02-21\",\"2022-02-22\",\"2022-02-23\",\"2022-02-24\",\"2022-02-25\",\"2022-02-26\",\"2022-02-27\",\"2022-02-28\",\"2022-03-01\",\"2022-03-02\",\"2022-03-03\"],\"xaxis\":\"x\",\"y\":[7605.0,7902.0,8095.0,6953.0,7411.0,7090.0,7817.0,7036.0,8007.0,7364.0,6468.0,4432.0,4274.0,3860.0,4007.0,4393.0,4524.0,4655.0,4641.0,4971.0,4969.0],\"yaxis\":\"y\"},{\"hovertemplate\":\"source=\\u041f\\u043e\\u0438\\u0441\\u043a \\u0412\\u041a<br>v.dt=%{x}<br>contact=%{y}<extra></extra>\",\"legendgroup\":\"\\u041f\\u043e\\u0438\\u0441\\u043a \\u0412\\u041a\",\"line\":{\"color\":\"#FF97FF\",\"dash\":\"solid\"},\"marker\":{\"symbol\":\"circle\"},\"mode\":\"lines\",\"name\":\"\\u041f\\u043e\\u0438\\u0441\\u043a \\u0412\\u041a\",\"orientation\":\"v\",\"showlegend\":true,\"type\":\"scatter\",\"x\":[\"2022-02-11\",\"2022-02-12\",\"2022-02-13\",\"2022-02-14\",\"2022-02-15\",\"2022-02-16\",\"2022-02-17\",\"2022-02-18\",\"2022-02-19\",\"2022-02-20\",\"2022-02-21\",\"2022-02-22\",\"2022-02-23\",\"2022-02-24\",\"2022-02-25\",\"2022-02-26\",\"2022-02-27\",\"2022-02-28\",\"2022-03-01\",\"2022-03-02\",\"2022-03-03\"],\"xaxis\":\"x\",\"y\":[603.0,660.0,630.0,620.0,680.0,634.0,573.0,586.0,554.0,786.0,490.0,238.0,672.0,241.0,207.0,273.0,236.0,275.0,285.0,299.0,342.0],\"yaxis\":\"y\"},{\"hovertemplate\":\"source=\\u041f\\u043e\\u0445\\u043e\\u0436\\u0438\\u0435 \\u0442\\u043e\\u0432\\u0430\\u0440\\u044b<br>v.dt=%{x}<br>contact=%{y}<extra></extra>\",\"legendgroup\":\"\\u041f\\u043e\\u0445\\u043e\\u0436\\u0438\\u0435 \\u0442\\u043e\\u0432\\u0430\\u0440\\u044b\",\"line\":{\"color\":\"#FECB52\",\"dash\":\"solid\"},\"marker\":{\"symbol\":\"circle\"},\"mode\":\"lines\",\"name\":\"\\u041f\\u043e\\u0445\\u043e\\u0436\\u0438\\u0435 \\u0442\\u043e\\u0432\\u0430\\u0440\\u044b\",\"orientation\":\"v\",\"showlegend\":true,\"type\":\"scatter\",\"x\":[\"2022-02-11\",\"2022-02-12\",\"2022-02-13\",\"2022-02-14\",\"2022-02-15\",\"2022-02-16\",\"2022-02-17\",\"2022-02-18\",\"2022-02-19\",\"2022-02-20\",\"2022-02-21\",\"2022-02-22\",\"2022-02-23\",\"2022-02-24\",\"2022-02-25\",\"2022-02-26\",\"2022-02-27\",\"2022-02-28\",\"2022-03-01\",\"2022-03-02\",\"2022-03-03\"],\"xaxis\":\"x\",\"y\":[2502.0,2595.0,2781.0,2410.0,2683.0,2586.0,2476.0,2367.0,2594.0,2963.0,2247.0,1476.0,1537.0,1380.0,1216.0,1291.0,1437.0,1329.0,1265.0,1389.0,1483.0],\"yaxis\":\"y\"},{\"hovertemplate\":\"source=\\u041a\\u0430\\u0440\\u0443\\u0441\\u0435\\u043b\\u0438<br>v.dt=%{x}<br>contact=%{y}<extra></extra>\",\"legendgroup\":\"\\u041a\\u0430\\u0440\\u0443\\u0441\\u0435\\u043b\\u0438\",\"line\":{\"color\":\"#636efa\",\"dash\":\"solid\"},\"marker\":{\"symbol\":\"circle\"},\"mode\":\"lines\",\"name\":\"\\u041a\\u0430\\u0440\\u0443\\u0441\\u0435\\u043b\\u0438\",\"orientation\":\"v\",\"showlegend\":true,\"type\":\"scatter\",\"x\":[\"2022-02-11\",\"2022-02-12\",\"2022-02-13\",\"2022-02-14\",\"2022-02-15\",\"2022-02-16\",\"2022-02-17\",\"2022-02-18\",\"2022-02-19\",\"2022-02-20\",\"2022-02-21\",\"2022-02-22\",\"2022-02-23\",\"2022-02-24\",\"2022-02-25\",\"2022-02-26\",\"2022-02-27\",\"2022-02-28\",\"2022-03-01\",\"2022-03-02\",\"2022-03-03\"],\"xaxis\":\"x\",\"y\":[499.0,511.0,511.0,536.0,548.0,445.0,515.0,467.0,519.0,631.0,477.0,338.0,275.0,254.0,279.0,300.0,328.0,288.0,290.0,287.0,295.0],\"yaxis\":\"y\"},{\"hovertemplate\":\"source=\\u0417\\u0430\\u043a\\u043b\\u0430\\u0434\\u043a\\u0438<br>v.dt=%{x}<br>contact=%{y}<extra></extra>\",\"legendgroup\":\"\\u0417\\u0430\\u043a\\u043b\\u0430\\u0434\\u043a\\u0438\",\"line\":{\"color\":\"#EF553B\",\"dash\":\"solid\"},\"marker\":{\"symbol\":\"circle\"},\"mode\":\"lines\",\"name\":\"\\u0417\\u0430\\u043a\\u043b\\u0430\\u0434\\u043a\\u0438\",\"orientation\":\"v\",\"showlegend\":true,\"type\":\"scatter\",\"x\":[\"2022-02-11\",\"2022-02-12\",\"2022-02-13\",\"2022-02-14\",\"2022-02-15\",\"2022-02-16\",\"2022-02-17\",\"2022-02-18\",\"2022-02-19\",\"2022-02-20\",\"2022-02-21\",\"2022-02-22\",\"2022-02-23\",\"2022-02-24\",\"2022-02-25\",\"2022-02-26\",\"2022-02-27\",\"2022-02-28\",\"2022-03-01\",\"2022-03-02\",\"2022-03-03\"],\"xaxis\":\"x\",\"y\":[552.0,497.0,567.0,512.0,477.0,526.0,508.0,532.0,518.0,606.0,468.0,179.0,136.0,161.0,208.0,179.0,147.0,117.0,200.0,124.0,146.0],\"yaxis\":\"y\"},{\"hovertemplate\":\"source=\\u041f\\u0443\\u0448<br>v.dt=%{x}<br>contact=%{y}<extra></extra>\",\"legendgroup\":\"\\u041f\\u0443\\u0448\",\"line\":{\"color\":\"#00cc96\",\"dash\":\"solid\"},\"marker\":{\"symbol\":\"circle\"},\"mode\":\"lines\",\"name\":\"\\u041f\\u0443\\u0448\",\"orientation\":\"v\",\"showlegend\":true,\"type\":\"scatter\",\"x\":[\"2022-02-11\",\"2022-02-12\",\"2022-02-13\",\"2022-02-14\",\"2022-02-15\",\"2022-02-16\",\"2022-02-17\",\"2022-02-18\",\"2022-02-19\",\"2022-02-20\",\"2022-02-21\",\"2022-02-22\",\"2022-02-23\",\"2022-02-24\",\"2022-02-25\",\"2022-02-26\",\"2022-02-27\",\"2022-02-28\",\"2022-03-01\",\"2022-03-02\",\"2022-03-03\"],\"xaxis\":\"x\",\"y\":[2044.0,1825.0,1977.0,1701.0,1926.0,1905.0,1886.0,1932.0,1986.0,2195.0,2050.0,1678.0,1433.0,1432.0,1374.0,1435.0,1359.0,1419.0,1406.0,1353.0,1394.0],\"yaxis\":\"y\"},{\"hovertemplate\":\"source=\\u041f\\u0440\\u043e\\u0444\\u0438\\u043b\\u044c \\u043f\\u0440\\u043e\\u0434\\u0430\\u0432\\u0446\\u0430<br>v.dt=%{x}<br>contact=%{y}<extra></extra>\",\"legendgroup\":\"\\u041f\\u0440\\u043e\\u0444\\u0438\\u043b\\u044c \\u043f\\u0440\\u043e\\u0434\\u0430\\u0432\\u0446\\u0430\",\"line\":{\"color\":\"#ab63fa\",\"dash\":\"solid\"},\"marker\":{\"symbol\":\"circle\"},\"mode\":\"lines\",\"name\":\"\\u041f\\u0440\\u043e\\u0444\\u0438\\u043b\\u044c \\u043f\\u0440\\u043e\\u0434\\u0430\\u0432\\u0446\\u0430\",\"orientation\":\"v\",\"showlegend\":true,\"type\":\"scatter\",\"x\":[\"2022-02-11\",\"2022-02-12\",\"2022-02-13\",\"2022-02-14\",\"2022-02-15\",\"2022-02-16\",\"2022-02-17\",\"2022-02-18\",\"2022-02-19\",\"2022-02-20\",\"2022-02-21\",\"2022-02-22\",\"2022-02-23\",\"2022-02-24\",\"2022-02-25\",\"2022-02-26\",\"2022-02-27\",\"2022-02-28\",\"2022-03-01\",\"2022-03-02\",\"2022-03-03\"],\"xaxis\":\"x\",\"y\":[3529.0,3490.0,3775.0,3546.0,3737.0,3722.0,3576.0,3447.0,3395.0,3787.0,3908.0,3967.0,3693.0,3635.0,3630.0,3820.0,4158.0,4201.0,4312.0,4162.0,4182.0],\"yaxis\":\"y\"},{\"hovertemplate\":\"source=\\u0410\\u043d\\u0442\\u0438\\u0431\\u0430\\u0440\\u0430\\u0445\\u043e\\u043b\\u043a\\u0438<br>v.dt=%{x}<br>contact=%{y}<extra></extra>\",\"legendgroup\":\"\\u0410\\u043d\\u0442\\u0438\\u0431\\u0430\\u0440\\u0430\\u0445\\u043e\\u043b\\u043a\\u0438\",\"line\":{\"color\":\"#FFA15A\",\"dash\":\"solid\"},\"marker\":{\"symbol\":\"circle\"},\"mode\":\"lines\",\"name\":\"\\u0410\\u043d\\u0442\\u0438\\u0431\\u0430\\u0440\\u0430\\u0445\\u043e\\u043b\\u043a\\u0438\",\"orientation\":\"v\",\"showlegend\":true,\"type\":\"scatter\",\"x\":[\"2022-02-11\",\"2022-02-12\",\"2022-02-13\",\"2022-02-14\",\"2022-02-15\",\"2022-02-16\",\"2022-02-17\",\"2022-02-18\",\"2022-02-19\",\"2022-02-20\",\"2022-02-21\",\"2022-02-22\",\"2022-02-23\",\"2022-02-24\",\"2022-02-25\",\"2022-02-26\",\"2022-02-27\",\"2022-02-28\",\"2022-03-01\",\"2022-03-02\",\"2022-03-03\"],\"xaxis\":\"x\",\"y\":[113.0,119.0,156.0,132.0,146.0,129.0,131.0,120.0,148.0,174.0,120.0,94.0,84.0,100.0,109.0,85.0,118.0,111.0,102.0,121.0,102.0],\"yaxis\":\"y\"},{\"hovertemplate\":\"source=\\u0410\\u043d\\u0442\\u0438\\u0431\\u0430\\u0440\\u0430\\u0445\\u043e\\u043b\\u043a\\u0438 \\u043f\\u043e\\u0440\\u0442\\u043b\\u0435\\u0442\\u044b<br>v.dt=%{x}<br>contact=%{y}<extra></extra>\",\"legendgroup\":\"\\u0410\\u043d\\u0442\\u0438\\u0431\\u0430\\u0440\\u0430\\u0445\\u043e\\u043b\\u043a\\u0438 \\u043f\\u043e\\u0440\\u0442\\u043b\\u0435\\u0442\\u044b\",\"line\":{\"color\":\"#19d3f3\",\"dash\":\"solid\"},\"marker\":{\"symbol\":\"circle\"},\"mode\":\"lines\",\"name\":\"\\u0410\\u043d\\u0442\\u0438\\u0431\\u0430\\u0440\\u0430\\u0445\\u043e\\u043b\\u043a\\u0438 \\u043f\\u043e\\u0440\\u0442\\u043b\\u0435\\u0442\\u044b\",\"orientation\":\"v\",\"showlegend\":true,\"type\":\"scatter\",\"x\":[\"2022-02-11\",\"2022-02-12\",\"2022-02-13\",\"2022-02-14\",\"2022-02-15\",\"2022-02-16\",\"2022-02-17\",\"2022-02-18\",\"2022-02-19\",\"2022-02-20\",\"2022-02-21\",\"2022-02-22\",\"2022-02-23\",\"2022-02-24\",\"2022-02-25\",\"2022-02-26\",\"2022-02-27\",\"2022-02-28\",\"2022-03-01\",\"2022-03-02\",\"2022-03-03\"],\"xaxis\":\"x\",\"y\":[5.0,5.0,1.0,4.0,4.0,11.0,12.0,14.0,9.0,3.0,19.0,5.0,14.0,7.0,7.0,11.0,8.0,11.0,9.0,14.0,34.0],\"yaxis\":\"y\"},{\"hovertemplate\":\"source=\\u0421\\u043d\\u0438\\u043f\\u043f\\u0435\\u0442\\u044b<br>v.dt=%{x}<br>contact=%{y}<extra></extra>\",\"legendgroup\":\"\\u0421\\u043d\\u0438\\u043f\\u043f\\u0435\\u0442\\u044b\",\"line\":{\"color\":\"#FF6692\",\"dash\":\"solid\"},\"marker\":{\"symbol\":\"circle\"},\"mode\":\"lines\",\"name\":\"\\u0421\\u043d\\u0438\\u043f\\u043f\\u0435\\u0442\\u044b\",\"orientation\":\"v\",\"showlegend\":true,\"type\":\"scatter\",\"x\":[\"2022-02-11\",\"2022-02-12\",\"2022-02-13\",\"2022-02-14\",\"2022-02-15\",\"2022-02-16\",\"2022-02-17\",\"2022-02-18\",\"2022-02-19\",\"2022-02-20\",\"2022-02-21\",\"2022-02-22\",\"2022-02-23\",\"2022-02-24\",\"2022-02-25\",\"2022-02-26\",\"2022-02-27\",\"2022-02-28\",\"2022-03-01\",\"2022-03-02\",\"2022-03-03\"],\"xaxis\":\"x\",\"y\":[5164.0,5255.0,5732.0,5778.0,5710.0,5575.0,5378.0,5205.0,5184.0,5631.0,4330.0,2728.0,2438.0,2374.0,2287.0,2366.0,2665.0,2664.0,2732.0,2611.0,2701.0],\"yaxis\":\"y\"}],                        {\"legend\":{\"title\":{\"text\":\"source\"},\"tracegroupgap\":0},\"template\":{\"data\":{\"bar\":[{\"error_x\":{\"color\":\"#2a3f5f\"},\"error_y\":{\"color\":\"#2a3f5f\"},\"marker\":{\"line\":{\"color\":\"#E5ECF6\",\"width\":0.5},\"pattern\":{\"fillmode\":\"overlay\",\"size\":10,\"solidity\":0.2}},\"type\":\"bar\"}],\"barpolar\":[{\"marker\":{\"line\":{\"color\":\"#E5ECF6\",\"width\":0.5},\"pattern\":{\"fillmode\":\"overlay\",\"size\":10,\"solidity\":0.2}},\"type\":\"barpolar\"}],\"carpet\":[{\"aaxis\":{\"endlinecolor\":\"#2a3f5f\",\"gridcolor\":\"white\",\"linecolor\":\"white\",\"minorgridcolor\":\"white\",\"startlinecolor\":\"#2a3f5f\"},\"baxis\":{\"endlinecolor\":\"#2a3f5f\",\"gridcolor\":\"white\",\"linecolor\":\"white\",\"minorgridcolor\":\"white\",\"startlinecolor\":\"#2a3f5f\"},\"type\":\"carpet\"}],\"choropleth\":[{\"colorbar\":{\"outlinewidth\":0,\"ticks\":\"\"},\"type\":\"choropleth\"}],\"contour\":[{\"colorbar\":{\"outlinewidth\":0,\"ticks\":\"\"},\"colorscale\":[[0.0,\"#0d0887\"],[0.1111111111111111,\"#46039f\"],[0.2222222222222222,\"#7201a8\"],[0.3333333333333333,\"#9c179e\"],[0.4444444444444444,\"#bd3786\"],[0.5555555555555556,\"#d8576b\"],[0.6666666666666666,\"#ed7953\"],[0.7777777777777778,\"#fb9f3a\"],[0.8888888888888888,\"#fdca26\"],[1.0,\"#f0f921\"]],\"type\":\"contour\"}],\"contourcarpet\":[{\"colorbar\":{\"outlinewidth\":0,\"ticks\":\"\"},\"type\":\"contourcarpet\"}],\"heatmap\":[{\"colorbar\":{\"outlinewidth\":0,\"ticks\":\"\"},\"colorscale\":[[0.0,\"#0d0887\"],[0.1111111111111111,\"#46039f\"],[0.2222222222222222,\"#7201a8\"],[0.3333333333333333,\"#9c179e\"],[0.4444444444444444,\"#bd3786\"],[0.5555555555555556,\"#d8576b\"],[0.6666666666666666,\"#ed7953\"],[0.7777777777777778,\"#fb9f3a\"],[0.8888888888888888,\"#fdca26\"],[1.0,\"#f0f921\"]],\"type\":\"heatmap\"}],\"heatmapgl\":[{\"colorbar\":{\"outlinewidth\":0,\"ticks\":\"\"},\"colorscale\":[[0.0,\"#0d0887\"],[0.1111111111111111,\"#46039f\"],[0.2222222222222222,\"#7201a8\"],[0.3333333333333333,\"#9c179e\"],[0.4444444444444444,\"#bd3786\"],[0.5555555555555556,\"#d8576b\"],[0.6666666666666666,\"#ed7953\"],[0.7777777777777778,\"#fb9f3a\"],[0.8888888888888888,\"#fdca26\"],[1.0,\"#f0f921\"]],\"type\":\"heatmapgl\"}],\"histogram\":[{\"marker\":{\"pattern\":{\"fillmode\":\"overlay\",\"size\":10,\"solidity\":0.2}},\"type\":\"histogram\"}],\"histogram2d\":[{\"colorbar\":{\"outlinewidth\":0,\"ticks\":\"\"},\"colorscale\":[[0.0,\"#0d0887\"],[0.1111111111111111,\"#46039f\"],[0.2222222222222222,\"#7201a8\"],[0.3333333333333333,\"#9c179e\"],[0.4444444444444444,\"#bd3786\"],[0.5555555555555556,\"#d8576b\"],[0.6666666666666666,\"#ed7953\"],[0.7777777777777778,\"#fb9f3a\"],[0.8888888888888888,\"#fdca26\"],[1.0,\"#f0f921\"]],\"type\":\"histogram2d\"}],\"histogram2dcontour\":[{\"colorbar\":{\"outlinewidth\":0,\"ticks\":\"\"},\"colorscale\":[[0.0,\"#0d0887\"],[0.1111111111111111,\"#46039f\"],[0.2222222222222222,\"#7201a8\"],[0.3333333333333333,\"#9c179e\"],[0.4444444444444444,\"#bd3786\"],[0.5555555555555556,\"#d8576b\"],[0.6666666666666666,\"#ed7953\"],[0.7777777777777778,\"#fb9f3a\"],[0.8888888888888888,\"#fdca26\"],[1.0,\"#f0f921\"]],\"type\":\"histogram2dcontour\"}],\"mesh3d\":[{\"colorbar\":{\"outlinewidth\":0,\"ticks\":\"\"},\"type\":\"mesh3d\"}],\"parcoords\":[{\"line\":{\"colorbar\":{\"outlinewidth\":0,\"ticks\":\"\"}},\"type\":\"parcoords\"}],\"pie\":[{\"automargin\":true,\"type\":\"pie\"}],\"scatter\":[{\"marker\":{\"colorbar\":{\"outlinewidth\":0,\"ticks\":\"\"}},\"type\":\"scatter\"}],\"scatter3d\":[{\"line\":{\"colorbar\":{\"outlinewidth\":0,\"ticks\":\"\"}},\"marker\":{\"colorbar\":{\"outlinewidth\":0,\"ticks\":\"\"}},\"type\":\"scatter3d\"}],\"scattercarpet\":[{\"marker\":{\"colorbar\":{\"outlinewidth\":0,\"ticks\":\"\"}},\"type\":\"scattercarpet\"}],\"scattergeo\":[{\"marker\":{\"colorbar\":{\"outlinewidth\":0,\"ticks\":\"\"}},\"type\":\"scattergeo\"}],\"scattergl\":[{\"marker\":{\"colorbar\":{\"outlinewidth\":0,\"ticks\":\"\"}},\"type\":\"scattergl\"}],\"scattermapbox\":[{\"marker\":{\"colorbar\":{\"outlinewidth\":0,\"ticks\":\"\"}},\"type\":\"scattermapbox\"}],\"scatterpolar\":[{\"marker\":{\"colorbar\":{\"outlinewidth\":0,\"ticks\":\"\"}},\"type\":\"scatterpolar\"}],\"scatterpolargl\":[{\"marker\":{\"colorbar\":{\"outlinewidth\":0,\"ticks\":\"\"}},\"type\":\"scatterpolargl\"}],\"scatterternary\":[{\"marker\":{\"colorbar\":{\"outlinewidth\":0,\"ticks\":\"\"}},\"type\":\"scatterternary\"}],\"surface\":[{\"colorbar\":{\"outlinewidth\":0,\"ticks\":\"\"},\"colorscale\":[[0.0,\"#0d0887\"],[0.1111111111111111,\"#46039f\"],[0.2222222222222222,\"#7201a8\"],[0.3333333333333333,\"#9c179e\"],[0.4444444444444444,\"#bd3786\"],[0.5555555555555556,\"#d8576b\"],[0.6666666666666666,\"#ed7953\"],[0.7777777777777778,\"#fb9f3a\"],[0.8888888888888888,\"#fdca26\"],[1.0,\"#f0f921\"]],\"type\":\"surface\"}],\"table\":[{\"cells\":{\"fill\":{\"color\":\"#EBF0F8\"},\"line\":{\"color\":\"white\"}},\"header\":{\"fill\":{\"color\":\"#C8D4E3\"},\"line\":{\"color\":\"white\"}},\"type\":\"table\"}]},\"layout\":{\"annotationdefaults\":{\"arrowcolor\":\"#2a3f5f\",\"arrowhead\":0,\"arrowwidth\":1},\"autotypenumbers\":\"strict\",\"coloraxis\":{\"colorbar\":{\"outlinewidth\":0,\"ticks\":\"\"}},\"colorscale\":{\"diverging\":[[0,\"#8e0152\"],[0.1,\"#c51b7d\"],[0.2,\"#de77ae\"],[0.3,\"#f1b6da\"],[0.4,\"#fde0ef\"],[0.5,\"#f7f7f7\"],[0.6,\"#e6f5d0\"],[0.7,\"#b8e186\"],[0.8,\"#7fbc41\"],[0.9,\"#4d9221\"],[1,\"#276419\"]],\"sequential\":[[0.0,\"#0d0887\"],[0.1111111111111111,\"#46039f\"],[0.2222222222222222,\"#7201a8\"],[0.3333333333333333,\"#9c179e\"],[0.4444444444444444,\"#bd3786\"],[0.5555555555555556,\"#d8576b\"],[0.6666666666666666,\"#ed7953\"],[0.7777777777777778,\"#fb9f3a\"],[0.8888888888888888,\"#fdca26\"],[1.0,\"#f0f921\"]],\"sequentialminus\":[[0.0,\"#0d0887\"],[0.1111111111111111,\"#46039f\"],[0.2222222222222222,\"#7201a8\"],[0.3333333333333333,\"#9c179e\"],[0.4444444444444444,\"#bd3786\"],[0.5555555555555556,\"#d8576b\"],[0.6666666666666666,\"#ed7953\"],[0.7777777777777778,\"#fb9f3a\"],[0.8888888888888888,\"#fdca26\"],[1.0,\"#f0f921\"]]},\"colorway\":[\"#636efa\",\"#EF553B\",\"#00cc96\",\"#ab63fa\",\"#FFA15A\",\"#19d3f3\",\"#FF6692\",\"#B6E880\",\"#FF97FF\",\"#FECB52\"],\"font\":{\"color\":\"#2a3f5f\"},\"geo\":{\"bgcolor\":\"white\",\"lakecolor\":\"white\",\"landcolor\":\"#E5ECF6\",\"showlakes\":true,\"showland\":true,\"subunitcolor\":\"white\"},\"hoverlabel\":{\"align\":\"left\"},\"hovermode\":\"closest\",\"mapbox\":{\"style\":\"light\"},\"paper_bgcolor\":\"white\",\"plot_bgcolor\":\"#E5ECF6\",\"polar\":{\"angularaxis\":{\"gridcolor\":\"white\",\"linecolor\":\"white\",\"ticks\":\"\"},\"bgcolor\":\"#E5ECF6\",\"radialaxis\":{\"gridcolor\":\"white\",\"linecolor\":\"white\",\"ticks\":\"\"}},\"scene\":{\"xaxis\":{\"backgroundcolor\":\"#E5ECF6\",\"gridcolor\":\"white\",\"gridwidth\":2,\"linecolor\":\"white\",\"showbackground\":true,\"ticks\":\"\",\"zerolinecolor\":\"white\"},\"yaxis\":{\"backgroundcolor\":\"#E5ECF6\",\"gridcolor\":\"white\",\"gridwidth\":2,\"linecolor\":\"white\",\"showbackground\":true,\"ticks\":\"\",\"zerolinecolor\":\"white\"},\"zaxis\":{\"backgroundcolor\":\"#E5ECF6\",\"gridcolor\":\"white\",\"gridwidth\":2,\"linecolor\":\"white\",\"showbackground\":true,\"ticks\":\"\",\"zerolinecolor\":\"white\"}},\"shapedefaults\":{\"line\":{\"color\":\"#2a3f5f\"}},\"ternary\":{\"aaxis\":{\"gridcolor\":\"white\",\"linecolor\":\"white\",\"ticks\":\"\"},\"baxis\":{\"gridcolor\":\"white\",\"linecolor\":\"white\",\"ticks\":\"\"},\"bgcolor\":\"#E5ECF6\",\"caxis\":{\"gridcolor\":\"white\",\"linecolor\":\"white\",\"ticks\":\"\"}},\"title\":{\"x\":0.05},\"xaxis\":{\"automargin\":true,\"gridcolor\":\"white\",\"linecolor\":\"white\",\"ticks\":\"\",\"title\":{\"standoff\":15},\"zerolinecolor\":\"white\",\"zerolinewidth\":2},\"yaxis\":{\"automargin\":true,\"gridcolor\":\"white\",\"linecolor\":\"white\",\"ticks\":\"\",\"title\":{\"standoff\":15},\"zerolinecolor\":\"white\",\"zerolinewidth\":2}}},\"title\":{\"text\":\"\\u041a\\u043e\\u043d\\u0432\\u0435\\u0440\\u0441\\u0438\\u044f \\u0438\\u0437 \\u043f\\u0440\\u043e\\u0441\\u043c\\u043e\\u0442\\u0440\\u0430 \\u0432 \\u043a\\u043e\\u043d\\u0442\\u0430\\u043a\\u0442\"},\"xaxis\":{\"anchor\":\"y\",\"domain\":[0.0,1.0],\"title\":{\"text\":\"v.dt\"}},\"yaxis\":{\"anchor\":\"x\",\"domain\":[0.0,1.0],\"title\":{\"text\":\"contact\"}}},                        {\"responsive\": true}                    ).then(function(){\n",
       "                            \n",
       "var gd = document.getElementById('ebdfa087-7c08-4aea-b91e-b637f46dc2f9');\n",
       "var x = new MutationObserver(function (mutations, observer) {{\n",
       "        var display = window.getComputedStyle(gd).display;\n",
       "        if (!display || display === 'none') {{\n",
       "            console.log([gd, 'removed!']);\n",
       "            Plotly.purge(gd);\n",
       "            observer.disconnect();\n",
       "        }}\n",
       "}});\n",
       "\n",
       "// Listen for the removal of the full notebook cells\n",
       "var notebookContainer = gd.closest('#notebook-container');\n",
       "if (notebookContainer) {{\n",
       "    x.observe(notebookContainer, {childList: true});\n",
       "}}\n",
       "\n",
       "// Listen for the clearing of the current output cell\n",
       "var outputEl = gd.closest('.output');\n",
       "if (outputEl) {{\n",
       "    x.observe(outputEl, {childList: true});\n",
       "}}\n",
       "\n",
       "                        })                };                });            </script>        </div>"
      ]
     },
     "metadata": {},
     "output_type": "display_data"
    }
   ],
   "source": [
    "fig = px.line(df_view_total[(df_view_total['v.dt']>='2022-02-11')], x=\"v.dt\", y=\"contact\",color='source',title='Конверсия из просмотра в контакт')\n",
    "fig.show()\n",
    "\n",
    "\n",
    "\n"
   ]
  },
  {
   "cell_type": "code",
   "execution_count": 282,
   "id": "1fb0d20d",
   "metadata": {},
   "outputs": [],
   "source": [
    "df_contact_gr = df_view_total[df_view_total['v.dt']>='2022-02-11'].groupby(['v.dt', 'source']).agg({'contact': 'sum'})\n",
    "totals = df_view_total[df_view_total['v.dt']>='2022-02-11'].groupby(['v.dt']).agg({'contact': 'sum'})\n",
    "total_contact_perc = df_contact_gr.div(totals, level='v.dt') * 100\n",
    "total_contact_perc = total_contact_perc.reset_index()\n",
    "\n",
    "df_view_gr = df_view_total[df_view_total['v.dt']>='2022-02-11'].groupby(['v.dt', 'source']).agg({'views': 'sum'})\n",
    "totals = df_view_total[df_view_total['v.dt']>='2022-02-11'].groupby(['v.dt']).agg({'views': 'sum'})\n",
    "total_view_perc = df_view_gr.div(totals, level='v.dt') * 100\n",
    "total_view_perc = total_view_perc.reset_index()\n",
    "\n",
    "\n",
    "\n",
    "df_cr_gr = round(df_view_total[df_view_total['v.dt']>='2022-02-11'].groupby([ 'source']).agg({'cr_users': 'mean'}),2)\n",
    "\n"
   ]
  },
  {
   "cell_type": "code",
   "execution_count": 292,
   "id": "a4cecb47",
   "metadata": {},
   "outputs": [
    {
     "data": {
      "text/html": [
       "<style  type=\"text/css\" >\n",
       "#T_ffdd53de_9c92_11ec_93bf_929d465b543drow0_col0,#T_ffdd53de_9c92_11ec_93bf_929d465b543drow2_col1,#T_ffdd53de_9c92_11ec_93bf_929d465b543drow15_col2{\n",
       "            background-color:  #084081;\n",
       "            color:  #f1f1f1;\n",
       "        }#T_ffdd53de_9c92_11ec_93bf_929d465b543drow0_col1{\n",
       "            background-color:  #42a6cc;\n",
       "            color:  #000000;\n",
       "        }#T_ffdd53de_9c92_11ec_93bf_929d465b543drow0_col2{\n",
       "            background-color:  #e8f6e2;\n",
       "            color:  #000000;\n",
       "        }#T_ffdd53de_9c92_11ec_93bf_929d465b543drow1_col0{\n",
       "            background-color:  #41a5cb;\n",
       "            color:  #000000;\n",
       "        }#T_ffdd53de_9c92_11ec_93bf_929d465b543drow1_col1{\n",
       "            background-color:  #98d7ba;\n",
       "            color:  #000000;\n",
       "        }#T_ffdd53de_9c92_11ec_93bf_929d465b543drow1_col2{\n",
       "            background-color:  #e5f5e0;\n",
       "            color:  #000000;\n",
       "        }#T_ffdd53de_9c92_11ec_93bf_929d465b543drow2_col0{\n",
       "            background-color:  #76c9c6;\n",
       "            color:  #000000;\n",
       "        }#T_ffdd53de_9c92_11ec_93bf_929d465b543drow2_col2{\n",
       "            background-color:  #085497;\n",
       "            color:  #f1f1f1;\n",
       "        }#T_ffdd53de_9c92_11ec_93bf_929d465b543drow3_col0,#T_ffdd53de_9c92_11ec_93bf_929d465b543drow3_col1{\n",
       "            background-color:  #b6e3bb;\n",
       "            color:  #000000;\n",
       "        }#T_ffdd53de_9c92_11ec_93bf_929d465b543drow3_col2{\n",
       "            background-color:  #cbeac4;\n",
       "            color:  #000000;\n",
       "        }#T_ffdd53de_9c92_11ec_93bf_929d465b543drow4_col0{\n",
       "            background-color:  #bee6bf;\n",
       "            color:  #000000;\n",
       "        }#T_ffdd53de_9c92_11ec_93bf_929d465b543drow4_col1{\n",
       "            background-color:  #c2e7c0;\n",
       "            color:  #000000;\n",
       "        }#T_ffdd53de_9c92_11ec_93bf_929d465b543drow4_col2{\n",
       "            background-color:  #ccebc6;\n",
       "            color:  #000000;\n",
       "        }#T_ffdd53de_9c92_11ec_93bf_929d465b543drow5_col0{\n",
       "            background-color:  #bfe6bf;\n",
       "            color:  #000000;\n",
       "        }#T_ffdd53de_9c92_11ec_93bf_929d465b543drow5_col1{\n",
       "            background-color:  #e6f5e0;\n",
       "            color:  #000000;\n",
       "        }#T_ffdd53de_9c92_11ec_93bf_929d465b543drow5_col2,#T_ffdd53de_9c92_11ec_93bf_929d465b543drow16_col0,#T_ffdd53de_9c92_11ec_93bf_929d465b543drow16_col1{\n",
       "            background-color:  #f7fcf0;\n",
       "            color:  #000000;\n",
       "        }#T_ffdd53de_9c92_11ec_93bf_929d465b543drow6_col0{\n",
       "            background-color:  #d3eecd;\n",
       "            color:  #000000;\n",
       "        }#T_ffdd53de_9c92_11ec_93bf_929d465b543drow6_col1{\n",
       "            background-color:  #d5efcf;\n",
       "            color:  #000000;\n",
       "        }#T_ffdd53de_9c92_11ec_93bf_929d465b543drow6_col2{\n",
       "            background-color:  #d4eece;\n",
       "            color:  #000000;\n",
       "        }#T_ffdd53de_9c92_11ec_93bf_929d465b543drow7_col0{\n",
       "            background-color:  #d5eece;\n",
       "            color:  #000000;\n",
       "        }#T_ffdd53de_9c92_11ec_93bf_929d465b543drow7_col1{\n",
       "            background-color:  #3fa2ca;\n",
       "            color:  #000000;\n",
       "        }#T_ffdd53de_9c92_11ec_93bf_929d465b543drow7_col2{\n",
       "            background-color:  #08589b;\n",
       "            color:  #f1f1f1;\n",
       "        }#T_ffdd53de_9c92_11ec_93bf_929d465b543drow8_col0{\n",
       "            background-color:  #daf0d4;\n",
       "            color:  #000000;\n",
       "        }#T_ffdd53de_9c92_11ec_93bf_929d465b543drow8_col1{\n",
       "            background-color:  #e3f4de;\n",
       "            color:  #000000;\n",
       "        }#T_ffdd53de_9c92_11ec_93bf_929d465b543drow8_col2{\n",
       "            background-color:  #e2f4dd;\n",
       "            color:  #000000;\n",
       "        }#T_ffdd53de_9c92_11ec_93bf_929d465b543drow9_col0{\n",
       "            background-color:  #ddf2d8;\n",
       "            color:  #000000;\n",
       "        }#T_ffdd53de_9c92_11ec_93bf_929d465b543drow9_col1{\n",
       "            background-color:  #2484ba;\n",
       "            color:  #000000;\n",
       "        }#T_ffdd53de_9c92_11ec_93bf_929d465b543drow9_col2{\n",
       "            background-color:  #3496c3;\n",
       "            color:  #000000;\n",
       "        }#T_ffdd53de_9c92_11ec_93bf_929d465b543drow10_col0{\n",
       "            background-color:  #e0f3db;\n",
       "            color:  #000000;\n",
       "        }#T_ffdd53de_9c92_11ec_93bf_929d465b543drow10_col1{\n",
       "            background-color:  #b5e2bb;\n",
       "            color:  #000000;\n",
       "        }#T_ffdd53de_9c92_11ec_93bf_929d465b543drow10_col2{\n",
       "            background-color:  #92d5bc;\n",
       "            color:  #000000;\n",
       "        }#T_ffdd53de_9c92_11ec_93bf_929d465b543drow11_col0,#T_ffdd53de_9c92_11ec_93bf_929d465b543drow12_col0,#T_ffdd53de_9c92_11ec_93bf_929d465b543drow13_col0{\n",
       "            background-color:  #f1faeb;\n",
       "            color:  #000000;\n",
       "        }#T_ffdd53de_9c92_11ec_93bf_929d465b543drow11_col1{\n",
       "            background-color:  #ebf7e5;\n",
       "            color:  #000000;\n",
       "        }#T_ffdd53de_9c92_11ec_93bf_929d465b543drow11_col2{\n",
       "            background-color:  #a9ddb5;\n",
       "            color:  #000000;\n",
       "        }#T_ffdd53de_9c92_11ec_93bf_929d465b543drow12_col1{\n",
       "            background-color:  #e9f7e3;\n",
       "            color:  #000000;\n",
       "        }#T_ffdd53de_9c92_11ec_93bf_929d465b543drow12_col2{\n",
       "            background-color:  #47abcf;\n",
       "            color:  #000000;\n",
       "        }#T_ffdd53de_9c92_11ec_93bf_929d465b543drow13_col1{\n",
       "            background-color:  #f4fbed;\n",
       "            color:  #000000;\n",
       "        }#T_ffdd53de_9c92_11ec_93bf_929d465b543drow13_col2{\n",
       "            background-color:  #edf8e7;\n",
       "            color:  #000000;\n",
       "        }#T_ffdd53de_9c92_11ec_93bf_929d465b543drow14_col0,#T_ffdd53de_9c92_11ec_93bf_929d465b543drow16_col2{\n",
       "            background-color:  #f6fbef;\n",
       "            color:  #000000;\n",
       "        }#T_ffdd53de_9c92_11ec_93bf_929d465b543drow14_col1{\n",
       "            background-color:  #eef8e7;\n",
       "            color:  #000000;\n",
       "        }#T_ffdd53de_9c92_11ec_93bf_929d465b543drow14_col2{\n",
       "            background-color:  #0a6aad;\n",
       "            color:  #f1f1f1;\n",
       "        }#T_ffdd53de_9c92_11ec_93bf_929d465b543drow15_col0{\n",
       "            background-color:  #f6fcef;\n",
       "            color:  #000000;\n",
       "        }#T_ffdd53de_9c92_11ec_93bf_929d465b543drow15_col1{\n",
       "            background-color:  #f3fbed;\n",
       "            color:  #000000;\n",
       "        }</style><table id=\"T_ffdd53de_9c92_11ec_93bf_929d465b543d\" ><thead>    <tr>        <th class=\"blank level0\" ></th>        <th class=\"col_heading level0 col0\" >views</th>        <th class=\"col_heading level0 col1\" >contact</th>        <th class=\"col_heading level0 col2\" >cr_users</th>    </tr>    <tr>        <th class=\"index_name level0\" >source</th>        <th class=\"blank\" ></th>        <th class=\"blank\" ></th>        <th class=\"blank\" ></th>    </tr></thead><tbody>\n",
       "                <tr>\n",
       "                        <th id=\"T_ffdd53de_9c92_11ec_93bf_929d465b543dlevel0_row0\" class=\"row_heading level0 row0\" >Сниппеты</th>\n",
       "                        <td id=\"T_ffdd53de_9c92_11ec_93bf_929d465b543drow0_col0\" class=\"data row0 col0\" >24.120000</td>\n",
       "                        <td id=\"T_ffdd53de_9c92_11ec_93bf_929d465b543drow0_col1\" class=\"data row0 col1\" >12.930000</td>\n",
       "                        <td id=\"T_ffdd53de_9c92_11ec_93bf_929d465b543drow0_col2\" class=\"data row0 col2\" >1.650000</td>\n",
       "            </tr>\n",
       "            <tr>\n",
       "                        <th id=\"T_ffdd53de_9c92_11ec_93bf_929d465b543dlevel0_row1\" class=\"row_heading level0 row1\" >Портлеты</th>\n",
       "                        <td id=\"T_ffdd53de_9c92_11ec_93bf_929d465b543drow1_col0\" class=\"data row1 col0\" >16.170000</td>\n",
       "                        <td id=\"T_ffdd53de_9c92_11ec_93bf_929d465b543drow1_col1\" class=\"data row1 col1\" >8.220000</td>\n",
       "                        <td id=\"T_ffdd53de_9c92_11ec_93bf_929d465b543drow1_col2\" class=\"data row1 col2\" >1.810000</td>\n",
       "            </tr>\n",
       "            <tr>\n",
       "                        <th id=\"T_ffdd53de_9c92_11ec_93bf_929d465b543dlevel0_row2\" class=\"row_heading level0 row2\" >Лента ВКО</th>\n",
       "                        <td id=\"T_ffdd53de_9c92_11ec_93bf_929d465b543drow2_col0\" class=\"data row2 col0\" >12.510000</td>\n",
       "                        <td id=\"T_ffdd53de_9c92_11ec_93bf_929d465b543drow2_col1\" class=\"data row2 col1\" >19.440000</td>\n",
       "                        <td id=\"T_ffdd53de_9c92_11ec_93bf_929d465b543drow2_col2\" class=\"data row2 col2\" >10.730000</td>\n",
       "            </tr>\n",
       "            <tr>\n",
       "                        <th id=\"T_ffdd53de_9c92_11ec_93bf_929d465b543dlevel0_row3\" class=\"row_heading level0 row3\" >Похожие товары</th>\n",
       "                        <td id=\"T_ffdd53de_9c92_11ec_93bf_929d465b543drow3_col0\" class=\"data row3 col0\" >8.010000</td>\n",
       "                        <td id=\"T_ffdd53de_9c92_11ec_93bf_929d465b543drow3_col1\" class=\"data row3 col1\" >6.370000</td>\n",
       "                        <td id=\"T_ffdd53de_9c92_11ec_93bf_929d465b543drow3_col2\" class=\"data row3 col2\" >3.460000</td>\n",
       "            </tr>\n",
       "            <tr>\n",
       "                        <th id=\"T_ffdd53de_9c92_11ec_93bf_929d465b543dlevel0_row4\" class=\"row_heading level0 row4\" >Пуш</th>\n",
       "                        <td id=\"T_ffdd53de_9c92_11ec_93bf_929d465b543drow4_col0\" class=\"data row4 col0\" >7.340000</td>\n",
       "                        <td id=\"T_ffdd53de_9c92_11ec_93bf_929d465b543drow4_col1\" class=\"data row4 col1\" >5.630000</td>\n",
       "                        <td id=\"T_ffdd53de_9c92_11ec_93bf_929d465b543drow4_col2\" class=\"data row4 col2\" >3.380000</td>\n",
       "            </tr>\n",
       "            <tr>\n",
       "                        <th id=\"T_ffdd53de_9c92_11ec_93bf_929d465b543dlevel0_row5\" class=\"row_heading level0 row5\" >Лента ВК</th>\n",
       "                        <td id=\"T_ffdd53de_9c92_11ec_93bf_929d465b543drow5_col0\" class=\"data row5 col0\" >7.230000</td>\n",
       "                        <td id=\"T_ffdd53de_9c92_11ec_93bf_929d465b543drow5_col1\" class=\"data row5 col1\" >1.920000</td>\n",
       "                        <td id=\"T_ffdd53de_9c92_11ec_93bf_929d465b543drow5_col2\" class=\"data row5 col2\" >0.740000</td>\n",
       "            </tr>\n",
       "            <tr>\n",
       "                        <th id=\"T_ffdd53de_9c92_11ec_93bf_929d465b543dlevel0_row6\" class=\"row_heading level0 row6\" >Рекламные ссылки</th>\n",
       "                        <td id=\"T_ffdd53de_9c92_11ec_93bf_929d465b543drow6_col0\" class=\"data row6 col0\" >5.030000</td>\n",
       "                        <td id=\"T_ffdd53de_9c92_11ec_93bf_929d465b543drow6_col1\" class=\"data row6 col1\" >3.760000</td>\n",
       "                        <td id=\"T_ffdd53de_9c92_11ec_93bf_929d465b543drow6_col2\" class=\"data row6 col2\" >2.890000</td>\n",
       "            </tr>\n",
       "            <tr>\n",
       "                        <th id=\"T_ffdd53de_9c92_11ec_93bf_929d465b543dlevel0_row7\" class=\"row_heading level0 row7\" >Профиль продавца</th>\n",
       "                        <td id=\"T_ffdd53de_9c92_11ec_93bf_929d465b543drow7_col0\" class=\"data row7 col0\" >4.890000</td>\n",
       "                        <td id=\"T_ffdd53de_9c92_11ec_93bf_929d465b543drow7_col1\" class=\"data row7 col1\" >13.200000</td>\n",
       "                        <td id=\"T_ffdd53de_9c92_11ec_93bf_929d465b543drow7_col2\" class=\"data row7 col2\" >10.580000</td>\n",
       "            </tr>\n",
       "            <tr>\n",
       "                        <th id=\"T_ffdd53de_9c92_11ec_93bf_929d465b543dlevel0_row8\" class=\"row_heading level0 row8\" >Группы</th>\n",
       "                        <td id=\"T_ffdd53de_9c92_11ec_93bf_929d465b543drow8_col0\" class=\"data row8 col0\" >4.180000</td>\n",
       "                        <td id=\"T_ffdd53de_9c92_11ec_93bf_929d465b543drow8_col1\" class=\"data row8 col1\" >2.200000</td>\n",
       "                        <td id=\"T_ffdd53de_9c92_11ec_93bf_929d465b543drow8_col2\" class=\"data row8 col2\" >1.950000</td>\n",
       "            </tr>\n",
       "            <tr>\n",
       "                        <th id=\"T_ffdd53de_9c92_11ec_93bf_929d465b543dlevel0_row9\" class=\"row_heading level0 row9\" >Неизвестно</th>\n",
       "                        <td id=\"T_ffdd53de_9c92_11ec_93bf_929d465b543drow9_col0\" class=\"data row9 col0\" >3.620000</td>\n",
       "                        <td id=\"T_ffdd53de_9c92_11ec_93bf_929d465b543drow9_col1\" class=\"data row9 col1\" >15.100000</td>\n",
       "                        <td id=\"T_ffdd53de_9c92_11ec_93bf_929d465b543drow9_col2\" class=\"data row9 col2\" >8.380000</td>\n",
       "            </tr>\n",
       "            <tr>\n",
       "                        <th id=\"T_ffdd53de_9c92_11ec_93bf_929d465b543dlevel0_row10\" class=\"row_heading level0 row10\" >Остальные</th>\n",
       "                        <td id=\"T_ffdd53de_9c92_11ec_93bf_929d465b543drow10_col0\" class=\"data row10 col0\" >3.190000</td>\n",
       "                        <td id=\"T_ffdd53de_9c92_11ec_93bf_929d465b543drow10_col1\" class=\"data row10 col1\" >6.470000</td>\n",
       "                        <td id=\"T_ffdd53de_9c92_11ec_93bf_929d465b543drow10_col2\" class=\"data row10 col2\" >5.390000</td>\n",
       "            </tr>\n",
       "            <tr>\n",
       "                        <th id=\"T_ffdd53de_9c92_11ec_93bf_929d465b543dlevel0_row11\" class=\"row_heading level0 row11\" >Карусели</th>\n",
       "                        <td id=\"T_ffdd53de_9c92_11ec_93bf_929d465b543drow11_col0\" class=\"data row11 col0\" >0.980000</td>\n",
       "                        <td id=\"T_ffdd53de_9c92_11ec_93bf_929d465b543drow11_col1\" class=\"data row11 col1\" >1.310000</td>\n",
       "                        <td id=\"T_ffdd53de_9c92_11ec_93bf_929d465b543drow11_col2\" class=\"data row11 col2\" >4.740000</td>\n",
       "            </tr>\n",
       "            <tr>\n",
       "                        <th id=\"T_ffdd53de_9c92_11ec_93bf_929d465b543dlevel0_row12\" class=\"row_heading level0 row12\" >Поиск ВК</th>\n",
       "                        <td id=\"T_ffdd53de_9c92_11ec_93bf_929d465b543drow12_col0\" class=\"data row12 col0\" >0.970000</td>\n",
       "                        <td id=\"T_ffdd53de_9c92_11ec_93bf_929d465b543drow12_col1\" class=\"data row12 col1\" >1.480000</td>\n",
       "                        <td id=\"T_ffdd53de_9c92_11ec_93bf_929d465b543drow12_col2\" class=\"data row12 col2\" >7.670000</td>\n",
       "            </tr>\n",
       "            <tr>\n",
       "                        <th id=\"T_ffdd53de_9c92_11ec_93bf_929d465b543dlevel0_row13\" class=\"row_heading level0 row13\" >Антибарахолки</th>\n",
       "                        <td id=\"T_ffdd53de_9c92_11ec_93bf_929d465b543drow13_col0\" class=\"data row13 col0\" >0.930000</td>\n",
       "                        <td id=\"T_ffdd53de_9c92_11ec_93bf_929d465b543drow13_col1\" class=\"data row13 col1\" >0.400000</td>\n",
       "                        <td id=\"T_ffdd53de_9c92_11ec_93bf_929d465b543drow13_col2\" class=\"data row13 col2\" >1.340000</td>\n",
       "            </tr>\n",
       "            <tr>\n",
       "                        <th id=\"T_ffdd53de_9c92_11ec_93bf_929d465b543dlevel0_row14\" class=\"row_heading level0 row14\" >Закладки</th>\n",
       "                        <td id=\"T_ffdd53de_9c92_11ec_93bf_929d465b543drow14_col0\" class=\"data row14 col0\" >0.390000</td>\n",
       "                        <td id=\"T_ffdd53de_9c92_11ec_93bf_929d465b543drow14_col1\" class=\"data row14 col1\" >1.050000</td>\n",
       "                        <td id=\"T_ffdd53de_9c92_11ec_93bf_929d465b543drow14_col2\" class=\"data row14 col2\" >9.980000</td>\n",
       "            </tr>\n",
       "            <tr>\n",
       "                        <th id=\"T_ffdd53de_9c92_11ec_93bf_929d465b543dlevel0_row15\" class=\"row_heading level0 row15\" >Подписки</th>\n",
       "                        <td id=\"T_ffdd53de_9c92_11ec_93bf_929d465b543drow15_col0\" class=\"data row15 col0\" >0.270000</td>\n",
       "                        <td id=\"T_ffdd53de_9c92_11ec_93bf_929d465b543drow15_col1\" class=\"data row15 col1\" >0.490000</td>\n",
       "                        <td id=\"T_ffdd53de_9c92_11ec_93bf_929d465b543drow15_col2\" class=\"data row15 col2\" >11.410000</td>\n",
       "            </tr>\n",
       "            <tr>\n",
       "                        <th id=\"T_ffdd53de_9c92_11ec_93bf_929d465b543dlevel0_row16\" class=\"row_heading level0 row16\" >Антибарахолки портлеты</th>\n",
       "                        <td id=\"T_ffdd53de_9c92_11ec_93bf_929d465b543drow16_col0\" class=\"data row16 col0\" >0.160000</td>\n",
       "                        <td id=\"T_ffdd53de_9c92_11ec_93bf_929d465b543drow16_col1\" class=\"data row16 col1\" >0.040000</td>\n",
       "                        <td id=\"T_ffdd53de_9c92_11ec_93bf_929d465b543drow16_col2\" class=\"data row16 col2\" >0.830000</td>\n",
       "            </tr>\n",
       "    </tbody></table>"
      ],
      "text/plain": [
       "<pandas.io.formats.style.Styler at 0x7fb7d4c801d0>"
      ]
     },
     "execution_count": 292,
     "metadata": {},
     "output_type": "execute_result"
    }
   ],
   "source": [
    "total_view_perc = round(total_view_perc.groupby('source').agg({'views': 'mean'}).sort_values(by='views',ascending=False),2)\n",
    "total_contact_perc = round(total_contact_perc.groupby('source').agg({'contact': 'mean'}).sort_values(by='contact',ascending=False),2)\n",
    "\n",
    "# cmap=sns.diverging_palette(5, 250, as_cmap=True)\n",
    "\n",
    "total_view_perc.merge(total_contact_perc,how='left',on='source').merge(df_cr_gr,on='source').style.background_gradient(cmap='GnBu', axis=0)\n",
    "\n",
    "\n",
    "\n"
   ]
  },
  {
   "cell_type": "markdown",
   "id": "82498d24",
   "metadata": {},
   "source": [
    "## Сниппеты"
   ]
  },
  {
   "cell_type": "code",
   "execution_count": 313,
   "id": "84fac1ed",
   "metadata": {},
   "outputs": [],
   "source": [
    "df_view_snippet = sql_to_df(\"\"\" \n",
    "\n",
    "select dt, \n",
    "    case when screen like 'feed%' then 'feed' else 'group' end as screen,\n",
    "    --vk_platform,\n",
    "    count(distinct event_id) cnt ,\n",
    "    count(distinct user_id) users,\n",
    "    count(distinct product_id) prods\n",
    "from (\n",
    "select coalesce( sender_id,client_user_id) user_id,\n",
    "    event_id,\n",
    "    product_id,\n",
    "    CASE\n",
    "        WHEN lower(client_agent) LIKE '%android%' THEN 'android'\n",
    "        WHEN lower(client_agent) like '%iphone%' or lower(client_agent) like '%ios%' THEN 'ios'\n",
    "        ELSE 'other'\n",
    "    END AS vk_platform,\n",
    "    search_type as screen,\n",
    "    dt\n",
    "from topics.y_user_product_counter_new m \n",
    "where dt>='2022-01-05' and dt<='2022-01-20'\n",
    "  and event_name='prod.view'\n",
    "  and coalesce(client_platform,platform)='vk_mini_app'\n",
    "  and (search_type like 'group%' or search_type like 'feed%')\n",
    "  and vk_source like 'wall%' \n",
    "\n",
    "union all\n",
    "\n",
    "select  vk.user_id,\n",
    "    concat(c.user_id,youla_item_id,time) event_id,\n",
    "    youla_item_id as product_id,\n",
    "    vk_platform,\n",
    "    screen,\n",
    "    c.dt\n",
    "FROM topics.youla_vk_to_youla_pa2p_all_events c\n",
    "join aggregations.cpa_vk_ids_by_dt vk on vk.dt=c.dt and vk.vk_id=c.user_id\n",
    "WHERE c.dt>='2022-01-05' and c.dt<='2022-01-20'\n",
    "    and event = 'transition_to_item'\n",
    "    and content_type = 'wall'\n",
    "    and (screen like 'group%' or screen like 'feed%')\n",
    "    and vk_platform='web2'\n",
    ") t \n",
    "group by dt\n",
    "    , case when screen like 'feed%' then 'feed' else 'group' end\n",
    "    --,vk_platform\n",
    "    -- case when vk_platform like 'android' then 'android'\n",
    "    --     when (vk_platform like 'ios' or vk_platform like 'iphone' or vk_platform like 'ipad') then 'ios'\n",
    "    --     when (vk_platform like 'web' or vk_platform like 'web2') then 'web' \n",
    "    -- end \n",
    "\n",
    "\n",
    "\"\"\",con)"
   ]
  },
  {
   "cell_type": "code",
   "execution_count": 314,
   "id": "e80a38d7",
   "metadata": {},
   "outputs": [],
   "source": [
    "df_view_snippet=df_view_snippet.sort_values('dt')\n",
    "\n",
    "fig = px.line(df_view_snippet, x=\"dt\", y=\"cnt\",color='screen',title='Просмотры из сниппетов (прил+веб)')\n",
    "fig.show()"
   ]
  },
  {
   "cell_type": "code",
   "execution_count": 320,
   "id": "7d5a946d",
   "metadata": {},
   "outputs": [],
   "source": [
    "df_contact_snippet = sql_to_df(\"\"\" \n",
    "select dt,\n",
    "    case when search_type like 'group%' then 'group' else 'feed' end search_type,\n",
    "    count(distinct event_id) cnt,\n",
    "    count(distinct user_id) users,\n",
    "    count(distinct product_id) prods\n",
    "from (\n",
    "select c.*, search_type\n",
    "from (select coalesce( sender_id,client_user_id) user_id,\n",
    "    event_id,\n",
    "    product_id,\n",
    "    CASE\n",
    "        WHEN lower(client_agent) LIKE '%android%' THEN 'android'\n",
    "        WHEN lower(client_agent) like '%iphone%' THEN 'ios'\n",
    "        ELSE 'other'\n",
    "    END AS vk_platform,\n",
    "    dt\n",
    "from topics.y_user_user_counter\n",
    "where dt>='2022-01-05' and dt<='2022-01-20'\n",
    "  and event_name in ('usr.presscall','chat.first_message')\n",
    "  and coalesce(client_platform,platform) in ('vk','vk_mini_app')\n",
    "  and get_json_object(sources,'$.previous.screen')='snippet'\n",
    "  ) c\n",
    "join (\n",
    "select user_id,\n",
    "    product_id,\n",
    "    dt,\n",
    "    max(search_type) search_type\n",
    "from (select coalesce( sender_id,client_user_id) user_id,\n",
    "        FIRST_VALUE(search_type) over(partition by dt, coalesce(client_user_id,sender_id),product_id order by event_timestamp) search_type,\n",
    "        product_id,\n",
    "        dt\n",
    "from topics.y_user_product_counter_new m \n",
    "where dt>='2022-01-05' and dt<='2022-01-20'\n",
    "  and event_name='prod.view'\n",
    "  and coalesce(client_platform,platform)='vk_mini_app'\n",
    "  and (search_type like 'group%' or search_type like 'feed%')\n",
    "  and vk_source like 'wall%'\n",
    "      )v\n",
    "group by user_id,\n",
    "    product_id,\n",
    "    dt\n",
    "  ) v on v.user_id=c.user_id and v.dt=c.dt and c.product_id=v.product_id\n",
    "\n",
    "union all\n",
    "\n",
    "select vk.user_id,\n",
    "    event_id,\n",
    "    c.product_id,\n",
    "    vk_platform,\n",
    "    c.dt,\n",
    "    search_type\n",
    "from (select user_id,\n",
    "    concat(user_id,youla_item_id,time) event_id,\n",
    "    youla_item_id as product_id,\n",
    "    vk_platform,\n",
    "    dt\n",
    "FROM topics.youla_vk_to_youla_pa2p_all_events\n",
    "WHERE dt>='2022-01-05' and dt<='2022-01-20'\n",
    "    and event in ('send_message','show_phone_click')\n",
    "    and screen like 'group%'\n",
    "    and vk_platform='web2') c\n",
    "join aggregations.cpa_vk_ids_by_dt vk on vk.dt=c.dt and vk.vk_id=c.user_id\n",
    "join (\n",
    "select user_id, product_id,dt, max(search_type) search_type\n",
    "from (select user_id,\n",
    "    FIRST_VALUE(screen) over(partition by dt, user_id,youla_item_id order by time) search_type,   \n",
    "    youla_item_id as product_id,\n",
    "    dt\n",
    "FROM topics.youla_vk_to_youla_pa2p_all_events\n",
    "WHERE dt>='2022-01-05' and dt<='2022-01-20'\n",
    "    and event = 'transition_to_item'\n",
    "    and content_type = 'wall'\n",
    "    and (screen like 'group%' or screen like 'feed%')\n",
    "    and vk_platform='web2'\n",
    "    )  v \n",
    "group by user_id, product_id,dt\n",
    "    ) v on v.user_id=c.user_id and v.dt=c.dt and c.product_id=v.product_id ) t\n",
    "group by dt\n",
    "  , case when search_type like 'group%' then 'group' else 'feed' end\n",
    "\n",
    "\"\"\",con)"
   ]
  },
  {
   "cell_type": "code",
   "execution_count": 321,
   "id": "fb5cd282",
   "metadata": {},
   "outputs": [
    {
     "data": {
      "application/vnd.plotly.v1+json": {
       "config": {
        "plotlyServerURL": "https://plot.ly"
       },
       "data": [
        {
         "hovertemplate": "search_type=group<br>dt=%{x}<br>cnt=%{y}<extra></extra>",
         "legendgroup": "group",
         "line": {
          "color": "#636efa",
          "dash": "solid"
         },
         "marker": {
          "symbol": "circle"
         },
         "mode": "lines",
         "name": "group",
         "orientation": "v",
         "showlegend": true,
         "type": "scatter",
         "x": [
          "2022-01-05",
          "2022-01-06",
          "2022-01-07",
          "2022-01-08",
          "2022-01-09",
          "2022-01-10",
          "2022-01-11",
          "2022-01-12",
          "2022-01-13",
          "2022-01-14",
          "2022-01-15",
          "2022-01-16",
          "2022-01-17",
          "2022-01-18",
          "2022-01-19",
          "2022-01-20"
         ],
         "xaxis": "x",
         "y": [
          4953,
          5008,
          4602,
          4970,
          5579,
          5374,
          5449,
          4980,
          4703,
          4519,
          4481,
          4876,
          4822,
          4741,
          4852,
          4924
         ],
         "yaxis": "y"
        },
        {
         "hovertemplate": "search_type=feed<br>dt=%{x}<br>cnt=%{y}<extra></extra>",
         "legendgroup": "feed",
         "line": {
          "color": "#EF553B",
          "dash": "solid"
         },
         "marker": {
          "symbol": "circle"
         },
         "mode": "lines",
         "name": "feed",
         "orientation": "v",
         "showlegend": true,
         "type": "scatter",
         "x": [
          "2022-01-05",
          "2022-01-06",
          "2022-01-07",
          "2022-01-08",
          "2022-01-09",
          "2022-01-10",
          "2022-01-11",
          "2022-01-12",
          "2022-01-13",
          "2022-01-14",
          "2022-01-15",
          "2022-01-16",
          "2022-01-17",
          "2022-01-18",
          "2022-01-19",
          "2022-01-20"
         ],
         "xaxis": "x",
         "y": [
          3644,
          3273,
          3434,
          3515,
          3860,
          3672,
          3815,
          3441,
          3461,
          2861,
          2741,
          3029,
          3078,
          3166,
          2779,
          2721
         ],
         "yaxis": "y"
        }
       ],
       "layout": {
        "legend": {
         "title": {
          "text": "search_type"
         },
         "tracegroupgap": 0
        },
        "template": {
         "data": {
          "bar": [
           {
            "error_x": {
             "color": "#2a3f5f"
            },
            "error_y": {
             "color": "#2a3f5f"
            },
            "marker": {
             "line": {
              "color": "#E5ECF6",
              "width": 0.5
             },
             "pattern": {
              "fillmode": "overlay",
              "size": 10,
              "solidity": 0.2
             }
            },
            "type": "bar"
           }
          ],
          "barpolar": [
           {
            "marker": {
             "line": {
              "color": "#E5ECF6",
              "width": 0.5
             },
             "pattern": {
              "fillmode": "overlay",
              "size": 10,
              "solidity": 0.2
             }
            },
            "type": "barpolar"
           }
          ],
          "carpet": [
           {
            "aaxis": {
             "endlinecolor": "#2a3f5f",
             "gridcolor": "white",
             "linecolor": "white",
             "minorgridcolor": "white",
             "startlinecolor": "#2a3f5f"
            },
            "baxis": {
             "endlinecolor": "#2a3f5f",
             "gridcolor": "white",
             "linecolor": "white",
             "minorgridcolor": "white",
             "startlinecolor": "#2a3f5f"
            },
            "type": "carpet"
           }
          ],
          "choropleth": [
           {
            "colorbar": {
             "outlinewidth": 0,
             "ticks": ""
            },
            "type": "choropleth"
           }
          ],
          "contour": [
           {
            "colorbar": {
             "outlinewidth": 0,
             "ticks": ""
            },
            "colorscale": [
             [
              0,
              "#0d0887"
             ],
             [
              0.1111111111111111,
              "#46039f"
             ],
             [
              0.2222222222222222,
              "#7201a8"
             ],
             [
              0.3333333333333333,
              "#9c179e"
             ],
             [
              0.4444444444444444,
              "#bd3786"
             ],
             [
              0.5555555555555556,
              "#d8576b"
             ],
             [
              0.6666666666666666,
              "#ed7953"
             ],
             [
              0.7777777777777778,
              "#fb9f3a"
             ],
             [
              0.8888888888888888,
              "#fdca26"
             ],
             [
              1,
              "#f0f921"
             ]
            ],
            "type": "contour"
           }
          ],
          "contourcarpet": [
           {
            "colorbar": {
             "outlinewidth": 0,
             "ticks": ""
            },
            "type": "contourcarpet"
           }
          ],
          "heatmap": [
           {
            "colorbar": {
             "outlinewidth": 0,
             "ticks": ""
            },
            "colorscale": [
             [
              0,
              "#0d0887"
             ],
             [
              0.1111111111111111,
              "#46039f"
             ],
             [
              0.2222222222222222,
              "#7201a8"
             ],
             [
              0.3333333333333333,
              "#9c179e"
             ],
             [
              0.4444444444444444,
              "#bd3786"
             ],
             [
              0.5555555555555556,
              "#d8576b"
             ],
             [
              0.6666666666666666,
              "#ed7953"
             ],
             [
              0.7777777777777778,
              "#fb9f3a"
             ],
             [
              0.8888888888888888,
              "#fdca26"
             ],
             [
              1,
              "#f0f921"
             ]
            ],
            "type": "heatmap"
           }
          ],
          "heatmapgl": [
           {
            "colorbar": {
             "outlinewidth": 0,
             "ticks": ""
            },
            "colorscale": [
             [
              0,
              "#0d0887"
             ],
             [
              0.1111111111111111,
              "#46039f"
             ],
             [
              0.2222222222222222,
              "#7201a8"
             ],
             [
              0.3333333333333333,
              "#9c179e"
             ],
             [
              0.4444444444444444,
              "#bd3786"
             ],
             [
              0.5555555555555556,
              "#d8576b"
             ],
             [
              0.6666666666666666,
              "#ed7953"
             ],
             [
              0.7777777777777778,
              "#fb9f3a"
             ],
             [
              0.8888888888888888,
              "#fdca26"
             ],
             [
              1,
              "#f0f921"
             ]
            ],
            "type": "heatmapgl"
           }
          ],
          "histogram": [
           {
            "marker": {
             "pattern": {
              "fillmode": "overlay",
              "size": 10,
              "solidity": 0.2
             }
            },
            "type": "histogram"
           }
          ],
          "histogram2d": [
           {
            "colorbar": {
             "outlinewidth": 0,
             "ticks": ""
            },
            "colorscale": [
             [
              0,
              "#0d0887"
             ],
             [
              0.1111111111111111,
              "#46039f"
             ],
             [
              0.2222222222222222,
              "#7201a8"
             ],
             [
              0.3333333333333333,
              "#9c179e"
             ],
             [
              0.4444444444444444,
              "#bd3786"
             ],
             [
              0.5555555555555556,
              "#d8576b"
             ],
             [
              0.6666666666666666,
              "#ed7953"
             ],
             [
              0.7777777777777778,
              "#fb9f3a"
             ],
             [
              0.8888888888888888,
              "#fdca26"
             ],
             [
              1,
              "#f0f921"
             ]
            ],
            "type": "histogram2d"
           }
          ],
          "histogram2dcontour": [
           {
            "colorbar": {
             "outlinewidth": 0,
             "ticks": ""
            },
            "colorscale": [
             [
              0,
              "#0d0887"
             ],
             [
              0.1111111111111111,
              "#46039f"
             ],
             [
              0.2222222222222222,
              "#7201a8"
             ],
             [
              0.3333333333333333,
              "#9c179e"
             ],
             [
              0.4444444444444444,
              "#bd3786"
             ],
             [
              0.5555555555555556,
              "#d8576b"
             ],
             [
              0.6666666666666666,
              "#ed7953"
             ],
             [
              0.7777777777777778,
              "#fb9f3a"
             ],
             [
              0.8888888888888888,
              "#fdca26"
             ],
             [
              1,
              "#f0f921"
             ]
            ],
            "type": "histogram2dcontour"
           }
          ],
          "mesh3d": [
           {
            "colorbar": {
             "outlinewidth": 0,
             "ticks": ""
            },
            "type": "mesh3d"
           }
          ],
          "parcoords": [
           {
            "line": {
             "colorbar": {
              "outlinewidth": 0,
              "ticks": ""
             }
            },
            "type": "parcoords"
           }
          ],
          "pie": [
           {
            "automargin": true,
            "type": "pie"
           }
          ],
          "scatter": [
           {
            "marker": {
             "colorbar": {
              "outlinewidth": 0,
              "ticks": ""
             }
            },
            "type": "scatter"
           }
          ],
          "scatter3d": [
           {
            "line": {
             "colorbar": {
              "outlinewidth": 0,
              "ticks": ""
             }
            },
            "marker": {
             "colorbar": {
              "outlinewidth": 0,
              "ticks": ""
             }
            },
            "type": "scatter3d"
           }
          ],
          "scattercarpet": [
           {
            "marker": {
             "colorbar": {
              "outlinewidth": 0,
              "ticks": ""
             }
            },
            "type": "scattercarpet"
           }
          ],
          "scattergeo": [
           {
            "marker": {
             "colorbar": {
              "outlinewidth": 0,
              "ticks": ""
             }
            },
            "type": "scattergeo"
           }
          ],
          "scattergl": [
           {
            "marker": {
             "colorbar": {
              "outlinewidth": 0,
              "ticks": ""
             }
            },
            "type": "scattergl"
           }
          ],
          "scattermapbox": [
           {
            "marker": {
             "colorbar": {
              "outlinewidth": 0,
              "ticks": ""
             }
            },
            "type": "scattermapbox"
           }
          ],
          "scatterpolar": [
           {
            "marker": {
             "colorbar": {
              "outlinewidth": 0,
              "ticks": ""
             }
            },
            "type": "scatterpolar"
           }
          ],
          "scatterpolargl": [
           {
            "marker": {
             "colorbar": {
              "outlinewidth": 0,
              "ticks": ""
             }
            },
            "type": "scatterpolargl"
           }
          ],
          "scatterternary": [
           {
            "marker": {
             "colorbar": {
              "outlinewidth": 0,
              "ticks": ""
             }
            },
            "type": "scatterternary"
           }
          ],
          "surface": [
           {
            "colorbar": {
             "outlinewidth": 0,
             "ticks": ""
            },
            "colorscale": [
             [
              0,
              "#0d0887"
             ],
             [
              0.1111111111111111,
              "#46039f"
             ],
             [
              0.2222222222222222,
              "#7201a8"
             ],
             [
              0.3333333333333333,
              "#9c179e"
             ],
             [
              0.4444444444444444,
              "#bd3786"
             ],
             [
              0.5555555555555556,
              "#d8576b"
             ],
             [
              0.6666666666666666,
              "#ed7953"
             ],
             [
              0.7777777777777778,
              "#fb9f3a"
             ],
             [
              0.8888888888888888,
              "#fdca26"
             ],
             [
              1,
              "#f0f921"
             ]
            ],
            "type": "surface"
           }
          ],
          "table": [
           {
            "cells": {
             "fill": {
              "color": "#EBF0F8"
             },
             "line": {
              "color": "white"
             }
            },
            "header": {
             "fill": {
              "color": "#C8D4E3"
             },
             "line": {
              "color": "white"
             }
            },
            "type": "table"
           }
          ]
         },
         "layout": {
          "annotationdefaults": {
           "arrowcolor": "#2a3f5f",
           "arrowhead": 0,
           "arrowwidth": 1
          },
          "autotypenumbers": "strict",
          "coloraxis": {
           "colorbar": {
            "outlinewidth": 0,
            "ticks": ""
           }
          },
          "colorscale": {
           "diverging": [
            [
             0,
             "#8e0152"
            ],
            [
             0.1,
             "#c51b7d"
            ],
            [
             0.2,
             "#de77ae"
            ],
            [
             0.3,
             "#f1b6da"
            ],
            [
             0.4,
             "#fde0ef"
            ],
            [
             0.5,
             "#f7f7f7"
            ],
            [
             0.6,
             "#e6f5d0"
            ],
            [
             0.7,
             "#b8e186"
            ],
            [
             0.8,
             "#7fbc41"
            ],
            [
             0.9,
             "#4d9221"
            ],
            [
             1,
             "#276419"
            ]
           ],
           "sequential": [
            [
             0,
             "#0d0887"
            ],
            [
             0.1111111111111111,
             "#46039f"
            ],
            [
             0.2222222222222222,
             "#7201a8"
            ],
            [
             0.3333333333333333,
             "#9c179e"
            ],
            [
             0.4444444444444444,
             "#bd3786"
            ],
            [
             0.5555555555555556,
             "#d8576b"
            ],
            [
             0.6666666666666666,
             "#ed7953"
            ],
            [
             0.7777777777777778,
             "#fb9f3a"
            ],
            [
             0.8888888888888888,
             "#fdca26"
            ],
            [
             1,
             "#f0f921"
            ]
           ],
           "sequentialminus": [
            [
             0,
             "#0d0887"
            ],
            [
             0.1111111111111111,
             "#46039f"
            ],
            [
             0.2222222222222222,
             "#7201a8"
            ],
            [
             0.3333333333333333,
             "#9c179e"
            ],
            [
             0.4444444444444444,
             "#bd3786"
            ],
            [
             0.5555555555555556,
             "#d8576b"
            ],
            [
             0.6666666666666666,
             "#ed7953"
            ],
            [
             0.7777777777777778,
             "#fb9f3a"
            ],
            [
             0.8888888888888888,
             "#fdca26"
            ],
            [
             1,
             "#f0f921"
            ]
           ]
          },
          "colorway": [
           "#636efa",
           "#EF553B",
           "#00cc96",
           "#ab63fa",
           "#FFA15A",
           "#19d3f3",
           "#FF6692",
           "#B6E880",
           "#FF97FF",
           "#FECB52"
          ],
          "font": {
           "color": "#2a3f5f"
          },
          "geo": {
           "bgcolor": "white",
           "lakecolor": "white",
           "landcolor": "#E5ECF6",
           "showlakes": true,
           "showland": true,
           "subunitcolor": "white"
          },
          "hoverlabel": {
           "align": "left"
          },
          "hovermode": "closest",
          "mapbox": {
           "style": "light"
          },
          "paper_bgcolor": "white",
          "plot_bgcolor": "#E5ECF6",
          "polar": {
           "angularaxis": {
            "gridcolor": "white",
            "linecolor": "white",
            "ticks": ""
           },
           "bgcolor": "#E5ECF6",
           "radialaxis": {
            "gridcolor": "white",
            "linecolor": "white",
            "ticks": ""
           }
          },
          "scene": {
           "xaxis": {
            "backgroundcolor": "#E5ECF6",
            "gridcolor": "white",
            "gridwidth": 2,
            "linecolor": "white",
            "showbackground": true,
            "ticks": "",
            "zerolinecolor": "white"
           },
           "yaxis": {
            "backgroundcolor": "#E5ECF6",
            "gridcolor": "white",
            "gridwidth": 2,
            "linecolor": "white",
            "showbackground": true,
            "ticks": "",
            "zerolinecolor": "white"
           },
           "zaxis": {
            "backgroundcolor": "#E5ECF6",
            "gridcolor": "white",
            "gridwidth": 2,
            "linecolor": "white",
            "showbackground": true,
            "ticks": "",
            "zerolinecolor": "white"
           }
          },
          "shapedefaults": {
           "line": {
            "color": "#2a3f5f"
           }
          },
          "ternary": {
           "aaxis": {
            "gridcolor": "white",
            "linecolor": "white",
            "ticks": ""
           },
           "baxis": {
            "gridcolor": "white",
            "linecolor": "white",
            "ticks": ""
           },
           "bgcolor": "#E5ECF6",
           "caxis": {
            "gridcolor": "white",
            "linecolor": "white",
            "ticks": ""
           }
          },
          "title": {
           "x": 0.05
          },
          "xaxis": {
           "automargin": true,
           "gridcolor": "white",
           "linecolor": "white",
           "ticks": "",
           "title": {
            "standoff": 15
           },
           "zerolinecolor": "white",
           "zerolinewidth": 2
          },
          "yaxis": {
           "automargin": true,
           "gridcolor": "white",
           "linecolor": "white",
           "ticks": "",
           "title": {
            "standoff": 15
           },
           "zerolinecolor": "white",
           "zerolinewidth": 2
          }
         }
        },
        "title": {
         "text": "Контакты из сниппетов (прил+веб)"
        },
        "xaxis": {
         "anchor": "y",
         "domain": [
          0,
          1
         ],
         "title": {
          "text": "dt"
         }
        },
        "yaxis": {
         "anchor": "x",
         "domain": [
          0,
          1
         ],
         "title": {
          "text": "cnt"
         }
        }
       }
      },
      "text/html": [
       "<div>                            <div id=\"6a3fc13a-769c-4269-8880-022efd91a3cc\" class=\"plotly-graph-div\" style=\"height:525px; width:100%;\"></div>            <script type=\"text/javascript\">                require([\"plotly\"], function(Plotly) {                    window.PLOTLYENV=window.PLOTLYENV || {};                                    if (document.getElementById(\"6a3fc13a-769c-4269-8880-022efd91a3cc\")) {                    Plotly.newPlot(                        \"6a3fc13a-769c-4269-8880-022efd91a3cc\",                        [{\"hovertemplate\":\"search_type=group<br>dt=%{x}<br>cnt=%{y}<extra></extra>\",\"legendgroup\":\"group\",\"line\":{\"color\":\"#636efa\",\"dash\":\"solid\"},\"marker\":{\"symbol\":\"circle\"},\"mode\":\"lines\",\"name\":\"group\",\"orientation\":\"v\",\"showlegend\":true,\"type\":\"scatter\",\"x\":[\"2022-01-05\",\"2022-01-06\",\"2022-01-07\",\"2022-01-08\",\"2022-01-09\",\"2022-01-10\",\"2022-01-11\",\"2022-01-12\",\"2022-01-13\",\"2022-01-14\",\"2022-01-15\",\"2022-01-16\",\"2022-01-17\",\"2022-01-18\",\"2022-01-19\",\"2022-01-20\"],\"xaxis\":\"x\",\"y\":[4953,5008,4602,4970,5579,5374,5449,4980,4703,4519,4481,4876,4822,4741,4852,4924],\"yaxis\":\"y\"},{\"hovertemplate\":\"search_type=feed<br>dt=%{x}<br>cnt=%{y}<extra></extra>\",\"legendgroup\":\"feed\",\"line\":{\"color\":\"#EF553B\",\"dash\":\"solid\"},\"marker\":{\"symbol\":\"circle\"},\"mode\":\"lines\",\"name\":\"feed\",\"orientation\":\"v\",\"showlegend\":true,\"type\":\"scatter\",\"x\":[\"2022-01-05\",\"2022-01-06\",\"2022-01-07\",\"2022-01-08\",\"2022-01-09\",\"2022-01-10\",\"2022-01-11\",\"2022-01-12\",\"2022-01-13\",\"2022-01-14\",\"2022-01-15\",\"2022-01-16\",\"2022-01-17\",\"2022-01-18\",\"2022-01-19\",\"2022-01-20\"],\"xaxis\":\"x\",\"y\":[3644,3273,3434,3515,3860,3672,3815,3441,3461,2861,2741,3029,3078,3166,2779,2721],\"yaxis\":\"y\"}],                        {\"legend\":{\"title\":{\"text\":\"search_type\"},\"tracegroupgap\":0},\"template\":{\"data\":{\"bar\":[{\"error_x\":{\"color\":\"#2a3f5f\"},\"error_y\":{\"color\":\"#2a3f5f\"},\"marker\":{\"line\":{\"color\":\"#E5ECF6\",\"width\":0.5},\"pattern\":{\"fillmode\":\"overlay\",\"size\":10,\"solidity\":0.2}},\"type\":\"bar\"}],\"barpolar\":[{\"marker\":{\"line\":{\"color\":\"#E5ECF6\",\"width\":0.5},\"pattern\":{\"fillmode\":\"overlay\",\"size\":10,\"solidity\":0.2}},\"type\":\"barpolar\"}],\"carpet\":[{\"aaxis\":{\"endlinecolor\":\"#2a3f5f\",\"gridcolor\":\"white\",\"linecolor\":\"white\",\"minorgridcolor\":\"white\",\"startlinecolor\":\"#2a3f5f\"},\"baxis\":{\"endlinecolor\":\"#2a3f5f\",\"gridcolor\":\"white\",\"linecolor\":\"white\",\"minorgridcolor\":\"white\",\"startlinecolor\":\"#2a3f5f\"},\"type\":\"carpet\"}],\"choropleth\":[{\"colorbar\":{\"outlinewidth\":0,\"ticks\":\"\"},\"type\":\"choropleth\"}],\"contour\":[{\"colorbar\":{\"outlinewidth\":0,\"ticks\":\"\"},\"colorscale\":[[0.0,\"#0d0887\"],[0.1111111111111111,\"#46039f\"],[0.2222222222222222,\"#7201a8\"],[0.3333333333333333,\"#9c179e\"],[0.4444444444444444,\"#bd3786\"],[0.5555555555555556,\"#d8576b\"],[0.6666666666666666,\"#ed7953\"],[0.7777777777777778,\"#fb9f3a\"],[0.8888888888888888,\"#fdca26\"],[1.0,\"#f0f921\"]],\"type\":\"contour\"}],\"contourcarpet\":[{\"colorbar\":{\"outlinewidth\":0,\"ticks\":\"\"},\"type\":\"contourcarpet\"}],\"heatmap\":[{\"colorbar\":{\"outlinewidth\":0,\"ticks\":\"\"},\"colorscale\":[[0.0,\"#0d0887\"],[0.1111111111111111,\"#46039f\"],[0.2222222222222222,\"#7201a8\"],[0.3333333333333333,\"#9c179e\"],[0.4444444444444444,\"#bd3786\"],[0.5555555555555556,\"#d8576b\"],[0.6666666666666666,\"#ed7953\"],[0.7777777777777778,\"#fb9f3a\"],[0.8888888888888888,\"#fdca26\"],[1.0,\"#f0f921\"]],\"type\":\"heatmap\"}],\"heatmapgl\":[{\"colorbar\":{\"outlinewidth\":0,\"ticks\":\"\"},\"colorscale\":[[0.0,\"#0d0887\"],[0.1111111111111111,\"#46039f\"],[0.2222222222222222,\"#7201a8\"],[0.3333333333333333,\"#9c179e\"],[0.4444444444444444,\"#bd3786\"],[0.5555555555555556,\"#d8576b\"],[0.6666666666666666,\"#ed7953\"],[0.7777777777777778,\"#fb9f3a\"],[0.8888888888888888,\"#fdca26\"],[1.0,\"#f0f921\"]],\"type\":\"heatmapgl\"}],\"histogram\":[{\"marker\":{\"pattern\":{\"fillmode\":\"overlay\",\"size\":10,\"solidity\":0.2}},\"type\":\"histogram\"}],\"histogram2d\":[{\"colorbar\":{\"outlinewidth\":0,\"ticks\":\"\"},\"colorscale\":[[0.0,\"#0d0887\"],[0.1111111111111111,\"#46039f\"],[0.2222222222222222,\"#7201a8\"],[0.3333333333333333,\"#9c179e\"],[0.4444444444444444,\"#bd3786\"],[0.5555555555555556,\"#d8576b\"],[0.6666666666666666,\"#ed7953\"],[0.7777777777777778,\"#fb9f3a\"],[0.8888888888888888,\"#fdca26\"],[1.0,\"#f0f921\"]],\"type\":\"histogram2d\"}],\"histogram2dcontour\":[{\"colorbar\":{\"outlinewidth\":0,\"ticks\":\"\"},\"colorscale\":[[0.0,\"#0d0887\"],[0.1111111111111111,\"#46039f\"],[0.2222222222222222,\"#7201a8\"],[0.3333333333333333,\"#9c179e\"],[0.4444444444444444,\"#bd3786\"],[0.5555555555555556,\"#d8576b\"],[0.6666666666666666,\"#ed7953\"],[0.7777777777777778,\"#fb9f3a\"],[0.8888888888888888,\"#fdca26\"],[1.0,\"#f0f921\"]],\"type\":\"histogram2dcontour\"}],\"mesh3d\":[{\"colorbar\":{\"outlinewidth\":0,\"ticks\":\"\"},\"type\":\"mesh3d\"}],\"parcoords\":[{\"line\":{\"colorbar\":{\"outlinewidth\":0,\"ticks\":\"\"}},\"type\":\"parcoords\"}],\"pie\":[{\"automargin\":true,\"type\":\"pie\"}],\"scatter\":[{\"marker\":{\"colorbar\":{\"outlinewidth\":0,\"ticks\":\"\"}},\"type\":\"scatter\"}],\"scatter3d\":[{\"line\":{\"colorbar\":{\"outlinewidth\":0,\"ticks\":\"\"}},\"marker\":{\"colorbar\":{\"outlinewidth\":0,\"ticks\":\"\"}},\"type\":\"scatter3d\"}],\"scattercarpet\":[{\"marker\":{\"colorbar\":{\"outlinewidth\":0,\"ticks\":\"\"}},\"type\":\"scattercarpet\"}],\"scattergeo\":[{\"marker\":{\"colorbar\":{\"outlinewidth\":0,\"ticks\":\"\"}},\"type\":\"scattergeo\"}],\"scattergl\":[{\"marker\":{\"colorbar\":{\"outlinewidth\":0,\"ticks\":\"\"}},\"type\":\"scattergl\"}],\"scattermapbox\":[{\"marker\":{\"colorbar\":{\"outlinewidth\":0,\"ticks\":\"\"}},\"type\":\"scattermapbox\"}],\"scatterpolar\":[{\"marker\":{\"colorbar\":{\"outlinewidth\":0,\"ticks\":\"\"}},\"type\":\"scatterpolar\"}],\"scatterpolargl\":[{\"marker\":{\"colorbar\":{\"outlinewidth\":0,\"ticks\":\"\"}},\"type\":\"scatterpolargl\"}],\"scatterternary\":[{\"marker\":{\"colorbar\":{\"outlinewidth\":0,\"ticks\":\"\"}},\"type\":\"scatterternary\"}],\"surface\":[{\"colorbar\":{\"outlinewidth\":0,\"ticks\":\"\"},\"colorscale\":[[0.0,\"#0d0887\"],[0.1111111111111111,\"#46039f\"],[0.2222222222222222,\"#7201a8\"],[0.3333333333333333,\"#9c179e\"],[0.4444444444444444,\"#bd3786\"],[0.5555555555555556,\"#d8576b\"],[0.6666666666666666,\"#ed7953\"],[0.7777777777777778,\"#fb9f3a\"],[0.8888888888888888,\"#fdca26\"],[1.0,\"#f0f921\"]],\"type\":\"surface\"}],\"table\":[{\"cells\":{\"fill\":{\"color\":\"#EBF0F8\"},\"line\":{\"color\":\"white\"}},\"header\":{\"fill\":{\"color\":\"#C8D4E3\"},\"line\":{\"color\":\"white\"}},\"type\":\"table\"}]},\"layout\":{\"annotationdefaults\":{\"arrowcolor\":\"#2a3f5f\",\"arrowhead\":0,\"arrowwidth\":1},\"autotypenumbers\":\"strict\",\"coloraxis\":{\"colorbar\":{\"outlinewidth\":0,\"ticks\":\"\"}},\"colorscale\":{\"diverging\":[[0,\"#8e0152\"],[0.1,\"#c51b7d\"],[0.2,\"#de77ae\"],[0.3,\"#f1b6da\"],[0.4,\"#fde0ef\"],[0.5,\"#f7f7f7\"],[0.6,\"#e6f5d0\"],[0.7,\"#b8e186\"],[0.8,\"#7fbc41\"],[0.9,\"#4d9221\"],[1,\"#276419\"]],\"sequential\":[[0.0,\"#0d0887\"],[0.1111111111111111,\"#46039f\"],[0.2222222222222222,\"#7201a8\"],[0.3333333333333333,\"#9c179e\"],[0.4444444444444444,\"#bd3786\"],[0.5555555555555556,\"#d8576b\"],[0.6666666666666666,\"#ed7953\"],[0.7777777777777778,\"#fb9f3a\"],[0.8888888888888888,\"#fdca26\"],[1.0,\"#f0f921\"]],\"sequentialminus\":[[0.0,\"#0d0887\"],[0.1111111111111111,\"#46039f\"],[0.2222222222222222,\"#7201a8\"],[0.3333333333333333,\"#9c179e\"],[0.4444444444444444,\"#bd3786\"],[0.5555555555555556,\"#d8576b\"],[0.6666666666666666,\"#ed7953\"],[0.7777777777777778,\"#fb9f3a\"],[0.8888888888888888,\"#fdca26\"],[1.0,\"#f0f921\"]]},\"colorway\":[\"#636efa\",\"#EF553B\",\"#00cc96\",\"#ab63fa\",\"#FFA15A\",\"#19d3f3\",\"#FF6692\",\"#B6E880\",\"#FF97FF\",\"#FECB52\"],\"font\":{\"color\":\"#2a3f5f\"},\"geo\":{\"bgcolor\":\"white\",\"lakecolor\":\"white\",\"landcolor\":\"#E5ECF6\",\"showlakes\":true,\"showland\":true,\"subunitcolor\":\"white\"},\"hoverlabel\":{\"align\":\"left\"},\"hovermode\":\"closest\",\"mapbox\":{\"style\":\"light\"},\"paper_bgcolor\":\"white\",\"plot_bgcolor\":\"#E5ECF6\",\"polar\":{\"angularaxis\":{\"gridcolor\":\"white\",\"linecolor\":\"white\",\"ticks\":\"\"},\"bgcolor\":\"#E5ECF6\",\"radialaxis\":{\"gridcolor\":\"white\",\"linecolor\":\"white\",\"ticks\":\"\"}},\"scene\":{\"xaxis\":{\"backgroundcolor\":\"#E5ECF6\",\"gridcolor\":\"white\",\"gridwidth\":2,\"linecolor\":\"white\",\"showbackground\":true,\"ticks\":\"\",\"zerolinecolor\":\"white\"},\"yaxis\":{\"backgroundcolor\":\"#E5ECF6\",\"gridcolor\":\"white\",\"gridwidth\":2,\"linecolor\":\"white\",\"showbackground\":true,\"ticks\":\"\",\"zerolinecolor\":\"white\"},\"zaxis\":{\"backgroundcolor\":\"#E5ECF6\",\"gridcolor\":\"white\",\"gridwidth\":2,\"linecolor\":\"white\",\"showbackground\":true,\"ticks\":\"\",\"zerolinecolor\":\"white\"}},\"shapedefaults\":{\"line\":{\"color\":\"#2a3f5f\"}},\"ternary\":{\"aaxis\":{\"gridcolor\":\"white\",\"linecolor\":\"white\",\"ticks\":\"\"},\"baxis\":{\"gridcolor\":\"white\",\"linecolor\":\"white\",\"ticks\":\"\"},\"bgcolor\":\"#E5ECF6\",\"caxis\":{\"gridcolor\":\"white\",\"linecolor\":\"white\",\"ticks\":\"\"}},\"title\":{\"x\":0.05},\"xaxis\":{\"automargin\":true,\"gridcolor\":\"white\",\"linecolor\":\"white\",\"ticks\":\"\",\"title\":{\"standoff\":15},\"zerolinecolor\":\"white\",\"zerolinewidth\":2},\"yaxis\":{\"automargin\":true,\"gridcolor\":\"white\",\"linecolor\":\"white\",\"ticks\":\"\",\"title\":{\"standoff\":15},\"zerolinecolor\":\"white\",\"zerolinewidth\":2}}},\"title\":{\"text\":\"\\u041a\\u043e\\u043d\\u0442\\u0430\\u043a\\u0442\\u044b \\u0438\\u0437 \\u0441\\u043d\\u0438\\u043f\\u043f\\u0435\\u0442\\u043e\\u0432 (\\u043f\\u0440\\u0438\\u043b+\\u0432\\u0435\\u0431)\"},\"xaxis\":{\"anchor\":\"y\",\"domain\":[0.0,1.0],\"title\":{\"text\":\"dt\"}},\"yaxis\":{\"anchor\":\"x\",\"domain\":[0.0,1.0],\"title\":{\"text\":\"cnt\"}}},                        {\"responsive\": true}                    ).then(function(){\n",
       "                            \n",
       "var gd = document.getElementById('6a3fc13a-769c-4269-8880-022efd91a3cc');\n",
       "var x = new MutationObserver(function (mutations, observer) {{\n",
       "        var display = window.getComputedStyle(gd).display;\n",
       "        if (!display || display === 'none') {{\n",
       "            console.log([gd, 'removed!']);\n",
       "            Plotly.purge(gd);\n",
       "            observer.disconnect();\n",
       "        }}\n",
       "}});\n",
       "\n",
       "// Listen for the removal of the full notebook cells\n",
       "var notebookContainer = gd.closest('#notebook-container');\n",
       "if (notebookContainer) {{\n",
       "    x.observe(notebookContainer, {childList: true});\n",
       "}}\n",
       "\n",
       "// Listen for the clearing of the current output cell\n",
       "var outputEl = gd.closest('.output');\n",
       "if (outputEl) {{\n",
       "    x.observe(outputEl, {childList: true});\n",
       "}}\n",
       "\n",
       "                        })                };                });            </script>        </div>"
      ]
     },
     "metadata": {},
     "output_type": "display_data"
    }
   ],
   "source": [
    "df_contact_snippet=df_contact_snippet.sort_values('dt')\n",
    "\n",
    "fig = px.line(df_contact_snippet, x=\"dt\", y=\"cnt\",color='search_type',title='Контакты из сниппетов (прил+веб)')\n",
    "fig.show()"
   ]
  },
  {
   "cell_type": "code",
   "execution_count": 324,
   "id": "86787597",
   "metadata": {},
   "outputs": [],
   "source": [
    "df_contact_snippet.columns=['dt', 'screen', 'cnt', 'users', 'prods']"
   ]
  },
  {
   "cell_type": "code",
   "execution_count": 326,
   "id": "457aaf23",
   "metadata": {},
   "outputs": [],
   "source": [
    "df_snippet_xy = df_contact_snippet.merge(df_view_snippet[['dt','screen','users']],how='left',on=['dt','screen'])"
   ]
  },
  {
   "cell_type": "code",
   "execution_count": 328,
   "id": "22db8013",
   "metadata": {},
   "outputs": [],
   "source": [
    "df_snippet_xy['cr_contact']=round(df_snippet_xy['users_x']/df_snippet_xy['users_y']*100,2)"
   ]
  },
  {
   "cell_type": "code",
   "execution_count": 329,
   "id": "ec6fc3d9",
   "metadata": {},
   "outputs": [
    {
     "data": {
      "application/vnd.plotly.v1+json": {
       "config": {
        "plotlyServerURL": "https://plot.ly"
       },
       "data": [
        {
         "hovertemplate": "screen=group<br>dt=%{x}<br>cr_contact=%{y}<extra></extra>",
         "legendgroup": "group",
         "line": {
          "color": "#636efa",
          "dash": "solid"
         },
         "marker": {
          "symbol": "circle"
         },
         "mode": "lines",
         "name": "group",
         "orientation": "v",
         "showlegend": true,
         "type": "scatter",
         "x": [
          "2022-01-05",
          "2022-01-06",
          "2022-01-07",
          "2022-01-08",
          "2022-01-09",
          "2022-01-10",
          "2022-01-11",
          "2022-01-12",
          "2022-01-13",
          "2022-01-14",
          "2022-01-15",
          "2022-01-16",
          "2022-01-17",
          "2022-01-18",
          "2022-01-19",
          "2022-01-20"
         ],
         "xaxis": "x",
         "y": [
          2.82,
          2.95,
          2.83,
          2.74,
          2.8,
          2.81,
          2.92,
          2.85,
          2.9,
          2.97,
          2.87,
          2.8,
          2.79,
          2.82,
          2.91,
          2.9
         ],
         "yaxis": "y"
        },
        {
         "hovertemplate": "screen=feed<br>dt=%{x}<br>cr_contact=%{y}<extra></extra>",
         "legendgroup": "feed",
         "line": {
          "color": "#EF553B",
          "dash": "solid"
         },
         "marker": {
          "symbol": "circle"
         },
         "mode": "lines",
         "name": "feed",
         "orientation": "v",
         "showlegend": true,
         "type": "scatter",
         "x": [
          "2022-01-05",
          "2022-01-06",
          "2022-01-07",
          "2022-01-08",
          "2022-01-09",
          "2022-01-10",
          "2022-01-11",
          "2022-01-12",
          "2022-01-13",
          "2022-01-14",
          "2022-01-15",
          "2022-01-16",
          "2022-01-17",
          "2022-01-18",
          "2022-01-19",
          "2022-01-20"
         ],
         "xaxis": "x",
         "y": [
          0.63,
          0.61,
          0.64,
          0.62,
          0.62,
          0.61,
          0.62,
          0.65,
          0.66,
          0.63,
          0.63,
          0.63,
          0.59,
          0.6,
          0.62,
          0.63
         ],
         "yaxis": "y"
        }
       ],
       "layout": {
        "legend": {
         "title": {
          "text": "screen"
         },
         "tracegroupgap": 0
        },
        "template": {
         "data": {
          "bar": [
           {
            "error_x": {
             "color": "#2a3f5f"
            },
            "error_y": {
             "color": "#2a3f5f"
            },
            "marker": {
             "line": {
              "color": "#E5ECF6",
              "width": 0.5
             },
             "pattern": {
              "fillmode": "overlay",
              "size": 10,
              "solidity": 0.2
             }
            },
            "type": "bar"
           }
          ],
          "barpolar": [
           {
            "marker": {
             "line": {
              "color": "#E5ECF6",
              "width": 0.5
             },
             "pattern": {
              "fillmode": "overlay",
              "size": 10,
              "solidity": 0.2
             }
            },
            "type": "barpolar"
           }
          ],
          "carpet": [
           {
            "aaxis": {
             "endlinecolor": "#2a3f5f",
             "gridcolor": "white",
             "linecolor": "white",
             "minorgridcolor": "white",
             "startlinecolor": "#2a3f5f"
            },
            "baxis": {
             "endlinecolor": "#2a3f5f",
             "gridcolor": "white",
             "linecolor": "white",
             "minorgridcolor": "white",
             "startlinecolor": "#2a3f5f"
            },
            "type": "carpet"
           }
          ],
          "choropleth": [
           {
            "colorbar": {
             "outlinewidth": 0,
             "ticks": ""
            },
            "type": "choropleth"
           }
          ],
          "contour": [
           {
            "colorbar": {
             "outlinewidth": 0,
             "ticks": ""
            },
            "colorscale": [
             [
              0,
              "#0d0887"
             ],
             [
              0.1111111111111111,
              "#46039f"
             ],
             [
              0.2222222222222222,
              "#7201a8"
             ],
             [
              0.3333333333333333,
              "#9c179e"
             ],
             [
              0.4444444444444444,
              "#bd3786"
             ],
             [
              0.5555555555555556,
              "#d8576b"
             ],
             [
              0.6666666666666666,
              "#ed7953"
             ],
             [
              0.7777777777777778,
              "#fb9f3a"
             ],
             [
              0.8888888888888888,
              "#fdca26"
             ],
             [
              1,
              "#f0f921"
             ]
            ],
            "type": "contour"
           }
          ],
          "contourcarpet": [
           {
            "colorbar": {
             "outlinewidth": 0,
             "ticks": ""
            },
            "type": "contourcarpet"
           }
          ],
          "heatmap": [
           {
            "colorbar": {
             "outlinewidth": 0,
             "ticks": ""
            },
            "colorscale": [
             [
              0,
              "#0d0887"
             ],
             [
              0.1111111111111111,
              "#46039f"
             ],
             [
              0.2222222222222222,
              "#7201a8"
             ],
             [
              0.3333333333333333,
              "#9c179e"
             ],
             [
              0.4444444444444444,
              "#bd3786"
             ],
             [
              0.5555555555555556,
              "#d8576b"
             ],
             [
              0.6666666666666666,
              "#ed7953"
             ],
             [
              0.7777777777777778,
              "#fb9f3a"
             ],
             [
              0.8888888888888888,
              "#fdca26"
             ],
             [
              1,
              "#f0f921"
             ]
            ],
            "type": "heatmap"
           }
          ],
          "heatmapgl": [
           {
            "colorbar": {
             "outlinewidth": 0,
             "ticks": ""
            },
            "colorscale": [
             [
              0,
              "#0d0887"
             ],
             [
              0.1111111111111111,
              "#46039f"
             ],
             [
              0.2222222222222222,
              "#7201a8"
             ],
             [
              0.3333333333333333,
              "#9c179e"
             ],
             [
              0.4444444444444444,
              "#bd3786"
             ],
             [
              0.5555555555555556,
              "#d8576b"
             ],
             [
              0.6666666666666666,
              "#ed7953"
             ],
             [
              0.7777777777777778,
              "#fb9f3a"
             ],
             [
              0.8888888888888888,
              "#fdca26"
             ],
             [
              1,
              "#f0f921"
             ]
            ],
            "type": "heatmapgl"
           }
          ],
          "histogram": [
           {
            "marker": {
             "pattern": {
              "fillmode": "overlay",
              "size": 10,
              "solidity": 0.2
             }
            },
            "type": "histogram"
           }
          ],
          "histogram2d": [
           {
            "colorbar": {
             "outlinewidth": 0,
             "ticks": ""
            },
            "colorscale": [
             [
              0,
              "#0d0887"
             ],
             [
              0.1111111111111111,
              "#46039f"
             ],
             [
              0.2222222222222222,
              "#7201a8"
             ],
             [
              0.3333333333333333,
              "#9c179e"
             ],
             [
              0.4444444444444444,
              "#bd3786"
             ],
             [
              0.5555555555555556,
              "#d8576b"
             ],
             [
              0.6666666666666666,
              "#ed7953"
             ],
             [
              0.7777777777777778,
              "#fb9f3a"
             ],
             [
              0.8888888888888888,
              "#fdca26"
             ],
             [
              1,
              "#f0f921"
             ]
            ],
            "type": "histogram2d"
           }
          ],
          "histogram2dcontour": [
           {
            "colorbar": {
             "outlinewidth": 0,
             "ticks": ""
            },
            "colorscale": [
             [
              0,
              "#0d0887"
             ],
             [
              0.1111111111111111,
              "#46039f"
             ],
             [
              0.2222222222222222,
              "#7201a8"
             ],
             [
              0.3333333333333333,
              "#9c179e"
             ],
             [
              0.4444444444444444,
              "#bd3786"
             ],
             [
              0.5555555555555556,
              "#d8576b"
             ],
             [
              0.6666666666666666,
              "#ed7953"
             ],
             [
              0.7777777777777778,
              "#fb9f3a"
             ],
             [
              0.8888888888888888,
              "#fdca26"
             ],
             [
              1,
              "#f0f921"
             ]
            ],
            "type": "histogram2dcontour"
           }
          ],
          "mesh3d": [
           {
            "colorbar": {
             "outlinewidth": 0,
             "ticks": ""
            },
            "type": "mesh3d"
           }
          ],
          "parcoords": [
           {
            "line": {
             "colorbar": {
              "outlinewidth": 0,
              "ticks": ""
             }
            },
            "type": "parcoords"
           }
          ],
          "pie": [
           {
            "automargin": true,
            "type": "pie"
           }
          ],
          "scatter": [
           {
            "marker": {
             "colorbar": {
              "outlinewidth": 0,
              "ticks": ""
             }
            },
            "type": "scatter"
           }
          ],
          "scatter3d": [
           {
            "line": {
             "colorbar": {
              "outlinewidth": 0,
              "ticks": ""
             }
            },
            "marker": {
             "colorbar": {
              "outlinewidth": 0,
              "ticks": ""
             }
            },
            "type": "scatter3d"
           }
          ],
          "scattercarpet": [
           {
            "marker": {
             "colorbar": {
              "outlinewidth": 0,
              "ticks": ""
             }
            },
            "type": "scattercarpet"
           }
          ],
          "scattergeo": [
           {
            "marker": {
             "colorbar": {
              "outlinewidth": 0,
              "ticks": ""
             }
            },
            "type": "scattergeo"
           }
          ],
          "scattergl": [
           {
            "marker": {
             "colorbar": {
              "outlinewidth": 0,
              "ticks": ""
             }
            },
            "type": "scattergl"
           }
          ],
          "scattermapbox": [
           {
            "marker": {
             "colorbar": {
              "outlinewidth": 0,
              "ticks": ""
             }
            },
            "type": "scattermapbox"
           }
          ],
          "scatterpolar": [
           {
            "marker": {
             "colorbar": {
              "outlinewidth": 0,
              "ticks": ""
             }
            },
            "type": "scatterpolar"
           }
          ],
          "scatterpolargl": [
           {
            "marker": {
             "colorbar": {
              "outlinewidth": 0,
              "ticks": ""
             }
            },
            "type": "scatterpolargl"
           }
          ],
          "scatterternary": [
           {
            "marker": {
             "colorbar": {
              "outlinewidth": 0,
              "ticks": ""
             }
            },
            "type": "scatterternary"
           }
          ],
          "surface": [
           {
            "colorbar": {
             "outlinewidth": 0,
             "ticks": ""
            },
            "colorscale": [
             [
              0,
              "#0d0887"
             ],
             [
              0.1111111111111111,
              "#46039f"
             ],
             [
              0.2222222222222222,
              "#7201a8"
             ],
             [
              0.3333333333333333,
              "#9c179e"
             ],
             [
              0.4444444444444444,
              "#bd3786"
             ],
             [
              0.5555555555555556,
              "#d8576b"
             ],
             [
              0.6666666666666666,
              "#ed7953"
             ],
             [
              0.7777777777777778,
              "#fb9f3a"
             ],
             [
              0.8888888888888888,
              "#fdca26"
             ],
             [
              1,
              "#f0f921"
             ]
            ],
            "type": "surface"
           }
          ],
          "table": [
           {
            "cells": {
             "fill": {
              "color": "#EBF0F8"
             },
             "line": {
              "color": "white"
             }
            },
            "header": {
             "fill": {
              "color": "#C8D4E3"
             },
             "line": {
              "color": "white"
             }
            },
            "type": "table"
           }
          ]
         },
         "layout": {
          "annotationdefaults": {
           "arrowcolor": "#2a3f5f",
           "arrowhead": 0,
           "arrowwidth": 1
          },
          "autotypenumbers": "strict",
          "coloraxis": {
           "colorbar": {
            "outlinewidth": 0,
            "ticks": ""
           }
          },
          "colorscale": {
           "diverging": [
            [
             0,
             "#8e0152"
            ],
            [
             0.1,
             "#c51b7d"
            ],
            [
             0.2,
             "#de77ae"
            ],
            [
             0.3,
             "#f1b6da"
            ],
            [
             0.4,
             "#fde0ef"
            ],
            [
             0.5,
             "#f7f7f7"
            ],
            [
             0.6,
             "#e6f5d0"
            ],
            [
             0.7,
             "#b8e186"
            ],
            [
             0.8,
             "#7fbc41"
            ],
            [
             0.9,
             "#4d9221"
            ],
            [
             1,
             "#276419"
            ]
           ],
           "sequential": [
            [
             0,
             "#0d0887"
            ],
            [
             0.1111111111111111,
             "#46039f"
            ],
            [
             0.2222222222222222,
             "#7201a8"
            ],
            [
             0.3333333333333333,
             "#9c179e"
            ],
            [
             0.4444444444444444,
             "#bd3786"
            ],
            [
             0.5555555555555556,
             "#d8576b"
            ],
            [
             0.6666666666666666,
             "#ed7953"
            ],
            [
             0.7777777777777778,
             "#fb9f3a"
            ],
            [
             0.8888888888888888,
             "#fdca26"
            ],
            [
             1,
             "#f0f921"
            ]
           ],
           "sequentialminus": [
            [
             0,
             "#0d0887"
            ],
            [
             0.1111111111111111,
             "#46039f"
            ],
            [
             0.2222222222222222,
             "#7201a8"
            ],
            [
             0.3333333333333333,
             "#9c179e"
            ],
            [
             0.4444444444444444,
             "#bd3786"
            ],
            [
             0.5555555555555556,
             "#d8576b"
            ],
            [
             0.6666666666666666,
             "#ed7953"
            ],
            [
             0.7777777777777778,
             "#fb9f3a"
            ],
            [
             0.8888888888888888,
             "#fdca26"
            ],
            [
             1,
             "#f0f921"
            ]
           ]
          },
          "colorway": [
           "#636efa",
           "#EF553B",
           "#00cc96",
           "#ab63fa",
           "#FFA15A",
           "#19d3f3",
           "#FF6692",
           "#B6E880",
           "#FF97FF",
           "#FECB52"
          ],
          "font": {
           "color": "#2a3f5f"
          },
          "geo": {
           "bgcolor": "white",
           "lakecolor": "white",
           "landcolor": "#E5ECF6",
           "showlakes": true,
           "showland": true,
           "subunitcolor": "white"
          },
          "hoverlabel": {
           "align": "left"
          },
          "hovermode": "closest",
          "mapbox": {
           "style": "light"
          },
          "paper_bgcolor": "white",
          "plot_bgcolor": "#E5ECF6",
          "polar": {
           "angularaxis": {
            "gridcolor": "white",
            "linecolor": "white",
            "ticks": ""
           },
           "bgcolor": "#E5ECF6",
           "radialaxis": {
            "gridcolor": "white",
            "linecolor": "white",
            "ticks": ""
           }
          },
          "scene": {
           "xaxis": {
            "backgroundcolor": "#E5ECF6",
            "gridcolor": "white",
            "gridwidth": 2,
            "linecolor": "white",
            "showbackground": true,
            "ticks": "",
            "zerolinecolor": "white"
           },
           "yaxis": {
            "backgroundcolor": "#E5ECF6",
            "gridcolor": "white",
            "gridwidth": 2,
            "linecolor": "white",
            "showbackground": true,
            "ticks": "",
            "zerolinecolor": "white"
           },
           "zaxis": {
            "backgroundcolor": "#E5ECF6",
            "gridcolor": "white",
            "gridwidth": 2,
            "linecolor": "white",
            "showbackground": true,
            "ticks": "",
            "zerolinecolor": "white"
           }
          },
          "shapedefaults": {
           "line": {
            "color": "#2a3f5f"
           }
          },
          "ternary": {
           "aaxis": {
            "gridcolor": "white",
            "linecolor": "white",
            "ticks": ""
           },
           "baxis": {
            "gridcolor": "white",
            "linecolor": "white",
            "ticks": ""
           },
           "bgcolor": "#E5ECF6",
           "caxis": {
            "gridcolor": "white",
            "linecolor": "white",
            "ticks": ""
           }
          },
          "title": {
           "x": 0.05
          },
          "xaxis": {
           "automargin": true,
           "gridcolor": "white",
           "linecolor": "white",
           "ticks": "",
           "title": {
            "standoff": 15
           },
           "zerolinecolor": "white",
           "zerolinewidth": 2
          },
          "yaxis": {
           "automargin": true,
           "gridcolor": "white",
           "linecolor": "white",
           "ticks": "",
           "title": {
            "standoff": 15
           },
           "zerolinecolor": "white",
           "zerolinewidth": 2
          }
         }
        },
        "title": {
         "text": "CR в контакт из сниппетов (прил+веб)"
        },
        "xaxis": {
         "anchor": "y",
         "domain": [
          0,
          1
         ],
         "title": {
          "text": "dt"
         }
        },
        "yaxis": {
         "anchor": "x",
         "domain": [
          0,
          1
         ],
         "title": {
          "text": "cr_contact"
         }
        }
       }
      },
      "text/html": [
       "<div>                            <div id=\"cfe57ac7-efc4-4689-9c76-24784db7ad0f\" class=\"plotly-graph-div\" style=\"height:525px; width:100%;\"></div>            <script type=\"text/javascript\">                require([\"plotly\"], function(Plotly) {                    window.PLOTLYENV=window.PLOTLYENV || {};                                    if (document.getElementById(\"cfe57ac7-efc4-4689-9c76-24784db7ad0f\")) {                    Plotly.newPlot(                        \"cfe57ac7-efc4-4689-9c76-24784db7ad0f\",                        [{\"hovertemplate\":\"screen=group<br>dt=%{x}<br>cr_contact=%{y}<extra></extra>\",\"legendgroup\":\"group\",\"line\":{\"color\":\"#636efa\",\"dash\":\"solid\"},\"marker\":{\"symbol\":\"circle\"},\"mode\":\"lines\",\"name\":\"group\",\"orientation\":\"v\",\"showlegend\":true,\"type\":\"scatter\",\"x\":[\"2022-01-05\",\"2022-01-06\",\"2022-01-07\",\"2022-01-08\",\"2022-01-09\",\"2022-01-10\",\"2022-01-11\",\"2022-01-12\",\"2022-01-13\",\"2022-01-14\",\"2022-01-15\",\"2022-01-16\",\"2022-01-17\",\"2022-01-18\",\"2022-01-19\",\"2022-01-20\"],\"xaxis\":\"x\",\"y\":[2.82,2.95,2.83,2.74,2.8,2.81,2.92,2.85,2.9,2.97,2.87,2.8,2.79,2.82,2.91,2.9],\"yaxis\":\"y\"},{\"hovertemplate\":\"screen=feed<br>dt=%{x}<br>cr_contact=%{y}<extra></extra>\",\"legendgroup\":\"feed\",\"line\":{\"color\":\"#EF553B\",\"dash\":\"solid\"},\"marker\":{\"symbol\":\"circle\"},\"mode\":\"lines\",\"name\":\"feed\",\"orientation\":\"v\",\"showlegend\":true,\"type\":\"scatter\",\"x\":[\"2022-01-05\",\"2022-01-06\",\"2022-01-07\",\"2022-01-08\",\"2022-01-09\",\"2022-01-10\",\"2022-01-11\",\"2022-01-12\",\"2022-01-13\",\"2022-01-14\",\"2022-01-15\",\"2022-01-16\",\"2022-01-17\",\"2022-01-18\",\"2022-01-19\",\"2022-01-20\"],\"xaxis\":\"x\",\"y\":[0.63,0.61,0.64,0.62,0.62,0.61,0.62,0.65,0.66,0.63,0.63,0.63,0.59,0.6,0.62,0.63],\"yaxis\":\"y\"}],                        {\"legend\":{\"title\":{\"text\":\"screen\"},\"tracegroupgap\":0},\"template\":{\"data\":{\"bar\":[{\"error_x\":{\"color\":\"#2a3f5f\"},\"error_y\":{\"color\":\"#2a3f5f\"},\"marker\":{\"line\":{\"color\":\"#E5ECF6\",\"width\":0.5},\"pattern\":{\"fillmode\":\"overlay\",\"size\":10,\"solidity\":0.2}},\"type\":\"bar\"}],\"barpolar\":[{\"marker\":{\"line\":{\"color\":\"#E5ECF6\",\"width\":0.5},\"pattern\":{\"fillmode\":\"overlay\",\"size\":10,\"solidity\":0.2}},\"type\":\"barpolar\"}],\"carpet\":[{\"aaxis\":{\"endlinecolor\":\"#2a3f5f\",\"gridcolor\":\"white\",\"linecolor\":\"white\",\"minorgridcolor\":\"white\",\"startlinecolor\":\"#2a3f5f\"},\"baxis\":{\"endlinecolor\":\"#2a3f5f\",\"gridcolor\":\"white\",\"linecolor\":\"white\",\"minorgridcolor\":\"white\",\"startlinecolor\":\"#2a3f5f\"},\"type\":\"carpet\"}],\"choropleth\":[{\"colorbar\":{\"outlinewidth\":0,\"ticks\":\"\"},\"type\":\"choropleth\"}],\"contour\":[{\"colorbar\":{\"outlinewidth\":0,\"ticks\":\"\"},\"colorscale\":[[0.0,\"#0d0887\"],[0.1111111111111111,\"#46039f\"],[0.2222222222222222,\"#7201a8\"],[0.3333333333333333,\"#9c179e\"],[0.4444444444444444,\"#bd3786\"],[0.5555555555555556,\"#d8576b\"],[0.6666666666666666,\"#ed7953\"],[0.7777777777777778,\"#fb9f3a\"],[0.8888888888888888,\"#fdca26\"],[1.0,\"#f0f921\"]],\"type\":\"contour\"}],\"contourcarpet\":[{\"colorbar\":{\"outlinewidth\":0,\"ticks\":\"\"},\"type\":\"contourcarpet\"}],\"heatmap\":[{\"colorbar\":{\"outlinewidth\":0,\"ticks\":\"\"},\"colorscale\":[[0.0,\"#0d0887\"],[0.1111111111111111,\"#46039f\"],[0.2222222222222222,\"#7201a8\"],[0.3333333333333333,\"#9c179e\"],[0.4444444444444444,\"#bd3786\"],[0.5555555555555556,\"#d8576b\"],[0.6666666666666666,\"#ed7953\"],[0.7777777777777778,\"#fb9f3a\"],[0.8888888888888888,\"#fdca26\"],[1.0,\"#f0f921\"]],\"type\":\"heatmap\"}],\"heatmapgl\":[{\"colorbar\":{\"outlinewidth\":0,\"ticks\":\"\"},\"colorscale\":[[0.0,\"#0d0887\"],[0.1111111111111111,\"#46039f\"],[0.2222222222222222,\"#7201a8\"],[0.3333333333333333,\"#9c179e\"],[0.4444444444444444,\"#bd3786\"],[0.5555555555555556,\"#d8576b\"],[0.6666666666666666,\"#ed7953\"],[0.7777777777777778,\"#fb9f3a\"],[0.8888888888888888,\"#fdca26\"],[1.0,\"#f0f921\"]],\"type\":\"heatmapgl\"}],\"histogram\":[{\"marker\":{\"pattern\":{\"fillmode\":\"overlay\",\"size\":10,\"solidity\":0.2}},\"type\":\"histogram\"}],\"histogram2d\":[{\"colorbar\":{\"outlinewidth\":0,\"ticks\":\"\"},\"colorscale\":[[0.0,\"#0d0887\"],[0.1111111111111111,\"#46039f\"],[0.2222222222222222,\"#7201a8\"],[0.3333333333333333,\"#9c179e\"],[0.4444444444444444,\"#bd3786\"],[0.5555555555555556,\"#d8576b\"],[0.6666666666666666,\"#ed7953\"],[0.7777777777777778,\"#fb9f3a\"],[0.8888888888888888,\"#fdca26\"],[1.0,\"#f0f921\"]],\"type\":\"histogram2d\"}],\"histogram2dcontour\":[{\"colorbar\":{\"outlinewidth\":0,\"ticks\":\"\"},\"colorscale\":[[0.0,\"#0d0887\"],[0.1111111111111111,\"#46039f\"],[0.2222222222222222,\"#7201a8\"],[0.3333333333333333,\"#9c179e\"],[0.4444444444444444,\"#bd3786\"],[0.5555555555555556,\"#d8576b\"],[0.6666666666666666,\"#ed7953\"],[0.7777777777777778,\"#fb9f3a\"],[0.8888888888888888,\"#fdca26\"],[1.0,\"#f0f921\"]],\"type\":\"histogram2dcontour\"}],\"mesh3d\":[{\"colorbar\":{\"outlinewidth\":0,\"ticks\":\"\"},\"type\":\"mesh3d\"}],\"parcoords\":[{\"line\":{\"colorbar\":{\"outlinewidth\":0,\"ticks\":\"\"}},\"type\":\"parcoords\"}],\"pie\":[{\"automargin\":true,\"type\":\"pie\"}],\"scatter\":[{\"marker\":{\"colorbar\":{\"outlinewidth\":0,\"ticks\":\"\"}},\"type\":\"scatter\"}],\"scatter3d\":[{\"line\":{\"colorbar\":{\"outlinewidth\":0,\"ticks\":\"\"}},\"marker\":{\"colorbar\":{\"outlinewidth\":0,\"ticks\":\"\"}},\"type\":\"scatter3d\"}],\"scattercarpet\":[{\"marker\":{\"colorbar\":{\"outlinewidth\":0,\"ticks\":\"\"}},\"type\":\"scattercarpet\"}],\"scattergeo\":[{\"marker\":{\"colorbar\":{\"outlinewidth\":0,\"ticks\":\"\"}},\"type\":\"scattergeo\"}],\"scattergl\":[{\"marker\":{\"colorbar\":{\"outlinewidth\":0,\"ticks\":\"\"}},\"type\":\"scattergl\"}],\"scattermapbox\":[{\"marker\":{\"colorbar\":{\"outlinewidth\":0,\"ticks\":\"\"}},\"type\":\"scattermapbox\"}],\"scatterpolar\":[{\"marker\":{\"colorbar\":{\"outlinewidth\":0,\"ticks\":\"\"}},\"type\":\"scatterpolar\"}],\"scatterpolargl\":[{\"marker\":{\"colorbar\":{\"outlinewidth\":0,\"ticks\":\"\"}},\"type\":\"scatterpolargl\"}],\"scatterternary\":[{\"marker\":{\"colorbar\":{\"outlinewidth\":0,\"ticks\":\"\"}},\"type\":\"scatterternary\"}],\"surface\":[{\"colorbar\":{\"outlinewidth\":0,\"ticks\":\"\"},\"colorscale\":[[0.0,\"#0d0887\"],[0.1111111111111111,\"#46039f\"],[0.2222222222222222,\"#7201a8\"],[0.3333333333333333,\"#9c179e\"],[0.4444444444444444,\"#bd3786\"],[0.5555555555555556,\"#d8576b\"],[0.6666666666666666,\"#ed7953\"],[0.7777777777777778,\"#fb9f3a\"],[0.8888888888888888,\"#fdca26\"],[1.0,\"#f0f921\"]],\"type\":\"surface\"}],\"table\":[{\"cells\":{\"fill\":{\"color\":\"#EBF0F8\"},\"line\":{\"color\":\"white\"}},\"header\":{\"fill\":{\"color\":\"#C8D4E3\"},\"line\":{\"color\":\"white\"}},\"type\":\"table\"}]},\"layout\":{\"annotationdefaults\":{\"arrowcolor\":\"#2a3f5f\",\"arrowhead\":0,\"arrowwidth\":1},\"autotypenumbers\":\"strict\",\"coloraxis\":{\"colorbar\":{\"outlinewidth\":0,\"ticks\":\"\"}},\"colorscale\":{\"diverging\":[[0,\"#8e0152\"],[0.1,\"#c51b7d\"],[0.2,\"#de77ae\"],[0.3,\"#f1b6da\"],[0.4,\"#fde0ef\"],[0.5,\"#f7f7f7\"],[0.6,\"#e6f5d0\"],[0.7,\"#b8e186\"],[0.8,\"#7fbc41\"],[0.9,\"#4d9221\"],[1,\"#276419\"]],\"sequential\":[[0.0,\"#0d0887\"],[0.1111111111111111,\"#46039f\"],[0.2222222222222222,\"#7201a8\"],[0.3333333333333333,\"#9c179e\"],[0.4444444444444444,\"#bd3786\"],[0.5555555555555556,\"#d8576b\"],[0.6666666666666666,\"#ed7953\"],[0.7777777777777778,\"#fb9f3a\"],[0.8888888888888888,\"#fdca26\"],[1.0,\"#f0f921\"]],\"sequentialminus\":[[0.0,\"#0d0887\"],[0.1111111111111111,\"#46039f\"],[0.2222222222222222,\"#7201a8\"],[0.3333333333333333,\"#9c179e\"],[0.4444444444444444,\"#bd3786\"],[0.5555555555555556,\"#d8576b\"],[0.6666666666666666,\"#ed7953\"],[0.7777777777777778,\"#fb9f3a\"],[0.8888888888888888,\"#fdca26\"],[1.0,\"#f0f921\"]]},\"colorway\":[\"#636efa\",\"#EF553B\",\"#00cc96\",\"#ab63fa\",\"#FFA15A\",\"#19d3f3\",\"#FF6692\",\"#B6E880\",\"#FF97FF\",\"#FECB52\"],\"font\":{\"color\":\"#2a3f5f\"},\"geo\":{\"bgcolor\":\"white\",\"lakecolor\":\"white\",\"landcolor\":\"#E5ECF6\",\"showlakes\":true,\"showland\":true,\"subunitcolor\":\"white\"},\"hoverlabel\":{\"align\":\"left\"},\"hovermode\":\"closest\",\"mapbox\":{\"style\":\"light\"},\"paper_bgcolor\":\"white\",\"plot_bgcolor\":\"#E5ECF6\",\"polar\":{\"angularaxis\":{\"gridcolor\":\"white\",\"linecolor\":\"white\",\"ticks\":\"\"},\"bgcolor\":\"#E5ECF6\",\"radialaxis\":{\"gridcolor\":\"white\",\"linecolor\":\"white\",\"ticks\":\"\"}},\"scene\":{\"xaxis\":{\"backgroundcolor\":\"#E5ECF6\",\"gridcolor\":\"white\",\"gridwidth\":2,\"linecolor\":\"white\",\"showbackground\":true,\"ticks\":\"\",\"zerolinecolor\":\"white\"},\"yaxis\":{\"backgroundcolor\":\"#E5ECF6\",\"gridcolor\":\"white\",\"gridwidth\":2,\"linecolor\":\"white\",\"showbackground\":true,\"ticks\":\"\",\"zerolinecolor\":\"white\"},\"zaxis\":{\"backgroundcolor\":\"#E5ECF6\",\"gridcolor\":\"white\",\"gridwidth\":2,\"linecolor\":\"white\",\"showbackground\":true,\"ticks\":\"\",\"zerolinecolor\":\"white\"}},\"shapedefaults\":{\"line\":{\"color\":\"#2a3f5f\"}},\"ternary\":{\"aaxis\":{\"gridcolor\":\"white\",\"linecolor\":\"white\",\"ticks\":\"\"},\"baxis\":{\"gridcolor\":\"white\",\"linecolor\":\"white\",\"ticks\":\"\"},\"bgcolor\":\"#E5ECF6\",\"caxis\":{\"gridcolor\":\"white\",\"linecolor\":\"white\",\"ticks\":\"\"}},\"title\":{\"x\":0.05},\"xaxis\":{\"automargin\":true,\"gridcolor\":\"white\",\"linecolor\":\"white\",\"ticks\":\"\",\"title\":{\"standoff\":15},\"zerolinecolor\":\"white\",\"zerolinewidth\":2},\"yaxis\":{\"automargin\":true,\"gridcolor\":\"white\",\"linecolor\":\"white\",\"ticks\":\"\",\"title\":{\"standoff\":15},\"zerolinecolor\":\"white\",\"zerolinewidth\":2}}},\"title\":{\"text\":\"CR \\u0432 \\u043a\\u043e\\u043d\\u0442\\u0430\\u043a\\u0442 \\u0438\\u0437 \\u0441\\u043d\\u0438\\u043f\\u043f\\u0435\\u0442\\u043e\\u0432 (\\u043f\\u0440\\u0438\\u043b+\\u0432\\u0435\\u0431)\"},\"xaxis\":{\"anchor\":\"y\",\"domain\":[0.0,1.0],\"title\":{\"text\":\"dt\"}},\"yaxis\":{\"anchor\":\"x\",\"domain\":[0.0,1.0],\"title\":{\"text\":\"cr_contact\"}}},                        {\"responsive\": true}                    ).then(function(){\n",
       "                            \n",
       "var gd = document.getElementById('cfe57ac7-efc4-4689-9c76-24784db7ad0f');\n",
       "var x = new MutationObserver(function (mutations, observer) {{\n",
       "        var display = window.getComputedStyle(gd).display;\n",
       "        if (!display || display === 'none') {{\n",
       "            console.log([gd, 'removed!']);\n",
       "            Plotly.purge(gd);\n",
       "            observer.disconnect();\n",
       "        }}\n",
       "}});\n",
       "\n",
       "// Listen for the removal of the full notebook cells\n",
       "var notebookContainer = gd.closest('#notebook-container');\n",
       "if (notebookContainer) {{\n",
       "    x.observe(notebookContainer, {childList: true});\n",
       "}}\n",
       "\n",
       "// Listen for the clearing of the current output cell\n",
       "var outputEl = gd.closest('.output');\n",
       "if (outputEl) {{\n",
       "    x.observe(outputEl, {childList: true});\n",
       "}}\n",
       "\n",
       "                        })                };                });            </script>        </div>"
      ]
     },
     "metadata": {},
     "output_type": "display_data"
    }
   ],
   "source": [
    "fig = px.line(df_snippet_xy, x=\"dt\", y=\"cr_contact\",color='screen',title='CR в контакт из сниппетов (прил+веб)')\n",
    "fig.show()"
   ]
  },
  {
   "cell_type": "code",
   "execution_count": 332,
   "id": "09b1d7fd",
   "metadata": {},
   "outputs": [],
   "source": [
    "df_show_snippet = sql_to_df(\"\"\" \n",
    "select dt,\n",
    "    case when screen like 'group%' then 'group' else 'feed' end search_type,\n",
    "    count(event) cnt,\n",
    "    count(distinct user_id) users,\n",
    "    count(distinct youla_item_id) prods\n",
    "FROM topics.youla_vk_to_youla_pa2p_all_events\n",
    "WHERE dt>='2022-01-05' and dt<='2022-01-20'\n",
    "    and event = 'view'\n",
    "    and content_type = 'wall'\n",
    "    and (screen like 'group%' or screen like 'feed%')\n",
    "group by dt\n",
    "  , case when screen like 'group%' then 'group' else 'feed' end\n",
    "\n",
    "\"\"\",con)"
   ]
  },
  {
   "cell_type": "code",
   "execution_count": 334,
   "id": "8a3dc673",
   "metadata": {},
   "outputs": [
    {
     "data": {
      "application/vnd.plotly.v1+json": {
       "config": {
        "plotlyServerURL": "https://plot.ly"
       },
       "data": [
        {
         "hovertemplate": "search_type=group<br>dt=%{x}<br>cnt=%{y}<extra></extra>",
         "legendgroup": "group",
         "line": {
          "color": "#636efa",
          "dash": "solid"
         },
         "marker": {
          "symbol": "circle"
         },
         "mode": "lines",
         "name": "group",
         "orientation": "v",
         "showlegend": true,
         "type": "scatter",
         "x": [
          "2022-01-05",
          "2022-01-06",
          "2022-01-07",
          "2022-01-08",
          "2022-01-09",
          "2022-01-10",
          "2022-01-11",
          "2022-01-12",
          "2022-01-13",
          "2022-01-14",
          "2022-01-15",
          "2022-01-16",
          "2022-01-17",
          "2022-01-18",
          "2022-01-19",
          "2022-01-20"
         ],
         "xaxis": "x",
         "y": [
          30246223,
          27848466,
          27951074,
          30547480,
          32714764,
          32110053,
          31293908,
          29999846,
          28708767,
          27187478,
          26637742,
          29400751,
          28653098,
          29266477,
          26831522,
          28456219
         ],
         "yaxis": "y"
        },
        {
         "hovertemplate": "search_type=feed<br>dt=%{x}<br>cnt=%{y}<extra></extra>",
         "legendgroup": "feed",
         "line": {
          "color": "#EF553B",
          "dash": "solid"
         },
         "marker": {
          "symbol": "circle"
         },
         "mode": "lines",
         "name": "feed",
         "orientation": "v",
         "showlegend": true,
         "type": "scatter",
         "x": [
          "2022-01-05",
          "2022-01-06",
          "2022-01-07",
          "2022-01-08",
          "2022-01-09",
          "2022-01-10",
          "2022-01-11",
          "2022-01-12",
          "2022-01-13",
          "2022-01-14",
          "2022-01-15",
          "2022-01-16",
          "2022-01-17",
          "2022-01-18",
          "2022-01-19",
          "2022-01-20"
         ],
         "xaxis": "x",
         "y": [
          80110154,
          75198909,
          74739819,
          78608517,
          83800381,
          83621120,
          80585725,
          69231622,
          66340206,
          59313841,
          54309014,
          60676664,
          63498165,
          69037517,
          53582330,
          53097363
         ],
         "yaxis": "y"
        }
       ],
       "layout": {
        "legend": {
         "title": {
          "text": "search_type"
         },
         "tracegroupgap": 0
        },
        "template": {
         "data": {
          "bar": [
           {
            "error_x": {
             "color": "#2a3f5f"
            },
            "error_y": {
             "color": "#2a3f5f"
            },
            "marker": {
             "line": {
              "color": "#E5ECF6",
              "width": 0.5
             },
             "pattern": {
              "fillmode": "overlay",
              "size": 10,
              "solidity": 0.2
             }
            },
            "type": "bar"
           }
          ],
          "barpolar": [
           {
            "marker": {
             "line": {
              "color": "#E5ECF6",
              "width": 0.5
             },
             "pattern": {
              "fillmode": "overlay",
              "size": 10,
              "solidity": 0.2
             }
            },
            "type": "barpolar"
           }
          ],
          "carpet": [
           {
            "aaxis": {
             "endlinecolor": "#2a3f5f",
             "gridcolor": "white",
             "linecolor": "white",
             "minorgridcolor": "white",
             "startlinecolor": "#2a3f5f"
            },
            "baxis": {
             "endlinecolor": "#2a3f5f",
             "gridcolor": "white",
             "linecolor": "white",
             "minorgridcolor": "white",
             "startlinecolor": "#2a3f5f"
            },
            "type": "carpet"
           }
          ],
          "choropleth": [
           {
            "colorbar": {
             "outlinewidth": 0,
             "ticks": ""
            },
            "type": "choropleth"
           }
          ],
          "contour": [
           {
            "colorbar": {
             "outlinewidth": 0,
             "ticks": ""
            },
            "colorscale": [
             [
              0,
              "#0d0887"
             ],
             [
              0.1111111111111111,
              "#46039f"
             ],
             [
              0.2222222222222222,
              "#7201a8"
             ],
             [
              0.3333333333333333,
              "#9c179e"
             ],
             [
              0.4444444444444444,
              "#bd3786"
             ],
             [
              0.5555555555555556,
              "#d8576b"
             ],
             [
              0.6666666666666666,
              "#ed7953"
             ],
             [
              0.7777777777777778,
              "#fb9f3a"
             ],
             [
              0.8888888888888888,
              "#fdca26"
             ],
             [
              1,
              "#f0f921"
             ]
            ],
            "type": "contour"
           }
          ],
          "contourcarpet": [
           {
            "colorbar": {
             "outlinewidth": 0,
             "ticks": ""
            },
            "type": "contourcarpet"
           }
          ],
          "heatmap": [
           {
            "colorbar": {
             "outlinewidth": 0,
             "ticks": ""
            },
            "colorscale": [
             [
              0,
              "#0d0887"
             ],
             [
              0.1111111111111111,
              "#46039f"
             ],
             [
              0.2222222222222222,
              "#7201a8"
             ],
             [
              0.3333333333333333,
              "#9c179e"
             ],
             [
              0.4444444444444444,
              "#bd3786"
             ],
             [
              0.5555555555555556,
              "#d8576b"
             ],
             [
              0.6666666666666666,
              "#ed7953"
             ],
             [
              0.7777777777777778,
              "#fb9f3a"
             ],
             [
              0.8888888888888888,
              "#fdca26"
             ],
             [
              1,
              "#f0f921"
             ]
            ],
            "type": "heatmap"
           }
          ],
          "heatmapgl": [
           {
            "colorbar": {
             "outlinewidth": 0,
             "ticks": ""
            },
            "colorscale": [
             [
              0,
              "#0d0887"
             ],
             [
              0.1111111111111111,
              "#46039f"
             ],
             [
              0.2222222222222222,
              "#7201a8"
             ],
             [
              0.3333333333333333,
              "#9c179e"
             ],
             [
              0.4444444444444444,
              "#bd3786"
             ],
             [
              0.5555555555555556,
              "#d8576b"
             ],
             [
              0.6666666666666666,
              "#ed7953"
             ],
             [
              0.7777777777777778,
              "#fb9f3a"
             ],
             [
              0.8888888888888888,
              "#fdca26"
             ],
             [
              1,
              "#f0f921"
             ]
            ],
            "type": "heatmapgl"
           }
          ],
          "histogram": [
           {
            "marker": {
             "pattern": {
              "fillmode": "overlay",
              "size": 10,
              "solidity": 0.2
             }
            },
            "type": "histogram"
           }
          ],
          "histogram2d": [
           {
            "colorbar": {
             "outlinewidth": 0,
             "ticks": ""
            },
            "colorscale": [
             [
              0,
              "#0d0887"
             ],
             [
              0.1111111111111111,
              "#46039f"
             ],
             [
              0.2222222222222222,
              "#7201a8"
             ],
             [
              0.3333333333333333,
              "#9c179e"
             ],
             [
              0.4444444444444444,
              "#bd3786"
             ],
             [
              0.5555555555555556,
              "#d8576b"
             ],
             [
              0.6666666666666666,
              "#ed7953"
             ],
             [
              0.7777777777777778,
              "#fb9f3a"
             ],
             [
              0.8888888888888888,
              "#fdca26"
             ],
             [
              1,
              "#f0f921"
             ]
            ],
            "type": "histogram2d"
           }
          ],
          "histogram2dcontour": [
           {
            "colorbar": {
             "outlinewidth": 0,
             "ticks": ""
            },
            "colorscale": [
             [
              0,
              "#0d0887"
             ],
             [
              0.1111111111111111,
              "#46039f"
             ],
             [
              0.2222222222222222,
              "#7201a8"
             ],
             [
              0.3333333333333333,
              "#9c179e"
             ],
             [
              0.4444444444444444,
              "#bd3786"
             ],
             [
              0.5555555555555556,
              "#d8576b"
             ],
             [
              0.6666666666666666,
              "#ed7953"
             ],
             [
              0.7777777777777778,
              "#fb9f3a"
             ],
             [
              0.8888888888888888,
              "#fdca26"
             ],
             [
              1,
              "#f0f921"
             ]
            ],
            "type": "histogram2dcontour"
           }
          ],
          "mesh3d": [
           {
            "colorbar": {
             "outlinewidth": 0,
             "ticks": ""
            },
            "type": "mesh3d"
           }
          ],
          "parcoords": [
           {
            "line": {
             "colorbar": {
              "outlinewidth": 0,
              "ticks": ""
             }
            },
            "type": "parcoords"
           }
          ],
          "pie": [
           {
            "automargin": true,
            "type": "pie"
           }
          ],
          "scatter": [
           {
            "marker": {
             "colorbar": {
              "outlinewidth": 0,
              "ticks": ""
             }
            },
            "type": "scatter"
           }
          ],
          "scatter3d": [
           {
            "line": {
             "colorbar": {
              "outlinewidth": 0,
              "ticks": ""
             }
            },
            "marker": {
             "colorbar": {
              "outlinewidth": 0,
              "ticks": ""
             }
            },
            "type": "scatter3d"
           }
          ],
          "scattercarpet": [
           {
            "marker": {
             "colorbar": {
              "outlinewidth": 0,
              "ticks": ""
             }
            },
            "type": "scattercarpet"
           }
          ],
          "scattergeo": [
           {
            "marker": {
             "colorbar": {
              "outlinewidth": 0,
              "ticks": ""
             }
            },
            "type": "scattergeo"
           }
          ],
          "scattergl": [
           {
            "marker": {
             "colorbar": {
              "outlinewidth": 0,
              "ticks": ""
             }
            },
            "type": "scattergl"
           }
          ],
          "scattermapbox": [
           {
            "marker": {
             "colorbar": {
              "outlinewidth": 0,
              "ticks": ""
             }
            },
            "type": "scattermapbox"
           }
          ],
          "scatterpolar": [
           {
            "marker": {
             "colorbar": {
              "outlinewidth": 0,
              "ticks": ""
             }
            },
            "type": "scatterpolar"
           }
          ],
          "scatterpolargl": [
           {
            "marker": {
             "colorbar": {
              "outlinewidth": 0,
              "ticks": ""
             }
            },
            "type": "scatterpolargl"
           }
          ],
          "scatterternary": [
           {
            "marker": {
             "colorbar": {
              "outlinewidth": 0,
              "ticks": ""
             }
            },
            "type": "scatterternary"
           }
          ],
          "surface": [
           {
            "colorbar": {
             "outlinewidth": 0,
             "ticks": ""
            },
            "colorscale": [
             [
              0,
              "#0d0887"
             ],
             [
              0.1111111111111111,
              "#46039f"
             ],
             [
              0.2222222222222222,
              "#7201a8"
             ],
             [
              0.3333333333333333,
              "#9c179e"
             ],
             [
              0.4444444444444444,
              "#bd3786"
             ],
             [
              0.5555555555555556,
              "#d8576b"
             ],
             [
              0.6666666666666666,
              "#ed7953"
             ],
             [
              0.7777777777777778,
              "#fb9f3a"
             ],
             [
              0.8888888888888888,
              "#fdca26"
             ],
             [
              1,
              "#f0f921"
             ]
            ],
            "type": "surface"
           }
          ],
          "table": [
           {
            "cells": {
             "fill": {
              "color": "#EBF0F8"
             },
             "line": {
              "color": "white"
             }
            },
            "header": {
             "fill": {
              "color": "#C8D4E3"
             },
             "line": {
              "color": "white"
             }
            },
            "type": "table"
           }
          ]
         },
         "layout": {
          "annotationdefaults": {
           "arrowcolor": "#2a3f5f",
           "arrowhead": 0,
           "arrowwidth": 1
          },
          "autotypenumbers": "strict",
          "coloraxis": {
           "colorbar": {
            "outlinewidth": 0,
            "ticks": ""
           }
          },
          "colorscale": {
           "diverging": [
            [
             0,
             "#8e0152"
            ],
            [
             0.1,
             "#c51b7d"
            ],
            [
             0.2,
             "#de77ae"
            ],
            [
             0.3,
             "#f1b6da"
            ],
            [
             0.4,
             "#fde0ef"
            ],
            [
             0.5,
             "#f7f7f7"
            ],
            [
             0.6,
             "#e6f5d0"
            ],
            [
             0.7,
             "#b8e186"
            ],
            [
             0.8,
             "#7fbc41"
            ],
            [
             0.9,
             "#4d9221"
            ],
            [
             1,
             "#276419"
            ]
           ],
           "sequential": [
            [
             0,
             "#0d0887"
            ],
            [
             0.1111111111111111,
             "#46039f"
            ],
            [
             0.2222222222222222,
             "#7201a8"
            ],
            [
             0.3333333333333333,
             "#9c179e"
            ],
            [
             0.4444444444444444,
             "#bd3786"
            ],
            [
             0.5555555555555556,
             "#d8576b"
            ],
            [
             0.6666666666666666,
             "#ed7953"
            ],
            [
             0.7777777777777778,
             "#fb9f3a"
            ],
            [
             0.8888888888888888,
             "#fdca26"
            ],
            [
             1,
             "#f0f921"
            ]
           ],
           "sequentialminus": [
            [
             0,
             "#0d0887"
            ],
            [
             0.1111111111111111,
             "#46039f"
            ],
            [
             0.2222222222222222,
             "#7201a8"
            ],
            [
             0.3333333333333333,
             "#9c179e"
            ],
            [
             0.4444444444444444,
             "#bd3786"
            ],
            [
             0.5555555555555556,
             "#d8576b"
            ],
            [
             0.6666666666666666,
             "#ed7953"
            ],
            [
             0.7777777777777778,
             "#fb9f3a"
            ],
            [
             0.8888888888888888,
             "#fdca26"
            ],
            [
             1,
             "#f0f921"
            ]
           ]
          },
          "colorway": [
           "#636efa",
           "#EF553B",
           "#00cc96",
           "#ab63fa",
           "#FFA15A",
           "#19d3f3",
           "#FF6692",
           "#B6E880",
           "#FF97FF",
           "#FECB52"
          ],
          "font": {
           "color": "#2a3f5f"
          },
          "geo": {
           "bgcolor": "white",
           "lakecolor": "white",
           "landcolor": "#E5ECF6",
           "showlakes": true,
           "showland": true,
           "subunitcolor": "white"
          },
          "hoverlabel": {
           "align": "left"
          },
          "hovermode": "closest",
          "mapbox": {
           "style": "light"
          },
          "paper_bgcolor": "white",
          "plot_bgcolor": "#E5ECF6",
          "polar": {
           "angularaxis": {
            "gridcolor": "white",
            "linecolor": "white",
            "ticks": ""
           },
           "bgcolor": "#E5ECF6",
           "radialaxis": {
            "gridcolor": "white",
            "linecolor": "white",
            "ticks": ""
           }
          },
          "scene": {
           "xaxis": {
            "backgroundcolor": "#E5ECF6",
            "gridcolor": "white",
            "gridwidth": 2,
            "linecolor": "white",
            "showbackground": true,
            "ticks": "",
            "zerolinecolor": "white"
           },
           "yaxis": {
            "backgroundcolor": "#E5ECF6",
            "gridcolor": "white",
            "gridwidth": 2,
            "linecolor": "white",
            "showbackground": true,
            "ticks": "",
            "zerolinecolor": "white"
           },
           "zaxis": {
            "backgroundcolor": "#E5ECF6",
            "gridcolor": "white",
            "gridwidth": 2,
            "linecolor": "white",
            "showbackground": true,
            "ticks": "",
            "zerolinecolor": "white"
           }
          },
          "shapedefaults": {
           "line": {
            "color": "#2a3f5f"
           }
          },
          "ternary": {
           "aaxis": {
            "gridcolor": "white",
            "linecolor": "white",
            "ticks": ""
           },
           "baxis": {
            "gridcolor": "white",
            "linecolor": "white",
            "ticks": ""
           },
           "bgcolor": "#E5ECF6",
           "caxis": {
            "gridcolor": "white",
            "linecolor": "white",
            "ticks": ""
           }
          },
          "title": {
           "x": 0.05
          },
          "xaxis": {
           "automargin": true,
           "gridcolor": "white",
           "linecolor": "white",
           "ticks": "",
           "title": {
            "standoff": 15
           },
           "zerolinecolor": "white",
           "zerolinewidth": 2
          },
          "yaxis": {
           "automargin": true,
           "gridcolor": "white",
           "linecolor": "white",
           "ticks": "",
           "title": {
            "standoff": 15
           },
           "zerolinecolor": "white",
           "zerolinewidth": 2
          }
         }
        },
        "title": {
         "text": "Показы из сниппетов (прил+веб)"
        },
        "xaxis": {
         "anchor": "y",
         "domain": [
          0,
          1
         ],
         "title": {
          "text": "dt"
         }
        },
        "yaxis": {
         "anchor": "x",
         "domain": [
          0,
          1
         ],
         "title": {
          "text": "cnt"
         }
        }
       }
      },
      "text/html": [
       "<div>                            <div id=\"7185fffb-5821-47ee-9110-6a27e58b861f\" class=\"plotly-graph-div\" style=\"height:525px; width:100%;\"></div>            <script type=\"text/javascript\">                require([\"plotly\"], function(Plotly) {                    window.PLOTLYENV=window.PLOTLYENV || {};                                    if (document.getElementById(\"7185fffb-5821-47ee-9110-6a27e58b861f\")) {                    Plotly.newPlot(                        \"7185fffb-5821-47ee-9110-6a27e58b861f\",                        [{\"hovertemplate\":\"search_type=group<br>dt=%{x}<br>cnt=%{y}<extra></extra>\",\"legendgroup\":\"group\",\"line\":{\"color\":\"#636efa\",\"dash\":\"solid\"},\"marker\":{\"symbol\":\"circle\"},\"mode\":\"lines\",\"name\":\"group\",\"orientation\":\"v\",\"showlegend\":true,\"type\":\"scatter\",\"x\":[\"2022-01-05\",\"2022-01-06\",\"2022-01-07\",\"2022-01-08\",\"2022-01-09\",\"2022-01-10\",\"2022-01-11\",\"2022-01-12\",\"2022-01-13\",\"2022-01-14\",\"2022-01-15\",\"2022-01-16\",\"2022-01-17\",\"2022-01-18\",\"2022-01-19\",\"2022-01-20\"],\"xaxis\":\"x\",\"y\":[30246223,27848466,27951074,30547480,32714764,32110053,31293908,29999846,28708767,27187478,26637742,29400751,28653098,29266477,26831522,28456219],\"yaxis\":\"y\"},{\"hovertemplate\":\"search_type=feed<br>dt=%{x}<br>cnt=%{y}<extra></extra>\",\"legendgroup\":\"feed\",\"line\":{\"color\":\"#EF553B\",\"dash\":\"solid\"},\"marker\":{\"symbol\":\"circle\"},\"mode\":\"lines\",\"name\":\"feed\",\"orientation\":\"v\",\"showlegend\":true,\"type\":\"scatter\",\"x\":[\"2022-01-05\",\"2022-01-06\",\"2022-01-07\",\"2022-01-08\",\"2022-01-09\",\"2022-01-10\",\"2022-01-11\",\"2022-01-12\",\"2022-01-13\",\"2022-01-14\",\"2022-01-15\",\"2022-01-16\",\"2022-01-17\",\"2022-01-18\",\"2022-01-19\",\"2022-01-20\"],\"xaxis\":\"x\",\"y\":[80110154,75198909,74739819,78608517,83800381,83621120,80585725,69231622,66340206,59313841,54309014,60676664,63498165,69037517,53582330,53097363],\"yaxis\":\"y\"}],                        {\"legend\":{\"title\":{\"text\":\"search_type\"},\"tracegroupgap\":0},\"template\":{\"data\":{\"bar\":[{\"error_x\":{\"color\":\"#2a3f5f\"},\"error_y\":{\"color\":\"#2a3f5f\"},\"marker\":{\"line\":{\"color\":\"#E5ECF6\",\"width\":0.5},\"pattern\":{\"fillmode\":\"overlay\",\"size\":10,\"solidity\":0.2}},\"type\":\"bar\"}],\"barpolar\":[{\"marker\":{\"line\":{\"color\":\"#E5ECF6\",\"width\":0.5},\"pattern\":{\"fillmode\":\"overlay\",\"size\":10,\"solidity\":0.2}},\"type\":\"barpolar\"}],\"carpet\":[{\"aaxis\":{\"endlinecolor\":\"#2a3f5f\",\"gridcolor\":\"white\",\"linecolor\":\"white\",\"minorgridcolor\":\"white\",\"startlinecolor\":\"#2a3f5f\"},\"baxis\":{\"endlinecolor\":\"#2a3f5f\",\"gridcolor\":\"white\",\"linecolor\":\"white\",\"minorgridcolor\":\"white\",\"startlinecolor\":\"#2a3f5f\"},\"type\":\"carpet\"}],\"choropleth\":[{\"colorbar\":{\"outlinewidth\":0,\"ticks\":\"\"},\"type\":\"choropleth\"}],\"contour\":[{\"colorbar\":{\"outlinewidth\":0,\"ticks\":\"\"},\"colorscale\":[[0.0,\"#0d0887\"],[0.1111111111111111,\"#46039f\"],[0.2222222222222222,\"#7201a8\"],[0.3333333333333333,\"#9c179e\"],[0.4444444444444444,\"#bd3786\"],[0.5555555555555556,\"#d8576b\"],[0.6666666666666666,\"#ed7953\"],[0.7777777777777778,\"#fb9f3a\"],[0.8888888888888888,\"#fdca26\"],[1.0,\"#f0f921\"]],\"type\":\"contour\"}],\"contourcarpet\":[{\"colorbar\":{\"outlinewidth\":0,\"ticks\":\"\"},\"type\":\"contourcarpet\"}],\"heatmap\":[{\"colorbar\":{\"outlinewidth\":0,\"ticks\":\"\"},\"colorscale\":[[0.0,\"#0d0887\"],[0.1111111111111111,\"#46039f\"],[0.2222222222222222,\"#7201a8\"],[0.3333333333333333,\"#9c179e\"],[0.4444444444444444,\"#bd3786\"],[0.5555555555555556,\"#d8576b\"],[0.6666666666666666,\"#ed7953\"],[0.7777777777777778,\"#fb9f3a\"],[0.8888888888888888,\"#fdca26\"],[1.0,\"#f0f921\"]],\"type\":\"heatmap\"}],\"heatmapgl\":[{\"colorbar\":{\"outlinewidth\":0,\"ticks\":\"\"},\"colorscale\":[[0.0,\"#0d0887\"],[0.1111111111111111,\"#46039f\"],[0.2222222222222222,\"#7201a8\"],[0.3333333333333333,\"#9c179e\"],[0.4444444444444444,\"#bd3786\"],[0.5555555555555556,\"#d8576b\"],[0.6666666666666666,\"#ed7953\"],[0.7777777777777778,\"#fb9f3a\"],[0.8888888888888888,\"#fdca26\"],[1.0,\"#f0f921\"]],\"type\":\"heatmapgl\"}],\"histogram\":[{\"marker\":{\"pattern\":{\"fillmode\":\"overlay\",\"size\":10,\"solidity\":0.2}},\"type\":\"histogram\"}],\"histogram2d\":[{\"colorbar\":{\"outlinewidth\":0,\"ticks\":\"\"},\"colorscale\":[[0.0,\"#0d0887\"],[0.1111111111111111,\"#46039f\"],[0.2222222222222222,\"#7201a8\"],[0.3333333333333333,\"#9c179e\"],[0.4444444444444444,\"#bd3786\"],[0.5555555555555556,\"#d8576b\"],[0.6666666666666666,\"#ed7953\"],[0.7777777777777778,\"#fb9f3a\"],[0.8888888888888888,\"#fdca26\"],[1.0,\"#f0f921\"]],\"type\":\"histogram2d\"}],\"histogram2dcontour\":[{\"colorbar\":{\"outlinewidth\":0,\"ticks\":\"\"},\"colorscale\":[[0.0,\"#0d0887\"],[0.1111111111111111,\"#46039f\"],[0.2222222222222222,\"#7201a8\"],[0.3333333333333333,\"#9c179e\"],[0.4444444444444444,\"#bd3786\"],[0.5555555555555556,\"#d8576b\"],[0.6666666666666666,\"#ed7953\"],[0.7777777777777778,\"#fb9f3a\"],[0.8888888888888888,\"#fdca26\"],[1.0,\"#f0f921\"]],\"type\":\"histogram2dcontour\"}],\"mesh3d\":[{\"colorbar\":{\"outlinewidth\":0,\"ticks\":\"\"},\"type\":\"mesh3d\"}],\"parcoords\":[{\"line\":{\"colorbar\":{\"outlinewidth\":0,\"ticks\":\"\"}},\"type\":\"parcoords\"}],\"pie\":[{\"automargin\":true,\"type\":\"pie\"}],\"scatter\":[{\"marker\":{\"colorbar\":{\"outlinewidth\":0,\"ticks\":\"\"}},\"type\":\"scatter\"}],\"scatter3d\":[{\"line\":{\"colorbar\":{\"outlinewidth\":0,\"ticks\":\"\"}},\"marker\":{\"colorbar\":{\"outlinewidth\":0,\"ticks\":\"\"}},\"type\":\"scatter3d\"}],\"scattercarpet\":[{\"marker\":{\"colorbar\":{\"outlinewidth\":0,\"ticks\":\"\"}},\"type\":\"scattercarpet\"}],\"scattergeo\":[{\"marker\":{\"colorbar\":{\"outlinewidth\":0,\"ticks\":\"\"}},\"type\":\"scattergeo\"}],\"scattergl\":[{\"marker\":{\"colorbar\":{\"outlinewidth\":0,\"ticks\":\"\"}},\"type\":\"scattergl\"}],\"scattermapbox\":[{\"marker\":{\"colorbar\":{\"outlinewidth\":0,\"ticks\":\"\"}},\"type\":\"scattermapbox\"}],\"scatterpolar\":[{\"marker\":{\"colorbar\":{\"outlinewidth\":0,\"ticks\":\"\"}},\"type\":\"scatterpolar\"}],\"scatterpolargl\":[{\"marker\":{\"colorbar\":{\"outlinewidth\":0,\"ticks\":\"\"}},\"type\":\"scatterpolargl\"}],\"scatterternary\":[{\"marker\":{\"colorbar\":{\"outlinewidth\":0,\"ticks\":\"\"}},\"type\":\"scatterternary\"}],\"surface\":[{\"colorbar\":{\"outlinewidth\":0,\"ticks\":\"\"},\"colorscale\":[[0.0,\"#0d0887\"],[0.1111111111111111,\"#46039f\"],[0.2222222222222222,\"#7201a8\"],[0.3333333333333333,\"#9c179e\"],[0.4444444444444444,\"#bd3786\"],[0.5555555555555556,\"#d8576b\"],[0.6666666666666666,\"#ed7953\"],[0.7777777777777778,\"#fb9f3a\"],[0.8888888888888888,\"#fdca26\"],[1.0,\"#f0f921\"]],\"type\":\"surface\"}],\"table\":[{\"cells\":{\"fill\":{\"color\":\"#EBF0F8\"},\"line\":{\"color\":\"white\"}},\"header\":{\"fill\":{\"color\":\"#C8D4E3\"},\"line\":{\"color\":\"white\"}},\"type\":\"table\"}]},\"layout\":{\"annotationdefaults\":{\"arrowcolor\":\"#2a3f5f\",\"arrowhead\":0,\"arrowwidth\":1},\"autotypenumbers\":\"strict\",\"coloraxis\":{\"colorbar\":{\"outlinewidth\":0,\"ticks\":\"\"}},\"colorscale\":{\"diverging\":[[0,\"#8e0152\"],[0.1,\"#c51b7d\"],[0.2,\"#de77ae\"],[0.3,\"#f1b6da\"],[0.4,\"#fde0ef\"],[0.5,\"#f7f7f7\"],[0.6,\"#e6f5d0\"],[0.7,\"#b8e186\"],[0.8,\"#7fbc41\"],[0.9,\"#4d9221\"],[1,\"#276419\"]],\"sequential\":[[0.0,\"#0d0887\"],[0.1111111111111111,\"#46039f\"],[0.2222222222222222,\"#7201a8\"],[0.3333333333333333,\"#9c179e\"],[0.4444444444444444,\"#bd3786\"],[0.5555555555555556,\"#d8576b\"],[0.6666666666666666,\"#ed7953\"],[0.7777777777777778,\"#fb9f3a\"],[0.8888888888888888,\"#fdca26\"],[1.0,\"#f0f921\"]],\"sequentialminus\":[[0.0,\"#0d0887\"],[0.1111111111111111,\"#46039f\"],[0.2222222222222222,\"#7201a8\"],[0.3333333333333333,\"#9c179e\"],[0.4444444444444444,\"#bd3786\"],[0.5555555555555556,\"#d8576b\"],[0.6666666666666666,\"#ed7953\"],[0.7777777777777778,\"#fb9f3a\"],[0.8888888888888888,\"#fdca26\"],[1.0,\"#f0f921\"]]},\"colorway\":[\"#636efa\",\"#EF553B\",\"#00cc96\",\"#ab63fa\",\"#FFA15A\",\"#19d3f3\",\"#FF6692\",\"#B6E880\",\"#FF97FF\",\"#FECB52\"],\"font\":{\"color\":\"#2a3f5f\"},\"geo\":{\"bgcolor\":\"white\",\"lakecolor\":\"white\",\"landcolor\":\"#E5ECF6\",\"showlakes\":true,\"showland\":true,\"subunitcolor\":\"white\"},\"hoverlabel\":{\"align\":\"left\"},\"hovermode\":\"closest\",\"mapbox\":{\"style\":\"light\"},\"paper_bgcolor\":\"white\",\"plot_bgcolor\":\"#E5ECF6\",\"polar\":{\"angularaxis\":{\"gridcolor\":\"white\",\"linecolor\":\"white\",\"ticks\":\"\"},\"bgcolor\":\"#E5ECF6\",\"radialaxis\":{\"gridcolor\":\"white\",\"linecolor\":\"white\",\"ticks\":\"\"}},\"scene\":{\"xaxis\":{\"backgroundcolor\":\"#E5ECF6\",\"gridcolor\":\"white\",\"gridwidth\":2,\"linecolor\":\"white\",\"showbackground\":true,\"ticks\":\"\",\"zerolinecolor\":\"white\"},\"yaxis\":{\"backgroundcolor\":\"#E5ECF6\",\"gridcolor\":\"white\",\"gridwidth\":2,\"linecolor\":\"white\",\"showbackground\":true,\"ticks\":\"\",\"zerolinecolor\":\"white\"},\"zaxis\":{\"backgroundcolor\":\"#E5ECF6\",\"gridcolor\":\"white\",\"gridwidth\":2,\"linecolor\":\"white\",\"showbackground\":true,\"ticks\":\"\",\"zerolinecolor\":\"white\"}},\"shapedefaults\":{\"line\":{\"color\":\"#2a3f5f\"}},\"ternary\":{\"aaxis\":{\"gridcolor\":\"white\",\"linecolor\":\"white\",\"ticks\":\"\"},\"baxis\":{\"gridcolor\":\"white\",\"linecolor\":\"white\",\"ticks\":\"\"},\"bgcolor\":\"#E5ECF6\",\"caxis\":{\"gridcolor\":\"white\",\"linecolor\":\"white\",\"ticks\":\"\"}},\"title\":{\"x\":0.05},\"xaxis\":{\"automargin\":true,\"gridcolor\":\"white\",\"linecolor\":\"white\",\"ticks\":\"\",\"title\":{\"standoff\":15},\"zerolinecolor\":\"white\",\"zerolinewidth\":2},\"yaxis\":{\"automargin\":true,\"gridcolor\":\"white\",\"linecolor\":\"white\",\"ticks\":\"\",\"title\":{\"standoff\":15},\"zerolinecolor\":\"white\",\"zerolinewidth\":2}}},\"title\":{\"text\":\"\\u041f\\u043e\\u043a\\u0430\\u0437\\u044b \\u0438\\u0437 \\u0441\\u043d\\u0438\\u043f\\u043f\\u0435\\u0442\\u043e\\u0432 (\\u043f\\u0440\\u0438\\u043b+\\u0432\\u0435\\u0431)\"},\"xaxis\":{\"anchor\":\"y\",\"domain\":[0.0,1.0],\"title\":{\"text\":\"dt\"}},\"yaxis\":{\"anchor\":\"x\",\"domain\":[0.0,1.0],\"title\":{\"text\":\"cnt\"}}},                        {\"responsive\": true}                    ).then(function(){\n",
       "                            \n",
       "var gd = document.getElementById('7185fffb-5821-47ee-9110-6a27e58b861f');\n",
       "var x = new MutationObserver(function (mutations, observer) {{\n",
       "        var display = window.getComputedStyle(gd).display;\n",
       "        if (!display || display === 'none') {{\n",
       "            console.log([gd, 'removed!']);\n",
       "            Plotly.purge(gd);\n",
       "            observer.disconnect();\n",
       "        }}\n",
       "}});\n",
       "\n",
       "// Listen for the removal of the full notebook cells\n",
       "var notebookContainer = gd.closest('#notebook-container');\n",
       "if (notebookContainer) {{\n",
       "    x.observe(notebookContainer, {childList: true});\n",
       "}}\n",
       "\n",
       "// Listen for the clearing of the current output cell\n",
       "var outputEl = gd.closest('.output');\n",
       "if (outputEl) {{\n",
       "    x.observe(outputEl, {childList: true});\n",
       "}}\n",
       "\n",
       "                        })                };                });            </script>        </div>"
      ]
     },
     "metadata": {},
     "output_type": "display_data"
    }
   ],
   "source": [
    "df_show_snippet=df_show_snippet.sort_values('dt')\n",
    "\n",
    "fig = px.line(df_show_snippet, x=\"dt\", y=\"cnt\",color='search_type',title='Показы из сниппетов (прил+веб)')\n",
    "fig.show()"
   ]
  },
  {
   "cell_type": "code",
   "execution_count": 335,
   "id": "82e64555",
   "metadata": {},
   "outputs": [],
   "source": [
    "df_show_snippet.columns=['dt', 'screen', 'cnt', 'users', 'prods']"
   ]
  },
  {
   "cell_type": "code",
   "execution_count": 336,
   "id": "a08cb1cb",
   "metadata": {},
   "outputs": [],
   "source": [
    "df_snippet_xs = df_view_snippet.merge(df_show_snippet[['dt','screen','users']],how='left',on=['dt','screen'])"
   ]
  },
  {
   "cell_type": "code",
   "execution_count": 337,
   "id": "ee870800",
   "metadata": {},
   "outputs": [],
   "source": [
    "df_snippet_xs['cr_view']=round(df_snippet_xs['users_x']/df_snippet_xs['users_y']*100,2)"
   ]
  },
  {
   "cell_type": "code",
   "execution_count": 338,
   "id": "081e6427",
   "metadata": {},
   "outputs": [
    {
     "data": {
      "application/vnd.plotly.v1+json": {
       "config": {
        "plotlyServerURL": "https://plot.ly"
       },
       "data": [
        {
         "hovertemplate": "screen=group<br>dt=%{x}<br>cr_view=%{y}<extra></extra>",
         "legendgroup": "group",
         "line": {
          "color": "#636efa",
          "dash": "solid"
         },
         "marker": {
          "symbol": "circle"
         },
         "mode": "lines",
         "name": "group",
         "orientation": "v",
         "showlegend": true,
         "type": "scatter",
         "x": [
          "2022-01-05",
          "2022-01-06",
          "2022-01-07",
          "2022-01-08",
          "2022-01-09",
          "2022-01-10",
          "2022-01-11",
          "2022-01-12",
          "2022-01-13",
          "2022-01-14",
          "2022-01-15",
          "2022-01-16",
          "2022-01-17",
          "2022-01-18",
          "2022-01-19",
          "2022-01-20"
         ],
         "xaxis": "x",
         "y": [
          8.29,
          8.22,
          8.29,
          8.53,
          9.04,
          8.5,
          8.28,
          7.98,
          7.44,
          7.22,
          7.79,
          8.39,
          8.17,
          8.01,
          8.17,
          8.03
         ],
         "yaxis": "y"
        },
        {
         "hovertemplate": "screen=feed<br>dt=%{x}<br>cr_view=%{y}<extra></extra>",
         "legendgroup": "feed",
         "line": {
          "color": "#EF553B",
          "dash": "solid"
         },
         "marker": {
          "symbol": "circle"
         },
         "mode": "lines",
         "name": "feed",
         "orientation": "v",
         "showlegend": true,
         "type": "scatter",
         "x": [
          "2022-01-05",
          "2022-01-06",
          "2022-01-07",
          "2022-01-08",
          "2022-01-09",
          "2022-01-10",
          "2022-01-11",
          "2022-01-12",
          "2022-01-13",
          "2022-01-14",
          "2022-01-15",
          "2022-01-16",
          "2022-01-17",
          "2022-01-18",
          "2022-01-19",
          "2022-01-20"
         ],
         "xaxis": "x",
         "y": [
          6.6,
          6.4,
          6.42,
          6.65,
          7.07,
          6.54,
          6.57,
          6.18,
          6.09,
          5.79,
          5.91,
          6.36,
          6.28,
          6.2,
          6.1,
          6.21
         ],
         "yaxis": "y"
        }
       ],
       "layout": {
        "legend": {
         "title": {
          "text": "screen"
         },
         "tracegroupgap": 0
        },
        "template": {
         "data": {
          "bar": [
           {
            "error_x": {
             "color": "#2a3f5f"
            },
            "error_y": {
             "color": "#2a3f5f"
            },
            "marker": {
             "line": {
              "color": "#E5ECF6",
              "width": 0.5
             },
             "pattern": {
              "fillmode": "overlay",
              "size": 10,
              "solidity": 0.2
             }
            },
            "type": "bar"
           }
          ],
          "barpolar": [
           {
            "marker": {
             "line": {
              "color": "#E5ECF6",
              "width": 0.5
             },
             "pattern": {
              "fillmode": "overlay",
              "size": 10,
              "solidity": 0.2
             }
            },
            "type": "barpolar"
           }
          ],
          "carpet": [
           {
            "aaxis": {
             "endlinecolor": "#2a3f5f",
             "gridcolor": "white",
             "linecolor": "white",
             "minorgridcolor": "white",
             "startlinecolor": "#2a3f5f"
            },
            "baxis": {
             "endlinecolor": "#2a3f5f",
             "gridcolor": "white",
             "linecolor": "white",
             "minorgridcolor": "white",
             "startlinecolor": "#2a3f5f"
            },
            "type": "carpet"
           }
          ],
          "choropleth": [
           {
            "colorbar": {
             "outlinewidth": 0,
             "ticks": ""
            },
            "type": "choropleth"
           }
          ],
          "contour": [
           {
            "colorbar": {
             "outlinewidth": 0,
             "ticks": ""
            },
            "colorscale": [
             [
              0,
              "#0d0887"
             ],
             [
              0.1111111111111111,
              "#46039f"
             ],
             [
              0.2222222222222222,
              "#7201a8"
             ],
             [
              0.3333333333333333,
              "#9c179e"
             ],
             [
              0.4444444444444444,
              "#bd3786"
             ],
             [
              0.5555555555555556,
              "#d8576b"
             ],
             [
              0.6666666666666666,
              "#ed7953"
             ],
             [
              0.7777777777777778,
              "#fb9f3a"
             ],
             [
              0.8888888888888888,
              "#fdca26"
             ],
             [
              1,
              "#f0f921"
             ]
            ],
            "type": "contour"
           }
          ],
          "contourcarpet": [
           {
            "colorbar": {
             "outlinewidth": 0,
             "ticks": ""
            },
            "type": "contourcarpet"
           }
          ],
          "heatmap": [
           {
            "colorbar": {
             "outlinewidth": 0,
             "ticks": ""
            },
            "colorscale": [
             [
              0,
              "#0d0887"
             ],
             [
              0.1111111111111111,
              "#46039f"
             ],
             [
              0.2222222222222222,
              "#7201a8"
             ],
             [
              0.3333333333333333,
              "#9c179e"
             ],
             [
              0.4444444444444444,
              "#bd3786"
             ],
             [
              0.5555555555555556,
              "#d8576b"
             ],
             [
              0.6666666666666666,
              "#ed7953"
             ],
             [
              0.7777777777777778,
              "#fb9f3a"
             ],
             [
              0.8888888888888888,
              "#fdca26"
             ],
             [
              1,
              "#f0f921"
             ]
            ],
            "type": "heatmap"
           }
          ],
          "heatmapgl": [
           {
            "colorbar": {
             "outlinewidth": 0,
             "ticks": ""
            },
            "colorscale": [
             [
              0,
              "#0d0887"
             ],
             [
              0.1111111111111111,
              "#46039f"
             ],
             [
              0.2222222222222222,
              "#7201a8"
             ],
             [
              0.3333333333333333,
              "#9c179e"
             ],
             [
              0.4444444444444444,
              "#bd3786"
             ],
             [
              0.5555555555555556,
              "#d8576b"
             ],
             [
              0.6666666666666666,
              "#ed7953"
             ],
             [
              0.7777777777777778,
              "#fb9f3a"
             ],
             [
              0.8888888888888888,
              "#fdca26"
             ],
             [
              1,
              "#f0f921"
             ]
            ],
            "type": "heatmapgl"
           }
          ],
          "histogram": [
           {
            "marker": {
             "pattern": {
              "fillmode": "overlay",
              "size": 10,
              "solidity": 0.2
             }
            },
            "type": "histogram"
           }
          ],
          "histogram2d": [
           {
            "colorbar": {
             "outlinewidth": 0,
             "ticks": ""
            },
            "colorscale": [
             [
              0,
              "#0d0887"
             ],
             [
              0.1111111111111111,
              "#46039f"
             ],
             [
              0.2222222222222222,
              "#7201a8"
             ],
             [
              0.3333333333333333,
              "#9c179e"
             ],
             [
              0.4444444444444444,
              "#bd3786"
             ],
             [
              0.5555555555555556,
              "#d8576b"
             ],
             [
              0.6666666666666666,
              "#ed7953"
             ],
             [
              0.7777777777777778,
              "#fb9f3a"
             ],
             [
              0.8888888888888888,
              "#fdca26"
             ],
             [
              1,
              "#f0f921"
             ]
            ],
            "type": "histogram2d"
           }
          ],
          "histogram2dcontour": [
           {
            "colorbar": {
             "outlinewidth": 0,
             "ticks": ""
            },
            "colorscale": [
             [
              0,
              "#0d0887"
             ],
             [
              0.1111111111111111,
              "#46039f"
             ],
             [
              0.2222222222222222,
              "#7201a8"
             ],
             [
              0.3333333333333333,
              "#9c179e"
             ],
             [
              0.4444444444444444,
              "#bd3786"
             ],
             [
              0.5555555555555556,
              "#d8576b"
             ],
             [
              0.6666666666666666,
              "#ed7953"
             ],
             [
              0.7777777777777778,
              "#fb9f3a"
             ],
             [
              0.8888888888888888,
              "#fdca26"
             ],
             [
              1,
              "#f0f921"
             ]
            ],
            "type": "histogram2dcontour"
           }
          ],
          "mesh3d": [
           {
            "colorbar": {
             "outlinewidth": 0,
             "ticks": ""
            },
            "type": "mesh3d"
           }
          ],
          "parcoords": [
           {
            "line": {
             "colorbar": {
              "outlinewidth": 0,
              "ticks": ""
             }
            },
            "type": "parcoords"
           }
          ],
          "pie": [
           {
            "automargin": true,
            "type": "pie"
           }
          ],
          "scatter": [
           {
            "marker": {
             "colorbar": {
              "outlinewidth": 0,
              "ticks": ""
             }
            },
            "type": "scatter"
           }
          ],
          "scatter3d": [
           {
            "line": {
             "colorbar": {
              "outlinewidth": 0,
              "ticks": ""
             }
            },
            "marker": {
             "colorbar": {
              "outlinewidth": 0,
              "ticks": ""
             }
            },
            "type": "scatter3d"
           }
          ],
          "scattercarpet": [
           {
            "marker": {
             "colorbar": {
              "outlinewidth": 0,
              "ticks": ""
             }
            },
            "type": "scattercarpet"
           }
          ],
          "scattergeo": [
           {
            "marker": {
             "colorbar": {
              "outlinewidth": 0,
              "ticks": ""
             }
            },
            "type": "scattergeo"
           }
          ],
          "scattergl": [
           {
            "marker": {
             "colorbar": {
              "outlinewidth": 0,
              "ticks": ""
             }
            },
            "type": "scattergl"
           }
          ],
          "scattermapbox": [
           {
            "marker": {
             "colorbar": {
              "outlinewidth": 0,
              "ticks": ""
             }
            },
            "type": "scattermapbox"
           }
          ],
          "scatterpolar": [
           {
            "marker": {
             "colorbar": {
              "outlinewidth": 0,
              "ticks": ""
             }
            },
            "type": "scatterpolar"
           }
          ],
          "scatterpolargl": [
           {
            "marker": {
             "colorbar": {
              "outlinewidth": 0,
              "ticks": ""
             }
            },
            "type": "scatterpolargl"
           }
          ],
          "scatterternary": [
           {
            "marker": {
             "colorbar": {
              "outlinewidth": 0,
              "ticks": ""
             }
            },
            "type": "scatterternary"
           }
          ],
          "surface": [
           {
            "colorbar": {
             "outlinewidth": 0,
             "ticks": ""
            },
            "colorscale": [
             [
              0,
              "#0d0887"
             ],
             [
              0.1111111111111111,
              "#46039f"
             ],
             [
              0.2222222222222222,
              "#7201a8"
             ],
             [
              0.3333333333333333,
              "#9c179e"
             ],
             [
              0.4444444444444444,
              "#bd3786"
             ],
             [
              0.5555555555555556,
              "#d8576b"
             ],
             [
              0.6666666666666666,
              "#ed7953"
             ],
             [
              0.7777777777777778,
              "#fb9f3a"
             ],
             [
              0.8888888888888888,
              "#fdca26"
             ],
             [
              1,
              "#f0f921"
             ]
            ],
            "type": "surface"
           }
          ],
          "table": [
           {
            "cells": {
             "fill": {
              "color": "#EBF0F8"
             },
             "line": {
              "color": "white"
             }
            },
            "header": {
             "fill": {
              "color": "#C8D4E3"
             },
             "line": {
              "color": "white"
             }
            },
            "type": "table"
           }
          ]
         },
         "layout": {
          "annotationdefaults": {
           "arrowcolor": "#2a3f5f",
           "arrowhead": 0,
           "arrowwidth": 1
          },
          "autotypenumbers": "strict",
          "coloraxis": {
           "colorbar": {
            "outlinewidth": 0,
            "ticks": ""
           }
          },
          "colorscale": {
           "diverging": [
            [
             0,
             "#8e0152"
            ],
            [
             0.1,
             "#c51b7d"
            ],
            [
             0.2,
             "#de77ae"
            ],
            [
             0.3,
             "#f1b6da"
            ],
            [
             0.4,
             "#fde0ef"
            ],
            [
             0.5,
             "#f7f7f7"
            ],
            [
             0.6,
             "#e6f5d0"
            ],
            [
             0.7,
             "#b8e186"
            ],
            [
             0.8,
             "#7fbc41"
            ],
            [
             0.9,
             "#4d9221"
            ],
            [
             1,
             "#276419"
            ]
           ],
           "sequential": [
            [
             0,
             "#0d0887"
            ],
            [
             0.1111111111111111,
             "#46039f"
            ],
            [
             0.2222222222222222,
             "#7201a8"
            ],
            [
             0.3333333333333333,
             "#9c179e"
            ],
            [
             0.4444444444444444,
             "#bd3786"
            ],
            [
             0.5555555555555556,
             "#d8576b"
            ],
            [
             0.6666666666666666,
             "#ed7953"
            ],
            [
             0.7777777777777778,
             "#fb9f3a"
            ],
            [
             0.8888888888888888,
             "#fdca26"
            ],
            [
             1,
             "#f0f921"
            ]
           ],
           "sequentialminus": [
            [
             0,
             "#0d0887"
            ],
            [
             0.1111111111111111,
             "#46039f"
            ],
            [
             0.2222222222222222,
             "#7201a8"
            ],
            [
             0.3333333333333333,
             "#9c179e"
            ],
            [
             0.4444444444444444,
             "#bd3786"
            ],
            [
             0.5555555555555556,
             "#d8576b"
            ],
            [
             0.6666666666666666,
             "#ed7953"
            ],
            [
             0.7777777777777778,
             "#fb9f3a"
            ],
            [
             0.8888888888888888,
             "#fdca26"
            ],
            [
             1,
             "#f0f921"
            ]
           ]
          },
          "colorway": [
           "#636efa",
           "#EF553B",
           "#00cc96",
           "#ab63fa",
           "#FFA15A",
           "#19d3f3",
           "#FF6692",
           "#B6E880",
           "#FF97FF",
           "#FECB52"
          ],
          "font": {
           "color": "#2a3f5f"
          },
          "geo": {
           "bgcolor": "white",
           "lakecolor": "white",
           "landcolor": "#E5ECF6",
           "showlakes": true,
           "showland": true,
           "subunitcolor": "white"
          },
          "hoverlabel": {
           "align": "left"
          },
          "hovermode": "closest",
          "mapbox": {
           "style": "light"
          },
          "paper_bgcolor": "white",
          "plot_bgcolor": "#E5ECF6",
          "polar": {
           "angularaxis": {
            "gridcolor": "white",
            "linecolor": "white",
            "ticks": ""
           },
           "bgcolor": "#E5ECF6",
           "radialaxis": {
            "gridcolor": "white",
            "linecolor": "white",
            "ticks": ""
           }
          },
          "scene": {
           "xaxis": {
            "backgroundcolor": "#E5ECF6",
            "gridcolor": "white",
            "gridwidth": 2,
            "linecolor": "white",
            "showbackground": true,
            "ticks": "",
            "zerolinecolor": "white"
           },
           "yaxis": {
            "backgroundcolor": "#E5ECF6",
            "gridcolor": "white",
            "gridwidth": 2,
            "linecolor": "white",
            "showbackground": true,
            "ticks": "",
            "zerolinecolor": "white"
           },
           "zaxis": {
            "backgroundcolor": "#E5ECF6",
            "gridcolor": "white",
            "gridwidth": 2,
            "linecolor": "white",
            "showbackground": true,
            "ticks": "",
            "zerolinecolor": "white"
           }
          },
          "shapedefaults": {
           "line": {
            "color": "#2a3f5f"
           }
          },
          "ternary": {
           "aaxis": {
            "gridcolor": "white",
            "linecolor": "white",
            "ticks": ""
           },
           "baxis": {
            "gridcolor": "white",
            "linecolor": "white",
            "ticks": ""
           },
           "bgcolor": "#E5ECF6",
           "caxis": {
            "gridcolor": "white",
            "linecolor": "white",
            "ticks": ""
           }
          },
          "title": {
           "x": 0.05
          },
          "xaxis": {
           "automargin": true,
           "gridcolor": "white",
           "linecolor": "white",
           "ticks": "",
           "title": {
            "standoff": 15
           },
           "zerolinecolor": "white",
           "zerolinewidth": 2
          },
          "yaxis": {
           "automargin": true,
           "gridcolor": "white",
           "linecolor": "white",
           "ticks": "",
           "title": {
            "standoff": 15
           },
           "zerolinecolor": "white",
           "zerolinewidth": 2
          }
         }
        },
        "title": {
         "text": "СR в просмотр из сниппетов (прил+веб)"
        },
        "xaxis": {
         "anchor": "y",
         "domain": [
          0,
          1
         ],
         "title": {
          "text": "dt"
         }
        },
        "yaxis": {
         "anchor": "x",
         "domain": [
          0,
          1
         ],
         "title": {
          "text": "cr_view"
         }
        }
       }
      },
      "text/html": [
       "<div>                            <div id=\"a05574d0-676d-4774-bff5-cbd5ae555980\" class=\"plotly-graph-div\" style=\"height:525px; width:100%;\"></div>            <script type=\"text/javascript\">                require([\"plotly\"], function(Plotly) {                    window.PLOTLYENV=window.PLOTLYENV || {};                                    if (document.getElementById(\"a05574d0-676d-4774-bff5-cbd5ae555980\")) {                    Plotly.newPlot(                        \"a05574d0-676d-4774-bff5-cbd5ae555980\",                        [{\"hovertemplate\":\"screen=group<br>dt=%{x}<br>cr_view=%{y}<extra></extra>\",\"legendgroup\":\"group\",\"line\":{\"color\":\"#636efa\",\"dash\":\"solid\"},\"marker\":{\"symbol\":\"circle\"},\"mode\":\"lines\",\"name\":\"group\",\"orientation\":\"v\",\"showlegend\":true,\"type\":\"scatter\",\"x\":[\"2022-01-05\",\"2022-01-06\",\"2022-01-07\",\"2022-01-08\",\"2022-01-09\",\"2022-01-10\",\"2022-01-11\",\"2022-01-12\",\"2022-01-13\",\"2022-01-14\",\"2022-01-15\",\"2022-01-16\",\"2022-01-17\",\"2022-01-18\",\"2022-01-19\",\"2022-01-20\"],\"xaxis\":\"x\",\"y\":[8.29,8.22,8.29,8.53,9.04,8.5,8.28,7.98,7.44,7.22,7.79,8.39,8.17,8.01,8.17,8.03],\"yaxis\":\"y\"},{\"hovertemplate\":\"screen=feed<br>dt=%{x}<br>cr_view=%{y}<extra></extra>\",\"legendgroup\":\"feed\",\"line\":{\"color\":\"#EF553B\",\"dash\":\"solid\"},\"marker\":{\"symbol\":\"circle\"},\"mode\":\"lines\",\"name\":\"feed\",\"orientation\":\"v\",\"showlegend\":true,\"type\":\"scatter\",\"x\":[\"2022-01-05\",\"2022-01-06\",\"2022-01-07\",\"2022-01-08\",\"2022-01-09\",\"2022-01-10\",\"2022-01-11\",\"2022-01-12\",\"2022-01-13\",\"2022-01-14\",\"2022-01-15\",\"2022-01-16\",\"2022-01-17\",\"2022-01-18\",\"2022-01-19\",\"2022-01-20\"],\"xaxis\":\"x\",\"y\":[6.6,6.4,6.42,6.65,7.07,6.54,6.57,6.18,6.09,5.79,5.91,6.36,6.28,6.2,6.1,6.21],\"yaxis\":\"y\"}],                        {\"legend\":{\"title\":{\"text\":\"screen\"},\"tracegroupgap\":0},\"template\":{\"data\":{\"bar\":[{\"error_x\":{\"color\":\"#2a3f5f\"},\"error_y\":{\"color\":\"#2a3f5f\"},\"marker\":{\"line\":{\"color\":\"#E5ECF6\",\"width\":0.5},\"pattern\":{\"fillmode\":\"overlay\",\"size\":10,\"solidity\":0.2}},\"type\":\"bar\"}],\"barpolar\":[{\"marker\":{\"line\":{\"color\":\"#E5ECF6\",\"width\":0.5},\"pattern\":{\"fillmode\":\"overlay\",\"size\":10,\"solidity\":0.2}},\"type\":\"barpolar\"}],\"carpet\":[{\"aaxis\":{\"endlinecolor\":\"#2a3f5f\",\"gridcolor\":\"white\",\"linecolor\":\"white\",\"minorgridcolor\":\"white\",\"startlinecolor\":\"#2a3f5f\"},\"baxis\":{\"endlinecolor\":\"#2a3f5f\",\"gridcolor\":\"white\",\"linecolor\":\"white\",\"minorgridcolor\":\"white\",\"startlinecolor\":\"#2a3f5f\"},\"type\":\"carpet\"}],\"choropleth\":[{\"colorbar\":{\"outlinewidth\":0,\"ticks\":\"\"},\"type\":\"choropleth\"}],\"contour\":[{\"colorbar\":{\"outlinewidth\":0,\"ticks\":\"\"},\"colorscale\":[[0.0,\"#0d0887\"],[0.1111111111111111,\"#46039f\"],[0.2222222222222222,\"#7201a8\"],[0.3333333333333333,\"#9c179e\"],[0.4444444444444444,\"#bd3786\"],[0.5555555555555556,\"#d8576b\"],[0.6666666666666666,\"#ed7953\"],[0.7777777777777778,\"#fb9f3a\"],[0.8888888888888888,\"#fdca26\"],[1.0,\"#f0f921\"]],\"type\":\"contour\"}],\"contourcarpet\":[{\"colorbar\":{\"outlinewidth\":0,\"ticks\":\"\"},\"type\":\"contourcarpet\"}],\"heatmap\":[{\"colorbar\":{\"outlinewidth\":0,\"ticks\":\"\"},\"colorscale\":[[0.0,\"#0d0887\"],[0.1111111111111111,\"#46039f\"],[0.2222222222222222,\"#7201a8\"],[0.3333333333333333,\"#9c179e\"],[0.4444444444444444,\"#bd3786\"],[0.5555555555555556,\"#d8576b\"],[0.6666666666666666,\"#ed7953\"],[0.7777777777777778,\"#fb9f3a\"],[0.8888888888888888,\"#fdca26\"],[1.0,\"#f0f921\"]],\"type\":\"heatmap\"}],\"heatmapgl\":[{\"colorbar\":{\"outlinewidth\":0,\"ticks\":\"\"},\"colorscale\":[[0.0,\"#0d0887\"],[0.1111111111111111,\"#46039f\"],[0.2222222222222222,\"#7201a8\"],[0.3333333333333333,\"#9c179e\"],[0.4444444444444444,\"#bd3786\"],[0.5555555555555556,\"#d8576b\"],[0.6666666666666666,\"#ed7953\"],[0.7777777777777778,\"#fb9f3a\"],[0.8888888888888888,\"#fdca26\"],[1.0,\"#f0f921\"]],\"type\":\"heatmapgl\"}],\"histogram\":[{\"marker\":{\"pattern\":{\"fillmode\":\"overlay\",\"size\":10,\"solidity\":0.2}},\"type\":\"histogram\"}],\"histogram2d\":[{\"colorbar\":{\"outlinewidth\":0,\"ticks\":\"\"},\"colorscale\":[[0.0,\"#0d0887\"],[0.1111111111111111,\"#46039f\"],[0.2222222222222222,\"#7201a8\"],[0.3333333333333333,\"#9c179e\"],[0.4444444444444444,\"#bd3786\"],[0.5555555555555556,\"#d8576b\"],[0.6666666666666666,\"#ed7953\"],[0.7777777777777778,\"#fb9f3a\"],[0.8888888888888888,\"#fdca26\"],[1.0,\"#f0f921\"]],\"type\":\"histogram2d\"}],\"histogram2dcontour\":[{\"colorbar\":{\"outlinewidth\":0,\"ticks\":\"\"},\"colorscale\":[[0.0,\"#0d0887\"],[0.1111111111111111,\"#46039f\"],[0.2222222222222222,\"#7201a8\"],[0.3333333333333333,\"#9c179e\"],[0.4444444444444444,\"#bd3786\"],[0.5555555555555556,\"#d8576b\"],[0.6666666666666666,\"#ed7953\"],[0.7777777777777778,\"#fb9f3a\"],[0.8888888888888888,\"#fdca26\"],[1.0,\"#f0f921\"]],\"type\":\"histogram2dcontour\"}],\"mesh3d\":[{\"colorbar\":{\"outlinewidth\":0,\"ticks\":\"\"},\"type\":\"mesh3d\"}],\"parcoords\":[{\"line\":{\"colorbar\":{\"outlinewidth\":0,\"ticks\":\"\"}},\"type\":\"parcoords\"}],\"pie\":[{\"automargin\":true,\"type\":\"pie\"}],\"scatter\":[{\"marker\":{\"colorbar\":{\"outlinewidth\":0,\"ticks\":\"\"}},\"type\":\"scatter\"}],\"scatter3d\":[{\"line\":{\"colorbar\":{\"outlinewidth\":0,\"ticks\":\"\"}},\"marker\":{\"colorbar\":{\"outlinewidth\":0,\"ticks\":\"\"}},\"type\":\"scatter3d\"}],\"scattercarpet\":[{\"marker\":{\"colorbar\":{\"outlinewidth\":0,\"ticks\":\"\"}},\"type\":\"scattercarpet\"}],\"scattergeo\":[{\"marker\":{\"colorbar\":{\"outlinewidth\":0,\"ticks\":\"\"}},\"type\":\"scattergeo\"}],\"scattergl\":[{\"marker\":{\"colorbar\":{\"outlinewidth\":0,\"ticks\":\"\"}},\"type\":\"scattergl\"}],\"scattermapbox\":[{\"marker\":{\"colorbar\":{\"outlinewidth\":0,\"ticks\":\"\"}},\"type\":\"scattermapbox\"}],\"scatterpolar\":[{\"marker\":{\"colorbar\":{\"outlinewidth\":0,\"ticks\":\"\"}},\"type\":\"scatterpolar\"}],\"scatterpolargl\":[{\"marker\":{\"colorbar\":{\"outlinewidth\":0,\"ticks\":\"\"}},\"type\":\"scatterpolargl\"}],\"scatterternary\":[{\"marker\":{\"colorbar\":{\"outlinewidth\":0,\"ticks\":\"\"}},\"type\":\"scatterternary\"}],\"surface\":[{\"colorbar\":{\"outlinewidth\":0,\"ticks\":\"\"},\"colorscale\":[[0.0,\"#0d0887\"],[0.1111111111111111,\"#46039f\"],[0.2222222222222222,\"#7201a8\"],[0.3333333333333333,\"#9c179e\"],[0.4444444444444444,\"#bd3786\"],[0.5555555555555556,\"#d8576b\"],[0.6666666666666666,\"#ed7953\"],[0.7777777777777778,\"#fb9f3a\"],[0.8888888888888888,\"#fdca26\"],[1.0,\"#f0f921\"]],\"type\":\"surface\"}],\"table\":[{\"cells\":{\"fill\":{\"color\":\"#EBF0F8\"},\"line\":{\"color\":\"white\"}},\"header\":{\"fill\":{\"color\":\"#C8D4E3\"},\"line\":{\"color\":\"white\"}},\"type\":\"table\"}]},\"layout\":{\"annotationdefaults\":{\"arrowcolor\":\"#2a3f5f\",\"arrowhead\":0,\"arrowwidth\":1},\"autotypenumbers\":\"strict\",\"coloraxis\":{\"colorbar\":{\"outlinewidth\":0,\"ticks\":\"\"}},\"colorscale\":{\"diverging\":[[0,\"#8e0152\"],[0.1,\"#c51b7d\"],[0.2,\"#de77ae\"],[0.3,\"#f1b6da\"],[0.4,\"#fde0ef\"],[0.5,\"#f7f7f7\"],[0.6,\"#e6f5d0\"],[0.7,\"#b8e186\"],[0.8,\"#7fbc41\"],[0.9,\"#4d9221\"],[1,\"#276419\"]],\"sequential\":[[0.0,\"#0d0887\"],[0.1111111111111111,\"#46039f\"],[0.2222222222222222,\"#7201a8\"],[0.3333333333333333,\"#9c179e\"],[0.4444444444444444,\"#bd3786\"],[0.5555555555555556,\"#d8576b\"],[0.6666666666666666,\"#ed7953\"],[0.7777777777777778,\"#fb9f3a\"],[0.8888888888888888,\"#fdca26\"],[1.0,\"#f0f921\"]],\"sequentialminus\":[[0.0,\"#0d0887\"],[0.1111111111111111,\"#46039f\"],[0.2222222222222222,\"#7201a8\"],[0.3333333333333333,\"#9c179e\"],[0.4444444444444444,\"#bd3786\"],[0.5555555555555556,\"#d8576b\"],[0.6666666666666666,\"#ed7953\"],[0.7777777777777778,\"#fb9f3a\"],[0.8888888888888888,\"#fdca26\"],[1.0,\"#f0f921\"]]},\"colorway\":[\"#636efa\",\"#EF553B\",\"#00cc96\",\"#ab63fa\",\"#FFA15A\",\"#19d3f3\",\"#FF6692\",\"#B6E880\",\"#FF97FF\",\"#FECB52\"],\"font\":{\"color\":\"#2a3f5f\"},\"geo\":{\"bgcolor\":\"white\",\"lakecolor\":\"white\",\"landcolor\":\"#E5ECF6\",\"showlakes\":true,\"showland\":true,\"subunitcolor\":\"white\"},\"hoverlabel\":{\"align\":\"left\"},\"hovermode\":\"closest\",\"mapbox\":{\"style\":\"light\"},\"paper_bgcolor\":\"white\",\"plot_bgcolor\":\"#E5ECF6\",\"polar\":{\"angularaxis\":{\"gridcolor\":\"white\",\"linecolor\":\"white\",\"ticks\":\"\"},\"bgcolor\":\"#E5ECF6\",\"radialaxis\":{\"gridcolor\":\"white\",\"linecolor\":\"white\",\"ticks\":\"\"}},\"scene\":{\"xaxis\":{\"backgroundcolor\":\"#E5ECF6\",\"gridcolor\":\"white\",\"gridwidth\":2,\"linecolor\":\"white\",\"showbackground\":true,\"ticks\":\"\",\"zerolinecolor\":\"white\"},\"yaxis\":{\"backgroundcolor\":\"#E5ECF6\",\"gridcolor\":\"white\",\"gridwidth\":2,\"linecolor\":\"white\",\"showbackground\":true,\"ticks\":\"\",\"zerolinecolor\":\"white\"},\"zaxis\":{\"backgroundcolor\":\"#E5ECF6\",\"gridcolor\":\"white\",\"gridwidth\":2,\"linecolor\":\"white\",\"showbackground\":true,\"ticks\":\"\",\"zerolinecolor\":\"white\"}},\"shapedefaults\":{\"line\":{\"color\":\"#2a3f5f\"}},\"ternary\":{\"aaxis\":{\"gridcolor\":\"white\",\"linecolor\":\"white\",\"ticks\":\"\"},\"baxis\":{\"gridcolor\":\"white\",\"linecolor\":\"white\",\"ticks\":\"\"},\"bgcolor\":\"#E5ECF6\",\"caxis\":{\"gridcolor\":\"white\",\"linecolor\":\"white\",\"ticks\":\"\"}},\"title\":{\"x\":0.05},\"xaxis\":{\"automargin\":true,\"gridcolor\":\"white\",\"linecolor\":\"white\",\"ticks\":\"\",\"title\":{\"standoff\":15},\"zerolinecolor\":\"white\",\"zerolinewidth\":2},\"yaxis\":{\"automargin\":true,\"gridcolor\":\"white\",\"linecolor\":\"white\",\"ticks\":\"\",\"title\":{\"standoff\":15},\"zerolinecolor\":\"white\",\"zerolinewidth\":2}}},\"title\":{\"text\":\"\\u0421R \\u0432 \\u043f\\u0440\\u043e\\u0441\\u043c\\u043e\\u0442\\u0440 \\u0438\\u0437 \\u0441\\u043d\\u0438\\u043f\\u043f\\u0435\\u0442\\u043e\\u0432 (\\u043f\\u0440\\u0438\\u043b+\\u0432\\u0435\\u0431)\"},\"xaxis\":{\"anchor\":\"y\",\"domain\":[0.0,1.0],\"title\":{\"text\":\"dt\"}},\"yaxis\":{\"anchor\":\"x\",\"domain\":[0.0,1.0],\"title\":{\"text\":\"cr_view\"}}},                        {\"responsive\": true}                    ).then(function(){\n",
       "                            \n",
       "var gd = document.getElementById('a05574d0-676d-4774-bff5-cbd5ae555980');\n",
       "var x = new MutationObserver(function (mutations, observer) {{\n",
       "        var display = window.getComputedStyle(gd).display;\n",
       "        if (!display || display === 'none') {{\n",
       "            console.log([gd, 'removed!']);\n",
       "            Plotly.purge(gd);\n",
       "            observer.disconnect();\n",
       "        }}\n",
       "}});\n",
       "\n",
       "// Listen for the removal of the full notebook cells\n",
       "var notebookContainer = gd.closest('#notebook-container');\n",
       "if (notebookContainer) {{\n",
       "    x.observe(notebookContainer, {childList: true});\n",
       "}}\n",
       "\n",
       "// Listen for the clearing of the current output cell\n",
       "var outputEl = gd.closest('.output');\n",
       "if (outputEl) {{\n",
       "    x.observe(outputEl, {childList: true});\n",
       "}}\n",
       "\n",
       "                        })                };                });            </script>        </div>"
      ]
     },
     "metadata": {},
     "output_type": "display_data"
    }
   ],
   "source": [
    "\n",
    "fig = px.line(df_snippet_xs, x=\"dt\", y=\"cr_view\",color='screen',title='СR в просмотр из сниппетов (прил+веб)')\n",
    "fig.show()"
   ]
  },
  {
   "cell_type": "code",
   "execution_count": null,
   "id": "6654db45",
   "metadata": {},
   "outputs": [],
   "source": []
  },
  {
   "cell_type": "code",
   "execution_count": null,
   "id": "e089f480",
   "metadata": {},
   "outputs": [],
   "source": []
  },
  {
   "cell_type": "code",
   "execution_count": null,
   "id": "fd0d76d8",
   "metadata": {},
   "outputs": [],
   "source": []
  },
  {
   "cell_type": "code",
   "execution_count": null,
   "id": "46cda781",
   "metadata": {},
   "outputs": [],
   "source": []
  },
  {
   "cell_type": "code",
   "execution_count": null,
   "id": "b7784c7c",
   "metadata": {},
   "outputs": [],
   "source": []
  },
  {
   "cell_type": "code",
   "execution_count": null,
   "id": "a1c3a57a",
   "metadata": {},
   "outputs": [],
   "source": []
  },
  {
   "cell_type": "code",
   "execution_count": 147,
   "id": "a86124a5",
   "metadata": {},
   "outputs": [
    {
     "data": {
      "text/plain": [
       "array(['seller_profile', None, 'profile'], dtype=object)"
      ]
     },
     "execution_count": 147,
     "metadata": {},
     "output_type": "execute_result"
    }
   ],
   "source": [
    "df_view_total[(df_view_total.vk_source=='wall%') & (df_view_total.search_type.isin(['feed','group']))].source_view.unique()\n",
    "\n"
   ]
  },
  {
   "cell_type": "code",
   "execution_count": 131,
   "id": "7fe55815",
   "metadata": {},
   "outputs": [],
   "source": [
    "dt_start='2022-01-10' \n",
    "dt_end ='2022-01-20'"
   ]
  },
  {
   "cell_type": "code",
   "execution_count": null,
   "id": "bf02c857",
   "metadata": {},
   "outputs": [],
   "source": []
  },
  {
   "cell_type": "code",
   "execution_count": 166,
   "id": "536baf42",
   "metadata": {},
   "outputs": [],
   "source": [
    "df_contact_manual= sql_to_df(\"\"\"\n",
    "\n",
    "\n",
    "SELECT 'Сниппет группа' traffic_type,\n",
    "                        cast(v_dt AS date),\n",
    "                        count(DISTINCT v_event_id) cnt_view,\n",
    "                        count(DISTINCT v_user_id) v_users,\n",
    "                        count(DISTINCT v_product_id) v_prods,\n",
    "                        count(DISTINCT c_event_id) cnt_con,\n",
    "                        count(DISTINCT c_user_id) c_users,\n",
    "                        count(DISTINCT c_product_id) c_prods\n",
    "FROM\n",
    "  (SELECT v.user_id AS v_user_id,\n",
    "          v.dt AS v_dt,\n",
    "          v.event_id AS v_event_id,\n",
    "          v.product_id AS v_product_id,\n",
    "          c.event_id c_event_id,\n",
    "          c.user_id c_user_id,\n",
    "          c.product_id AS c_product_id\n",
    "   FROM\n",
    "     (SELECT coalesce(sender_id,client_user_id) user_id,\n",
    "             product_id,\n",
    "             dt,\n",
    "             count(DISTINCT event_id) event_id\n",
    "      FROM topics.y_user_product_counter_new m\n",
    "      WHERE dt>='{0}'\n",
    "        AND dt<='{1}'\n",
    "        AND event_name='prod.view'\n",
    "        AND coalesce(client_platform,platform)='vk_mini_app'\n",
    "        AND search_type = 'group'\n",
    "        AND vk_source LIKE 'wall%'\n",
    "      GROUP BY coalesce(sender_id,client_user_id),\n",
    "               product_id,\n",
    "               dt) v\n",
    "   LEFT JOIN\n",
    "     (SELECT coalesce(sender_id,client_user_id) user_id,\n",
    "             event_id,\n",
    "             product_id,\n",
    "             CASE\n",
    "                 WHEN lower(client_agent) LIKE '%android%' THEN 'android'\n",
    "                 WHEN lower(client_agent) LIKE '%iphone%' THEN 'ios'\n",
    "                 ELSE 'other'\n",
    "             END AS vk_platform,\n",
    "             dt\n",
    "      FROM topics.y_user_user_counter\n",
    "      WHERE dt>='{0}'\n",
    "        AND dt<='{1}'\n",
    "        AND event_name IN ('usr.presscall',\n",
    "                           'chat.first_message')\n",
    "        AND coalesce(client_platform,platform) = 'vk_mini_app'\n",
    "        AND get_json_object(sources,'$.previous.screen') = 'snippet' ) c ON v.user_id=c.user_id\n",
    "   AND v.dt=c.dt\n",
    "   AND c.product_id=v.product_id)t\n",
    "GROUP BY v_dt\n",
    "\n",
    "  \n",
    "UNION \n",
    "\n",
    "select 'Сниппет лента' traffic_type,\n",
    "                        cast(v_dt AS date),\n",
    "                        count(DISTINCT v_event_id) cnt_view,\n",
    "                        count(DISTINCT v_user_id) v_users,\n",
    "                        count(DISTINCT v_product_id) v_prods,\n",
    "                        count(DISTINCT c_event_id) cnt_con,\n",
    "                        count(DISTINCT c_user_id) c_users,\n",
    "                        count(DISTINCT c_product_id) c_prods\n",
    "FROM\n",
    "  (SELECT v.user_id AS v_user_id,\n",
    "          v.dt AS v_dt,\n",
    "          v.event_id AS v_event_id,\n",
    "          v.product_id AS v_product_id,\n",
    "          c.event_id c_event_id,\n",
    "          c.user_id c_user_id,\n",
    "          c.product_id AS c_product_id\n",
    "   FROM\n",
    "     (SELECT coalesce(sender_id,client_user_id) user_id,\n",
    "             product_id,\n",
    "             dt,\n",
    "             count(DISTINCT event_id) event_id\n",
    "      FROM topics.y_user_product_counter_new m\n",
    "      WHERE dt>='{0}'\n",
    "        AND dt<='{1}'\n",
    "        AND event_name='prod.view'\n",
    "        AND coalesce(client_platform,platform)='vk_mini_app'\n",
    "        AND search_type = 'feed'\n",
    "        AND vk_source LIKE 'wall%'\n",
    "      GROUP BY coalesce(sender_id,client_user_id),\n",
    "               product_id,\n",
    "               dt) v\n",
    "   LEFT JOIN\n",
    "     (SELECT coalesce(sender_id,client_user_id) user_id,\n",
    "             event_id,\n",
    "             product_id,\n",
    "             CASE\n",
    "                 WHEN lower(client_agent) LIKE '%android%' THEN 'android'\n",
    "                 WHEN lower(client_agent) LIKE '%iphone%' THEN 'ios'\n",
    "                 ELSE 'other'\n",
    "             END AS vk_platform,\n",
    "             dt\n",
    "      FROM topics.y_user_user_counter\n",
    "      WHERE dt>='{0}'\n",
    "        AND dt<='{1}'\n",
    "        AND event_name IN ('usr.presscall',\n",
    "                           'chat.first_message')\n",
    "        AND coalesce(client_platform,platform) = 'vk_mini_app'\n",
    "        AND get_json_object(sources,'$.previous.screen') = 'snippet' ) c ON v.user_id=c.user_id\n",
    "   AND v.dt=c.dt\n",
    "   AND c.product_id=v.product_id)t\n",
    "GROUP BY v_dt\n",
    "\n",
    "\n",
    "\n",
    "UNION \n",
    "\n",
    "\n",
    "SELECT 'Портлеты' traffic_type,\n",
    "                        cast(v_dt AS date),\n",
    "                        count(DISTINCT v_event_id) cnt_view,\n",
    "                        count(DISTINCT v_user_id) v_users,\n",
    "                        count(DISTINCT v_product_id) v_prods,\n",
    "                        count(DISTINCT c_event_id) cnt_con,\n",
    "                        count(DISTINCT c_user_id) c_users,\n",
    "                        count(DISTINCT c_product_id) c_prods\n",
    "FROM\n",
    "  (SELECT v.user_id AS v_user_id,\n",
    "          v.dt AS v_dt,\n",
    "          v.event_id AS v_event_id,\n",
    "          v.product_id AS v_product_id,\n",
    "          c.event_id c_event_id,\n",
    "          c.user_id c_user_id,\n",
    "          c.product_id AS c_product_id\n",
    "   FROM\n",
    "     (SELECT coalesce(sender_id,client_user_id) user_id,\n",
    "             product_id,\n",
    "             dt,\n",
    "             count(DISTINCT event_id) event_id\n",
    "      FROM topics.y_user_product_counter_new m\n",
    "      WHERE dt>='{0}'\n",
    "        AND dt<='{1}'\n",
    "        AND event_name='prod.view'\n",
    "        AND coalesce(client_platform,platform)='vk_mini_app'\n",
    "        AND search_type = 'vk_recommendations'\n",
    "      GROUP BY coalesce(sender_id,client_user_id),\n",
    "               product_id,\n",
    "               dt) v\n",
    "   LEFT JOIN\n",
    "     (SELECT coalesce(sender_id,client_user_id) user_id,\n",
    "             event_id,\n",
    "             product_id,\n",
    "             CASE\n",
    "                 WHEN lower(client_agent) LIKE '%android%' THEN 'android'\n",
    "                 WHEN lower(client_agent) LIKE '%iphone%' THEN 'ios'\n",
    "                 ELSE 'other'\n",
    "             END AS vk_platform,\n",
    "             dt\n",
    "      FROM topics.y_user_user_counter\n",
    "      WHERE dt>='{0}'\n",
    "        AND dt<='{1}'\n",
    "        AND event_name IN ('usr.presscall',\n",
    "                           'chat.first_message')\n",
    "        AND coalesce(client_platform,platform) = 'vk_mini_app'\n",
    "        AND get_json_object(sources,'$.previous.screen') = 'vk_recommendations' ) c ON v.user_id=c.user_id\n",
    "   AND v.dt=c.dt\n",
    "   AND c.product_id=v.product_id)t\n",
    "GROUP BY v_dt\n",
    "\n",
    "\n",
    "\n",
    "\n",
    "UNION \n",
    "\n",
    "select 'Главная ВКО'  traffic_type,\n",
    "                        cast(v_dt AS date),\n",
    "                        count(DISTINCT v_event_id) cnt_view,\n",
    "                        count(DISTINCT v_user_id) v_users,\n",
    "                        count(DISTINCT v_product_id) v_prods,\n",
    "                        count(DISTINCT c_event_id) cnt_con,\n",
    "                        count(DISTINCT c_user_id) c_users,\n",
    "                        count(DISTINCT c_product_id) c_prods\n",
    "FROM\n",
    "  (SELECT v.user_id AS v_user_id,\n",
    "          v.dt AS v_dt,\n",
    "          v.event_id AS v_event_id,\n",
    "          v.product_id AS v_product_id,\n",
    "          c.event_id c_event_id,\n",
    "          c.user_id c_user_id,\n",
    "          c.product_id AS c_product_id\n",
    "   FROM\n",
    "     (SELECT coalesce(sender_id,client_user_id) user_id,\n",
    "             product_id,\n",
    "             dt,\n",
    "             search_id,\n",
    "             count(DISTINCT event_id) event_id\n",
    "      FROM topics.y_user_product_counter_new m\n",
    "      WHERE dt>='{0}'\n",
    "        AND dt<='{1}'\n",
    "        AND event_name='prod.view'\n",
    "        AND coalesce(client_platform,platform)='vk_mini_app'\n",
    "      GROUP BY coalesce(sender_id,client_user_id),\n",
    "               product_id,\n",
    "               search_id,\n",
    "               dt) v\n",
    "JOIN\n",
    "    (SELECT search_id\n",
    "    FROM topics.y_searches\n",
    "    WHERE coalesce(client_platform,platform)='vk_mini_app'\n",
    "        AND dt>='{0}'\n",
    "        AND dt<='{1}'\n",
    "        and size(categories)>1) srch on srch.search_id=v.search_id\n",
    "LEFT JOIN\n",
    "     (SELECT coalesce(sender_id,client_user_id) user_id,\n",
    "             event_id,\n",
    "             product_id,\n",
    "             CASE\n",
    "                 WHEN lower(client_agent) LIKE '%android%' THEN 'android'\n",
    "                 WHEN lower(client_agent) LIKE '%iphone%' THEN 'ios'\n",
    "                 ELSE 'other'\n",
    "             END AS vk_platform,\n",
    "             dt\n",
    "      FROM topics.y_user_user_counter\n",
    "      WHERE dt>='{0}'\n",
    "        AND dt<='{1}'\n",
    "        AND event_name IN ('usr.presscall',\n",
    "                           'chat.first_message')\n",
    "        AND coalesce(client_platform,platform) = 'vk_mini_app') c ON v.user_id=c.user_id\n",
    "   AND v.dt=c.dt\n",
    "   AND c.product_id=v.product_id)t\n",
    "GROUP BY v_dt\n",
    "\n",
    "\n",
    "\"\"\".format(dt_start,dt_end),con)"
   ]
  },
  {
   "cell_type": "code",
   "execution_count": 167,
   "id": "f2fb87d5",
   "metadata": {},
   "outputs": [
    {
     "data": {
      "text/html": [
       "<div>\n",
       "<style scoped>\n",
       "    .dataframe tbody tr th:only-of-type {\n",
       "        vertical-align: middle;\n",
       "    }\n",
       "\n",
       "    .dataframe tbody tr th {\n",
       "        vertical-align: top;\n",
       "    }\n",
       "\n",
       "    .dataframe thead th {\n",
       "        text-align: right;\n",
       "    }\n",
       "</style>\n",
       "<table border=\"1\" class=\"dataframe\">\n",
       "  <thead>\n",
       "    <tr style=\"text-align: right;\">\n",
       "      <th></th>\n",
       "      <th>_u4.traffic_type</th>\n",
       "      <th>_u4._c1</th>\n",
       "      <th>_u4.cnt_view</th>\n",
       "      <th>_u4.v_users</th>\n",
       "      <th>_u4.v_prods</th>\n",
       "      <th>_u4.cnt_con</th>\n",
       "      <th>_u4.c_users</th>\n",
       "      <th>_u4.c_prods</th>\n",
       "    </tr>\n",
       "  </thead>\n",
       "  <tbody>\n",
       "    <tr>\n",
       "      <th>0</th>\n",
       "      <td>Сниппет лента</td>\n",
       "      <td>2022-01-12</td>\n",
       "      <td>20</td>\n",
       "      <td>488098</td>\n",
       "      <td>119854</td>\n",
       "      <td>3438</td>\n",
       "      <td>3211</td>\n",
       "      <td>2926</td>\n",
       "    </tr>\n",
       "    <tr>\n",
       "      <th>1</th>\n",
       "      <td>Сниппет группа</td>\n",
       "      <td>2022-01-12</td>\n",
       "      <td>15</td>\n",
       "      <td>142171</td>\n",
       "      <td>107222</td>\n",
       "      <td>4559</td>\n",
       "      <td>4028</td>\n",
       "      <td>4091</td>\n",
       "    </tr>\n",
       "    <tr>\n",
       "      <th>2</th>\n",
       "      <td>Сниппет лента</td>\n",
       "      <td>2022-01-14</td>\n",
       "      <td>13</td>\n",
       "      <td>419393</td>\n",
       "      <td>106271</td>\n",
       "      <td>2867</td>\n",
       "      <td>2706</td>\n",
       "      <td>2481</td>\n",
       "    </tr>\n",
       "    <tr>\n",
       "      <th>3</th>\n",
       "      <td>Главная ВКО</td>\n",
       "      <td>2022-01-13</td>\n",
       "      <td>11</td>\n",
       "      <td>45905</td>\n",
       "      <td>129850</td>\n",
       "      <td>3451</td>\n",
       "      <td>2318</td>\n",
       "      <td>3029</td>\n",
       "    </tr>\n",
       "    <tr>\n",
       "      <th>4</th>\n",
       "      <td>Главная ВКО</td>\n",
       "      <td>2022-01-19</td>\n",
       "      <td>15</td>\n",
       "      <td>43927</td>\n",
       "      <td>125412</td>\n",
       "      <td>3420</td>\n",
       "      <td>2228</td>\n",
       "      <td>3012</td>\n",
       "    </tr>\n",
       "    <tr>\n",
       "      <th>5</th>\n",
       "      <td>Главная ВКО</td>\n",
       "      <td>2022-01-16</td>\n",
       "      <td>22</td>\n",
       "      <td>49336</td>\n",
       "      <td>144584</td>\n",
       "      <td>3841</td>\n",
       "      <td>2453</td>\n",
       "      <td>3361</td>\n",
       "    </tr>\n",
       "    <tr>\n",
       "      <th>6</th>\n",
       "      <td>Портлеты</td>\n",
       "      <td>2022-01-18</td>\n",
       "      <td>19</td>\n",
       "      <td>248603</td>\n",
       "      <td>89855</td>\n",
       "      <td>4677</td>\n",
       "      <td>4183</td>\n",
       "      <td>3176</td>\n",
       "    </tr>\n",
       "    <tr>\n",
       "      <th>7</th>\n",
       "      <td>Главная ВКО</td>\n",
       "      <td>2022-01-15</td>\n",
       "      <td>14</td>\n",
       "      <td>45907</td>\n",
       "      <td>133213</td>\n",
       "      <td>3566</td>\n",
       "      <td>2326</td>\n",
       "      <td>3146</td>\n",
       "    </tr>\n",
       "    <tr>\n",
       "      <th>8</th>\n",
       "      <td>Портлеты</td>\n",
       "      <td>2022-01-17</td>\n",
       "      <td>15</td>\n",
       "      <td>259450</td>\n",
       "      <td>92138</td>\n",
       "      <td>4658</td>\n",
       "      <td>4190</td>\n",
       "      <td>3159</td>\n",
       "    </tr>\n",
       "    <tr>\n",
       "      <th>9</th>\n",
       "      <td>Портлеты</td>\n",
       "      <td>2022-01-13</td>\n",
       "      <td>15</td>\n",
       "      <td>281245</td>\n",
       "      <td>120177</td>\n",
       "      <td>5344</td>\n",
       "      <td>4807</td>\n",
       "      <td>3654</td>\n",
       "    </tr>\n",
       "    <tr>\n",
       "      <th>10</th>\n",
       "      <td>Сниппет группа</td>\n",
       "      <td>2022-01-20</td>\n",
       "      <td>16</td>\n",
       "      <td>136369</td>\n",
       "      <td>104078</td>\n",
       "      <td>4512</td>\n",
       "      <td>3877</td>\n",
       "      <td>3978</td>\n",
       "    </tr>\n",
       "    <tr>\n",
       "      <th>11</th>\n",
       "      <td>Сниппет группа</td>\n",
       "      <td>2022-01-17</td>\n",
       "      <td>14</td>\n",
       "      <td>141756</td>\n",
       "      <td>104948</td>\n",
       "      <td>4450</td>\n",
       "      <td>3927</td>\n",
       "      <td>4016</td>\n",
       "    </tr>\n",
       "    <tr>\n",
       "      <th>12</th>\n",
       "      <td>Сниппет лента</td>\n",
       "      <td>2022-01-19</td>\n",
       "      <td>13</td>\n",
       "      <td>412603</td>\n",
       "      <td>115347</td>\n",
       "      <td>2778</td>\n",
       "      <td>2611</td>\n",
       "      <td>2433</td>\n",
       "    </tr>\n",
       "    <tr>\n",
       "      <th>13</th>\n",
       "      <td>Сниппет лента</td>\n",
       "      <td>2022-01-18</td>\n",
       "      <td>15</td>\n",
       "      <td>492968</td>\n",
       "      <td>127252</td>\n",
       "      <td>3160</td>\n",
       "      <td>2986</td>\n",
       "      <td>2746</td>\n",
       "    </tr>\n",
       "    <tr>\n",
       "      <th>14</th>\n",
       "      <td>Сниппет лента</td>\n",
       "      <td>2022-01-10</td>\n",
       "      <td>16</td>\n",
       "      <td>559799</td>\n",
       "      <td>136305</td>\n",
       "      <td>3676</td>\n",
       "      <td>3474</td>\n",
       "      <td>3169</td>\n",
       "    </tr>\n",
       "    <tr>\n",
       "      <th>15</th>\n",
       "      <td>Сниппет группа</td>\n",
       "      <td>2022-01-11</td>\n",
       "      <td>19</td>\n",
       "      <td>149522</td>\n",
       "      <td>113703</td>\n",
       "      <td>4983</td>\n",
       "      <td>4311</td>\n",
       "      <td>4397</td>\n",
       "    </tr>\n",
       "    <tr>\n",
       "      <th>16</th>\n",
       "      <td>Портлеты</td>\n",
       "      <td>2022-01-14</td>\n",
       "      <td>16</td>\n",
       "      <td>289634</td>\n",
       "      <td>132423</td>\n",
       "      <td>5610</td>\n",
       "      <td>5036</td>\n",
       "      <td>3864</td>\n",
       "    </tr>\n",
       "    <tr>\n",
       "      <th>17</th>\n",
       "      <td>Сниппет лента</td>\n",
       "      <td>2022-01-13</td>\n",
       "      <td>13</td>\n",
       "      <td>465894</td>\n",
       "      <td>110280</td>\n",
       "      <td>3465</td>\n",
       "      <td>3118</td>\n",
       "      <td>2804</td>\n",
       "    </tr>\n",
       "    <tr>\n",
       "      <th>18</th>\n",
       "      <td>Сниппет лента</td>\n",
       "      <td>2022-01-16</td>\n",
       "      <td>15</td>\n",
       "      <td>447863</td>\n",
       "      <td>118608</td>\n",
       "      <td>3023</td>\n",
       "      <td>2834</td>\n",
       "      <td>2596</td>\n",
       "    </tr>\n",
       "    <tr>\n",
       "      <th>19</th>\n",
       "      <td>Портлеты</td>\n",
       "      <td>2022-01-20</td>\n",
       "      <td>18</td>\n",
       "      <td>242215</td>\n",
       "      <td>89855</td>\n",
       "      <td>4788</td>\n",
       "      <td>4311</td>\n",
       "      <td>3238</td>\n",
       "    </tr>\n",
       "    <tr>\n",
       "      <th>20</th>\n",
       "      <td>Главная ВКО</td>\n",
       "      <td>2022-01-18</td>\n",
       "      <td>17</td>\n",
       "      <td>45219</td>\n",
       "      <td>131499</td>\n",
       "      <td>3326</td>\n",
       "      <td>2256</td>\n",
       "      <td>2994</td>\n",
       "    </tr>\n",
       "    <tr>\n",
       "      <th>21</th>\n",
       "      <td>Портлеты</td>\n",
       "      <td>2022-01-19</td>\n",
       "      <td>17</td>\n",
       "      <td>238588</td>\n",
       "      <td>87533</td>\n",
       "      <td>4570</td>\n",
       "      <td>4130</td>\n",
       "      <td>3057</td>\n",
       "    </tr>\n",
       "    <tr>\n",
       "      <th>22</th>\n",
       "      <td>Сниппет лента</td>\n",
       "      <td>2022-01-15</td>\n",
       "      <td>16</td>\n",
       "      <td>404416</td>\n",
       "      <td>109787</td>\n",
       "      <td>2738</td>\n",
       "      <td>2571</td>\n",
       "      <td>2376</td>\n",
       "    </tr>\n",
       "    <tr>\n",
       "      <th>23</th>\n",
       "      <td>Сниппет группа</td>\n",
       "      <td>2022-01-14</td>\n",
       "      <td>13</td>\n",
       "      <td>123681</td>\n",
       "      <td>95386</td>\n",
       "      <td>4117</td>\n",
       "      <td>3610</td>\n",
       "      <td>3689</td>\n",
       "    </tr>\n",
       "    <tr>\n",
       "      <th>24</th>\n",
       "      <td>Главная ВКО</td>\n",
       "      <td>2022-01-14</td>\n",
       "      <td>11</td>\n",
       "      <td>44827</td>\n",
       "      <td>127013</td>\n",
       "      <td>3403</td>\n",
       "      <td>2294</td>\n",
       "      <td>3027</td>\n",
       "    </tr>\n",
       "    <tr>\n",
       "      <th>25</th>\n",
       "      <td>Сниппет группа</td>\n",
       "      <td>2022-01-18</td>\n",
       "      <td>14</td>\n",
       "      <td>138812</td>\n",
       "      <td>104128</td>\n",
       "      <td>4354</td>\n",
       "      <td>3848</td>\n",
       "      <td>3900</td>\n",
       "    </tr>\n",
       "    <tr>\n",
       "      <th>26</th>\n",
       "      <td>Главная ВКО</td>\n",
       "      <td>2022-01-12</td>\n",
       "      <td>10</td>\n",
       "      <td>47720</td>\n",
       "      <td>135647</td>\n",
       "      <td>3642</td>\n",
       "      <td>2430</td>\n",
       "      <td>3154</td>\n",
       "    </tr>\n",
       "    <tr>\n",
       "      <th>27</th>\n",
       "      <td>Портлеты</td>\n",
       "      <td>2022-01-12</td>\n",
       "      <td>17</td>\n",
       "      <td>261482</td>\n",
       "      <td>95454</td>\n",
       "      <td>5151</td>\n",
       "      <td>4568</td>\n",
       "      <td>3381</td>\n",
       "    </tr>\n",
       "    <tr>\n",
       "      <th>28</th>\n",
       "      <td>Сниппет группа</td>\n",
       "      <td>2022-01-15</td>\n",
       "      <td>16</td>\n",
       "      <td>126309</td>\n",
       "      <td>97260</td>\n",
       "      <td>4118</td>\n",
       "      <td>3569</td>\n",
       "      <td>3655</td>\n",
       "    </tr>\n",
       "    <tr>\n",
       "      <th>29</th>\n",
       "      <td>Сниппет лента</td>\n",
       "      <td>2022-01-11</td>\n",
       "      <td>17</td>\n",
       "      <td>572773</td>\n",
       "      <td>132790</td>\n",
       "      <td>3807</td>\n",
       "      <td>3605</td>\n",
       "      <td>3246</td>\n",
       "    </tr>\n",
       "    <tr>\n",
       "      <th>30</th>\n",
       "      <td>Сниппет лента</td>\n",
       "      <td>2022-01-20</td>\n",
       "      <td>16</td>\n",
       "      <td>404364</td>\n",
       "      <td>114269</td>\n",
       "      <td>2720</td>\n",
       "      <td>2577</td>\n",
       "      <td>2431</td>\n",
       "    </tr>\n",
       "    <tr>\n",
       "      <th>31</th>\n",
       "      <td>Главная ВКО</td>\n",
       "      <td>2022-01-17</td>\n",
       "      <td>13</td>\n",
       "      <td>46409</td>\n",
       "      <td>133353</td>\n",
       "      <td>3445</td>\n",
       "      <td>2334</td>\n",
       "      <td>3030</td>\n",
       "    </tr>\n",
       "    <tr>\n",
       "      <th>32</th>\n",
       "      <td>Сниппет группа</td>\n",
       "      <td>2022-01-19</td>\n",
       "      <td>15</td>\n",
       "      <td>134640</td>\n",
       "      <td>101164</td>\n",
       "      <td>4464</td>\n",
       "      <td>3858</td>\n",
       "      <td>3953</td>\n",
       "    </tr>\n",
       "    <tr>\n",
       "      <th>33</th>\n",
       "      <td>Главная ВКО</td>\n",
       "      <td>2022-01-20</td>\n",
       "      <td>18</td>\n",
       "      <td>43975</td>\n",
       "      <td>127393</td>\n",
       "      <td>3381</td>\n",
       "      <td>2252</td>\n",
       "      <td>3007</td>\n",
       "    </tr>\n",
       "    <tr>\n",
       "      <th>34</th>\n",
       "      <td>Сниппет группа</td>\n",
       "      <td>2022-01-10</td>\n",
       "      <td>14</td>\n",
       "      <td>154757</td>\n",
       "      <td>115756</td>\n",
       "      <td>4995</td>\n",
       "      <td>4327</td>\n",
       "      <td>4426</td>\n",
       "    </tr>\n",
       "    <tr>\n",
       "      <th>35</th>\n",
       "      <td>Сниппет лента</td>\n",
       "      <td>2022-01-17</td>\n",
       "      <td>18</td>\n",
       "      <td>469207</td>\n",
       "      <td>122763</td>\n",
       "      <td>3067</td>\n",
       "      <td>2810</td>\n",
       "      <td>2653</td>\n",
       "    </tr>\n",
       "    <tr>\n",
       "      <th>36</th>\n",
       "      <td>Сниппет группа</td>\n",
       "      <td>2022-01-16</td>\n",
       "      <td>14</td>\n",
       "      <td>143645</td>\n",
       "      <td>106684</td>\n",
       "      <td>4461</td>\n",
       "      <td>3970</td>\n",
       "      <td>4000</td>\n",
       "    </tr>\n",
       "    <tr>\n",
       "      <th>37</th>\n",
       "      <td>Портлеты</td>\n",
       "      <td>2022-01-16</td>\n",
       "      <td>17</td>\n",
       "      <td>262972</td>\n",
       "      <td>95924</td>\n",
       "      <td>4951</td>\n",
       "      <td>4481</td>\n",
       "      <td>3230</td>\n",
       "    </tr>\n",
       "    <tr>\n",
       "      <th>38</th>\n",
       "      <td>Сниппет группа</td>\n",
       "      <td>2022-01-13</td>\n",
       "      <td>18</td>\n",
       "      <td>130487</td>\n",
       "      <td>99115</td>\n",
       "      <td>4324</td>\n",
       "      <td>3767</td>\n",
       "      <td>3863</td>\n",
       "    </tr>\n",
       "    <tr>\n",
       "      <th>39</th>\n",
       "      <td>Главная ВКО</td>\n",
       "      <td>2022-01-10</td>\n",
       "      <td>8</td>\n",
       "      <td>48331</td>\n",
       "      <td>139523</td>\n",
       "      <td>3549</td>\n",
       "      <td>2353</td>\n",
       "      <td>3135</td>\n",
       "    </tr>\n",
       "    <tr>\n",
       "      <th>40</th>\n",
       "      <td>Портлеты</td>\n",
       "      <td>2022-01-15</td>\n",
       "      <td>15</td>\n",
       "      <td>273870</td>\n",
       "      <td>122152</td>\n",
       "      <td>5097</td>\n",
       "      <td>4586</td>\n",
       "      <td>3497</td>\n",
       "    </tr>\n",
       "    <tr>\n",
       "      <th>41</th>\n",
       "      <td>Главная ВКО</td>\n",
       "      <td>2022-01-11</td>\n",
       "      <td>12</td>\n",
       "      <td>52375</td>\n",
       "      <td>143109</td>\n",
       "      <td>3722</td>\n",
       "      <td>2463</td>\n",
       "      <td>3282</td>\n",
       "    </tr>\n",
       "    <tr>\n",
       "      <th>42</th>\n",
       "      <td>Портлеты</td>\n",
       "      <td>2022-01-11</td>\n",
       "      <td>15</td>\n",
       "      <td>256199</td>\n",
       "      <td>96006</td>\n",
       "      <td>4885</td>\n",
       "      <td>4367</td>\n",
       "      <td>3343</td>\n",
       "    </tr>\n",
       "    <tr>\n",
       "      <th>43</th>\n",
       "      <td>Портлеты</td>\n",
       "      <td>2022-01-10</td>\n",
       "      <td>16</td>\n",
       "      <td>259825</td>\n",
       "      <td>111965</td>\n",
       "      <td>4884</td>\n",
       "      <td>4380</td>\n",
       "      <td>3376</td>\n",
       "    </tr>\n",
       "  </tbody>\n",
       "</table>\n",
       "</div>"
      ],
      "text/plain": [
       "   _u4.traffic_type     _u4._c1  _u4.cnt_view  _u4.v_users  _u4.v_prods  _u4.cnt_con  _u4.c_users  _u4.c_prods\n",
       "0     Сниппет лента  2022-01-12            20       488098       119854         3438         3211         2926\n",
       "1    Сниппет группа  2022-01-12            15       142171       107222         4559         4028         4091\n",
       "2     Сниппет лента  2022-01-14            13       419393       106271         2867         2706         2481\n",
       "3       Главная ВКО  2022-01-13            11        45905       129850         3451         2318         3029\n",
       "4       Главная ВКО  2022-01-19            15        43927       125412         3420         2228         3012\n",
       "5       Главная ВКО  2022-01-16            22        49336       144584         3841         2453         3361\n",
       "6          Портлеты  2022-01-18            19       248603        89855         4677         4183         3176\n",
       "7       Главная ВКО  2022-01-15            14        45907       133213         3566         2326         3146\n",
       "8          Портлеты  2022-01-17            15       259450        92138         4658         4190         3159\n",
       "9          Портлеты  2022-01-13            15       281245       120177         5344         4807         3654\n",
       "10   Сниппет группа  2022-01-20            16       136369       104078         4512         3877         3978\n",
       "11   Сниппет группа  2022-01-17            14       141756       104948         4450         3927         4016\n",
       "12    Сниппет лента  2022-01-19            13       412603       115347         2778         2611         2433\n",
       "13    Сниппет лента  2022-01-18            15       492968       127252         3160         2986         2746\n",
       "14    Сниппет лента  2022-01-10            16       559799       136305         3676         3474         3169\n",
       "15   Сниппет группа  2022-01-11            19       149522       113703         4983         4311         4397\n",
       "16         Портлеты  2022-01-14            16       289634       132423         5610         5036         3864\n",
       "17    Сниппет лента  2022-01-13            13       465894       110280         3465         3118         2804\n",
       "18    Сниппет лента  2022-01-16            15       447863       118608         3023         2834         2596\n",
       "19         Портлеты  2022-01-20            18       242215        89855         4788         4311         3238\n",
       "20      Главная ВКО  2022-01-18            17        45219       131499         3326         2256         2994\n",
       "21         Портлеты  2022-01-19            17       238588        87533         4570         4130         3057\n",
       "22    Сниппет лента  2022-01-15            16       404416       109787         2738         2571         2376\n",
       "23   Сниппет группа  2022-01-14            13       123681        95386         4117         3610         3689\n",
       "24      Главная ВКО  2022-01-14            11        44827       127013         3403         2294         3027\n",
       "25   Сниппет группа  2022-01-18            14       138812       104128         4354         3848         3900\n",
       "26      Главная ВКО  2022-01-12            10        47720       135647         3642         2430         3154\n",
       "27         Портлеты  2022-01-12            17       261482        95454         5151         4568         3381\n",
       "28   Сниппет группа  2022-01-15            16       126309        97260         4118         3569         3655\n",
       "29    Сниппет лента  2022-01-11            17       572773       132790         3807         3605         3246\n",
       "30    Сниппет лента  2022-01-20            16       404364       114269         2720         2577         2431\n",
       "31      Главная ВКО  2022-01-17            13        46409       133353         3445         2334         3030\n",
       "32   Сниппет группа  2022-01-19            15       134640       101164         4464         3858         3953\n",
       "33      Главная ВКО  2022-01-20            18        43975       127393         3381         2252         3007\n",
       "34   Сниппет группа  2022-01-10            14       154757       115756         4995         4327         4426\n",
       "35    Сниппет лента  2022-01-17            18       469207       122763         3067         2810         2653\n",
       "36   Сниппет группа  2022-01-16            14       143645       106684         4461         3970         4000\n",
       "37         Портлеты  2022-01-16            17       262972        95924         4951         4481         3230\n",
       "38   Сниппет группа  2022-01-13            18       130487        99115         4324         3767         3863\n",
       "39      Главная ВКО  2022-01-10             8        48331       139523         3549         2353         3135\n",
       "40         Портлеты  2022-01-15            15       273870       122152         5097         4586         3497\n",
       "41      Главная ВКО  2022-01-11            12        52375       143109         3722         2463         3282\n",
       "42         Портлеты  2022-01-11            15       256199        96006         4885         4367         3343\n",
       "43         Портлеты  2022-01-10            16       259825       111965         4884         4380         3376"
      ]
     },
     "execution_count": 167,
     "metadata": {},
     "output_type": "execute_result"
    }
   ],
   "source": [
    "df_contact_manual"
   ]
  },
  {
   "cell_type": "code",
   "execution_count": null,
   "id": "841d843e",
   "metadata": {},
   "outputs": [],
   "source": []
  },
  {
   "cell_type": "code",
   "execution_count": 135,
   "id": "2a3a32ac",
   "metadata": {},
   "outputs": [
    {
     "ename": "OperationalError",
     "evalue": "TExecuteStatementResp(status=TStatus(statusCode=3, infoMessages=['*org.apache.hive.service.cli.HiveSQLException:Error while processing statement: FAILED: Execution Error, return code 1 from org.apache.hadoop.hive.ql.exec.tez.TezTask. Application killed by user.:28:27', 'org.apache.hive.service.cli.operation.Operation:toSQLException:Operation.java:324', 'org.apache.hive.service.cli.operation.SQLOperation:runQuery:SQLOperation.java:199', 'org.apache.hive.service.cli.operation.SQLOperation:runInternal:SQLOperation.java:230', 'org.apache.hive.service.cli.operation.Operation:run:Operation.java:264', 'org.apache.hive.service.cli.session.HiveSessionImpl:executeStatementInternal:HiveSessionImpl.java:479', 'org.apache.hive.service.cli.session.HiveSessionImpl:executeStatement:HiveSessionImpl.java:454', 'sun.reflect.GeneratedMethodAccessor93:invoke::-1', 'sun.reflect.DelegatingMethodAccessorImpl:invoke:DelegatingMethodAccessorImpl.java:43', 'java.lang.reflect.Method:invoke:Method.java:498', 'org.apache.hive.service.cli.session.HiveSessionProxy:invoke:HiveSessionProxy.java:78', 'org.apache.hive.service.cli.session.HiveSessionProxy:access$000:HiveSessionProxy.java:36', 'org.apache.hive.service.cli.session.HiveSessionProxy$1:run:HiveSessionProxy.java:63', 'java.security.AccessController:doPrivileged:AccessController.java:-2', 'javax.security.auth.Subject:doAs:Subject.java:422', 'org.apache.hadoop.security.UserGroupInformation:doAs:UserGroupInformation.java:1866', 'org.apache.hive.service.cli.session.HiveSessionProxy:invoke:HiveSessionProxy.java:59', 'com.sun.proxy.$Proxy24:executeStatement::-1', 'org.apache.hive.service.cli.CLIService:executeStatement:CLIService.java:285', 'org.apache.hive.service.cli.thrift.ThriftCLIService:ExecuteStatement:ThriftCLIService.java:510', 'org.apache.hive.service.cli.thrift.TCLIService$Processor$ExecuteStatement:getResult:TCLIService.java:1377', 'org.apache.hive.service.cli.thrift.TCLIService$Processor$ExecuteStatement:getResult:TCLIService.java:1362', 'org.apache.thrift.ProcessFunction:process:ProcessFunction.java:39', 'org.apache.thrift.TBaseProcessor:process:TBaseProcessor.java:39', 'org.apache.hive.service.auth.TSetIpAddressProcessor:process:TSetIpAddressProcessor.java:56', 'org.apache.thrift.server.TThreadPoolServer$WorkerProcess:run:TThreadPoolServer.java:286', 'java.util.concurrent.ThreadPoolExecutor:runWorker:ThreadPoolExecutor.java:1142', 'java.util.concurrent.ThreadPoolExecutor$Worker:run:ThreadPoolExecutor.java:617', 'java.lang.Thread:run:Thread.java:745', '*org.apache.hadoop.hive.ql.metadata.HiveException:Application killed by user.:35:8', 'org.apache.hadoop.hive.ql.exec.tez.TezTask:execute:TezTask.java:201', 'org.apache.hadoop.hive.ql.exec.Task:executeTask:Task.java:162', 'org.apache.hadoop.hive.ql.exec.TaskRunner:runSequential:TaskRunner.java:89', 'org.apache.hadoop.hive.ql.Driver:launchTask:Driver.java:1756', 'org.apache.hadoop.hive.ql.Driver:execute:Driver.java:1497', 'org.apache.hadoop.hive.ql.Driver:runInternal:Driver.java:1294', 'org.apache.hadoop.hive.ql.Driver:run:Driver.java:1161', 'org.apache.hadoop.hive.ql.Driver:run:Driver.java:1156', 'org.apache.hive.service.cli.operation.SQLOperation:runQuery:SQLOperation.java:197'], sqlState='08S01', errorCode=1, errorMessage='Error while processing statement: FAILED: Execution Error, return code 1 from org.apache.hadoop.hive.ql.exec.tez.TezTask. Application killed by user.'), operationHandle=None)",
     "output_type": "error",
     "traceback": [
      "\u001b[0;31m---------------------------------------------------------------------------\u001b[0m",
      "\u001b[0;31mOperationalError\u001b[0m                          Traceback (most recent call last)",
      "\u001b[0;32m<ipython-input-135-b5068b094cdb>\u001b[0m in \u001b[0;36m<module>\u001b[0;34m\u001b[0m\n\u001b[1;32m    425\u001b[0m --   ) c\n\u001b[1;32m    426\u001b[0m \u001b[0;34m-\u001b[0m\u001b[0;34m-\u001b[0m \u001b[0mgroup\u001b[0m \u001b[0mby\u001b[0m \u001b[0mcast\u001b[0m\u001b[0;34m(\u001b[0m\u001b[0mdt\u001b[0m \u001b[0;32mas\u001b[0m \u001b[0mdate\u001b[0m\u001b[0;34m)\u001b[0m\u001b[0;34m\u001b[0m\u001b[0;34m\u001b[0m\u001b[0m\n\u001b[0;32m--> 427\u001b[0;31m \"\"\",con)\n\u001b[0m",
      "\u001b[0;32m<ipython-input-52-06a4c621dc1e>\u001b[0m in \u001b[0;36msql_to_df\u001b[0;34m(sql, conn, buffer)\u001b[0m\n\u001b[1;32m     63\u001b[0m \u001b[0;32mdef\u001b[0m \u001b[0msql_to_df\u001b[0m\u001b[0;34m(\u001b[0m\u001b[0msql\u001b[0m\u001b[0;34m,\u001b[0m \u001b[0mconn\u001b[0m\u001b[0;34m,\u001b[0m \u001b[0mbuffer\u001b[0m \u001b[0;34m=\u001b[0m \u001b[0;36m1000000\u001b[0m\u001b[0;34m)\u001b[0m\u001b[0;34m:\u001b[0m\u001b[0;34m\u001b[0m\u001b[0;34m\u001b[0m\u001b[0m\n\u001b[1;32m     64\u001b[0m     \u001b[0mcursor\u001b[0m \u001b[0;34m=\u001b[0m \u001b[0mconn\u001b[0m\u001b[0;34m.\u001b[0m\u001b[0mcursor\u001b[0m\u001b[0;34m(\u001b[0m\u001b[0;34m)\u001b[0m\u001b[0;34m\u001b[0m\u001b[0;34m\u001b[0m\u001b[0m\n\u001b[0;32m---> 65\u001b[0;31m     \u001b[0mcursor\u001b[0m\u001b[0;34m.\u001b[0m\u001b[0mexecute\u001b[0m\u001b[0;34m(\u001b[0m\u001b[0msql\u001b[0m\u001b[0;34m)\u001b[0m\u001b[0;34m\u001b[0m\u001b[0;34m\u001b[0m\u001b[0m\n\u001b[0m\u001b[1;32m     66\u001b[0m     \u001b[0mclmns\u001b[0m \u001b[0;34m=\u001b[0m \u001b[0;34m[\u001b[0m\u001b[0mr\u001b[0m\u001b[0;34m[\u001b[0m\u001b[0;36m0\u001b[0m\u001b[0;34m]\u001b[0m \u001b[0;32mfor\u001b[0m \u001b[0mr\u001b[0m \u001b[0;32min\u001b[0m \u001b[0mcursor\u001b[0m\u001b[0;34m.\u001b[0m\u001b[0mdescription\u001b[0m\u001b[0;34m]\u001b[0m\u001b[0;34m\u001b[0m\u001b[0;34m\u001b[0m\u001b[0m\n\u001b[1;32m     67\u001b[0m     \u001b[0mdfs\u001b[0m \u001b[0;34m=\u001b[0m \u001b[0mlist\u001b[0m\u001b[0;34m(\u001b[0m\u001b[0;34m)\u001b[0m\u001b[0;34m\u001b[0m\u001b[0;34m\u001b[0m\u001b[0m\n",
      "\u001b[0;32m/opt/spawn/venv/lib/python3.6/site-packages/pyhive/hive.py\u001b[0m in \u001b[0;36mexecute\u001b[0;34m(self, operation, parameters, **kwargs)\u001b[0m\n\u001b[1;32m    363\u001b[0m         \u001b[0m_logger\u001b[0m\u001b[0;34m.\u001b[0m\u001b[0mdebug\u001b[0m\u001b[0;34m(\u001b[0m\u001b[0mreq\u001b[0m\u001b[0;34m)\u001b[0m\u001b[0;34m\u001b[0m\u001b[0;34m\u001b[0m\u001b[0m\n\u001b[1;32m    364\u001b[0m         \u001b[0mresponse\u001b[0m \u001b[0;34m=\u001b[0m \u001b[0mself\u001b[0m\u001b[0;34m.\u001b[0m\u001b[0m_connection\u001b[0m\u001b[0;34m.\u001b[0m\u001b[0mclient\u001b[0m\u001b[0;34m.\u001b[0m\u001b[0mExecuteStatement\u001b[0m\u001b[0;34m(\u001b[0m\u001b[0mreq\u001b[0m\u001b[0;34m)\u001b[0m\u001b[0;34m\u001b[0m\u001b[0;34m\u001b[0m\u001b[0m\n\u001b[0;32m--> 365\u001b[0;31m         \u001b[0m_check_status\u001b[0m\u001b[0;34m(\u001b[0m\u001b[0mresponse\u001b[0m\u001b[0;34m)\u001b[0m\u001b[0;34m\u001b[0m\u001b[0;34m\u001b[0m\u001b[0m\n\u001b[0m\u001b[1;32m    366\u001b[0m         \u001b[0mself\u001b[0m\u001b[0;34m.\u001b[0m\u001b[0m_operationHandle\u001b[0m \u001b[0;34m=\u001b[0m \u001b[0mresponse\u001b[0m\u001b[0;34m.\u001b[0m\u001b[0moperationHandle\u001b[0m\u001b[0;34m\u001b[0m\u001b[0;34m\u001b[0m\u001b[0m\n\u001b[1;32m    367\u001b[0m \u001b[0;34m\u001b[0m\u001b[0m\n",
      "\u001b[0;32m/opt/spawn/venv/lib/python3.6/site-packages/pyhive/hive.py\u001b[0m in \u001b[0;36m_check_status\u001b[0;34m(response)\u001b[0m\n\u001b[1;32m    493\u001b[0m     \u001b[0m_logger\u001b[0m\u001b[0;34m.\u001b[0m\u001b[0mdebug\u001b[0m\u001b[0;34m(\u001b[0m\u001b[0mresponse\u001b[0m\u001b[0;34m)\u001b[0m\u001b[0;34m\u001b[0m\u001b[0;34m\u001b[0m\u001b[0m\n\u001b[1;32m    494\u001b[0m     \u001b[0;32mif\u001b[0m \u001b[0mresponse\u001b[0m\u001b[0;34m.\u001b[0m\u001b[0mstatus\u001b[0m\u001b[0;34m.\u001b[0m\u001b[0mstatusCode\u001b[0m \u001b[0;34m!=\u001b[0m \u001b[0mttypes\u001b[0m\u001b[0;34m.\u001b[0m\u001b[0mTStatusCode\u001b[0m\u001b[0;34m.\u001b[0m\u001b[0mSUCCESS_STATUS\u001b[0m\u001b[0;34m:\u001b[0m\u001b[0;34m\u001b[0m\u001b[0;34m\u001b[0m\u001b[0m\n\u001b[0;32m--> 495\u001b[0;31m         \u001b[0;32mraise\u001b[0m \u001b[0mOperationalError\u001b[0m\u001b[0;34m(\u001b[0m\u001b[0mresponse\u001b[0m\u001b[0;34m)\u001b[0m\u001b[0;34m\u001b[0m\u001b[0;34m\u001b[0m\u001b[0m\n\u001b[0m",
      "\u001b[0;31mOperationalError\u001b[0m: TExecuteStatementResp(status=TStatus(statusCode=3, infoMessages=['*org.apache.hive.service.cli.HiveSQLException:Error while processing statement: FAILED: Execution Error, return code 1 from org.apache.hadoop.hive.ql.exec.tez.TezTask. Application killed by user.:28:27', 'org.apache.hive.service.cli.operation.Operation:toSQLException:Operation.java:324', 'org.apache.hive.service.cli.operation.SQLOperation:runQuery:SQLOperation.java:199', 'org.apache.hive.service.cli.operation.SQLOperation:runInternal:SQLOperation.java:230', 'org.apache.hive.service.cli.operation.Operation:run:Operation.java:264', 'org.apache.hive.service.cli.session.HiveSessionImpl:executeStatementInternal:HiveSessionImpl.java:479', 'org.apache.hive.service.cli.session.HiveSessionImpl:executeStatement:HiveSessionImpl.java:454', 'sun.reflect.GeneratedMethodAccessor93:invoke::-1', 'sun.reflect.DelegatingMethodAccessorImpl:invoke:DelegatingMethodAccessorImpl.java:43', 'java.lang.reflect.Method:invoke:Method.java:498', 'org.apache.hive.service.cli.session.HiveSessionProxy:invoke:HiveSessionProxy.java:78', 'org.apache.hive.service.cli.session.HiveSessionProxy:access$000:HiveSessionProxy.java:36', 'org.apache.hive.service.cli.session.HiveSessionProxy$1:run:HiveSessionProxy.java:63', 'java.security.AccessController:doPrivileged:AccessController.java:-2', 'javax.security.auth.Subject:doAs:Subject.java:422', 'org.apache.hadoop.security.UserGroupInformation:doAs:UserGroupInformation.java:1866', 'org.apache.hive.service.cli.session.HiveSessionProxy:invoke:HiveSessionProxy.java:59', 'com.sun.proxy.$Proxy24:executeStatement::-1', 'org.apache.hive.service.cli.CLIService:executeStatement:CLIService.java:285', 'org.apache.hive.service.cli.thrift.ThriftCLIService:ExecuteStatement:ThriftCLIService.java:510', 'org.apache.hive.service.cli.thrift.TCLIService$Processor$ExecuteStatement:getResult:TCLIService.java:1377', 'org.apache.hive.service.cli.thrift.TCLIService$Processor$ExecuteStatement:getResult:TCLIService.java:1362', 'org.apache.thrift.ProcessFunction:process:ProcessFunction.java:39', 'org.apache.thrift.TBaseProcessor:process:TBaseProcessor.java:39', 'org.apache.hive.service.auth.TSetIpAddressProcessor:process:TSetIpAddressProcessor.java:56', 'org.apache.thrift.server.TThreadPoolServer$WorkerProcess:run:TThreadPoolServer.java:286', 'java.util.concurrent.ThreadPoolExecutor:runWorker:ThreadPoolExecutor.java:1142', 'java.util.concurrent.ThreadPoolExecutor$Worker:run:ThreadPoolExecutor.java:617', 'java.lang.Thread:run:Thread.java:745', '*org.apache.hadoop.hive.ql.metadata.HiveException:Application killed by user.:35:8', 'org.apache.hadoop.hive.ql.exec.tez.TezTask:execute:TezTask.java:201', 'org.apache.hadoop.hive.ql.exec.Task:executeTask:Task.java:162', 'org.apache.hadoop.hive.ql.exec.TaskRunner:runSequential:TaskRunner.java:89', 'org.apache.hadoop.hive.ql.Driver:launchTask:Driver.java:1756', 'org.apache.hadoop.hive.ql.Driver:execute:Driver.java:1497', 'org.apache.hadoop.hive.ql.Driver:runInternal:Driver.java:1294', 'org.apache.hadoop.hive.ql.Driver:run:Driver.java:1161', 'org.apache.hadoop.hive.ql.Driver:run:Driver.java:1156', 'org.apache.hive.service.cli.operation.SQLOperation:runQuery:SQLOperation.java:197'], sqlState='08S01', errorCode=1, errorMessage='Error while processing statement: FAILED: Execution Error, return code 1 from org.apache.hadoop.hive.ql.exec.tez.TezTask. Application killed by user.'), operationHandle=None)"
     ]
    }
   ],
   "source": [
    "df_contact_manual= sql_to_df(\"\"\"\n",
    "\n",
    "\n",
    "select 'Сниппет группа' traffic_type,\n",
    "    cast(v_dt as date),\n",
    "    count(distinct v_event_id) cnt_view,\n",
    "    count(distinct v_user_id) v_users,\n",
    "    count(distinct v_product_id) v_prods,\n",
    "    count(distinct c_event_id) cnt_con,\n",
    "    count(distinct c_user_id) c_users,\n",
    "    count(distinct c_product_id) c_prods\n",
    "from (\n",
    "select v.user_id as v_user_id,\n",
    "    v.dt as v_dt,\n",
    "    v.event_id as v_event_id,\n",
    "    v.product_id as v_product_id,\n",
    "    c.event_id c_event_id,\n",
    "    c.user_id s c_user_id,\n",
    "    c.product_id as c_product_id\n",
    "from  (select distinct coalesce( sender_id,client_user_id) user_id,\n",
    "        product_id,\n",
    "        dt\n",
    "from topics.y_user_product_counter_new m \n",
    "where dt>='{dt_start}' and dt<='{dt_end}'\n",
    "  and event_name='prod.view'\n",
    "  and coalesce(client_platform,platform)='vk_mini_app'\n",
    "  and search_type = 'group'\n",
    "  and vk_source like 'wall%'\n",
    "  ) v \n",
    "left join \n",
    "(select coalesce( sender_id,client_user_id) user_id,\n",
    "    event_id,\n",
    "    product_id,\n",
    "    CASE\n",
    "        WHEN lower(client_agent) LIKE '%android%' THEN 'android'\n",
    "        WHEN lower(client_agent) like '%iphone%' THEN 'ios'\n",
    "        ELSE 'other'\n",
    "    END AS vk_platform,\n",
    "    dt\n",
    "from topics.y_user_user_counter\n",
    "where dt>='{dt_start}' and dt<='{dt_end}'\n",
    "  and event_name in ('usr.presscall','chat.first_message')\n",
    "  and coalesce(client_platform,platform) = 'vk_mini_app'\n",
    "  and get_json_object(sources,'$.previous.screen') = 'snippet'\n",
    "  ) c on v.user_id=c.user_id and v.dt=c.dt and c.product_id=v.product_id\n",
    "\n",
    "\n",
    "union all\n",
    "\n",
    "\n",
    "select vk.user_id as v_user_id,\n",
    "    v.dt as v_dt,\n",
    "    v.event_id as v_event_id,\n",
    "    v.product_id as v_product_id,\n",
    "    c.event_id c_event_id,\n",
    "    c.user_id s c_user_id,\n",
    "    c.product_id as c_product_id\n",
    "from (select distinct user_id,\n",
    "    youla_item_id as product_id,\n",
    "    dt\n",
    "FROM topics.youla_vk_to_youla_pa2p_all_events\n",
    "WHERE dt>='{dt_start}' and dt<='{dt_end}'\n",
    "    and event = 'transition_to_item'\n",
    "    and content_type = 'wall'\n",
    "    and screen like 'group%'\n",
    "    and vk_platform in ('web2')\n",
    "    ) v \n",
    "join aggregations.cpa_vk_ids_by_dt vk on vk.dt=v.dt and vk.vk_id=v.user_id\n",
    "left join (select user_id,\n",
    "    concat(user_id,youla_item_id,time) event_id,\n",
    "    youla_item_id as product_id,\n",
    "    vk_platform,\n",
    "    dt\n",
    "FROM topics.youla_vk_to_youla_pa2p_all_events\n",
    "WHERE dt>='{dt_start}' and dt<='{dt_end}'\n",
    "    and event in ('send_message','show_phone_click')\n",
    "    and screen like 'group%'\n",
    "    and vk_platform = 'web2') c on v.user_id=c.user_id and v.dt=c.dt and c.product_id=v.product_id ) t\n",
    "group by cast(dt as date)\n",
    " \n",
    "  \n",
    "UNION \n",
    "\n",
    "select 'Сниппет лента' traffic_type,\n",
    "    cast(dt as date),\n",
    "    count(distinct event_id) cnt,\n",
    "    count(distinct user_id) users,\n",
    "    count(distinct product_id) prods\n",
    "from (\n",
    "select c.*\n",
    "from (select coalesce( sender_id,client_user_id) user_id,\n",
    "    event_id,\n",
    "    product_id,\n",
    "    CASE\n",
    "        WHEN lower(client_agent) LIKE '%android%' THEN 'android'\n",
    "        WHEN lower(client_agent) like '%iphone%' THEN 'ios'\n",
    "        ELSE 'other'\n",
    "    END AS vk_platform,\n",
    "    dt\n",
    "from topics.y_user_user_counter\n",
    "where dt>='{dt_start}' and dt<='{dt_end}'\n",
    "  and event_name in ('usr.presscall','chat.first_message')\n",
    "  and coalesce(client_platform,platform) in ('vk','vk_mini_app')\n",
    "  and get_json_object(sources,'$.previous.screen') = 'snippet'\n",
    "  ) c\n",
    "join (select distinct coalesce( sender_id,client_user_id) user_id,\n",
    "        product_id,\n",
    "        dt\n",
    "from topics.y_user_product_counter_new m \n",
    "where dt>='{dt_start}' and dt<='{dt_end}'\n",
    "  and event_name='prod.view'\n",
    "  and coalesce(client_platform,platform)='vk_mini_app'\n",
    "  --and search_type = 'vk_recommendations'\n",
    "  and search_type = 'feed'\n",
    "  and vk_source like 'wall%'\n",
    "  ) v on v.user_id=c.user_id and v.dt=c.dt and c.product_id=v.product_id\n",
    "\n",
    "union all\n",
    "\n",
    "select vk.user_id,\n",
    "    event_id,\n",
    "    c.product_id,\n",
    "    vk_platform,\n",
    "    c.dt\n",
    "from (select user_id,\n",
    "    concat(user_id,youla_item_id,time) event_id,\n",
    "    youla_item_id as product_id,\n",
    "    vk_platform,\n",
    "    dt\n",
    "FROM topics.youla_vk_to_youla_pa2p_all_events\n",
    "WHERE dt>='{dt_start}' and dt<='{dt_end}'\n",
    "    and event in ('send_message','show_phone_click')\n",
    "    and screen like 'feed%'\n",
    "    and vk_platform='web2') c\n",
    "join aggregations.cpa_vk_ids_by_dt vk on vk.dt=c.dt and vk.vk_id=c.user_id\n",
    "join (select distinct user_id,\n",
    "    youla_item_id as product_id,\n",
    "    dt\n",
    "FROM topics.youla_vk_to_youla_pa2p_all_events\n",
    "WHERE dt>='{dt_start}' and dt<='{dt_end}'\n",
    "    and event = 'transition_to_item'\n",
    "    --and collection_type = 'recommendations'\n",
    "    and content_type = 'wall'\n",
    "    and screen like 'feed%'\n",
    "    and vk_platform='web2'\n",
    "    ) v on v.user_id=c.user_id and v.dt=c.dt and c.product_id=v.product_id ) t\n",
    "group by cast(dt as date)\n",
    "\n",
    "\n",
    "  \n",
    "UNION \n",
    "\n",
    "select 'Портлеты' traffic_type,\n",
    "    cast(dt as date),\n",
    "    count(distinct event_id) cnt,\n",
    "    count(distinct user_id) users,\n",
    "    count(distinct product_id) prods\n",
    "from (\n",
    "select coalesce( sender_id,client_user_id) user_id,\n",
    "    event_id,\n",
    "    product_id,\n",
    "    CASE\n",
    "        WHEN lower(client_agent) LIKE '%android%' THEN 'android'\n",
    "        WHEN lower(client_agent) like '%iphone%' THEN 'ios'\n",
    "        ELSE 'other'\n",
    "    END AS vk_platform,\n",
    "    dt\n",
    "from topics.y_user_user_counter\n",
    "where dt>='{dt_start}' and dt<='{dt_end}'\n",
    "  and event_name in ('usr.presscall','chat.first_message')\n",
    "  and coalesce(client_platform,platform) in ('vk','vk_mini_app')\n",
    "  and get_json_object(sources,'$.previous.screen') = 'vk_recommendations'\n",
    "\n",
    "union all\n",
    "\n",
    "select vk.user_id,\n",
    "    event_id,\n",
    "    c.product_id,\n",
    "    vk_platform,\n",
    "    c.dt\n",
    "from (select user_id,\n",
    "    concat(user_id,youla_item_id,time) event_id,\n",
    "    youla_item_id as product_id,\n",
    "    vk_platform,\n",
    "    dt\n",
    "  FROM topics.youla_vk_to_youla_pa2p_all_events\n",
    "  WHERE dt>='{dt_start}' and dt<='{dt_end}'\n",
    "    and event in ('send_message','show_phone_click')\n",
    "    and screen like 'feed%'\n",
    "    and vk_platform='web2') c\n",
    "join aggregations.cpa_vk_ids_by_dt vk on vk.dt=c.dt and vk.vk_id=c.user_id\n",
    "join (select distinct user_id,\n",
    "      youla_item_id as product_id,\n",
    "      dt\n",
    "  FROM topics.youla_vk_to_youla_pa2p_all_events\n",
    "  WHERE dt>='{dt_start}' and dt<='{dt_end}'\n",
    "    and event = 'transition_to_item'\n",
    "    and collection_type = 'recommendations'\n",
    "    -- and content_type = 'wall'\n",
    "    -- and screen like 'feed%'\n",
    "    and vk_platform='web2'\n",
    "    ) v on v.user_id=c.user_id and v.dt=c.dt and c.product_id=v.product_id \n",
    "  ) t\n",
    "group by cast(dt as date)\n",
    "\n",
    "\n",
    "\n",
    "UNION \n",
    "\n",
    "select 'Главная ВКО' traffic_type,\n",
    "    cast(dt as date),\n",
    "    count(distinct event_id) cnt,\n",
    "    count(distinct user_id) users,\n",
    "    count(distinct product_id) prods\n",
    "from (\n",
    "select c.user_id,\n",
    "    event_id,\n",
    "    c.product_id,\n",
    "    vk_platform,\n",
    "    c.dt\n",
    "from (\n",
    "select coalesce( sender_id,client_user_id) user_id,\n",
    "    event_id,\n",
    "    product_id,\n",
    "    CASE\n",
    "        WHEN lower(client_agent) LIKE '%android%' THEN 'android'\n",
    "        WHEN lower(client_agent) like '%iphone%' THEN 'ios'\n",
    "        ELSE 'other'\n",
    "    END AS vk_platform,\n",
    "    search_id,\n",
    "    dt\n",
    "from topics.y_user_user_counter\n",
    "where dt>='{dt_start}' and dt<='{dt_end}'\n",
    "  and event_name in ('usr.presscall','chat.first_message')\n",
    "  and coalesce(client_platform,platform) in ('vk','vk_mini_app')\n",
    "  ) c\n",
    "join (select search_id\n",
    "    from topics.y_searches\n",
    "    where coalesce(client_platform,platform)='vk_mini_app'\n",
    "        and dt>='{dt_start}' and dt<='{dt_end}'\n",
    "        and size(categories)>1) srch on srch.search_id=c.search_id\n",
    "\n",
    "\n",
    "union all\n",
    "\n",
    "select vk.user_id,\n",
    "    event_id,\n",
    "    c.product_id,\n",
    "    vk_platform,\n",
    "    c.dt\n",
    "from (select user_id,\n",
    "    concat(user_id,youla_item_id,time) event_id,\n",
    "    youla_item_id as product_id,\n",
    "    vk_platform,\n",
    "    dt\n",
    "FROM topics.youla_vk_to_youla_pa2p_all_events\n",
    "WHERE dt>='{dt_start}' and dt<='{dt_end}'\n",
    "    and event in ('send_message','show_phone_click')\n",
    "    and screen = 'vko'\n",
    "    and vk_platform='web2') c\n",
    "join aggregations.cpa_vk_ids_by_dt vk on vk.dt=c.dt and vk.vk_id=c.user_id\n",
    ") t\n",
    "group by cast(dt as date)\n",
    "\n",
    "\n",
    "\n",
    "\n",
    "UNION \n",
    "\n",
    "select 'Антибарахолки' traffic_type,\n",
    "    cast(dt as date),\n",
    "    count(distinct event_id) cnt,\n",
    "    count(distinct user_id) users,\n",
    "    count(distinct product_id) prods\n",
    "from (\n",
    "\n",
    "select vk.user_id,\n",
    "    event_id,\n",
    "    c.product_id,\n",
    "    vk_platform,\n",
    "    c.dt\n",
    "from (select user_id,\n",
    "    concat(user_id,youla_item_id,time) event_id,\n",
    "    youla_item_id as product_id,\n",
    "    vk_platform,\n",
    "    dt\n",
    "FROM topics.youla_vk_to_youla_pa2p_all_events\n",
    "WHERE dt>='{dt_start}' and dt<='{dt_end}'\n",
    "   and\n",
    "        ((event = 'send_message' and screen in ('group', 'classifieds_products', 'classified') and \n",
    "            (community_classified_type = 'anticlassifieds'or classified_setting = 2))  \n",
    "       or ( event = 'show_phone_click' and screen in ('group', 'classifieds_products', 'classified', 'other') and \n",
    "            (community_classified_type = 'anticlassifieds' or classified_setting = 2))\n",
    "       or (event = 'miniapp_show_phone_click' and youla_ref in ('lent_from_widget', 'widget'))\n",
    "       or (event = 'miniapp_send_message_click' and youla_ref in ('lent_from_widget', 'widget'))\n",
    "      or  (event in ('miniapp_send_message_click', 'miniapp_show_phone_click') and youla_ref = 'widget_from_post')\n",
    "      or  (event in ('send_message', 'show_phone_click') and content_type = 'wall_post' and classified_setting = 2\n",
    "          ))) c\n",
    "join aggregations.cpa_vk_ids_by_dt vk on vk.dt=c.dt and vk.vk_id=c.user_id\n",
    ") t\n",
    "group by cast(dt as date)\n",
    "\n",
    "\n",
    "UNION \n",
    "\n",
    "select 'Пуши' traffic_type,\n",
    "    cast(dt as date),\n",
    "    count(distinct event_id) cnt,\n",
    "    count(distinct user_id) users,\n",
    "    count(distinct product_id) prods\n",
    "from (\n",
    "select coalesce( sender_id,client_user_id) user_id,\n",
    "    event_id,\n",
    "    product_id,\n",
    "    CASE\n",
    "        WHEN lower(client_agent) LIKE '%android%' THEN 'android'\n",
    "        WHEN lower(client_agent) like '%iphone%' THEN 'ios'\n",
    "        ELSE 'other'\n",
    "    END AS vk_platform,\n",
    "    dt\n",
    "from topics.y_user_user_counter\n",
    "where dt>='{dt_start}' and dt<='{dt_end}'\n",
    "  and event_name in ('usr.presscall','chat.first_message')\n",
    "  and coalesce(client_platform,platform) in ('vk','vk_mini_app')\n",
    "  and get_json_object(sources,'$.previous.screen') = 'push'\n",
    "  ) c\n",
    "group by cast(dt as date)  \n",
    "  \n",
    "UNION \n",
    "\n",
    "select 'Поиск в ВКО'traffic_type,\n",
    "    cast(dt as date),\n",
    "    count(distinct event_id) cnt,\n",
    "    count(distinct user_id) users,\n",
    "    count(distinct product_id) prods\n",
    "from (\n",
    "select coalesce( sender_id,client_user_id) user_id,\n",
    "    event_id,\n",
    "    product_id,\n",
    "    CASE\n",
    "        WHEN lower(client_agent) LIKE '%android%' THEN 'android'\n",
    "        WHEN lower(client_agent) like '%iphone%' THEN 'ios'\n",
    "        ELSE 'other'\n",
    "    END AS vk_platform,\n",
    "    search_id,\n",
    "    dt\n",
    "from topics.y_user_user_counter\n",
    "where dt>='{dt_start}' and dt<='{dt_end}'\n",
    "  and event_name in ('usr.presscall','chat.first_message')\n",
    "  and coalesce(client_platform,platform) in ('vk','vk_mini_app')\n",
    "  and coalesce(get_json_object(sources,'$.previous.screen'),'other') <> 'push'\n",
    " \n",
    "  ) c\n",
    "join (select search_id\n",
    "    from topics.y_searches\n",
    "    where coalesce(client_platform,platform)='vk_mini_app'\n",
    "        and dt>='2022-01-10' and dt<='2022-01-23'\n",
    "        and (search_text is not null or category is not null or subcategory is not null)\n",
    "        ) srch on srch.search_id=c.search_id\n",
    "group by cast(dt as date)\n",
    "\n",
    "\n",
    "UNION \n",
    "\n",
    "select 'Подписки' traffic_type,\n",
    "    cast(dt as date),\n",
    "    count(distinct event_id) cnt,\n",
    "    count(distinct user_id) users,\n",
    "    count(distinct product_id) prods\n",
    "from (\n",
    "select coalesce( sender_id,client_user_id) user_id,\n",
    "    event_id,\n",
    "    product_id,\n",
    "    CASE\n",
    "        WHEN lower(client_agent) LIKE '%android%' THEN 'android'\n",
    "        WHEN lower(client_agent) like '%iphone%' THEN 'ios'\n",
    "        ELSE 'other'\n",
    "    END AS vk_platform,\n",
    "    dt\n",
    "from topics.y_user_user_counter\n",
    "where dt>='{dt_start}' and dt<='{dt_end}'\n",
    "  and event_name in ('usr.presscall','chat.first_message')\n",
    "  and coalesce(client_platform,platform) in ('vk','vk_mini_app')\n",
    "  and get_json_object(sources,'$.previous.screen') in  ('subscribe_similar','seller_subscribe','personal_search')\n",
    "  ) c\n",
    "group by cast(dt as date)\n",
    "\n",
    "UNION \n",
    "\n",
    "select 'Похожие' traffic_type,\n",
    "    cast(dt as date),\n",
    "    count(distinct event_id) cnt,\n",
    "    count(distinct user_id) users,\n",
    "    count(distinct product_id) prods\n",
    "from (\n",
    "select coalesce( sender_id,client_user_id) user_id,\n",
    "    event_id,\n",
    "    product_id,\n",
    "    CASE\n",
    "        WHEN lower(client_agent) LIKE '%android%' THEN 'android'\n",
    "        WHEN lower(client_agent) like '%iphone%' THEN 'ios'\n",
    "        ELSE 'other'\n",
    "    END AS vk_platform,\n",
    "    dt\n",
    "from topics.y_user_user_counter\n",
    "where dt>='{dt_start}' and dt<='{dt_end}'\n",
    "  and event_name in ('usr.presscall','chat.first_message')\n",
    "  and coalesce(client_platform,platform) in ('vk','vk_mini_app')\n",
    "  and get_json_object(sources,'$.previous.screen') = 'similars'\n",
    "  ) c\n",
    "group by cast(dt as date)\n",
    "\n",
    "\n",
    "-- UNION \n",
    "\n",
    "-- select 'Рекламные посты в ленте'traffic_type,\n",
    "--     cast(dt as date),\n",
    "--     count(distinct event_id) cnt,\n",
    "--     count(distinct user_id) users,\n",
    "--     count(distinct product_id) prods\n",
    "-- from (\n",
    "-- select coalesce( sender_id,client_user_id) user_id,\n",
    "--     event_id,\n",
    "--     product_id,\n",
    "--     CASE\n",
    "--         WHEN lower(client_agent) LIKE '%android%' THEN 'android'\n",
    "--         WHEN lower(client_agent) like '%iphone%' THEN 'ios'\n",
    "--         ELSE 'other'\n",
    "--     END AS vk_platform,\n",
    "--     dt\n",
    "-- from topics.y_user_user_counter\n",
    "-- where dt>='{dt_start}' and dt<='{dt_end}'\n",
    "--   and event_name in ('usr.presscall','chat.first_message')\n",
    "--   and coalesce(client_platform,platform) in ('vk','vk_mini_app')\n",
    "--   and get_json_object(sources,'$.previous.screen') = 'vk_lent_advertisement'\n",
    "--   ) c\n",
    "-- group by cast(dt as date)\n",
    "\"\"\",con)"
   ]
  }
 ],
 "metadata": {
  "kernelspec": {
   "display_name": "Python 3",
   "language": "python",
   "name": "python3"
  },
  "language_info": {
   "codemirror_mode": {
    "name": "ipython",
    "version": 3
   },
   "file_extension": ".py",
   "mimetype": "text/x-python",
   "name": "python",
   "nbconvert_exporter": "python",
   "pygments_lexer": "ipython3",
   "version": "3.9.1"
  }
 },
 "nbformat": 4,
 "nbformat_minor": 5
}
